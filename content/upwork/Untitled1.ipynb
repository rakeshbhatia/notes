{
 "cells": [
  {
   "cell_type": "code",
   "execution_count": null,
   "metadata": {},
   "outputs": [],
   "source": [
    "CREATE USER [IF NOT EXISTS]\n",
    "    user [auth_option] [, user [auth_option]] ...\n",
    "    DEFAULT ROLE role [, role ] ...\n",
    "    [REQUIRE {NONE | tls_option [[AND] tls_option] ...}]\n",
    "    [WITH resource_option [resource_option] ...]\n",
    "    [password_option | lock_option] ...\n",
    "\n",
    "user:\n",
    "    (see Section 6.2.4, “Specifying Account Names”)\n",
    "\n",
    "auth_option: {\n",
    "    IDENTIFIED BY 'auth_string'\n",
    "  | IDENTIFIED BY RANDOM PASSWORD\n",
    "  | IDENTIFIED WITH auth_plugin\n",
    "  | IDENTIFIED WITH auth_plugin BY 'auth_string'\n",
    "  | IDENTIFIED WITH auth_plugin BY RANDOM PASSWORD\n",
    "  | IDENTIFIED WITH auth_plugin AS 'auth_string'\n",
    "}\n",
    "\n",
    "tls_option: {\n",
    "   SSL\n",
    " | X509\n",
    " | CIPHER 'cipher'\n",
    " | ISSUER 'issuer'\n",
    " | SUBJECT 'subject'\n",
    "}\n",
    "\n",
    "resource_option: {\n",
    "    MAX_QUERIES_PER_HOUR count\n",
    "  | MAX_UPDATES_PER_HOUR count\n",
    "  | MAX_CONNECTIONS_PER_HOUR count\n",
    "  | MAX_USER_CONNECTIONS count\n",
    "}\n",
    "\n",
    "password_option: {\n",
    "    PASSWORD EXPIRE [DEFAULT | NEVER | INTERVAL N DAY]\n",
    "  | PASSWORD HISTORY {DEFAULT | N}\n",
    "  | PASSWORD REUSE INTERVAL {DEFAULT | N DAY}\n",
    "  | PASSWORD REQUIRE CURRENT [DEFAULT | OPTIONAL]\n",
    "  | FAILED_LOGIN_ATTEMPTS N\n",
    "  | PASSWORD_LOCK_TIME {N | UNBOUNDED}\n",
    "}\n",
    "\n",
    "lock_option: {\n",
    "    ACCOUNT LOCK\n",
    "  | ACCOUNT UNLOCK\n",
    "}"
   ]
  }
 ],
 "metadata": {
  "kernelspec": {
   "display_name": "Python 3",
   "language": "python",
   "name": "python3"
  },
  "language_info": {
   "codemirror_mode": {
    "name": "ipython",
    "version": 3
   },
   "file_extension": ".py",
   "mimetype": "text/x-python",
   "name": "python",
   "nbconvert_exporter": "python",
   "pygments_lexer": "ipython3",
   "version": "3.6.7"
  }
 },
 "nbformat": 4,
 "nbformat_minor": 2
}
