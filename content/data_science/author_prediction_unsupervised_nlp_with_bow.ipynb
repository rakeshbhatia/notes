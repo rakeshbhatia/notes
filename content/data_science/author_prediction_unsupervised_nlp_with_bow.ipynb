{
 "cells": [
  {
   "cell_type": "markdown",
   "metadata": {},
   "source": [
    "# Author Prediction: Unsupervised NLP with BOW\n",
    "# Introduction"
   ]
  },
  {
   "cell_type": "markdown",
   "metadata": {},
   "source": [
    "For this project we will be using a dataset of newspaper articles found on Kaggle, taken from a wide variety of news sources. We will choose a subset of text consisting of 200 articles, with 10 different authors. Each author's corpus will contain 20 articles.\n",
    "\n",
    "https://www.kaggle.com/snapcrack/all-the-news\n",
    "\n",
    "The goal of this project is to build a model to accurately predict the author of each article. We will utilize unsupervised natural language processing (NLP) with spaCy and the bag-of-words (BOW) method."
   ]
  },
  {
   "cell_type": "code",
   "execution_count": 1,
   "metadata": {
    "scrolled": false
   },
   "outputs": [
    {
     "name": "stdout",
     "output_type": "stream",
     "text": [
      "Numpy version: 1.16.4\n",
      "Pandas version: 0.23.4\n",
      "Seaborn version: 0.9.0\n"
     ]
    }
   ],
   "source": [
    "%matplotlib inline\n",
    "import numpy as np\n",
    "import pandas as pd\n",
    "import scipy\n",
    "import sklearn\n",
    "import spacy\n",
    "import matplotlib.pyplot as plt\n",
    "import seaborn as sns\n",
    "import string\n",
    "import re\n",
    "import nltk\n",
    "import json\n",
    "from time import time\n",
    "from collections import Counter\n",
    "from sklearn import ensemble\n",
    "from sklearn.cluster import KMeans, MiniBatchKMeans, AffinityPropagation, SpectralClustering, MeanShift, estimate_bandwidth\n",
    "\n",
    "from sklearn.decomposition import PCA\n",
    "from sklearn.metrics import accuracy_score, classification_report, log_loss, make_scorer, normalized_mutual_info_score, adjusted_rand_score, homogeneity_score, silhouette_score\n",
    "from sklearn.model_selection import train_test_split, cross_val_score, cross_val_predict, StratifiedKFold, GridSearchCV\n",
    "from sklearn.linear_model import LogisticRegression\n",
    "from sklearn.ensemble import RandomForestClassifier\n",
    "from sklearn.preprocessing import LabelEncoder, label_binarize, normalize\n",
    "from sklearn.feature_extraction.text import CountVectorizer, TfidfVectorizer\n",
    "from nltk.corpus import stopwords\n",
    "from nltk.stem import WordNetLemmatizer\n",
    "from nltk.corpus import stopwords\n",
    "import scikitplot.plotters as skplt\n",
    "\n",
    "# import warnings filter\n",
    "from warnings import simplefilter\n",
    "\n",
    "# ignore all future warnings\n",
    "simplefilter(action='ignore', category=FutureWarning)\n",
    "simplefilter(action='ignore', category=UserWarning)\n",
    "simplefilter(action='ignore', category=DeprecationWarning)\n",
    "\n",
    "stopwords = stopwords.words('english')\n",
    "\n",
    "print('Numpy version:', np.__version__)\n",
    "print('Pandas version:', pd.__version__)\n",
    "print('Seaborn version:', sns.__version__)"
   ]
  },
  {
   "cell_type": "markdown",
   "metadata": {},
   "source": [
    "# Data Exploration"
   ]
  },
  {
   "cell_type": "code",
   "execution_count": 2,
   "metadata": {
    "scrolled": false
   },
   "outputs": [
    {
     "data": {
      "text/html": [
       "<div>\n",
       "<style scoped>\n",
       "    .dataframe tbody tr th:only-of-type {\n",
       "        vertical-align: middle;\n",
       "    }\n",
       "\n",
       "    .dataframe tbody tr th {\n",
       "        vertical-align: top;\n",
       "    }\n",
       "\n",
       "    .dataframe thead th {\n",
       "        text-align: right;\n",
       "    }\n",
       "</style>\n",
       "<table border=\"1\" class=\"dataframe\">\n",
       "  <thead>\n",
       "    <tr style=\"text-align: right;\">\n",
       "      <th></th>\n",
       "      <th>Unnamed: 0</th>\n",
       "      <th>id</th>\n",
       "      <th>title</th>\n",
       "      <th>publication</th>\n",
       "      <th>author</th>\n",
       "      <th>date</th>\n",
       "      <th>year</th>\n",
       "      <th>month</th>\n",
       "      <th>url</th>\n",
       "      <th>content</th>\n",
       "    </tr>\n",
       "  </thead>\n",
       "  <tbody>\n",
       "    <tr>\n",
       "      <th>0</th>\n",
       "      <td>0</td>\n",
       "      <td>17283</td>\n",
       "      <td>House Republicans Fret About Winning Their Hea...</td>\n",
       "      <td>New York Times</td>\n",
       "      <td>Carl Hulse</td>\n",
       "      <td>2016-12-31</td>\n",
       "      <td>2016.0</td>\n",
       "      <td>12.0</td>\n",
       "      <td>NaN</td>\n",
       "      <td>WASHINGTON  —   Congressional Republicans have...</td>\n",
       "    </tr>\n",
       "    <tr>\n",
       "      <th>1</th>\n",
       "      <td>1</td>\n",
       "      <td>17284</td>\n",
       "      <td>Rift Between Officers and Residents as Killing...</td>\n",
       "      <td>New York Times</td>\n",
       "      <td>Benjamin Mueller and Al Baker</td>\n",
       "      <td>2017-06-19</td>\n",
       "      <td>2017.0</td>\n",
       "      <td>6.0</td>\n",
       "      <td>NaN</td>\n",
       "      <td>After the bullet shells get counted, the blood...</td>\n",
       "    </tr>\n",
       "    <tr>\n",
       "      <th>2</th>\n",
       "      <td>2</td>\n",
       "      <td>17285</td>\n",
       "      <td>Tyrus Wong, ‘Bambi’ Artist Thwarted by Racial ...</td>\n",
       "      <td>New York Times</td>\n",
       "      <td>Margalit Fox</td>\n",
       "      <td>2017-01-06</td>\n",
       "      <td>2017.0</td>\n",
       "      <td>1.0</td>\n",
       "      <td>NaN</td>\n",
       "      <td>When Walt Disney’s “Bambi” opened in 1942, cri...</td>\n",
       "    </tr>\n",
       "    <tr>\n",
       "      <th>3</th>\n",
       "      <td>3</td>\n",
       "      <td>17286</td>\n",
       "      <td>Among Deaths in 2016, a Heavy Toll in Pop Musi...</td>\n",
       "      <td>New York Times</td>\n",
       "      <td>William McDonald</td>\n",
       "      <td>2017-04-10</td>\n",
       "      <td>2017.0</td>\n",
       "      <td>4.0</td>\n",
       "      <td>NaN</td>\n",
       "      <td>Death may be the great equalizer, but it isn’t...</td>\n",
       "    </tr>\n",
       "    <tr>\n",
       "      <th>4</th>\n",
       "      <td>4</td>\n",
       "      <td>17287</td>\n",
       "      <td>Kim Jong-un Says North Korea Is Preparing to T...</td>\n",
       "      <td>New York Times</td>\n",
       "      <td>Choe Sang-Hun</td>\n",
       "      <td>2017-01-02</td>\n",
       "      <td>2017.0</td>\n",
       "      <td>1.0</td>\n",
       "      <td>NaN</td>\n",
       "      <td>SEOUL, South Korea  —   North Korea’s leader, ...</td>\n",
       "    </tr>\n",
       "  </tbody>\n",
       "</table>\n",
       "</div>"
      ],
      "text/plain": [
       "   Unnamed: 0     id                                              title  \\\n",
       "0           0  17283  House Republicans Fret About Winning Their Hea...   \n",
       "1           1  17284  Rift Between Officers and Residents as Killing...   \n",
       "2           2  17285  Tyrus Wong, ‘Bambi’ Artist Thwarted by Racial ...   \n",
       "3           3  17286  Among Deaths in 2016, a Heavy Toll in Pop Musi...   \n",
       "4           4  17287  Kim Jong-un Says North Korea Is Preparing to T...   \n",
       "\n",
       "      publication                         author        date    year  month  \\\n",
       "0  New York Times                     Carl Hulse  2016-12-31  2016.0   12.0   \n",
       "1  New York Times  Benjamin Mueller and Al Baker  2017-06-19  2017.0    6.0   \n",
       "2  New York Times                   Margalit Fox  2017-01-06  2017.0    1.0   \n",
       "3  New York Times               William McDonald  2017-04-10  2017.0    4.0   \n",
       "4  New York Times                  Choe Sang-Hun  2017-01-02  2017.0    1.0   \n",
       "\n",
       "   url                                            content  \n",
       "0  NaN  WASHINGTON  —   Congressional Republicans have...  \n",
       "1  NaN  After the bullet shells get counted, the blood...  \n",
       "2  NaN  When Walt Disney’s “Bambi” opened in 1942, cri...  \n",
       "3  NaN  Death may be the great equalizer, but it isn’t...  \n",
       "4  NaN  SEOUL, South Korea  —   North Korea’s leader, ...  "
      ]
     },
     "execution_count": 2,
     "metadata": {},
     "output_type": "execute_result"
    }
   ],
   "source": [
    "df = pd.read_csv('datasets/all-the-news/articles1.csv')\n",
    "df.head()"
   ]
  },
  {
   "cell_type": "code",
   "execution_count": 3,
   "metadata": {
    "scrolled": true
   },
   "outputs": [
    {
     "data": {
      "text/plain": [
       "Unnamed: 0         0\n",
       "id                 0\n",
       "title              0\n",
       "publication        0\n",
       "author          6306\n",
       "date               0\n",
       "year               0\n",
       "month              0\n",
       "url            50000\n",
       "content            0\n",
       "dtype: int64"
      ]
     },
     "execution_count": 3,
     "metadata": {},
     "output_type": "execute_result"
    }
   ],
   "source": [
    "df.isnull().sum()"
   ]
  },
  {
   "cell_type": "markdown",
   "metadata": {},
   "source": [
    "Let's drop unnecessary columns."
   ]
  },
  {
   "cell_type": "code",
   "execution_count": 4,
   "metadata": {
    "scrolled": true
   },
   "outputs": [
    {
     "data": {
      "text/html": [
       "<div>\n",
       "<style scoped>\n",
       "    .dataframe tbody tr th:only-of-type {\n",
       "        vertical-align: middle;\n",
       "    }\n",
       "\n",
       "    .dataframe tbody tr th {\n",
       "        vertical-align: top;\n",
       "    }\n",
       "\n",
       "    .dataframe thead th {\n",
       "        text-align: right;\n",
       "    }\n",
       "</style>\n",
       "<table border=\"1\" class=\"dataframe\">\n",
       "  <thead>\n",
       "    <tr style=\"text-align: right;\">\n",
       "      <th></th>\n",
       "      <th>id</th>\n",
       "      <th>title</th>\n",
       "      <th>publication</th>\n",
       "      <th>author</th>\n",
       "      <th>date</th>\n",
       "      <th>year</th>\n",
       "      <th>month</th>\n",
       "      <th>content</th>\n",
       "    </tr>\n",
       "  </thead>\n",
       "  <tbody>\n",
       "    <tr>\n",
       "      <th>0</th>\n",
       "      <td>17283</td>\n",
       "      <td>House Republicans Fret About Winning Their Hea...</td>\n",
       "      <td>New York Times</td>\n",
       "      <td>Carl Hulse</td>\n",
       "      <td>2016-12-31</td>\n",
       "      <td>2016.0</td>\n",
       "      <td>12.0</td>\n",
       "      <td>WASHINGTON  —   Congressional Republicans have...</td>\n",
       "    </tr>\n",
       "    <tr>\n",
       "      <th>1</th>\n",
       "      <td>17284</td>\n",
       "      <td>Rift Between Officers and Residents as Killing...</td>\n",
       "      <td>New York Times</td>\n",
       "      <td>Benjamin Mueller and Al Baker</td>\n",
       "      <td>2017-06-19</td>\n",
       "      <td>2017.0</td>\n",
       "      <td>6.0</td>\n",
       "      <td>After the bullet shells get counted, the blood...</td>\n",
       "    </tr>\n",
       "    <tr>\n",
       "      <th>2</th>\n",
       "      <td>17285</td>\n",
       "      <td>Tyrus Wong, ‘Bambi’ Artist Thwarted by Racial ...</td>\n",
       "      <td>New York Times</td>\n",
       "      <td>Margalit Fox</td>\n",
       "      <td>2017-01-06</td>\n",
       "      <td>2017.0</td>\n",
       "      <td>1.0</td>\n",
       "      <td>When Walt Disney’s “Bambi” opened in 1942, cri...</td>\n",
       "    </tr>\n",
       "    <tr>\n",
       "      <th>3</th>\n",
       "      <td>17286</td>\n",
       "      <td>Among Deaths in 2016, a Heavy Toll in Pop Musi...</td>\n",
       "      <td>New York Times</td>\n",
       "      <td>William McDonald</td>\n",
       "      <td>2017-04-10</td>\n",
       "      <td>2017.0</td>\n",
       "      <td>4.0</td>\n",
       "      <td>Death may be the great equalizer, but it isn’t...</td>\n",
       "    </tr>\n",
       "    <tr>\n",
       "      <th>4</th>\n",
       "      <td>17287</td>\n",
       "      <td>Kim Jong-un Says North Korea Is Preparing to T...</td>\n",
       "      <td>New York Times</td>\n",
       "      <td>Choe Sang-Hun</td>\n",
       "      <td>2017-01-02</td>\n",
       "      <td>2017.0</td>\n",
       "      <td>1.0</td>\n",
       "      <td>SEOUL, South Korea  —   North Korea’s leader, ...</td>\n",
       "    </tr>\n",
       "  </tbody>\n",
       "</table>\n",
       "</div>"
      ],
      "text/plain": [
       "      id                                              title     publication  \\\n",
       "0  17283  House Republicans Fret About Winning Their Hea...  New York Times   \n",
       "1  17284  Rift Between Officers and Residents as Killing...  New York Times   \n",
       "2  17285  Tyrus Wong, ‘Bambi’ Artist Thwarted by Racial ...  New York Times   \n",
       "3  17286  Among Deaths in 2016, a Heavy Toll in Pop Musi...  New York Times   \n",
       "4  17287  Kim Jong-un Says North Korea Is Preparing to T...  New York Times   \n",
       "\n",
       "                          author        date    year  month  \\\n",
       "0                     Carl Hulse  2016-12-31  2016.0   12.0   \n",
       "1  Benjamin Mueller and Al Baker  2017-06-19  2017.0    6.0   \n",
       "2                   Margalit Fox  2017-01-06  2017.0    1.0   \n",
       "3               William McDonald  2017-04-10  2017.0    4.0   \n",
       "4                  Choe Sang-Hun  2017-01-02  2017.0    1.0   \n",
       "\n",
       "                                             content  \n",
       "0  WASHINGTON  —   Congressional Republicans have...  \n",
       "1  After the bullet shells get counted, the blood...  \n",
       "2  When Walt Disney’s “Bambi” opened in 1942, cri...  \n",
       "3  Death may be the great equalizer, but it isn’t...  \n",
       "4  SEOUL, South Korea  —   North Korea’s leader, ...  "
      ]
     },
     "execution_count": 4,
     "metadata": {},
     "output_type": "execute_result"
    }
   ],
   "source": [
    "df = df.drop(['Unnamed: 0', 'url'], axis=1)\n",
    "df.head()"
   ]
  },
  {
   "cell_type": "markdown",
   "metadata": {},
   "source": [
    "Check for null values."
   ]
  },
  {
   "cell_type": "code",
   "execution_count": 5,
   "metadata": {},
   "outputs": [
    {
     "data": {
      "text/plain": [
       "id                0\n",
       "title             0\n",
       "publication       0\n",
       "author         6306\n",
       "date              0\n",
       "year              0\n",
       "month             0\n",
       "content           0\n",
       "dtype: int64"
      ]
     },
     "execution_count": 5,
     "metadata": {},
     "output_type": "execute_result"
    }
   ],
   "source": [
    "df.isnull().sum()"
   ]
  },
  {
   "cell_type": "code",
   "execution_count": 6,
   "metadata": {
    "scrolled": true
   },
   "outputs": [
    {
     "data": {
      "text/html": [
       "<div>\n",
       "<style scoped>\n",
       "    .dataframe tbody tr th:only-of-type {\n",
       "        vertical-align: middle;\n",
       "    }\n",
       "\n",
       "    .dataframe tbody tr th {\n",
       "        vertical-align: top;\n",
       "    }\n",
       "\n",
       "    .dataframe thead th {\n",
       "        text-align: right;\n",
       "    }\n",
       "</style>\n",
       "<table border=\"1\" class=\"dataframe\">\n",
       "  <thead>\n",
       "    <tr style=\"text-align: right;\">\n",
       "      <th></th>\n",
       "      <th>id</th>\n",
       "      <th>title</th>\n",
       "      <th>publication</th>\n",
       "      <th>author</th>\n",
       "      <th>date</th>\n",
       "      <th>year</th>\n",
       "      <th>month</th>\n",
       "      <th>content</th>\n",
       "    </tr>\n",
       "  </thead>\n",
       "  <tbody>\n",
       "    <tr>\n",
       "      <th>0</th>\n",
       "      <td>17283</td>\n",
       "      <td>House Republicans Fret About Winning Their Hea...</td>\n",
       "      <td>New York Times</td>\n",
       "      <td>Carl Hulse</td>\n",
       "      <td>2016-12-31</td>\n",
       "      <td>2016.0</td>\n",
       "      <td>12.0</td>\n",
       "      <td>WASHINGTON  —   Congressional Republicans have...</td>\n",
       "    </tr>\n",
       "    <tr>\n",
       "      <th>1</th>\n",
       "      <td>17284</td>\n",
       "      <td>Rift Between Officers and Residents as Killing...</td>\n",
       "      <td>New York Times</td>\n",
       "      <td>Benjamin Mueller and Al Baker</td>\n",
       "      <td>2017-06-19</td>\n",
       "      <td>2017.0</td>\n",
       "      <td>6.0</td>\n",
       "      <td>After the bullet shells get counted, the blood...</td>\n",
       "    </tr>\n",
       "    <tr>\n",
       "      <th>2</th>\n",
       "      <td>17285</td>\n",
       "      <td>Tyrus Wong, ‘Bambi’ Artist Thwarted by Racial ...</td>\n",
       "      <td>New York Times</td>\n",
       "      <td>Margalit Fox</td>\n",
       "      <td>2017-01-06</td>\n",
       "      <td>2017.0</td>\n",
       "      <td>1.0</td>\n",
       "      <td>When Walt Disney’s “Bambi” opened in 1942, cri...</td>\n",
       "    </tr>\n",
       "    <tr>\n",
       "      <th>3</th>\n",
       "      <td>17286</td>\n",
       "      <td>Among Deaths in 2016, a Heavy Toll in Pop Musi...</td>\n",
       "      <td>New York Times</td>\n",
       "      <td>William McDonald</td>\n",
       "      <td>2017-04-10</td>\n",
       "      <td>2017.0</td>\n",
       "      <td>4.0</td>\n",
       "      <td>Death may be the great equalizer, but it isn’t...</td>\n",
       "    </tr>\n",
       "    <tr>\n",
       "      <th>4</th>\n",
       "      <td>17287</td>\n",
       "      <td>Kim Jong-un Says North Korea Is Preparing to T...</td>\n",
       "      <td>New York Times</td>\n",
       "      <td>Choe Sang-Hun</td>\n",
       "      <td>2017-01-02</td>\n",
       "      <td>2017.0</td>\n",
       "      <td>1.0</td>\n",
       "      <td>SEOUL, South Korea  —   North Korea’s leader, ...</td>\n",
       "    </tr>\n",
       "  </tbody>\n",
       "</table>\n",
       "</div>"
      ],
      "text/plain": [
       "      id                                              title     publication  \\\n",
       "0  17283  House Republicans Fret About Winning Their Hea...  New York Times   \n",
       "1  17284  Rift Between Officers and Residents as Killing...  New York Times   \n",
       "2  17285  Tyrus Wong, ‘Bambi’ Artist Thwarted by Racial ...  New York Times   \n",
       "3  17286  Among Deaths in 2016, a Heavy Toll in Pop Musi...  New York Times   \n",
       "4  17287  Kim Jong-un Says North Korea Is Preparing to T...  New York Times   \n",
       "\n",
       "                          author        date    year  month  \\\n",
       "0                     Carl Hulse  2016-12-31  2016.0   12.0   \n",
       "1  Benjamin Mueller and Al Baker  2017-06-19  2017.0    6.0   \n",
       "2                   Margalit Fox  2017-01-06  2017.0    1.0   \n",
       "3               William McDonald  2017-04-10  2017.0    4.0   \n",
       "4                  Choe Sang-Hun  2017-01-02  2017.0    1.0   \n",
       "\n",
       "                                             content  \n",
       "0  WASHINGTON  —   Congressional Republicans have...  \n",
       "1  After the bullet shells get counted, the blood...  \n",
       "2  When Walt Disney’s “Bambi” opened in 1942, cri...  \n",
       "3  Death may be the great equalizer, but it isn’t...  \n",
       "4  SEOUL, South Korea  —   North Korea’s leader, ...  "
      ]
     },
     "execution_count": 6,
     "metadata": {},
     "output_type": "execute_result"
    }
   ],
   "source": [
    "df = df.dropna()\n",
    "df.head()"
   ]
  },
  {
   "cell_type": "code",
   "execution_count": 7,
   "metadata": {
    "scrolled": true
   },
   "outputs": [
    {
     "data": {
      "text/plain": [
       "id             0\n",
       "title          0\n",
       "publication    0\n",
       "author         0\n",
       "date           0\n",
       "year           0\n",
       "month          0\n",
       "content        0\n",
       "dtype: int64"
      ]
     },
     "execution_count": 7,
     "metadata": {},
     "output_type": "execute_result"
    }
   ],
   "source": [
    "df.isnull().sum()"
   ]
  },
  {
   "cell_type": "markdown",
   "metadata": {},
   "source": [
    "Let's take a look at the distribution of article lengths, in characters."
   ]
  },
  {
   "cell_type": "code",
   "execution_count": 8,
   "metadata": {
    "scrolled": false
   },
   "outputs": [
    {
     "name": "stdout",
     "output_type": "stream",
     "text": [
      "Article Length Statistics\n",
      "count     43694.000000\n",
      "mean       3853.685197\n",
      "std        3894.493670\n",
      "min           1.000000\n",
      "25%        1672.000000\n",
      "50%        2810.500000\n",
      "75%        5046.750000\n",
      "max      149346.000000\n",
      "dtype: float64\n"
     ]
    },
    {
     "data": {
      "image/png": "[encoded data removed]",
      "text/plain": [
       "<Figure size 432x288 with 1 Axes>"
      ]
     },
     "metadata": {},
     "output_type": "display_data"
    },
    {
     "data": {
      "image/png": "[encoded data removed]",
      "text/plain": [
       "<Figure size 432x288 with 1 Axes>"
      ]
     },
     "metadata": {},
     "output_type": "display_data"
    },
    {
     "data": {
      "text/plain": [
       "0     5607\n",
       "1    27834\n",
       "2    14018\n",
       "3    12274\n",
       "4     4195\n",
       "dtype: int64"
      ]
     },
     "execution_count": 8,
     "metadata": {},
     "output_type": "execute_result"
    }
   ],
   "source": [
    "lengths = pd.Series([len(x) for x in df.content])\n",
    "print('Article Length Statistics')\n",
    "print(lengths.describe())\n",
    "\n",
    "sns.distplot(lengths,kde=False)\n",
    "plt.title('Distribution of Article Lengths (Total Characters)')\n",
    "plt.show()\n",
    "\n",
    "sns.distplot(lengths[lengths < 15000], kde=False)\n",
    "plt.title('Distribution of Articles Lengths < 15,000 Characters')\n",
    "plt.show()\n",
    "lengths.head()"
   ]
  },
  {
   "cell_type": "markdown",
   "metadata": {},
   "source": [
    "# Data Selection"
   ]
  },
  {
   "cell_type": "markdown",
   "metadata": {},
   "source": [
    "We will select 10 authors (with 20 articles each) for our overall text corpus, and save it to a DataFrame."
   ]
  },
  {
   "cell_type": "code",
   "execution_count": 9,
   "metadata": {
    "scrolled": false
   },
   "outputs": [
    {
     "name": "stdout",
     "output_type": "stream",
     "text": [
      "Carl Hulse              21\n",
      "Ben Shapiro             21\n",
      "The Associated Press    21\n",
      "Nicholas Fandos         21\n",
      "Dennis Green            21\n",
      "Amanda Jackson          21\n",
      "Max Fisher              21\n",
      "Victor Mather           21\n",
      "Ashley Strickland       21\n",
      "Patrick Healy           21\n",
      "Name: author, dtype: int64\n"
     ]
    }
   ],
   "source": [
    "# First 10 authors with more than 20 articles\n",
    "print(df.author.value_counts()[df.author.value_counts()>20][-10:])"
   ]
  },
  {
   "cell_type": "code",
   "execution_count": 10,
   "metadata": {
    "scrolled": true
   },
   "outputs": [
    {
     "name": "stdout",
     "output_type": "stream",
     "text": [
      "['Carl Hulse', 'Ben Shapiro', 'The Associated Press', 'Nicholas Fandos', 'Dennis Green', 'Amanda Jackson', 'Max Fisher', 'Victor Mather', 'Ashley Strickland', 'Patrick Healy']\n"
     ]
    }
   ],
   "source": [
    "# Make a DataFrame with articles by our chosen authors\n",
    "# Include author names and article titles\n",
    "\n",
    "# Make a list of the 10 chosen author names\n",
    "names = df.author.value_counts()[df.author.value_counts() > 20][-10:].index.tolist()\n",
    "\n",
    "print(names)\n",
    "\n",
    "# DataFrame for articles of all chosen authors\n",
    "data = pd.DataFrame()\n",
    "for name in names:\n",
    "    # Select each author's data\n",
    "    articles = df[df.author == name][:20][['title', 'content', 'author']]\n",
    "    # Append data to DataFrame\n",
    "    data = data.append(articles)\n",
    "\n",
    "data = data.reset_index().drop('index', 1)"
   ]
  },
  {
   "cell_type": "markdown",
   "metadata": {},
   "source": [
    "Let's make sure we have 200 articles total and 20 articles per author."
   ]
  },
  {
   "cell_type": "code",
   "execution_count": 11,
   "metadata": {
    "scrolled": true
   },
   "outputs": [
    {
     "name": "stdout",
     "output_type": "stream",
     "text": [
      "Total articles: 200\n",
      "Unique articles: 200\n",
      "Unique authors: 10\n",
      "\n",
      "Articles by author:\n",
      "\n",
      "Amanda Jackson          20\n",
      "Patrick Healy           20\n",
      "Ben Shapiro             20\n",
      "Max Fisher              20\n",
      "Carl Hulse              20\n",
      "Victor Mather           20\n",
      "Dennis Green            20\n",
      "The Associated Press    20\n",
      "Nicholas Fandos         20\n",
      "Ashley Strickland       20\n",
      "Name: author, dtype: int64\n"
     ]
    }
   ],
   "source": [
    "# Check for duplicates\n",
    "print('Total articles:', data.shape[0])\n",
    "print('Unique articles:', len(np.unique(data.index)))\n",
    "\n",
    "# Number of authors\n",
    "print('Unique authors:', len(np.unique(data.author)))\n",
    "print('')\n",
    "print('Articles by author:\\n')\n",
    "\n",
    "# Article counts by author\n",
    "print(data.author.value_counts())"
   ]
  },
  {
   "cell_type": "markdown",
   "metadata": {},
   "source": [
    "# Feature Engineering\n",
    "Now we can proceed with feature engineering. We will combine each author's set of articles into a separate corpus and run spacy on these documents. "
   ]
  },
  {
   "cell_type": "code",
   "execution_count": 12,
   "metadata": {
    "scrolled": true
   },
   "outputs": [
    {
     "name": "stdout",
     "output_type": "stream",
     "text": [
      "Total number of common words: 4440\n",
      "Completed in 37.202s\n"
     ]
    }
   ],
   "source": [
    "start_time = time()\n",
    "\n",
    "# Load spacy NLP object\n",
    "nlp = spacy.load('en')\n",
    "\n",
    "# A list to store common words by all authors\n",
    "common_words = []\n",
    "\n",
    "# A dictionary to store each author's spacy_doc object\n",
    "authors_docs = {}\n",
    "\n",
    "for name in names:\n",
    "    # Corpus is all text written by a single author\n",
    "    corpus = \"\"\n",
    "    \n",
    "    # Grab all text of current author, along 'content' column\n",
    "    author_content = data.loc[data.author == name, 'content']\n",
    "    \n",
    "    # Add each article to overall corpus\n",
    "    for article in author_content:\n",
    "        corpus = corpus + article\n",
    "        \n",
    "    # Clean corpus and parse using Spacy\n",
    "    doc = nlp(corpus)\n",
    "    \n",
    "    # Store doc in dictionary\n",
    "    authors_docs[name] = doc\n",
    "        \n",
    "    # Remove punctuation and stop words\n",
    "    lemmas = [token.lemma_ for token in doc if not token.is_punct and not token.is_stop]\n",
    "        \n",
    "    # Return most common words of that author's corpus\n",
    "    bow = [item[0] for item in Counter(lemmas).most_common(1000)]\n",
    "    \n",
    "    # Add them to the list of common words\n",
    "    for word in bow:\n",
    "        common_words.append(word)\n",
    "\n",
    "# Remove duplicates\n",
    "common_words = set(common_words)\n",
    "    \n",
    "print('Total number of common words:', len(common_words))\n",
    "print(\"Completed in %0.3fs\" % (time() - start_time))"
   ]
  },
  {
   "cell_type": "code",
   "execution_count": 13,
   "metadata": {
    "scrolled": false
   },
   "outputs": [
    {
     "name": "stdout",
     "output_type": "stream",
     "text": [
      "Carl Hulse corpus has 22804  words.\n",
      "Ben Shapiro corpus has 20926  words.\n",
      "The Associated Press corpus has 10347  words.\n",
      "Nicholas Fandos corpus has 20684  words.\n",
      "Dennis Green corpus has 7465  words.\n",
      "Amanda Jackson corpus has 8971  words.\n",
      "Max Fisher corpus has 31833  words.\n",
      "Victor Mather corpus has 15589  words.\n",
      "Ashley Strickland corpus has 23623  words.\n",
      "Patrick Healy corpus has 30286  words.\n"
     ]
    }
   ],
   "source": [
    "# Let's see how many words per author\n",
    "lengths = []\n",
    "for k,v in authors_docs.items():\n",
    "    print(k,'corpus has', len(v), ' words.')\n",
    "    lengths.append(len(v))"
   ]
  },
  {
   "cell_type": "markdown",
   "metadata": {},
   "source": [
    "Let's plot a histogram of word counts for each author's corpus."
   ]
  },
  {
   "cell_type": "code",
   "execution_count": 14,
   "metadata": {
    "scrolled": false
   },
   "outputs": [
    {
     "data": {
      "image/png": "[encoded data removed]",
      "text/plain": [
       "<Figure size 432x288 with 1 Axes>"
      ]
     },
     "metadata": {},
     "output_type": "display_data"
    }
   ],
   "source": [
    "sns.barplot(x=lengths, y=names, orient='h')\n",
    "plt.title('Word Count per Corpus')\n",
    "plt.show()"
   ]
  },
  {
   "cell_type": "code",
   "execution_count": 15,
   "metadata": {},
   "outputs": [
    {
     "name": "stdout",
     "output_type": "stream",
     "text": [
      "Total common words:  4440\n",
      "Total lowercase common words:  3153\n",
      "Total lowercase common words (after converting):  4324\n"
     ]
    }
   ],
   "source": [
    "# Check for lowercase words\n",
    "common_words = pd.Series(pd.DataFrame(columns=common_words).columns)\n",
    "print('Total common words: ', len(common_words))\n",
    "print('Total lowercase common words: ', np.sum([word.islower() for word in common_words]))\n",
    "\n",
    "# Make all common words lowercase\n",
    "common_words = [word.lower() for word in common_words]\n",
    "print('Total lowercase common words (after converting): ', np.sum([word.islower() for word in common_words]))"
   ]
  },
  {
   "cell_type": "code",
   "execution_count": 16,
   "metadata": {
    "collapsed": true
   },
   "outputs": [],
   "source": [
    "# Remove words that might conflict with new features\n",
    "if 'author' in common_words:\n",
    "    common_words.remove('author')\n",
    "if 'title' in common_words:\n",
    "    common_words.remove('title')\n",
    "if 'content' in common_words:\n",
    "    common_words.remove('content')"
   ]
  },
  {
   "cell_type": "markdown",
   "metadata": {},
   "source": [
    "Now we can create a DataFrame, bow_counts, to store our bag-of-words counts for each article. This section takes the longest amount of time to process; runtime to populate the DataFrame is at least 30 minutes."
   ]
  },
  {
   "cell_type": "code",
   "execution_count": 17,
   "metadata": {},
   "outputs": [
    {
     "name": "stdout",
     "output_type": "stream",
     "text": [
      "Article  0  completed after  0.12338216702143351  minutes.\n",
      "Article  20  completed after  3.6388455351193745  minutes.\n",
      "Article  40  completed after  6.3732951005299885  minutes.\n",
      "Article  60  completed after  8.130001564820608  minutes.\n",
      "Article  80  completed after  11.924612931410472  minutes.\n",
      "Article  100  completed after  13.211512581507366  minutes.\n",
      "Article  120  completed after  14.73138683239619  minutes.\n",
      "Article  140  completed after  19.187068514029185  minutes.\n",
      "Article  160  completed after  21.335653630892434  minutes.\n",
      "Article  180  completed after  24.357935965061188  minutes.\n"
     ]
    }
   ],
   "source": [
    "# Count how many times a common word appears in each article\n",
    "bow_counts = pd.DataFrame()\n",
    "for name in names:\n",
    "    # Select 20 articles for each author\n",
    "    articles = data.loc[data.author==name,:][:20]\n",
    "    # Append articles to BOW dataframe\n",
    "    bow_counts = bow_counts.append(articles)\n",
    "bow_counts = bow_counts.reset_index().drop('index',1)\n",
    "\n",
    "# Use common_words as the columns of a temporary DataFrame\n",
    "df = pd.DataFrame(columns=common_words)\n",
    "\n",
    "# Join BOW features with the author's content\n",
    "bow_counts = bow_counts.join(df)\n",
    "\n",
    "# Initialize rows with zeroes\n",
    "bow_counts.loc[:,common_words] = 0\n",
    "\n",
    "# Populate DataFrame with counts of every feature per article\n",
    "start_time = time()\n",
    "for i, article in enumerate(bow_counts.content):\n",
    "    doc = nlp(article)\n",
    "    for token in doc:\n",
    "        # If lowercase word is found in common words, increment its BOW count\n",
    "        if token.lemma_.lower() in common_words:\n",
    "            bow_counts.loc[i,token.lemma_.lower()] += 1\n",
    "    # Print a message every 20 articles\n",
    "    if i % 20 == 0:\n",
    "        if time()-start_time < 3600: # if less than an hour in seconds\n",
    "            print('Article ', i, ' completed after ', (time()-start_time)/60,' minutes.')\n",
    "        else:\n",
    "            print('Article ', i, ' completed after ', (time()-start_time)/60/60,' hours.')"
   ]
  },
  {
   "cell_type": "code",
   "execution_count": 18,
   "metadata": {},
   "outputs": [
    {
     "data": {
      "text/html": [
       "<div>\n",
       "<style scoped>\n",
       "    .dataframe tbody tr th:only-of-type {\n",
       "        vertical-align: middle;\n",
       "    }\n",
       "\n",
       "    .dataframe tbody tr th {\n",
       "        vertical-align: top;\n",
       "    }\n",
       "\n",
       "    .dataframe thead th {\n",
       "        text-align: right;\n",
       "    }\n",
       "</style>\n",
       "<table border=\"1\" class=\"dataframe\">\n",
       "  <thead>\n",
       "    <tr style=\"text-align: right;\">\n",
       "      <th></th>\n",
       "      <th>title</th>\n",
       "      <th>content</th>\n",
       "      <th>author</th>\n",
       "      <th>professor</th>\n",
       "      <th>substitute</th>\n",
       "      <th>floriston</th>\n",
       "      <th>mortar</th>\n",
       "      <th>expand</th>\n",
       "      <th>attempt</th>\n",
       "      <th>symmetry</th>\n",
       "      <th>...</th>\n",
       "      <th>bed</th>\n",
       "      <th>laser</th>\n",
       "      <th>housing</th>\n",
       "      <th>ball</th>\n",
       "      <th>assessment</th>\n",
       "      <th>heat</th>\n",
       "      <th>mccourty</th>\n",
       "      <th>marijuana</th>\n",
       "      <th>speaking</th>\n",
       "      <th>heavy</th>\n",
       "    </tr>\n",
       "  </thead>\n",
       "  <tbody>\n",
       "    <tr>\n",
       "      <th>0</th>\n",
       "      <td>House Republicans Fret About Winning Their Hea...</td>\n",
       "      <td>WASHINGTON  —   Congressional Republicans have...</td>\n",
       "      <td>Carl Hulse</td>\n",
       "      <td>0</td>\n",
       "      <td>0</td>\n",
       "      <td>0</td>\n",
       "      <td>0</td>\n",
       "      <td>0</td>\n",
       "      <td>0</td>\n",
       "      <td>0</td>\n",
       "      <td>...</td>\n",
       "      <td>0</td>\n",
       "      <td>0</td>\n",
       "      <td>0</td>\n",
       "      <td>0</td>\n",
       "      <td>0</td>\n",
       "      <td>0</td>\n",
       "      <td>0</td>\n",
       "      <td>0</td>\n",
       "      <td>0</td>\n",
       "      <td>0</td>\n",
       "    </tr>\n",
       "    <tr>\n",
       "      <th>1</th>\n",
       "      <td>Republicans Stonewalled Obama. Now the Ball Is...</td>\n",
       "      <td>WASHINGTON  —   It’s   or   time for Republica...</td>\n",
       "      <td>Carl Hulse</td>\n",
       "      <td>0</td>\n",
       "      <td>0</td>\n",
       "      <td>0</td>\n",
       "      <td>0</td>\n",
       "      <td>1</td>\n",
       "      <td>0</td>\n",
       "      <td>0</td>\n",
       "      <td>...</td>\n",
       "      <td>0</td>\n",
       "      <td>0</td>\n",
       "      <td>0</td>\n",
       "      <td>0</td>\n",
       "      <td>0</td>\n",
       "      <td>0</td>\n",
       "      <td>0</td>\n",
       "      <td>0</td>\n",
       "      <td>0</td>\n",
       "      <td>0</td>\n",
       "    </tr>\n",
       "    <tr>\n",
       "      <th>2</th>\n",
       "      <td>In Republicans’ Ethics Office Gambit, a Specta...</td>\n",
       "      <td>WASHINGTON  —   Majorities in Congress often o...</td>\n",
       "      <td>Carl Hulse</td>\n",
       "      <td>0</td>\n",
       "      <td>0</td>\n",
       "      <td>0</td>\n",
       "      <td>0</td>\n",
       "      <td>0</td>\n",
       "      <td>1</td>\n",
       "      <td>0</td>\n",
       "      <td>...</td>\n",
       "      <td>0</td>\n",
       "      <td>0</td>\n",
       "      <td>0</td>\n",
       "      <td>0</td>\n",
       "      <td>0</td>\n",
       "      <td>0</td>\n",
       "      <td>0</td>\n",
       "      <td>0</td>\n",
       "      <td>0</td>\n",
       "      <td>0</td>\n",
       "    </tr>\n",
       "  </tbody>\n",
       "</table>\n",
       "<p>3 rows × 4440 columns</p>\n",
       "</div>"
      ],
      "text/plain": [
       "                                               title  \\\n",
       "0  House Republicans Fret About Winning Their Hea...   \n",
       "1  Republicans Stonewalled Obama. Now the Ball Is...   \n",
       "2  In Republicans’ Ethics Office Gambit, a Specta...   \n",
       "\n",
       "                                             content      author professor  \\\n",
       "0  WASHINGTON  —   Congressional Republicans have...  Carl Hulse         0   \n",
       "1  WASHINGTON  —   It’s   or   time for Republica...  Carl Hulse         0   \n",
       "2  WASHINGTON  —   Majorities in Congress often o...  Carl Hulse         0   \n",
       "\n",
       "  substitute floriston mortar expand attempt symmetry  ...  bed laser housing  \\\n",
       "0          0         0      0      0       0        0  ...    0     0       0   \n",
       "1          0         0      0      1       0        0  ...    0     0       0   \n",
       "2          0         0      0      0       1        0  ...    0     0       0   \n",
       "\n",
       "  ball assessment heat mccourty marijuana speaking heavy  \n",
       "0    0          0    0        0         0        0     0  \n",
       "1    0          0    0        0         0        0     0  \n",
       "2    0          0    0        0         0        0     0  \n",
       "\n",
       "[3 rows x 4440 columns]"
      ]
     },
     "execution_count": 18,
     "metadata": {},
     "output_type": "execute_result"
    }
   ],
   "source": [
    "bow_counts.head(3)"
   ]
  },
  {
   "cell_type": "code",
   "execution_count": 19,
   "metadata": {
    "collapsed": true
   },
   "outputs": [],
   "source": [
    "# Set target and features\n",
    "y = bow_counts['author']\n",
    "X = bow_counts.drop(['content','author','title'], 1)\n",
    "\n",
    "X_train, X_test, y_train, y_test = train_test_split(X, y, test_size=0.25, random_state=0, stratify=y)"
   ]
  },
  {
   "cell_type": "code",
   "execution_count": 20,
   "metadata": {
    "collapsed": true
   },
   "outputs": [],
   "source": [
    "# Store overall results in two separate DataFrames\n",
    "clust_metrics = ['Algorithm', 'Dataset', 'Sample Size', 'ARI', 'Silhouette']\n",
    "model_metrics = ['Algorithm', 'ARI', 'Cross-validation', 'Train Accuracy', 'Test Accuracy']\n",
    "\n",
    "results_clust = pd.DataFrame(columns=clust_metrics)\n",
    "results_model = pd.DataFrame(columns=model_metrics)"
   ]
  },
  {
   "cell_type": "markdown",
   "metadata": {},
   "source": [
    "# Clustering\n",
    "We will evaluate three separate clustering algorithms: K-Means, Mean-shift, and Affinity Propagation. We will do these for the train and test sets, separately. First, we can use the elbow method plot to get a rough idea of the optimal number of clusters for K-Means.\n",
    "## Find Optimal Clusters"
   ]
  },
  {
   "cell_type": "code",
   "execution_count": 21,
   "metadata": {
    "scrolled": false
   },
   "outputs": [
    {
     "name": "stdout",
     "output_type": "stream",
     "text": [
      "2 clusters\n",
      "3 clusters\n",
      "4 clusters\n",
      "5 clusters\n",
      "6 clusters\n",
      "7 clusters\n",
      "8 clusters\n",
      "9 clusters\n",
      "10 clusters\n",
      "11 clusters\n",
      "12 clusters\n",
      "13 clusters\n",
      "14 clusters\n",
      "15 clusters\n",
      "16 clusters\n",
      "17 clusters\n",
      "18 clusters\n",
      "19 clusters\n",
      "20 clusters\n"
     ]
    },
    {
     "data": {
      "image/png": "[encoded data removed]",
      "text/plain": [
       "<Figure size 432x288 with 1 Axes>"
      ]
     },
     "metadata": {},
     "output_type": "display_data"
    }
   ],
   "source": [
    "def find_optimal_clusters(data, max_k):\n",
    "    iters = range(2, max_k+1, 1)\n",
    "    \n",
    "    sse = []\n",
    "    for k in iters:\n",
    "        sse.append(MiniBatchKMeans(n_clusters=k, init_size=1024, batch_size=2048, random_state=42).fit(data).inertia_)\n",
    "        print('{} clusters'.format(k))\n",
    "        \n",
    "    f, ax = plt.subplots(1, 1)\n",
    "    ax.plot(iters, sse, marker='o')\n",
    "    ax.set_xlabel('Cluster Centers')\n",
    "    ax.set_xticks(iters)\n",
    "    ax.set_xticklabels(iters)\n",
    "    ax.set_ylabel('SSE')\n",
    "    ax.set_title('SSE by Cluster Center')\n",
    "    \n",
    "find_optimal_clusters(X_train, 20)"
   ]
  },
  {
   "cell_type": "markdown",
   "metadata": {},
   "source": [
    "It is difficult to tell where the true elbow lies in the graph above. There appear to be multiple elbows at 8, 11, and 14 clusters. We can use GridSearchCV to help us estimate the optimal parameters for our clustering algorithm, including the optimal number of clusters. Let's create a function to run our clustering algorithms and save the results in a DataFrame. Then we will run this separately for the train and test sets, for each model."
   ]
  },
  {
   "cell_type": "code",
   "execution_count": 22,
   "metadata": {
    "collapsed": true
   },
   "outputs": [],
   "source": [
    "# Function to quickly evaluate clustering solutions\n",
    "def evaluate_cluster(data, target, clust, params, dataset, i):\n",
    "    start_time = time()\n",
    "    print('\\n','-'*50,'\\n',clust.__class__.__name__,'\\n','-'*50)\n",
    "    \n",
    "    # Find best parameters based on scoring of choice\n",
    "    score = make_scorer(adjusted_rand_score)\n",
    "    search = GridSearchCV(clust, params, scoring=score, cv=5).fit(data, target)\n",
    "    print(\"Best parameters:\", search.best_params_)\n",
    "    y_pred = search.best_estimator_.fit_predict(data)\n",
    "\n",
    "    ari = adjusted_rand_score(target, y_pred)\n",
    "    results_clust.loc[i, 'ARI'] = ari \n",
    "    print(\"Adjusted Rand-Index: %.3f\" % ari)\n",
    "    \n",
    "    sil = silhouette_score(data, y_pred)\n",
    "    results_clust.loc[i, 'Silhouette'] = sil\n",
    "    print(\"Silhouette Score: %.3f\" % sil)\n",
    "    \n",
    "    results_clust.loc[i, 'Algorithm'] = clust.__class__.__name__\n",
    "    results_clust.loc[i, 'Dataset'] = dataset\n",
    "    results_clust.loc[i, 'Sample Size'] = len(data)\n",
    "    \n",
    "    # Print contingency matrix\n",
    "    crosstab = pd.crosstab(target, y_pred)\n",
    "    plt.figure(figsize=(10,5))\n",
    "    sns.heatmap(crosstab, annot=True, fmt='d', cmap=plt.cm.winter)\n",
    "    plt.show()\n",
    "    print(time()-start_time, \"seconds.\")"
   ]
  },
  {
   "cell_type": "markdown",
   "metadata": {},
   "source": [
    "## Train Set\n",
    "### K-Means"
   ]
  },
  {
   "cell_type": "code",
   "execution_count": 23,
   "metadata": {},
   "outputs": [
    {
     "name": "stdout",
     "output_type": "stream",
     "text": [
      "\n",
      " -------------------------------------------------- \n",
      " KMeans \n",
      " --------------------------------------------------\n",
      "Best parameters: {'init': 'random', 'n_clusters': 20, 'n_init': 10, 'precompute_distances': True}\n",
      "Adjusted Rand-Index: 0.150\n",
      "Silhouette Score: -0.017\n"
     ]
    },
    {
     "data": {
      "image/png": "[encoded data removed]",
      "text/plain": [
       "<Figure size 720x360 with 2 Axes>"
      ]
     },
     "metadata": {},
     "output_type": "display_data"
    },
    {
     "name": "stdout",
     "output_type": "stream",
     "text": [
      "128.82036089897156 seconds.\n"
     ]
    }
   ],
   "source": [
    "clust = KMeans()\n",
    "params={\n",
    "    'n_clusters': np.arange(5, 30, 5),\n",
    "    'init': ['k-means++','random'],\n",
    "    'n_init': [10, 20],\n",
    "    'precompute_distances':[True, False]\n",
    "}\n",
    "evaluate_cluster(X_train, y_train, clust, params, dataset='Train', i=0)"
   ]
  },
  {
   "cell_type": "markdown",
   "metadata": {},
   "source": [
    "### Mean-shift"
   ]
  },
  {
   "cell_type": "code",
   "execution_count": 24,
   "metadata": {
    "scrolled": false
   },
   "outputs": [
    {
     "name": "stdout",
     "output_type": "stream",
     "text": [
      "\n",
      " -------------------------------------------------- \n",
      " MeanShift \n",
      " --------------------------------------------------\n",
      "Best parameters: {}\n",
      "Adjusted Rand-Index: 0.017\n",
      "Silhouette Score: 0.160\n"
     ]
    },
    {
     "data": {
      "image/png": "[encoded data removed]",
      "text/plain": [
       "<Figure size 720x360 with 2 Axes>"
      ]
     },
     "metadata": {},
     "output_type": "display_data"
    },
    {
     "name": "stdout",
     "output_type": "stream",
     "text": [
      "23.06464195251465 seconds.\n"
     ]
    }
   ],
   "source": [
    "#Declare and fit the model\n",
    "clust = MeanShift()\n",
    "\n",
    "params={}\n",
    "evaluate_cluster(X_train, y_train, clust, params, dataset='Train', i=1)"
   ]
  },
  {
   "cell_type": "markdown",
   "metadata": {},
   "source": [
    "### Affinity Propagation"
   ]
  },
  {
   "cell_type": "code",
   "execution_count": 25,
   "metadata": {
    "scrolled": false
   },
   "outputs": [
    {
     "name": "stdout",
     "output_type": "stream",
     "text": [
      "\n",
      " -------------------------------------------------- \n",
      " AffinityPropagation \n",
      " --------------------------------------------------\n",
      "Best parameters: {'damping': 0.5, 'max_iter': 200}\n",
      "Adjusted Rand-Index: 0.142\n",
      "Silhouette Score: 0.100\n"
     ]
    },
    {
     "data": {
      "image/png": "[encoded data removed]",
      "text/plain": [
       "<Figure size 720x360 with 2 Axes>"
      ]
     },
     "metadata": {},
     "output_type": "display_data"
    },
    {
     "name": "stdout",
     "output_type": "stream",
     "text": [
      "2.343078851699829 seconds.\n"
     ]
    }
   ],
   "source": [
    "#Declare and fit the model.\n",
    "clust = AffinityPropagation()\n",
    "params = {\n",
    "    'damping': [0.5, 0.7, 0.9], \n",
    "    'max_iter': [200, 500]\n",
    "}\n",
    "evaluate_cluster(X_train, y_train, clust, params, dataset='Train', i=2)"
   ]
  },
  {
   "cell_type": "markdown",
   "metadata": {},
   "source": [
    "## Test Set\n",
    "### K-Means"
   ]
  },
  {
   "cell_type": "code",
   "execution_count": 26,
   "metadata": {},
   "outputs": [
    {
     "name": "stdout",
     "output_type": "stream",
     "text": [
      "\n",
      " -------------------------------------------------- \n",
      " KMeans \n",
      " --------------------------------------------------\n",
      "Best parameters: {'init': 'random', 'n_clusters': 20, 'n_init': 10, 'precompute_distances': False}\n",
      "Adjusted Rand-Index: 0.107\n",
      "Silhouette Score: 0.017\n"
     ]
    },
    {
     "data": {
      "image/png": "[encoded data removed]",
      "text/plain": [
       "<Figure size 720x360 with 2 Axes>"
      ]
     },
     "metadata": {},
     "output_type": "display_data"
    },
    {
     "name": "stdout",
     "output_type": "stream",
     "text": [
      "44.16895794868469 seconds.\n"
     ]
    }
   ],
   "source": [
    "clust = KMeans()\n",
    "params={\n",
    "    'n_clusters': np.arange(5, 30, 5),\n",
    "    'init': ['k-means++','random'],\n",
    "    'n_init': [10, 20],\n",
    "    'precompute_distances':[True, False]\n",
    "}\n",
    "evaluate_cluster(X_test, y_test, clust, params, dataset='Test', i=3)"
   ]
  },
  {
   "cell_type": "markdown",
   "metadata": {},
   "source": [
    "### Mean-shift"
   ]
  },
  {
   "cell_type": "code",
   "execution_count": 27,
   "metadata": {
    "scrolled": false
   },
   "outputs": [
    {
     "name": "stdout",
     "output_type": "stream",
     "text": [
      "\n",
      " -------------------------------------------------- \n",
      " MeanShift \n",
      " --------------------------------------------------\n",
      "Best parameters: {}\n",
      "Adjusted Rand-Index: 0.028\n",
      "Silhouette Score: 0.200\n"
     ]
    },
    {
     "data": {
      "image/png": "[encoded data removed]",
      "text/plain": [
       "<Figure size 720x360 with 2 Axes>"
      ]
     },
     "metadata": {},
     "output_type": "display_data"
    },
    {
     "name": "stdout",
     "output_type": "stream",
     "text": [
      "3.139875888824463 seconds.\n"
     ]
    }
   ],
   "source": [
    "#Declare and fit the model\n",
    "clust = MeanShift()\n",
    "\n",
    "params={}\n",
    "evaluate_cluster(X_test, y_test, clust, params, dataset='Test', i=4)"
   ]
  },
  {
   "cell_type": "markdown",
   "metadata": {},
   "source": [
    "### Affinity Propagation"
   ]
  },
  {
   "cell_type": "code",
   "execution_count": 28,
   "metadata": {},
   "outputs": [
    {
     "name": "stdout",
     "output_type": "stream",
     "text": [
      "\n",
      " -------------------------------------------------- \n",
      " AffinityPropagation \n",
      " --------------------------------------------------\n",
      "Best parameters: {'damping': 0.9, 'max_iter': 200}\n",
      "Adjusted Rand-Index: 0.096\n",
      "Silhouette Score: 0.204\n"
     ]
    },
    {
     "data": {
      "image/png": "[encoded data removed]",
      "text/plain": [
       "<Figure size 720x360 with 2 Axes>"
      ]
     },
     "metadata": {},
     "output_type": "display_data"
    },
    {
     "name": "stdout",
     "output_type": "stream",
     "text": [
      "1.1127409934997559 seconds.\n"
     ]
    }
   ],
   "source": [
    "#Declare and fit the model.\n",
    "clust = AffinityPropagation()\n",
    "params = {\n",
    "    'damping': [0.5, 0.7, 0.9], \n",
    "    'max_iter': [200, 500]\n",
    "}\n",
    "evaluate_cluster(X_test, y_test, clust, params, dataset='Test', i=5)"
   ]
  },
  {
   "cell_type": "code",
   "execution_count": 29,
   "metadata": {
    "scrolled": true
   },
   "outputs": [
    {
     "data": {
      "text/html": [
       "<div>\n",
       "<style scoped>\n",
       "    .dataframe tbody tr th:only-of-type {\n",
       "        vertical-align: middle;\n",
       "    }\n",
       "\n",
       "    .dataframe tbody tr th {\n",
       "        vertical-align: top;\n",
       "    }\n",
       "\n",
       "    .dataframe thead th {\n",
       "        text-align: right;\n",
       "    }\n",
       "</style>\n",
       "<table border=\"1\" class=\"dataframe\">\n",
       "  <thead>\n",
       "    <tr style=\"text-align: right;\">\n",
       "      <th></th>\n",
       "      <th>Algorithm</th>\n",
       "      <th>Dataset</th>\n",
       "      <th>Sample Size</th>\n",
       "      <th>ARI</th>\n",
       "      <th>Silhouette</th>\n",
       "    </tr>\n",
       "  </thead>\n",
       "  <tbody>\n",
       "    <tr>\n",
       "      <th>0</th>\n",
       "      <td>KMeans</td>\n",
       "      <td>Train</td>\n",
       "      <td>150</td>\n",
       "      <td>0.149814</td>\n",
       "      <td>-0.0169088</td>\n",
       "    </tr>\n",
       "    <tr>\n",
       "      <th>2</th>\n",
       "      <td>AffinityPropagation</td>\n",
       "      <td>Train</td>\n",
       "      <td>150</td>\n",
       "      <td>0.141887</td>\n",
       "      <td>0.0995564</td>\n",
       "    </tr>\n",
       "    <tr>\n",
       "      <th>3</th>\n",
       "      <td>KMeans</td>\n",
       "      <td>Test</td>\n",
       "      <td>50</td>\n",
       "      <td>0.106672</td>\n",
       "      <td>0.0168389</td>\n",
       "    </tr>\n",
       "    <tr>\n",
       "      <th>5</th>\n",
       "      <td>AffinityPropagation</td>\n",
       "      <td>Test</td>\n",
       "      <td>50</td>\n",
       "      <td>0.0955434</td>\n",
       "      <td>0.204466</td>\n",
       "    </tr>\n",
       "    <tr>\n",
       "      <th>4</th>\n",
       "      <td>MeanShift</td>\n",
       "      <td>Test</td>\n",
       "      <td>50</td>\n",
       "      <td>0.0281253</td>\n",
       "      <td>0.199844</td>\n",
       "    </tr>\n",
       "    <tr>\n",
       "      <th>1</th>\n",
       "      <td>MeanShift</td>\n",
       "      <td>Train</td>\n",
       "      <td>150</td>\n",
       "      <td>0.0168168</td>\n",
       "      <td>0.160355</td>\n",
       "    </tr>\n",
       "  </tbody>\n",
       "</table>\n",
       "</div>"
      ],
      "text/plain": [
       "             Algorithm Dataset Sample Size        ARI Silhouette\n",
       "0               KMeans   Train         150   0.149814 -0.0169088\n",
       "2  AffinityPropagation   Train         150   0.141887  0.0995564\n",
       "3               KMeans    Test          50   0.106672  0.0168389\n",
       "5  AffinityPropagation    Test          50  0.0955434   0.204466\n",
       "4            MeanShift    Test          50  0.0281253   0.199844\n",
       "1            MeanShift   Train         150  0.0168168   0.160355"
      ]
     },
     "execution_count": 29,
     "metadata": {},
     "output_type": "execute_result"
    }
   ],
   "source": [
    "results_clust.iloc[:6].sort_values('ARI', ascending=False)"
   ]
  },
  {
   "cell_type": "markdown",
   "metadata": {},
   "source": [
    "Our two best clustering solutions were K-Means, according to the ARI score. In fact, running K-Means on our test set gave us the highest ARI score. However, we are likely to get much higher ARI scores just from using supervised learning models. We can run one modeling iteration without a clustering feature added in, and then do another iteration with a clustering feature to indicate which cluster an article belongs to."
   ]
  },
  {
   "cell_type": "markdown",
   "metadata": {},
   "source": [
    "# Modeling\n",
    "We can create a simple function to run our model and store results in a dataframe, which will allow us to easily compare results at the end."
   ]
  },
  {
   "cell_type": "code",
   "execution_count": 30,
   "metadata": {
    "collapsed": true
   },
   "outputs": [],
   "source": [
    "def evaluate_model(clf, params, features, i):\n",
    "    start_time = time()\n",
    "    \n",
    "    # Print classifier type\n",
    "    print('\\n', '-'*50, '\\n', clf.__class__.__name__, '\\n', '-'*50)\n",
    "    \n",
    "    # Find best parameters based on scoring of choice\n",
    "    score = make_scorer(adjusted_rand_score)\n",
    "    search = GridSearchCV(clf, params, scoring=score, cv=5).fit(X, y)\n",
    "    \n",
    "    # Extract best estimator\n",
    "    best = search.best_estimator_\n",
    "    print(\"Best parameters:\", search.best_params_)\n",
    "\n",
    "    # Run cross-validation\n",
    "    cv = cross_val_score(X=X, y=y,estimator=best, cv=5)\n",
    "    print(\"\\nCross-validation scores:\", cv)\n",
    "    print(\"\\nMean cross-validation score:\", cv.mean())\n",
    "    results_model.loc[i, 'Cross-validation'] = cv.mean() \n",
    "    \n",
    "    # Calculate training accuracy\n",
    "    best = best.fit(X_train, y_train)\n",
    "    train = best.score(X=X_train,y=y_train)\n",
    "    results_model.loc[i, 'Train Accuracy'] = train \n",
    "    print(\"\\nTrain Set Accuracy Score:\", train)\n",
    "\n",
    "    # Calculate test accuracy\n",
    "    test = best.score(X=X_test, y=y_test)\n",
    "    results_model.loc[i, 'Test Accuracy'] = test \n",
    "    print(\"\\nTest Set Accuracy Score:\", test)\n",
    "    \n",
    "    y_pred = best.predict(X_test)\n",
    "\n",
    "    ari = adjusted_rand_score(y_test, y_pred)\n",
    "    results_model.loc[i, 'ARI'] = ari \n",
    "    print(\"\\nAdjusted Rand-Index: %.3f\" % ari)\n",
    "    \n",
    "    print(classification_report(y_test, y_pred))\n",
    "\n",
    "    conf_matrix = pd.crosstab(y_test, y_pred)\n",
    "    sns.heatmap(conf_matrix, annot=True, fmt='d', cmap=plt.cm.winter)\n",
    "    plt.show()\n",
    "    \n",
    "    results_model.loc[i,'Data Size'] = len(X)\n",
    "    results_model.loc[i,'Features'] = features\n",
    "    results_model.loc[i,'Algorithm'] = clf.__class__.__name__\n",
    "    print(time()-start_time, 'seconds.')"
   ]
  },
  {
   "cell_type": "markdown",
   "metadata": {},
   "source": [
    "## Iteration 1: BoW Features\n",
    "### Logistic Regression"
   ]
  },
  {
   "cell_type": "code",
   "execution_count": 31,
   "metadata": {
    "scrolled": false
   },
   "outputs": [
    {
     "name": "stdout",
     "output_type": "stream",
     "text": [
      "\n",
      " -------------------------------------------------- \n",
      " LogisticRegression \n",
      " --------------------------------------------------\n",
      "Best parameters: {'C': 0.3, 'penalty': 'l2', 'solver': 'liblinear'}\n",
      "\n",
      "Cross-validation scores: [0.8   0.8   0.8   0.825 0.7  ]\n",
      "\n",
      "Mean cross-validation score: 0.7850000000000001\n",
      "\n",
      "Train Set Accuracy Score: 1.0\n",
      "\n",
      "Test Set Accuracy Score: 0.82\n",
      "\n",
      "Adjusted Rand-Index: 0.674\n",
      "                      precision    recall  f1-score   support\n",
      "\n",
      "      Amanda Jackson       0.67      0.80      0.73         5\n",
      "   Ashley Strickland       0.80      0.80      0.80         5\n",
      "         Ben Shapiro       1.00      1.00      1.00         5\n",
      "          Carl Hulse       1.00      1.00      1.00         5\n",
      "        Dennis Green       1.00      1.00      1.00         5\n",
      "          Max Fisher       1.00      1.00      1.00         5\n",
      "     Nicholas Fandos       0.67      0.80      0.73         5\n",
      "       Patrick Healy       1.00      0.80      0.89         5\n",
      "The Associated Press       0.50      0.20      0.29         5\n",
      "       Victor Mather       0.57      0.80      0.67         5\n",
      "\n",
      "            accuracy                           0.82        50\n",
      "           macro avg       0.82      0.82      0.81        50\n",
      "        weighted avg       0.82      0.82      0.81        50\n",
      "\n"
     ]
    },
    {
     "data": {
      "image/png": "[encoded data removed]",
      "text/plain": [
       "<Figure size 432x288 with 2 Axes>"
      ]
     },
     "metadata": {},
     "output_type": "display_data"
    },
    {
     "name": "stdout",
     "output_type": "stream",
     "text": [
      "490.68394708633423 seconds.\n"
     ]
    }
   ],
   "source": [
    "params = [{\n",
    "    'solver': ['newton-cg', 'lbfgs', 'sag'],\n",
    "    'C': [0.3, 0.5, 0.7, 1],\n",
    "    'penalty': ['l2']\n",
    "    },{\n",
    "    'solver': ['liblinear', 'saga'],\n",
    "    'C': [0.3, 0.5, 0.7, 1],\n",
    "    'penalty': ['l1', 'l2']\n",
    "}]\n",
    "\n",
    "clf = LogisticRegression(\n",
    "    n_jobs=-1, # Use all CPU\n",
    "    multi_class='auto'\n",
    ")\n",
    "\n",
    "evaluate_model(clf=clf, params=params, features='BOW', i=0)"
   ]
  },
  {
   "cell_type": "markdown",
   "metadata": {},
   "source": [
    "### Random Forest Classifier"
   ]
  },
  {
   "cell_type": "code",
   "execution_count": 32,
   "metadata": {
    "scrolled": false
   },
   "outputs": [
    {
     "name": "stdout",
     "output_type": "stream",
     "text": [
      "\n",
      " -------------------------------------------------- \n",
      " RandomForestClassifier \n",
      " --------------------------------------------------\n",
      "Best parameters: {'n_estimators': 20}\n",
      "\n",
      "Cross-validation scores: [0.75  0.775 0.8   0.7   0.675]\n",
      "\n",
      "Mean cross-validation score: 0.74\n",
      "\n",
      "Train Set Accuracy Score: 1.0\n",
      "\n",
      "Test Set Accuracy Score: 0.74\n",
      "\n",
      "Adjusted Rand-Index: 0.513\n",
      "                      precision    recall  f1-score   support\n",
      "\n",
      "      Amanda Jackson       1.00      0.40      0.57         5\n",
      "   Ashley Strickland       0.83      1.00      0.91         5\n",
      "         Ben Shapiro       1.00      1.00      1.00         5\n",
      "          Carl Hulse       0.71      1.00      0.83         5\n",
      "        Dennis Green       0.50      1.00      0.67         5\n",
      "          Max Fisher       0.67      0.80      0.73         5\n",
      "     Nicholas Fandos       0.67      0.40      0.50         5\n",
      "       Patrick Healy       1.00      1.00      1.00         5\n",
      "The Associated Press       0.67      0.40      0.50         5\n",
      "       Victor Mather       0.67      0.40      0.50         5\n",
      "\n",
      "            accuracy                           0.74        50\n",
      "           macro avg       0.77      0.74      0.72        50\n",
      "        weighted avg       0.77      0.74      0.72        50\n",
      "\n"
     ]
    },
    {
     "data": {
      "image/png": "[encoded data removed]",
      "text/plain": [
       "<Figure size 432x288 with 2 Axes>"
      ]
     },
     "metadata": {},
     "output_type": "display_data"
    },
    {
     "name": "stdout",
     "output_type": "stream",
     "text": [
      "6.2545857429504395 seconds.\n"
     ]
    }
   ],
   "source": [
    "params = [{\n",
    "    'n_estimators': [10, 15, 20]\n",
    "}]\n",
    "\n",
    "clf = RandomForestClassifier(\n",
    "    n_jobs=-1 # Use all CPU\n",
    ")\n",
    "\n",
    "evaluate_model(clf=clf, params=params, features='BOW', i=1)"
   ]
  },
  {
   "cell_type": "markdown",
   "metadata": {},
   "source": [
    "### Gradient Boosting Classifier"
   ]
  },
  {
   "cell_type": "code",
   "execution_count": 33,
   "metadata": {
    "scrolled": false
   },
   "outputs": [
    {
     "name": "stdout",
     "output_type": "stream",
     "text": [
      "\n",
      " -------------------------------------------------- \n",
      " GradientBoostingClassifier \n",
      " --------------------------------------------------\n",
      "Best parameters: {'max_depth': 2, 'n_estimators': 200}\n",
      "\n",
      "Cross-validation scores: [0.775 0.725 0.825 0.675 0.8  ]\n",
      "\n",
      "Mean cross-validation score: 0.76\n",
      "\n",
      "Train Set Accuracy Score: 1.0\n",
      "\n",
      "Test Set Accuracy Score: 0.88\n",
      "\n",
      "Adjusted Rand-Index: 0.732\n",
      "                      precision    recall  f1-score   support\n",
      "\n",
      "      Amanda Jackson       1.00      0.80      0.89         5\n",
      "   Ashley Strickland       0.83      1.00      0.91         5\n",
      "         Ben Shapiro       1.00      1.00      1.00         5\n",
      "          Carl Hulse       1.00      0.80      0.89         5\n",
      "        Dennis Green       0.83      1.00      0.91         5\n",
      "          Max Fisher       1.00      1.00      1.00         5\n",
      "     Nicholas Fandos       0.83      1.00      0.91         5\n",
      "       Patrick Healy       1.00      0.80      0.89         5\n",
      "The Associated Press       0.62      1.00      0.77         5\n",
      "       Victor Mather       1.00      0.40      0.57         5\n",
      "\n",
      "            accuracy                           0.88        50\n",
      "           macro avg       0.91      0.88      0.87        50\n",
      "        weighted avg       0.91      0.88      0.87        50\n",
      "\n"
     ]
    },
    {
     "data": {
      "image/png": "[encoded data removed]",
      "text/plain": [
       "<Figure size 432x288 with 2 Axes>"
      ]
     },
     "metadata": {},
     "output_type": "display_data"
    },
    {
     "name": "stdout",
     "output_type": "stream",
     "text": [
      "532.0966258049011 seconds.\n"
     ]
    }
   ],
   "source": [
    "# We'll make 500 iterations, use 2-deep trees, and set our loss function.\n",
    "params = [{\n",
    "    'n_estimators': [200, 500],\n",
    "    'max_depth': [2, 3, 4, 5]\n",
    "}]\n",
    "\n",
    "clf = ensemble.GradientBoostingClassifier()\n",
    "\n",
    "evaluate_model(clf=clf, params=params, features='BOW', i=2)"
   ]
  },
  {
   "cell_type": "markdown",
   "metadata": {},
   "source": [
    "## Iteration 2: BoW Features with Clustering Assignment\n",
    "Let's compute our clusters using K-Means with the optimal set of parameters determined above. Then we can add this as another feature to our original dataset."
   ]
  },
  {
   "cell_type": "code",
   "execution_count": 34,
   "metadata": {
    "scrolled": true
   },
   "outputs": [
    {
     "name": "stdout",
     "output_type": "stream",
     "text": [
      "[ 9  5  5  9 14 13  9  1  1  3  1 12  0 13 10 10  9 13  1 13 13  0  0 11\n",
      " 14  9  1  1  9  9  8  1  0  5  1  5  5  0  5  0  7  0 10  0 13  9  0  5\n",
      " 11  1  1 14 14  7  3  1  9  0  1 10 10 10  0  1  2  0 10  9  0  2  0  0\n",
      "  0 14  9 14  1 14  9  0  9  9  1  5 13  0  9  1  1  9  9  1 10  0  0 14\n",
      "  4  9 11  9 10  9  5  1 11  1  0 11  9 13  5 14 13  8  0  1 10 10 10  9\n",
      " 10  3  3  6 10  2 10  9  0  0  0 10  9 13  9  9 13  0 11 11 11 10  0  0\n",
      "  9  3 10  9 13 13]\n",
      "[23 23 23  0  7 20  2 23 23  5 18  6 10 23 11 22 19  6  6  3 23  1  6  9\n",
      "  2  2  2 23 12 21  2 23 24 13 21 23 23 16  2  2 17 10  8  4 23  6 15 16\n",
      "  2 14]\n"
     ]
    }
   ],
   "source": [
    "# Calculate predicted values.\n",
    "clusters_train = KMeans(init='random', n_clusters=15, n_init=20, precompute_distances=False).fit_predict(X_train)\n",
    "clusters_test = KMeans(init='k-means++', n_clusters=25, n_init=10, precompute_distances=False).fit_predict(X_test)\n",
    "print(clusters_train)\n",
    "print(clusters_test)"
   ]
  },
  {
   "cell_type": "code",
   "execution_count": 35,
   "metadata": {},
   "outputs": [
    {
     "name": "stderr",
     "output_type": "stream",
     "text": [
      "/Users/rakeshbhatia/anaconda/lib/python3.6/site-packages/ipykernel_launcher.py:1: SettingWithCopyWarning: \n",
      "A value is trying to be set on a copy of a slice from a DataFrame.\n",
      "Try using .loc[row_indexer,col_indexer] = value instead\n",
      "\n",
      "See the caveats in the documentation: http://pandas.pydata.org/pandas-docs/stable/indexing.html#indexing-view-versus-copy\n",
      "  \"\"\"Entry point for launching an IPython kernel.\n"
     ]
    },
    {
     "data": {
      "text/html": [
       "<div>\n",
       "<style scoped>\n",
       "    .dataframe tbody tr th:only-of-type {\n",
       "        vertical-align: middle;\n",
       "    }\n",
       "\n",
       "    .dataframe tbody tr th {\n",
       "        vertical-align: top;\n",
       "    }\n",
       "\n",
       "    .dataframe thead th {\n",
       "        text-align: right;\n",
       "    }\n",
       "</style>\n",
       "<table border=\"1\" class=\"dataframe\">\n",
       "  <thead>\n",
       "    <tr style=\"text-align: right;\">\n",
       "      <th></th>\n",
       "      <th>professor</th>\n",
       "      <th>substitute</th>\n",
       "      <th>floriston</th>\n",
       "      <th>mortar</th>\n",
       "      <th>expand</th>\n",
       "      <th>attempt</th>\n",
       "      <th>symmetry</th>\n",
       "      <th>36</th>\n",
       "      <th>escape</th>\n",
       "      <th>pass</th>\n",
       "      <th>...</th>\n",
       "      <th>laser</th>\n",
       "      <th>housing</th>\n",
       "      <th>ball</th>\n",
       "      <th>assessment</th>\n",
       "      <th>heat</th>\n",
       "      <th>mccourty</th>\n",
       "      <th>marijuana</th>\n",
       "      <th>speaking</th>\n",
       "      <th>heavy</th>\n",
       "      <th>cluster_assignment</th>\n",
       "    </tr>\n",
       "  </thead>\n",
       "  <tbody>\n",
       "    <tr>\n",
       "      <th>150</th>\n",
       "      <td>0</td>\n",
       "      <td>0</td>\n",
       "      <td>0</td>\n",
       "      <td>0</td>\n",
       "      <td>0</td>\n",
       "      <td>0</td>\n",
       "      <td>0</td>\n",
       "      <td>0</td>\n",
       "      <td>0</td>\n",
       "      <td>0</td>\n",
       "      <td>...</td>\n",
       "      <td>0</td>\n",
       "      <td>0</td>\n",
       "      <td>0</td>\n",
       "      <td>0</td>\n",
       "      <td>0</td>\n",
       "      <td>0</td>\n",
       "      <td>0</td>\n",
       "      <td>0</td>\n",
       "      <td>0</td>\n",
       "      <td>9</td>\n",
       "    </tr>\n",
       "    <tr>\n",
       "      <th>98</th>\n",
       "      <td>0</td>\n",
       "      <td>0</td>\n",
       "      <td>0</td>\n",
       "      <td>0</td>\n",
       "      <td>0</td>\n",
       "      <td>0</td>\n",
       "      <td>0</td>\n",
       "      <td>0</td>\n",
       "      <td>0</td>\n",
       "      <td>0</td>\n",
       "      <td>...</td>\n",
       "      <td>0</td>\n",
       "      <td>0</td>\n",
       "      <td>0</td>\n",
       "      <td>0</td>\n",
       "      <td>0</td>\n",
       "      <td>0</td>\n",
       "      <td>0</td>\n",
       "      <td>0</td>\n",
       "      <td>0</td>\n",
       "      <td>5</td>\n",
       "    </tr>\n",
       "    <tr>\n",
       "      <th>171</th>\n",
       "      <td>1</td>\n",
       "      <td>0</td>\n",
       "      <td>0</td>\n",
       "      <td>0</td>\n",
       "      <td>0</td>\n",
       "      <td>0</td>\n",
       "      <td>0</td>\n",
       "      <td>0</td>\n",
       "      <td>0</td>\n",
       "      <td>0</td>\n",
       "      <td>...</td>\n",
       "      <td>0</td>\n",
       "      <td>0</td>\n",
       "      <td>0</td>\n",
       "      <td>0</td>\n",
       "      <td>0</td>\n",
       "      <td>0</td>\n",
       "      <td>0</td>\n",
       "      <td>0</td>\n",
       "      <td>0</td>\n",
       "      <td>5</td>\n",
       "    </tr>\n",
       "    <tr>\n",
       "      <th>88</th>\n",
       "      <td>0</td>\n",
       "      <td>0</td>\n",
       "      <td>0</td>\n",
       "      <td>0</td>\n",
       "      <td>0</td>\n",
       "      <td>0</td>\n",
       "      <td>0</td>\n",
       "      <td>0</td>\n",
       "      <td>0</td>\n",
       "      <td>0</td>\n",
       "      <td>...</td>\n",
       "      <td>0</td>\n",
       "      <td>0</td>\n",
       "      <td>0</td>\n",
       "      <td>0</td>\n",
       "      <td>0</td>\n",
       "      <td>0</td>\n",
       "      <td>0</td>\n",
       "      <td>0</td>\n",
       "      <td>0</td>\n",
       "      <td>9</td>\n",
       "    </tr>\n",
       "    <tr>\n",
       "      <th>181</th>\n",
       "      <td>0</td>\n",
       "      <td>0</td>\n",
       "      <td>0</td>\n",
       "      <td>0</td>\n",
       "      <td>0</td>\n",
       "      <td>0</td>\n",
       "      <td>0</td>\n",
       "      <td>0</td>\n",
       "      <td>0</td>\n",
       "      <td>0</td>\n",
       "      <td>...</td>\n",
       "      <td>0</td>\n",
       "      <td>0</td>\n",
       "      <td>0</td>\n",
       "      <td>0</td>\n",
       "      <td>0</td>\n",
       "      <td>0</td>\n",
       "      <td>0</td>\n",
       "      <td>0</td>\n",
       "      <td>0</td>\n",
       "      <td>14</td>\n",
       "    </tr>\n",
       "  </tbody>\n",
       "</table>\n",
       "<p>5 rows × 4438 columns</p>\n",
       "</div>"
      ],
      "text/plain": [
       "    professor substitute floriston mortar expand attempt symmetry 36 escape  \\\n",
       "150         0          0         0      0      0       0        0  0      0   \n",
       "98          0          0         0      0      0       0        0  0      0   \n",
       "171         1          0         0      0      0       0        0  0      0   \n",
       "88          0          0         0      0      0       0        0  0      0   \n",
       "181         0          0         0      0      0       0        0  0      0   \n",
       "\n",
       "    pass        ...         laser housing ball assessment heat mccourty  \\\n",
       "150    0        ...             0       0    0          0    0        0   \n",
       "98     0        ...             0       0    0          0    0        0   \n",
       "171    0        ...             0       0    0          0    0        0   \n",
       "88     0        ...             0       0    0          0    0        0   \n",
       "181    0        ...             0       0    0          0    0        0   \n",
       "\n",
       "    marijuana speaking heavy cluster_assignment  \n",
       "150         0        0     0                  9  \n",
       "98          0        0     0                  5  \n",
       "171         0        0     0                  5  \n",
       "88          0        0     0                  9  \n",
       "181         0        0     0                 14  \n",
       "\n",
       "[5 rows x 4438 columns]"
      ]
     },
     "execution_count": 35,
     "metadata": {},
     "output_type": "execute_result"
    }
   ],
   "source": [
    "X_train['cluster_assignment'] = list(clusters_train)\n",
    "X_train.head()"
   ]
  },
  {
   "cell_type": "code",
   "execution_count": 36,
   "metadata": {
    "scrolled": false
   },
   "outputs": [
    {
     "name": "stderr",
     "output_type": "stream",
     "text": [
      "/Users/rakeshbhatia/anaconda/lib/python3.6/site-packages/ipykernel_launcher.py:1: SettingWithCopyWarning: \n",
      "A value is trying to be set on a copy of a slice from a DataFrame.\n",
      "Try using .loc[row_indexer,col_indexer] = value instead\n",
      "\n",
      "See the caveats in the documentation: http://pandas.pydata.org/pandas-docs/stable/indexing.html#indexing-view-versus-copy\n",
      "  \"\"\"Entry point for launching an IPython kernel.\n"
     ]
    },
    {
     "data": {
      "text/html": [
       "<div>\n",
       "<style scoped>\n",
       "    .dataframe tbody tr th:only-of-type {\n",
       "        vertical-align: middle;\n",
       "    }\n",
       "\n",
       "    .dataframe tbody tr th {\n",
       "        vertical-align: top;\n",
       "    }\n",
       "\n",
       "    .dataframe thead th {\n",
       "        text-align: right;\n",
       "    }\n",
       "</style>\n",
       "<table border=\"1\" class=\"dataframe\">\n",
       "  <thead>\n",
       "    <tr style=\"text-align: right;\">\n",
       "      <th></th>\n",
       "      <th>professor</th>\n",
       "      <th>substitute</th>\n",
       "      <th>floriston</th>\n",
       "      <th>mortar</th>\n",
       "      <th>expand</th>\n",
       "      <th>attempt</th>\n",
       "      <th>symmetry</th>\n",
       "      <th>36</th>\n",
       "      <th>escape</th>\n",
       "      <th>pass</th>\n",
       "      <th>...</th>\n",
       "      <th>laser</th>\n",
       "      <th>housing</th>\n",
       "      <th>ball</th>\n",
       "      <th>assessment</th>\n",
       "      <th>heat</th>\n",
       "      <th>mccourty</th>\n",
       "      <th>marijuana</th>\n",
       "      <th>speaking</th>\n",
       "      <th>heavy</th>\n",
       "      <th>cluster_assignment</th>\n",
       "    </tr>\n",
       "  </thead>\n",
       "  <tbody>\n",
       "    <tr>\n",
       "      <th>153</th>\n",
       "      <td>0</td>\n",
       "      <td>0</td>\n",
       "      <td>0</td>\n",
       "      <td>0</td>\n",
       "      <td>0</td>\n",
       "      <td>0</td>\n",
       "      <td>0</td>\n",
       "      <td>0</td>\n",
       "      <td>0</td>\n",
       "      <td>0</td>\n",
       "      <td>...</td>\n",
       "      <td>0</td>\n",
       "      <td>0</td>\n",
       "      <td>5</td>\n",
       "      <td>0</td>\n",
       "      <td>0</td>\n",
       "      <td>0</td>\n",
       "      <td>0</td>\n",
       "      <td>0</td>\n",
       "      <td>0</td>\n",
       "      <td>23</td>\n",
       "    </tr>\n",
       "    <tr>\n",
       "      <th>92</th>\n",
       "      <td>0</td>\n",
       "      <td>0</td>\n",
       "      <td>0</td>\n",
       "      <td>0</td>\n",
       "      <td>0</td>\n",
       "      <td>0</td>\n",
       "      <td>1</td>\n",
       "      <td>0</td>\n",
       "      <td>0</td>\n",
       "      <td>0</td>\n",
       "      <td>...</td>\n",
       "      <td>0</td>\n",
       "      <td>0</td>\n",
       "      <td>0</td>\n",
       "      <td>0</td>\n",
       "      <td>0</td>\n",
       "      <td>0</td>\n",
       "      <td>0</td>\n",
       "      <td>0</td>\n",
       "      <td>0</td>\n",
       "      <td>23</td>\n",
       "    </tr>\n",
       "    <tr>\n",
       "      <th>80</th>\n",
       "      <td>0</td>\n",
       "      <td>0</td>\n",
       "      <td>0</td>\n",
       "      <td>0</td>\n",
       "      <td>0</td>\n",
       "      <td>0</td>\n",
       "      <td>0</td>\n",
       "      <td>0</td>\n",
       "      <td>0</td>\n",
       "      <td>0</td>\n",
       "      <td>...</td>\n",
       "      <td>0</td>\n",
       "      <td>0</td>\n",
       "      <td>0</td>\n",
       "      <td>0</td>\n",
       "      <td>0</td>\n",
       "      <td>0</td>\n",
       "      <td>0</td>\n",
       "      <td>0</td>\n",
       "      <td>0</td>\n",
       "      <td>23</td>\n",
       "    </tr>\n",
       "    <tr>\n",
       "      <th>73</th>\n",
       "      <td>0</td>\n",
       "      <td>0</td>\n",
       "      <td>0</td>\n",
       "      <td>0</td>\n",
       "      <td>0</td>\n",
       "      <td>0</td>\n",
       "      <td>0</td>\n",
       "      <td>0</td>\n",
       "      <td>0</td>\n",
       "      <td>0</td>\n",
       "      <td>...</td>\n",
       "      <td>0</td>\n",
       "      <td>0</td>\n",
       "      <td>0</td>\n",
       "      <td>1</td>\n",
       "      <td>0</td>\n",
       "      <td>0</td>\n",
       "      <td>0</td>\n",
       "      <td>0</td>\n",
       "      <td>0</td>\n",
       "      <td>0</td>\n",
       "    </tr>\n",
       "    <tr>\n",
       "      <th>165</th>\n",
       "      <td>1</td>\n",
       "      <td>0</td>\n",
       "      <td>0</td>\n",
       "      <td>0</td>\n",
       "      <td>0</td>\n",
       "      <td>0</td>\n",
       "      <td>0</td>\n",
       "      <td>0</td>\n",
       "      <td>0</td>\n",
       "      <td>0</td>\n",
       "      <td>...</td>\n",
       "      <td>0</td>\n",
       "      <td>0</td>\n",
       "      <td>0</td>\n",
       "      <td>0</td>\n",
       "      <td>0</td>\n",
       "      <td>0</td>\n",
       "      <td>0</td>\n",
       "      <td>0</td>\n",
       "      <td>0</td>\n",
       "      <td>7</td>\n",
       "    </tr>\n",
       "  </tbody>\n",
       "</table>\n",
       "<p>5 rows × 4438 columns</p>\n",
       "</div>"
      ],
      "text/plain": [
       "    professor substitute floriston mortar expand attempt symmetry 36 escape  \\\n",
       "153         0          0         0      0      0       0        0  0      0   \n",
       "92          0          0         0      0      0       0        1  0      0   \n",
       "80          0          0         0      0      0       0        0  0      0   \n",
       "73          0          0         0      0      0       0        0  0      0   \n",
       "165         1          0         0      0      0       0        0  0      0   \n",
       "\n",
       "    pass        ...         laser housing ball assessment heat mccourty  \\\n",
       "153    0        ...             0       0    5          0    0        0   \n",
       "92     0        ...             0       0    0          0    0        0   \n",
       "80     0        ...             0       0    0          0    0        0   \n",
       "73     0        ...             0       0    0          1    0        0   \n",
       "165    0        ...             0       0    0          0    0        0   \n",
       "\n",
       "    marijuana speaking heavy cluster_assignment  \n",
       "153         0        0     0                 23  \n",
       "92          0        0     0                 23  \n",
       "80          0        0     0                 23  \n",
       "73          0        0     0                  0  \n",
       "165         0        0     0                  7  \n",
       "\n",
       "[5 rows x 4438 columns]"
      ]
     },
     "execution_count": 36,
     "metadata": {},
     "output_type": "execute_result"
    }
   ],
   "source": [
    "X_test['cluster_assignment'] = list(clusters_test)\n",
    "X_test.head()"
   ]
  },
  {
   "cell_type": "markdown",
   "metadata": {},
   "source": [
    "### Logistic Regression"
   ]
  },
  {
   "cell_type": "code",
   "execution_count": 37,
   "metadata": {},
   "outputs": [
    {
     "name": "stdout",
     "output_type": "stream",
     "text": [
      "\n",
      " -------------------------------------------------- \n",
      " LogisticRegression \n",
      " --------------------------------------------------\n",
      "Best parameters: {'C': 0.3, 'penalty': 'l2', 'solver': 'liblinear'}\n",
      "\n",
      "Cross-validation scores: [0.8   0.8   0.8   0.825 0.7  ]\n",
      "\n",
      "Mean cross-validation score: 0.7850000000000001\n",
      "\n",
      "Train Set Accuracy Score: 1.0\n",
      "\n",
      "Test Set Accuracy Score: 0.72\n",
      "\n",
      "Adjusted Rand-Index: 0.516\n",
      "                      precision    recall  f1-score   support\n",
      "\n",
      "      Amanda Jackson       0.25      0.20      0.22         5\n",
      "   Ashley Strickland       0.80      0.80      0.80         5\n",
      "         Ben Shapiro       0.83      1.00      0.91         5\n",
      "          Carl Hulse       1.00      0.80      0.89         5\n",
      "        Dennis Green       1.00      1.00      1.00         5\n",
      "          Max Fisher       1.00      0.80      0.89         5\n",
      "     Nicholas Fandos       0.50      0.60      0.55         5\n",
      "       Patrick Healy       1.00      0.80      0.89         5\n",
      "The Associated Press       0.40      0.40      0.40         5\n",
      "       Victor Mather       0.57      0.80      0.67         5\n",
      "\n",
      "            accuracy                           0.72        50\n",
      "           macro avg       0.74      0.72      0.72        50\n",
      "        weighted avg       0.74      0.72      0.72        50\n",
      "\n"
     ]
    },
    {
     "data": {
      "image/png": "[encoded data removed]",
      "text/plain": [
       "<Figure size 432x288 with 2 Axes>"
      ]
     },
     "metadata": {},
     "output_type": "display_data"
    },
    {
     "name": "stdout",
     "output_type": "stream",
     "text": [
      "475.6625771522522 seconds.\n"
     ]
    }
   ],
   "source": [
    "params = [{\n",
    "    'solver': ['newton-cg', 'lbfgs', 'sag'],\n",
    "    'C': [0.3, 0.5, 0.7, 1],\n",
    "    'penalty': ['l2']\n",
    "    },{\n",
    "    'solver': ['liblinear', 'saga'],\n",
    "    'C': [0.3, 0.5, 0.7, 1],\n",
    "    'penalty': ['l1', 'l2']\n",
    "}]\n",
    "\n",
    "clf = LogisticRegression(\n",
    "    n_jobs=-1 # Use all CPU\n",
    ")\n",
    "\n",
    "evaluate_model(clf=clf, params=params, features='BOW & Clust', i=3)"
   ]
  },
  {
   "cell_type": "markdown",
   "metadata": {},
   "source": [
    "### Random Forest Classifier"
   ]
  },
  {
   "cell_type": "code",
   "execution_count": 38,
   "metadata": {},
   "outputs": [
    {
     "name": "stdout",
     "output_type": "stream",
     "text": [
      "\n",
      " -------------------------------------------------- \n",
      " RandomForestClassifier \n",
      " --------------------------------------------------\n",
      "Best parameters: {'n_estimators': 20}\n",
      "\n",
      "Cross-validation scores: [0.725 0.675 0.75  0.725 0.65 ]\n",
      "\n",
      "Mean cross-validation score: 0.705\n",
      "\n",
      "Train Set Accuracy Score: 1.0\n",
      "\n",
      "Test Set Accuracy Score: 0.74\n",
      "\n",
      "Adjusted Rand-Index: 0.573\n",
      "                      precision    recall  f1-score   support\n",
      "\n",
      "      Amanda Jackson       0.67      0.80      0.73         5\n",
      "   Ashley Strickland       0.75      0.60      0.67         5\n",
      "         Ben Shapiro       1.00      1.00      1.00         5\n",
      "          Carl Hulse       0.62      1.00      0.77         5\n",
      "        Dennis Green       0.71      1.00      0.83         5\n",
      "          Max Fisher       0.71      1.00      0.83         5\n",
      "     Nicholas Fandos       1.00      0.20      0.33         5\n",
      "       Patrick Healy       1.00      0.80      0.89         5\n",
      "The Associated Press       0.00      0.00      0.00         5\n",
      "       Victor Mather       0.62      1.00      0.77         5\n",
      "\n",
      "            accuracy                           0.74        50\n",
      "           macro avg       0.71      0.74      0.68        50\n",
      "        weighted avg       0.71      0.74      0.68        50\n",
      "\n"
     ]
    },
    {
     "data": {
      "image/png": "[encoded data removed]",
      "text/plain": [
       "<Figure size 432x288 with 2 Axes>"
      ]
     },
     "metadata": {},
     "output_type": "display_data"
    },
    {
     "name": "stdout",
     "output_type": "stream",
     "text": [
      "7.328387975692749 seconds.\n"
     ]
    }
   ],
   "source": [
    "params = [{\n",
    "    'n_estimators': [10, 15, 20]\n",
    "}]\n",
    "\n",
    "clf = RandomForestClassifier(\n",
    "    n_jobs=-1 # Use all CPU\n",
    ")\n",
    "\n",
    "evaluate_model(clf=clf, params=params, features='BOW & Clust', i=4)"
   ]
  },
  {
   "cell_type": "markdown",
   "metadata": {},
   "source": [
    "### Gradient Boosting Classifier"
   ]
  },
  {
   "cell_type": "code",
   "execution_count": 39,
   "metadata": {},
   "outputs": [
    {
     "name": "stdout",
     "output_type": "stream",
     "text": [
      "\n",
      " -------------------------------------------------- \n",
      " GradientBoostingClassifier \n",
      " --------------------------------------------------\n",
      "Best parameters: {'max_depth': 2, 'n_estimators': 500}\n",
      "\n",
      "Cross-validation scores: [0.75  0.75  0.85  0.725 0.775]\n",
      "\n",
      "Mean cross-validation score: 0.77\n",
      "\n",
      "Train Set Accuracy Score: 1.0\n",
      "\n",
      "Test Set Accuracy Score: 0.86\n",
      "\n",
      "Adjusted Rand-Index: 0.689\n",
      "                      precision    recall  f1-score   support\n",
      "\n",
      "      Amanda Jackson       1.00      0.80      0.89         5\n",
      "   Ashley Strickland       0.83      1.00      0.91         5\n",
      "         Ben Shapiro       1.00      1.00      1.00         5\n",
      "          Carl Hulse       1.00      0.60      0.75         5\n",
      "        Dennis Green       0.83      1.00      0.91         5\n",
      "          Max Fisher       1.00      1.00      1.00         5\n",
      "     Nicholas Fandos       0.71      1.00      0.83         5\n",
      "       Patrick Healy       1.00      0.80      0.89         5\n",
      "The Associated Press       0.62      1.00      0.77         5\n",
      "       Victor Mather       1.00      0.40      0.57         5\n",
      "\n",
      "            accuracy                           0.86        50\n",
      "           macro avg       0.90      0.86      0.85        50\n",
      "        weighted avg       0.90      0.86      0.85        50\n",
      "\n"
     ]
    },
    {
     "data": {
      "image/png": "[encoded data removed]",
      "text/plain": [
       "<Figure size 432x288 with 2 Axes>"
      ]
     },
     "metadata": {},
     "output_type": "display_data"
    },
    {
     "name": "stdout",
     "output_type": "stream",
     "text": [
      "510.4360148906708 seconds.\n"
     ]
    }
   ],
   "source": [
    "# We'll make 500 iterations, use 2-deep trees, and set our loss function.\n",
    "params = [{\n",
    "    'n_estimators': [200, 500],\n",
    "    'max_depth': [2, 3, 4, 5]\n",
    "}]\n",
    "\n",
    "clf = ensemble.GradientBoostingClassifier()\n",
    "\n",
    "evaluate_model(clf=clf, params=params, features='BOW & Clust', i=5)"
   ]
  },
  {
   "cell_type": "code",
   "execution_count": 40,
   "metadata": {
    "scrolled": true
   },
   "outputs": [
    {
     "data": {
      "text/html": [
       "<div>\n",
       "<style scoped>\n",
       "    .dataframe tbody tr th:only-of-type {\n",
       "        vertical-align: middle;\n",
       "    }\n",
       "\n",
       "    .dataframe tbody tr th {\n",
       "        vertical-align: top;\n",
       "    }\n",
       "\n",
       "    .dataframe thead th {\n",
       "        text-align: right;\n",
       "    }\n",
       "</style>\n",
       "<table border=\"1\" class=\"dataframe\">\n",
       "  <thead>\n",
       "    <tr style=\"text-align: right;\">\n",
       "      <th></th>\n",
       "      <th>Algorithm</th>\n",
       "      <th>ARI</th>\n",
       "      <th>Cross-validation</th>\n",
       "      <th>Train Accuracy</th>\n",
       "      <th>Test Accuracy</th>\n",
       "      <th>Data Size</th>\n",
       "      <th>Features</th>\n",
       "    </tr>\n",
       "  </thead>\n",
       "  <tbody>\n",
       "    <tr>\n",
       "      <th>2</th>\n",
       "      <td>GradientBoostingClassifier</td>\n",
       "      <td>0.731563</td>\n",
       "      <td>0.76</td>\n",
       "      <td>1.0</td>\n",
       "      <td>0.88</td>\n",
       "      <td>200.0</td>\n",
       "      <td>BOW</td>\n",
       "    </tr>\n",
       "    <tr>\n",
       "      <th>5</th>\n",
       "      <td>GradientBoostingClassifier</td>\n",
       "      <td>0.689132</td>\n",
       "      <td>0.77</td>\n",
       "      <td>1.0</td>\n",
       "      <td>0.86</td>\n",
       "      <td>200.0</td>\n",
       "      <td>BOW &amp; Clust</td>\n",
       "    </tr>\n",
       "    <tr>\n",
       "      <th>0</th>\n",
       "      <td>LogisticRegression</td>\n",
       "      <td>0.674314</td>\n",
       "      <td>0.785</td>\n",
       "      <td>1.0</td>\n",
       "      <td>0.82</td>\n",
       "      <td>200.0</td>\n",
       "      <td>BOW</td>\n",
       "    </tr>\n",
       "    <tr>\n",
       "      <th>4</th>\n",
       "      <td>RandomForestClassifier</td>\n",
       "      <td>0.572688</td>\n",
       "      <td>0.705</td>\n",
       "      <td>1.0</td>\n",
       "      <td>0.74</td>\n",
       "      <td>200.0</td>\n",
       "      <td>BOW &amp; Clust</td>\n",
       "    </tr>\n",
       "    <tr>\n",
       "      <th>3</th>\n",
       "      <td>LogisticRegression</td>\n",
       "      <td>0.515589</td>\n",
       "      <td>0.785</td>\n",
       "      <td>1.0</td>\n",
       "      <td>0.72</td>\n",
       "      <td>200.0</td>\n",
       "      <td>BOW &amp; Clust</td>\n",
       "    </tr>\n",
       "    <tr>\n",
       "      <th>1</th>\n",
       "      <td>RandomForestClassifier</td>\n",
       "      <td>0.513213</td>\n",
       "      <td>0.74</td>\n",
       "      <td>1.0</td>\n",
       "      <td>0.74</td>\n",
       "      <td>200.0</td>\n",
       "      <td>BOW</td>\n",
       "    </tr>\n",
       "  </tbody>\n",
       "</table>\n",
       "</div>"
      ],
      "text/plain": [
       "                    Algorithm       ARI Cross-validation  Train Accuracy  \\\n",
       "2  GradientBoostingClassifier  0.731563             0.76             1.0   \n",
       "5  GradientBoostingClassifier  0.689132             0.77             1.0   \n",
       "0          LogisticRegression  0.674314            0.785             1.0   \n",
       "4      RandomForestClassifier  0.572688            0.705             1.0   \n",
       "3          LogisticRegression  0.515589            0.785             1.0   \n",
       "1      RandomForestClassifier  0.513213             0.74             1.0   \n",
       "\n",
       "  Test Accuracy  Data Size     Features  \n",
       "2          0.88      200.0          BOW  \n",
       "5          0.86      200.0  BOW & Clust  \n",
       "0          0.82      200.0          BOW  \n",
       "4          0.74      200.0  BOW & Clust  \n",
       "3          0.72      200.0  BOW & Clust  \n",
       "1          0.74      200.0          BOW  "
      ]
     },
     "execution_count": 40,
     "metadata": {},
     "output_type": "execute_result"
    }
   ],
   "source": [
    "results_model.iloc[:6].sort_values('ARI', ascending=False)"
   ]
  },
  {
   "cell_type": "markdown",
   "metadata": {},
   "source": [
    "# Conclusion"
   ]
  },
  {
   "cell_type": "markdown",
   "metadata": {
    "collapsed": true
   },
   "source": [
    "Logistic Regression with the 'BOW & Clust' set of features was our best model, obtaining the highest ARI score at 0.72 as well as the highest test set accuracy score of 0.86. Gradient Boosting Classifier with the 'BOW & Clust' features wasn't too far behind with an ARI of 0.68 and test set accuracy score of 0.86. Most notably, our two best models were those using the clustering assignment feature added in. Interestingly, our train set accuracy was 1.0 for every model. Though not ideal, this result is predictable due to the sample size being only 200 articles; it indicates overfitting.\n",
    "\n",
    "Unfortunately, adding the clustering feature didn't fix the overfitting, although it did increase our test set accuracy by 0.04, which is sizable. A much larger sample size and perhaps more rigorous feature engineering is needed to get a more realistic train set accuracy score, although our test set accuracy scores are already reasonable enough. The dropoff from train set accuracy to test set accuracy is not terribly steep, so this is likely just a sample size issue. Due to the intensive nature of NLP, increasing the sample size of articles used even by a small amount may greatly increase the preprocessing time, which already takes about an hour."
   ]
  }
 ],
 "metadata": {
  "kernelspec": {
   "display_name": "Python 3",
   "language": "python",
   "name": "python3"
  },
  "language_info": {
   "codemirror_mode": {
    "name": "ipython",
    "version": 3
   },
   "file_extension": ".py",
   "mimetype": "text/x-python",
   "name": "python",
   "nbconvert_exporter": "python",
   "pygments_lexer": "ipython3",
   "version": "3.6.7"
  }
 },
 "nbformat": 4,
 "nbformat_minor": 2
}
