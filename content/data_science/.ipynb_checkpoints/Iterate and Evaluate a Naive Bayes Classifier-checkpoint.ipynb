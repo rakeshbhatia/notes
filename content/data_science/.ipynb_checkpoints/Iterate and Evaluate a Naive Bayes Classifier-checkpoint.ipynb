{
 "cells": [
  {
   "cell_type": "markdown",
   "metadata": {},
   "source": [
    "# **Iterate and Evaluate a Naive Bayes Classifier**"
   ]
  },
  {
   "cell_type": "code",
   "execution_count": 3,
   "metadata": {},
   "outputs": [],
   "source": [
    "%matplotlib inline\n",
    "import clf\n",
    "import string\n",
    "import pandas as pd\n",
    "import scipy\n",
    "import sklearn\n",
    "import collections\n",
    "import numpy as np\n",
    "import pandas_summary\n",
    "import seaborn as sns\n",
    "from textblob import TextBlob\n",
    "import matplotlib.pyplot as plt\n",
    "from nltk.corpus import stopwords\n",
    "from sklearn.model_selection import KFold\n",
    "from sklearn.naive_bayes import BernoulliNB\n",
    "from sklearn.metrics import confusion_matrix\n",
    "from sklearn.model_selection import cross_val_score\n",
    "from sklearn.cross_validation import train_test_split"
   ]
  },
  {
   "cell_type": "code",
   "execution_count": 4,
   "metadata": {},
   "outputs": [
    {
     "data": {
      "text/html": [
       "<div>\n",
       "<style scoped>\n",
       "    .dataframe tbody tr th:only-of-type {\n",
       "        vertical-align: middle;\n",
       "    }\n",
       "\n",
       "    .dataframe tbody tr th {\n",
       "        vertical-align: top;\n",
       "    }\n",
       "\n",
       "    .dataframe thead th {\n",
       "        text-align: right;\n",
       "    }\n",
       "</style>\n",
       "<table border=\"1\" class=\"dataframe\">\n",
       "  <thead>\n",
       "    <tr style=\"text-align: right;\">\n",
       "      <th></th>\n",
       "      <th>text</th>\n",
       "      <th>sentiment</th>\n",
       "    </tr>\n",
       "  </thead>\n",
       "  <tbody>\n",
       "    <tr>\n",
       "      <th>0</th>\n",
       "      <td>A very, very, very slow-moving, aimless movie ...</td>\n",
       "      <td>0</td>\n",
       "    </tr>\n",
       "    <tr>\n",
       "      <th>1</th>\n",
       "      <td>Not sure who was more lost - the flat characte...</td>\n",
       "      <td>0</td>\n",
       "    </tr>\n",
       "    <tr>\n",
       "      <th>2</th>\n",
       "      <td>Attempting artiness with black &amp; white and cle...</td>\n",
       "      <td>0</td>\n",
       "    </tr>\n",
       "    <tr>\n",
       "      <th>3</th>\n",
       "      <td>Very little music or anything to speak of.</td>\n",
       "      <td>0</td>\n",
       "    </tr>\n",
       "    <tr>\n",
       "      <th>4</th>\n",
       "      <td>The best scene in the movie was when Gerardo i...</td>\n",
       "      <td>1</td>\n",
       "    </tr>\n",
       "  </tbody>\n",
       "</table>\n",
       "</div>"
      ],
      "text/plain": [
       "                                                text  sentiment\n",
       "0  A very, very, very slow-moving, aimless movie ...          0\n",
       "1  Not sure who was more lost - the flat characte...          0\n",
       "2  Attempting artiness with black & white and cle...          0\n",
       "3       Very little music or anything to speak of.            0\n",
       "4  The best scene in the movie was when Gerardo i...          1"
      ]
     },
     "execution_count": 4,
     "metadata": {},
     "output_type": "execute_result"
    }
   ],
   "source": [
    "imdb_raw = pd.read_csv('imdb_labelled.txt', delimiter= '\\t', header=None)\n",
    "imdb_raw.columns = ['text', 'sentiment']\n",
    "\n",
    "imdb_raw.head()"
   ]
  },
  {
   "cell_type": "code",
   "execution_count": 5,
   "metadata": {
    "collapsed": true
   },
   "outputs": [],
   "source": [
    "# Make a copy of the original dataframe\n",
    "df = imdb_raw.copy()"
   ]
  },
  {
   "cell_type": "code",
   "execution_count": 6,
   "metadata": {
    "collapsed": true
   },
   "outputs": [],
   "source": [
    "# Randomly chosen keywords from examining the dataset\n",
    "keywords = ['good', 'fun', 'pure', 'brilliance', 'lovely', 'boasts', 'love', 'excellent', 'convincing', 'riveting',\n",
    "            'great', 'true', 'classic', 'terrific', 'funny', 'touching', 'joy', 'genius', 'superb', 'awesome', 'worth',\n",
    "            'nice', 'cool', 'well', 'exciting', 'crap', 'doomed', 'lame', 'unfunny', 'generic', 'not', 'pointless', 'negative', \n",
    "            'insipid', 'disappointing', 'weaker', 'terrible', 'boring', 'worst', 'stupid', 'torture', 'drag', 'lacks', 'uninteresting', \n",
    "            'unremarkale', 'bore', 'waste', 'unfortunately', 'bad', 'sucked']\n",
    "\n",
    "for key in keywords:\n",
    "    df[str(key)] = df.text.str.contains(\n",
    "        ' ' + str(key) + ' ',\n",
    "        case=False\n",
    "    )"
   ]
  },
  {
   "cell_type": "code",
   "execution_count": 7,
   "metadata": {
    "scrolled": true
   },
   "outputs": [
    {
     "data": {
      "text/plain": [
       "<matplotlib.axes._subplots.AxesSubplot at 0x11f769b70>"
      ]
     },
     "execution_count": 7,
     "metadata": {},
     "output_type": "execute_result"
    },
    {
     "data": {
      "image/png": "[encoded data removed]",
      "text/plain": [
       "<Figure size 1080x1080 with 2 Axes>"
      ]
     },
     "metadata": {},
     "output_type": "display_data"
    }
   ],
   "source": [
    "# Plot the correlation map\n",
    "plt.figure(figsize=(15,15))\n",
    "sns.heatmap(df.corr())"
   ]
  },
  {
   "cell_type": "markdown",
   "metadata": {},
   "source": [
    "## **Original Model**"
   ]
  },
  {
   "cell_type": "code",
   "execution_count": null,
   "metadata": {},
   "outputs": [
    {
     "name": "stdout",
     "output_type": "stream",
     "text": [
      "Number of mislabeled points out of a total 748 points : 287\n",
      "Percent accuracy:  61.6310160428\n"
     ]
    }
   ],
   "source": [
    "data = df[keywords]\n",
    "target = df['sentiment']\n",
    "\n",
    "# Instantiate our model and store it in a new variable.\n",
    "bnb = BernoulliNB()\n",
    "\n",
    "# Train the model to fit the training dataset\n",
    "bnb.fit(data, target)\n",
    "\n",
    "# Store the predictions in a new variable\n",
    "y_pred = bnb.predict(data)\n",
    "\n",
    "# Display our results.\n",
    "print(\"Number of mislabeled points out of a total {} points : {}\".format(\n",
    "    data.shape[0],\n",
    "    (target != y_pred).sum()\n",
    "))\n",
    "\n",
    "accuracy = 100*(1 - (target != y_pred).sum()/data.shape[0])\n",
    "\n",
    "print(\"Percent accuracy: \", accuracy)"
   ]
  },
  {
   "cell_type": "markdown",
   "metadata": {},
   "source": [
    "## **Iteration 1**"
   ]
  },
  {
   "cell_type": "markdown",
   "metadata": {},
   "source": [
    "For the first iteration, we will attempt to clean the reviews (including removing all digits and punctuation, as well as correcting spelling mistakes)."
   ]
  },
  {
   "cell_type": "code",
   "execution_count": null,
   "metadata": {
    "scrolled": true
   },
   "outputs": [],
   "source": [
    "stop = stopwords.words('English')\n",
    "\n",
    "# Make all text lowercase\n",
    "df['text'] = df.text.apply(lambda x: x.lower())\n",
    "\n",
    "# Make a translation table for punctuation\n",
    "table_punctuation = str.maketrans('', '', string.punctuation)\n",
    "\n",
    "# Remove all common punctuation\n",
    "df['text'] = df.text.apply(lambda x: x.translate(table_punctuation))\n",
    "\n",
    "# Make a translation table for digits\n",
    "table_digits = str.maketrans('', '', string.digits)\n",
    "\n",
    "# Remove all numbers\n",
    "df['text'] = df.text.apply(lambda x: x.translate(table_digits))\n",
    "\n",
    "# Remove all stopwords\n",
    "df['text'] = df.text.apply(lambda x: ' '.join(x for x in x.split() if x not in stop))\n",
    "\n",
    "# Correct spelling errors\n",
    "df['text'] = df.text.apply(lambda x: str(TextBlob(x).correct()))\n",
    "\n",
    "data = df[keywords]\n",
    "target = df['sentiment']\n",
    "\n",
    "# Instantiate our model and store it in a new variable.\n",
    "bnb = BernoulliNB()\n",
    "\n",
    "# Train the model to fit the training dataset\n",
    "bnb.fit(data, target)\n",
    "\n",
    "# Store the predictions in a new variable\n",
    "y_pred = bnb.predict(data)\n",
    "\n",
    "# Display our results.\n",
    "print(\"Number of mislabeled points out of a total {} points : {}\".format(\n",
    "    data.shape[0],\n",
    "    (target != y_pred).sum()\n",
    "))\n",
    "\n",
    "accuracy = 100*(1 - (target != y_pred).sum()/data.shape[0])\n",
    "\n",
    "print(\"Percent accuracy: \", accuracy)"
   ]
  },
  {
   "cell_type": "markdown",
   "metadata": {},
   "source": [
    "There was no change in the accuracy level for our updated classifier; thus, cleaning the movie reviews does not seem to have any effect on our classifier's performance. We will continue to iterate below by tuning and adding features."
   ]
  },
  {
   "cell_type": "markdown",
   "metadata": {},
   "source": [
    "# **Iteration 2**"
   ]
  },
  {
   "cell_type": "markdown",
   "metadata": {},
   "source": [
    "For the second iteration we will expand our list of keywords by extracting the 100 most common positive and negative keywords directly from the dataset. Then we will store a list of all positive, negative, and overlapping keywords, and add them as individual features to our original dataframe."
   ]
  },
  {
   "cell_type": "code",
   "execution_count": null,
   "metadata": {
    "scrolled": true
   },
   "outputs": [],
   "source": [
    "def most_common_words(df, sentiment):\n",
    "    word_count = collections.Counter()\n",
    "    for index, row in df[df.sentiment == sentiment].iterrows():\n",
    "        word_count.update(row['text'].split())\n",
    "    return sorted(word_count, key=word_count.get, reverse=True)\n",
    "\n",
    "positive_keywords_set = set(most_common_words(df, 1)[:100])\n",
    "negative_keywords_set = set(most_common_words(df, 0)[:100])\n",
    "\n",
    "positive_keywords = list(positive_keywords_set - negative_keywords_set)\n",
    "negative_keywords = list(negative_keywords_set - positive_keywords_set)\n",
    "overlapping_keywords = list(positive_keywords_set & negative_keywords_set)\n",
    "\n",
    "df_copy = df.copy()\n",
    "\n",
    "for key in (positive_keywords + negative_keywords + overlapping_keywords):\n",
    "    df_copy[key] = df.text.apply(lambda x: key in x.split())\n",
    "\n",
    "data = df_copy[positive_keywords + negative_keywords + overlapping_keywords]\n",
    "target = df_copy['sentiment']\n",
    "\n",
    "# Instantiate our model and store it in a new variable.\n",
    "bnb = BernoulliNB()\n",
    "\n",
    "# Train the model to fit the training dataset\n",
    "bnb.fit(data, target)\n",
    "\n",
    "# Store the predictions in a new variable\n",
    "y_pred = bnb.predict(data)\n",
    "\n",
    "# Display our results.\n",
    "print(\"Number of mislabeled points out of a total {} points : {}\".format(\n",
    "    data.shape[0],\n",
    "    (target != y_pred).sum()\n",
    "))\n",
    "\n",
    "accuracy = 100*(1 - (target != y_pred).sum()/data.shape[0])\n",
    "\n",
    "print(\"Percent accuracy: \", accuracy)"
   ]
  },
  {
   "cell_type": "markdown",
   "metadata": {},
   "source": [
    "By extracting the 100 most common keywords directly from the imdb reviews, we were able to increase the accuracy of our model all the way up to 77.94%. Using only a limited set of keywords significantly deteriorates the performance of our classifier."
   ]
  },
  {
   "cell_type": "markdown",
   "metadata": {},
   "source": [
    "# **Iteration 3**"
   ]
  },
  {
   "cell_type": "markdown",
   "metadata": {},
   "source": [
    "We can run another iteration with a higher sample size of keywords to see if it significantly improves our performance. This will help us quantify the effect of tuning the sample size. Here, we will increase it to 1000."
   ]
  },
  {
   "cell_type": "code",
   "execution_count": null,
   "metadata": {},
   "outputs": [],
   "source": [
    "def most_common_words(df, sentiment):\n",
    "    word_count = collections.Counter()\n",
    "    for index, row in df[df.sentiment == sentiment].iterrows():\n",
    "        word_count.update(row['text'].split())\n",
    "    return sorted(word_count, key=word_count.get, reverse=True)\n",
    "\n",
    "positive_keywords_set = set(most_common_words(df, 1)[:1000])\n",
    "negative_keywords_set = set(most_common_words(df, 0)[:1000])\n",
    "\n",
    "positive_keywords = list(positive_keywords_set - negative_keywords_set)\n",
    "negative_keywords = list(negative_keywords_set - positive_keywords_set)\n",
    "overlapping_keywords = list(positive_keywords_set & negative_keywords_set)\n",
    "\n",
    "df_copy = df.copy()\n",
    "\n",
    "for key in (positive_keywords + negative_keywords + overlapping_keywords):\n",
    "    df_copy[key] = df.text.apply(lambda x: key in x.split())\n",
    "\n",
    "data = df_copy[positive_keywords + negative_keywords + overlapping_keywords]\n",
    "target = df_copy['sentiment']\n",
    "\n",
    "# Instantiate our model and store it in a new variable.\n",
    "bnb = BernoulliNB()\n",
    "\n",
    "# Train the model to fit the training dataset\n",
    "bnb.fit(data, target)\n",
    "\n",
    "# Store the predictions in a new variable\n",
    "y_pred = bnb.predict(data)\n",
    "\n",
    "# Display our results.\n",
    "print(\"Number of mislabeled points out of a total {} points : {}\".format(\n",
    "    data.shape[0],\n",
    "    (target != y_pred).sum()\n",
    "))\n",
    "\n",
    "accuracy = 100*(1 - (target != y_pred).sum()/data.shape[0])\n",
    "\n",
    "print(\"Percent accuracy: \", accuracy)"
   ]
  },
  {
   "cell_type": "markdown",
   "metadata": {},
   "source": [
    "Our accuracy increased greatly, all the way up to an optimal 99.33% by simply increasing our sample size to 1000 positive and negative keywords each. However, up until this point we have used the training data to evaluate our model, which leads to overfitting. To combat this, we will do another iteration of the model that uses sklearn to split the data into separate train and test sets."
   ]
  },
  {
   "cell_type": "markdown",
   "metadata": {},
   "source": [
    "# **Iteration 4**"
   ]
  },
  {
   "cell_type": "markdown",
   "metadata": {},
   "source": [
    "For the fourth iteration, we will use sklearn to split the data into separate train and test sets, setting the test_size parameter to 25% of the dataset. Thus, the remaining 75% of the data (randomized) will be used to train the dataset."
   ]
  },
  {
   "cell_type": "code",
   "execution_count": null,
   "metadata": {},
   "outputs": [],
   "source": [
    "def most_common_words(df, sentiment):\n",
    "    word_count = collections.Counter()\n",
    "    for index, row in df[df.sentiment == sentiment].iterrows():\n",
    "        word_count.update(row['text'].split())\n",
    "    return sorted(word_count, key=word_count.get, reverse=True)\n",
    "\n",
    "positive_keywords_set = set(most_common_words(df, 1)[:1000])\n",
    "negative_keywords_set = set(most_common_words(df, 0)[:1000])\n",
    "\n",
    "positive_keywords = list(positive_keywords_set - negative_keywords_set)\n",
    "negative_keywords = list(negative_keywords_set - positive_keywords_set)\n",
    "overlapping_keywords = list(positive_keywords_set & negative_keywords_set)\n",
    "\n",
    "df_copy = df.copy()\n",
    "\n",
    "for key in (positive_keywords + negative_keywords + overlapping_keywords):\n",
    "    df_copy[key] = df.text.apply(lambda x: key in x.split())\n",
    "\n",
    "data = df_copy[positive_keywords + negative_keywords + overlapping_keywords]\n",
    "target = df_copy['sentiment']\n",
    "\n",
    "# Instantiate our model and store it in a new variable.\n",
    "bnb = BernoulliNB()\n",
    "\n",
    "# create training sets and test sets for each of the data and the targets \n",
    "data_train, data_test, target_train, target_test = train_test_split(data, target, test_size=0.25, random_state=1)\n",
    "\n",
    "# Train the model to fit the training dataset\n",
    "bnb.fit(data_train, target_train)\n",
    "\n",
    "# Store the predictions in a new variable\n",
    "y_pred = bnb.predict(data_test)\n",
    "\n",
    "# Display our results.\n",
    "print(\"Number of mislabeled points out of a total {} points : {}\".format(\n",
    "    data.shape[0],\n",
    "    (target_test != y_pred).sum()\n",
    "))\n",
    "\n",
    "accuracy = 100*(1 - (target_test != y_pred).sum()/data.shape[0])\n",
    "\n",
    "print(\"Percent accuracy: \", accuracy)"
   ]
  },
  {
   "cell_type": "markdown",
   "metadata": {},
   "source": [
    "Interestingly, this technique helped improve our accuracy a little bit, up to 99.87%. With this version of our classifier, we are able to achieve an optimal accuracy while simultaneously combatting the problem of overfitting. Together with our initial classifier, this completes our set of five different versions of the classifier."
   ]
  }
 ],
 "metadata": {
  "kernelspec": {
   "display_name": "Python 3",
   "language": "python",
   "name": "python3"
  },
  "language_info": {
   "codemirror_mode": {
    "name": "ipython",
    "version": 3
   },
   "file_extension": ".py",
   "mimetype": "text/x-python",
   "name": "python",
   "nbconvert_exporter": "python",
   "pygments_lexer": "ipython3",
   "version": "3.6.7"
  }
 },
 "nbformat": 4,
 "nbformat_minor": 2
}
