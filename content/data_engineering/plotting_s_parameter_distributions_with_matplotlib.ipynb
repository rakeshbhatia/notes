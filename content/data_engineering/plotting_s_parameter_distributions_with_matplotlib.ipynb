{
 "cells": [
  {
   "cell_type": "markdown",
   "metadata": {},
   "source": [
    "# Plotting S-parameter Distributions with Matplotlib"
   ]
  },
  {
   "cell_type": "code",
   "execution_count": 1,
   "metadata": {
    "collapsed": true
   },
   "outputs": [],
   "source": [
    "import csv\n",
    "import string\n",
    "import numpy\n",
    "import pandas as pd\n",
    "import matplotlib.pyplot as plt"
   ]
  },
  {
   "cell_type": "markdown",
   "metadata": {},
   "source": [
    "# 1804A Data"
   ]
  },
  {
   "cell_type": "code",
   "execution_count": 2,
   "metadata": {
    "scrolled": false
   },
   "outputs": [
    {
     "name": "stderr",
     "output_type": "stream",
     "text": [
      "/Users/rakeshbhatia/anaconda/lib/python3.6/site-packages/ipykernel_launcher.py:1: ParserWarning: Falling back to the 'python' engine because the 'c' engine does not support regex separators (separators > 1 char and different from '\\s+' are interpreted as regex); you can avoid this warning by specifying engine='python'.\n",
      "  \"\"\"Entry point for launching an IPython kernel.\n"
     ]
    },
    {
     "data": {
      "text/html": [
       "<div>\n",
       "<style scoped>\n",
       "    .dataframe tbody tr th:only-of-type {\n",
       "        vertical-align: middle;\n",
       "    }\n",
       "\n",
       "    .dataframe tbody tr th {\n",
       "        vertical-align: top;\n",
       "    }\n",
       "\n",
       "    .dataframe thead th {\n",
       "        text-align: right;\n",
       "    }\n",
       "</style>\n",
       "<table border=\"1\" class=\"dataframe\">\n",
       "  <thead>\n",
       "    <tr style=\"text-align: right;\">\n",
       "      <th></th>\n",
       "      <th>Freq</th>\n",
       "      <th>dBS11</th>\n",
       "      <th>dBS21</th>\n",
       "      <th>dBS22</th>\n",
       "    </tr>\n",
       "  </thead>\n",
       "  <tbody>\n",
       "    <tr>\n",
       "      <th>0</th>\n",
       "      <td>0.1</td>\n",
       "      <td>-5.376231</td>\n",
       "      <td>8.581573</td>\n",
       "      <td>-1.337611</td>\n",
       "    </tr>\n",
       "    <tr>\n",
       "      <th>1</th>\n",
       "      <td>0.2</td>\n",
       "      <td>-9.890681</td>\n",
       "      <td>13.300380</td>\n",
       "      <td>-4.357149</td>\n",
       "    </tr>\n",
       "    <tr>\n",
       "      <th>2</th>\n",
       "      <td>0.3</td>\n",
       "      <td>-11.544020</td>\n",
       "      <td>15.064870</td>\n",
       "      <td>-7.260980</td>\n",
       "    </tr>\n",
       "    <tr>\n",
       "      <th>3</th>\n",
       "      <td>0.4</td>\n",
       "      <td>-13.141930</td>\n",
       "      <td>16.082660</td>\n",
       "      <td>-9.876349</td>\n",
       "    </tr>\n",
       "    <tr>\n",
       "      <th>4</th>\n",
       "      <td>0.5</td>\n",
       "      <td>-14.926210</td>\n",
       "      <td>16.647800</td>\n",
       "      <td>-11.990410</td>\n",
       "    </tr>\n",
       "  </tbody>\n",
       "</table>\n",
       "</div>"
      ],
      "text/plain": [
       "   Freq      dBS11      dBS21      dBS22\n",
       "0   0.1  -5.376231   8.581573  -1.337611\n",
       "1   0.2  -9.890681  13.300380  -4.357149\n",
       "2   0.3 -11.544020  15.064870  -7.260980\n",
       "3   0.4 -13.141930  16.082660  -9.876349\n",
       "4   0.5 -14.926210  16.647800 -11.990410"
      ]
     },
     "execution_count": 2,
     "metadata": {},
     "output_type": "execute_result"
    }
   ],
   "source": [
    "df = pd.read_csv('docs/F123019_1_B18U01_BST1804A_S_full.csv', delimiter='\\;')\n",
    "df = df.drop(['XAdress', 'YAdress', 'PhS11', 'dBS12', 'PhS12', 'PhS21', 'PhS22', 'Unnamed: 11'], axis=1).dropna()\n",
    "df.head()"
   ]
  },
  {
   "cell_type": "code",
   "execution_count": 3,
   "metadata": {
    "scrolled": false
   },
   "outputs": [
    {
     "name": "stdout",
     "output_type": "stream",
     "text": [
      "Freq     float64\n",
      "dBS11    float64\n",
      "dBS21    float64\n",
      "dBS22    float64\n",
      "dtype: object\n"
     ]
    }
   ],
   "source": [
    "print(df.dtypes)"
   ]
  },
  {
   "cell_type": "markdown",
   "metadata": {},
   "source": [
    "## Extract 0.5GHz Data"
   ]
  },
  {
   "cell_type": "code",
   "execution_count": 4,
   "metadata": {
    "scrolled": true
   },
   "outputs": [
    {
     "data": {
      "text/html": [
       "<div>\n",
       "<style scoped>\n",
       "    .dataframe tbody tr th:only-of-type {\n",
       "        vertical-align: middle;\n",
       "    }\n",
       "\n",
       "    .dataframe tbody tr th {\n",
       "        vertical-align: top;\n",
       "    }\n",
       "\n",
       "    .dataframe thead th {\n",
       "        text-align: right;\n",
       "    }\n",
       "</style>\n",
       "<table border=\"1\" class=\"dataframe\">\n",
       "  <thead>\n",
       "    <tr style=\"text-align: right;\">\n",
       "      <th></th>\n",
       "      <th>Freq</th>\n",
       "      <th>dBS11</th>\n",
       "      <th>dBS21</th>\n",
       "      <th>dBS22</th>\n",
       "    </tr>\n",
       "  </thead>\n",
       "  <tbody>\n",
       "    <tr>\n",
       "      <th>4</th>\n",
       "      <td>0.5</td>\n",
       "      <td>-14.92621</td>\n",
       "      <td>16.64780</td>\n",
       "      <td>-11.99041</td>\n",
       "    </tr>\n",
       "    <tr>\n",
       "      <th>404</th>\n",
       "      <td>0.5</td>\n",
       "      <td>-14.97190</td>\n",
       "      <td>16.74654</td>\n",
       "      <td>-11.86176</td>\n",
       "    </tr>\n",
       "    <tr>\n",
       "      <th>804</th>\n",
       "      <td>0.5</td>\n",
       "      <td>-14.95612</td>\n",
       "      <td>16.69878</td>\n",
       "      <td>-11.91722</td>\n",
       "    </tr>\n",
       "    <tr>\n",
       "      <th>1204</th>\n",
       "      <td>0.5</td>\n",
       "      <td>-14.22709</td>\n",
       "      <td>16.38852</td>\n",
       "      <td>-11.07036</td>\n",
       "    </tr>\n",
       "    <tr>\n",
       "      <th>1604</th>\n",
       "      <td>0.5</td>\n",
       "      <td>-14.96282</td>\n",
       "      <td>16.70663</td>\n",
       "      <td>-11.84028</td>\n",
       "    </tr>\n",
       "  </tbody>\n",
       "</table>\n",
       "</div>"
      ],
      "text/plain": [
       "      Freq     dBS11     dBS21     dBS22\n",
       "4      0.5 -14.92621  16.64780 -11.99041\n",
       "404    0.5 -14.97190  16.74654 -11.86176\n",
       "804    0.5 -14.95612  16.69878 -11.91722\n",
       "1204   0.5 -14.22709  16.38852 -11.07036\n",
       "1604   0.5 -14.96282  16.70663 -11.84028"
      ]
     },
     "execution_count": 4,
     "metadata": {},
     "output_type": "execute_result"
    }
   ],
   "source": [
    "# Extract only the data for Freq = 0.5\n",
    "df1 = df.loc[df['Freq'] == 0.5]\n",
    "df1.head()"
   ]
  },
  {
   "cell_type": "markdown",
   "metadata": {},
   "source": [
    "## dBS11 Distribution (0.5GHz)"
   ]
  },
  {
   "cell_type": "code",
   "execution_count": 5,
   "metadata": {},
   "outputs": [
    {
     "data": {
      "image/png": "[encoded data removed]",
      "text/plain": [
       "<Figure size 432x288 with 1 Axes>"
      ]
     },
     "metadata": {},
     "output_type": "display_data"
    }
   ],
   "source": [
    "# Plot dBS11 distribution at 0.5GHz\n",
    "df1.dBS11.hist(bins=20)\n",
    "plt.title('dBS11 Distribution @0.5GHz')\n",
    "plt.xlabel('dBS11 @0.5GHz')\n",
    "plt.ylabel('Count')\n",
    "plt.show()"
   ]
  },
  {
   "cell_type": "markdown",
   "metadata": {},
   "source": [
    "## dBS21 Distribution (0.5GHz)"
   ]
  },
  {
   "cell_type": "code",
   "execution_count": 6,
   "metadata": {},
   "outputs": [
    {
     "data": {
      "image/png": "[encoded data removed]",
      "text/plain": [
       "<Figure size 432x288 with 1 Axes>"
      ]
     },
     "metadata": {},
     "output_type": "display_data"
    }
   ],
   "source": [
    "# Plot dBS21 distribution at 0.5GHz\n",
    "df1.dBS21.hist(bins=20)\n",
    "plt.title('dBS11 Distribution @0.5GHz')\n",
    "plt.xlabel('dBS11 @0.5GHz')\n",
    "plt.ylabel('Count')\n",
    "plt.show()"
   ]
  },
  {
   "cell_type": "markdown",
   "metadata": {},
   "source": [
    "## dBS22 Distribution (0.5GHz)"
   ]
  },
  {
   "cell_type": "code",
   "execution_count": 7,
   "metadata": {},
   "outputs": [
    {
     "data": {
      "image/png": "[encoded data removed]",
      "text/plain": [
       "<Figure size 432x288 with 1 Axes>"
      ]
     },
     "metadata": {},
     "output_type": "display_data"
    }
   ],
   "source": [
    "# Plot dBS22 distribution at 0.5GHz\n",
    "df1.dBS22.hist(bins=20)\n",
    "plt.title('dBS11 Distribution @0.5GHz')\n",
    "plt.xlabel('dBS11 @0.5GHz')\n",
    "plt.ylabel('Count')\n",
    "plt.show()"
   ]
  },
  {
   "cell_type": "markdown",
   "metadata": {},
   "source": [
    "## Key Statistics (Freq=0.5GHz)"
   ]
  },
  {
   "cell_type": "code",
   "execution_count": 8,
   "metadata": {
    "scrolled": true
   },
   "outputs": [
    {
     "data": {
      "text/html": [
       "<div>\n",
       "<style scoped>\n",
       "    .dataframe tbody tr th:only-of-type {\n",
       "        vertical-align: middle;\n",
       "    }\n",
       "\n",
       "    .dataframe tbody tr th {\n",
       "        vertical-align: top;\n",
       "    }\n",
       "\n",
       "    .dataframe thead th {\n",
       "        text-align: right;\n",
       "    }\n",
       "</style>\n",
       "<table border=\"1\" class=\"dataframe\">\n",
       "  <thead>\n",
       "    <tr style=\"text-align: right;\">\n",
       "      <th></th>\n",
       "      <th>Freq</th>\n",
       "      <th>dBS11</th>\n",
       "      <th>dBS21</th>\n",
       "      <th>dBS22</th>\n",
       "    </tr>\n",
       "  </thead>\n",
       "  <tbody>\n",
       "    <tr>\n",
       "      <th>count</th>\n",
       "      <td>199.0</td>\n",
       "      <td>199.000000</td>\n",
       "      <td>199.000000</td>\n",
       "      <td>199.000000</td>\n",
       "    </tr>\n",
       "    <tr>\n",
       "      <th>mean</th>\n",
       "      <td>0.5</td>\n",
       "      <td>-14.903008</td>\n",
       "      <td>16.537706</td>\n",
       "      <td>-11.794446</td>\n",
       "    </tr>\n",
       "    <tr>\n",
       "      <th>std</th>\n",
       "      <td>0.0</td>\n",
       "      <td>0.205054</td>\n",
       "      <td>0.095247</td>\n",
       "      <td>0.186803</td>\n",
       "    </tr>\n",
       "    <tr>\n",
       "      <th>min</th>\n",
       "      <td>0.5</td>\n",
       "      <td>-15.368250</td>\n",
       "      <td>16.360120</td>\n",
       "      <td>-12.204510</td>\n",
       "    </tr>\n",
       "    <tr>\n",
       "      <th>25%</th>\n",
       "      <td>0.5</td>\n",
       "      <td>-15.068910</td>\n",
       "      <td>16.469755</td>\n",
       "      <td>-11.950350</td>\n",
       "    </tr>\n",
       "    <tr>\n",
       "      <th>50%</th>\n",
       "      <td>0.5</td>\n",
       "      <td>-14.903110</td>\n",
       "      <td>16.532240</td>\n",
       "      <td>-11.787360</td>\n",
       "    </tr>\n",
       "    <tr>\n",
       "      <th>75%</th>\n",
       "      <td>0.5</td>\n",
       "      <td>-14.750420</td>\n",
       "      <td>16.607040</td>\n",
       "      <td>-11.627005</td>\n",
       "    </tr>\n",
       "    <tr>\n",
       "      <th>max</th>\n",
       "      <td>0.5</td>\n",
       "      <td>-14.227090</td>\n",
       "      <td>16.750850</td>\n",
       "      <td>-11.070360</td>\n",
       "    </tr>\n",
       "  </tbody>\n",
       "</table>\n",
       "</div>"
      ],
      "text/plain": [
       "        Freq       dBS11       dBS21       dBS22\n",
       "count  199.0  199.000000  199.000000  199.000000\n",
       "mean     0.5  -14.903008   16.537706  -11.794446\n",
       "std      0.0    0.205054    0.095247    0.186803\n",
       "min      0.5  -15.368250   16.360120  -12.204510\n",
       "25%      0.5  -15.068910   16.469755  -11.950350\n",
       "50%      0.5  -14.903110   16.532240  -11.787360\n",
       "75%      0.5  -14.750420   16.607040  -11.627005\n",
       "max      0.5  -14.227090   16.750850  -11.070360"
      ]
     },
     "execution_count": 8,
     "metadata": {},
     "output_type": "execute_result"
    }
   ],
   "source": [
    "df1.describe()"
   ]
  },
  {
   "cell_type": "markdown",
   "metadata": {},
   "source": [
    "## Extract 6GHz Data"
   ]
  },
  {
   "cell_type": "code",
   "execution_count": 9,
   "metadata": {
    "scrolled": true
   },
   "outputs": [
    {
     "data": {
      "text/html": [
       "<div>\n",
       "<style scoped>\n",
       "    .dataframe tbody tr th:only-of-type {\n",
       "        vertical-align: middle;\n",
       "    }\n",
       "\n",
       "    .dataframe tbody tr th {\n",
       "        vertical-align: top;\n",
       "    }\n",
       "\n",
       "    .dataframe thead th {\n",
       "        text-align: right;\n",
       "    }\n",
       "</style>\n",
       "<table border=\"1\" class=\"dataframe\">\n",
       "  <thead>\n",
       "    <tr style=\"text-align: right;\">\n",
       "      <th></th>\n",
       "      <th>Freq</th>\n",
       "      <th>dBS11</th>\n",
       "      <th>dBS21</th>\n",
       "      <th>dBS22</th>\n",
       "    </tr>\n",
       "  </thead>\n",
       "  <tbody>\n",
       "    <tr>\n",
       "      <th>59</th>\n",
       "      <td>6.0</td>\n",
       "      <td>-10.028930</td>\n",
       "      <td>16.62984</td>\n",
       "      <td>-12.40061</td>\n",
       "    </tr>\n",
       "    <tr>\n",
       "      <th>459</th>\n",
       "      <td>6.0</td>\n",
       "      <td>-10.172090</td>\n",
       "      <td>16.72707</td>\n",
       "      <td>-12.06172</td>\n",
       "    </tr>\n",
       "    <tr>\n",
       "      <th>859</th>\n",
       "      <td>6.0</td>\n",
       "      <td>-10.108140</td>\n",
       "      <td>16.67642</td>\n",
       "      <td>-12.20471</td>\n",
       "    </tr>\n",
       "    <tr>\n",
       "      <th>1259</th>\n",
       "      <td>6.0</td>\n",
       "      <td>-8.866876</td>\n",
       "      <td>15.76777</td>\n",
       "      <td>-15.91539</td>\n",
       "    </tr>\n",
       "    <tr>\n",
       "      <th>1659</th>\n",
       "      <td>6.0</td>\n",
       "      <td>-10.150780</td>\n",
       "      <td>16.67780</td>\n",
       "      <td>-12.19041</td>\n",
       "    </tr>\n",
       "  </tbody>\n",
       "</table>\n",
       "</div>"
      ],
      "text/plain": [
       "      Freq      dBS11     dBS21     dBS22\n",
       "59     6.0 -10.028930  16.62984 -12.40061\n",
       "459    6.0 -10.172090  16.72707 -12.06172\n",
       "859    6.0 -10.108140  16.67642 -12.20471\n",
       "1259   6.0  -8.866876  15.76777 -15.91539\n",
       "1659   6.0 -10.150780  16.67780 -12.19041"
      ]
     },
     "execution_count": 9,
     "metadata": {},
     "output_type": "execute_result"
    }
   ],
   "source": [
    "# Extract only the data for Freq = 6\n",
    "df2 = df.loc[df['Freq'] == 6]\n",
    "df2.head()"
   ]
  },
  {
   "cell_type": "markdown",
   "metadata": {},
   "source": [
    "## dBS11 Distribution (6GHz)"
   ]
  },
  {
   "cell_type": "code",
   "execution_count": 10,
   "metadata": {},
   "outputs": [
    {
     "data": {
      "image/png": "[encoded data removed]",
      "text/plain": [
       "<Figure size 432x288 with 1 Axes>"
      ]
     },
     "metadata": {},
     "output_type": "display_data"
    }
   ],
   "source": [
    "# Plot dBS11 distribution at 6GHz\n",
    "df2.dBS11.hist(bins=20)\n",
    "plt.title('dBS11 Distribution @6GHz')\n",
    "plt.xlabel('dBS11 @6GHz')\n",
    "plt.ylabel('Count')\n",
    "plt.show()"
   ]
  },
  {
   "cell_type": "markdown",
   "metadata": {},
   "source": [
    "## dBS21 Distribution (6GHz)"
   ]
  },
  {
   "cell_type": "code",
   "execution_count": 11,
   "metadata": {},
   "outputs": [
    {
     "data": {
      "image/png": "[encoded data removed]",
      "text/plain": [
       "<Figure size 432x288 with 1 Axes>"
      ]
     },
     "metadata": {},
     "output_type": "display_data"
    }
   ],
   "source": [
    "# Plot dBS21 distribution at 6GHz\n",
    "df2.dBS21.hist(bins=20)\n",
    "plt.title('dBS21 Distribution @6GHz')\n",
    "plt.xlabel('dBS21 @6GHz')\n",
    "plt.ylabel('Count')\n",
    "plt.show()"
   ]
  },
  {
   "cell_type": "markdown",
   "metadata": {},
   "source": [
    "## dBS22 Distribution (6GHz)"
   ]
  },
  {
   "cell_type": "code",
   "execution_count": 12,
   "metadata": {},
   "outputs": [
    {
     "data": {
      "image/png": "[encoded data removed]",
      "text/plain": [
       "<Figure size 432x288 with 1 Axes>"
      ]
     },
     "metadata": {},
     "output_type": "display_data"
    }
   ],
   "source": [
    "# Plot dBS22 distribution at 6GHz\n",
    "df2.dBS22.hist(bins=20)\n",
    "plt.title('dBS22 Distribution @6GHz')\n",
    "plt.xlabel('dBS22 @6GHz')\n",
    "plt.ylabel('Count')\n",
    "plt.show()"
   ]
  },
  {
   "cell_type": "markdown",
   "metadata": {},
   "source": [
    "## Key Statistics (Freq=6GHz)"
   ]
  },
  {
   "cell_type": "code",
   "execution_count": 13,
   "metadata": {
    "scrolled": false
   },
   "outputs": [
    {
     "data": {
      "text/html": [
       "<div>\n",
       "<style scoped>\n",
       "    .dataframe tbody tr th:only-of-type {\n",
       "        vertical-align: middle;\n",
       "    }\n",
       "\n",
       "    .dataframe tbody tr th {\n",
       "        vertical-align: top;\n",
       "    }\n",
       "\n",
       "    .dataframe thead th {\n",
       "        text-align: right;\n",
       "    }\n",
       "</style>\n",
       "<table border=\"1\" class=\"dataframe\">\n",
       "  <thead>\n",
       "    <tr style=\"text-align: right;\">\n",
       "      <th></th>\n",
       "      <th>Freq</th>\n",
       "      <th>dBS11</th>\n",
       "      <th>dBS21</th>\n",
       "      <th>dBS22</th>\n",
       "    </tr>\n",
       "  </thead>\n",
       "  <tbody>\n",
       "    <tr>\n",
       "      <th>count</th>\n",
       "      <td>199.0</td>\n",
       "      <td>199.000000</td>\n",
       "      <td>199.000000</td>\n",
       "      <td>199.000000</td>\n",
       "    </tr>\n",
       "    <tr>\n",
       "      <th>mean</th>\n",
       "      <td>6.0</td>\n",
       "      <td>-10.223419</td>\n",
       "      <td>16.565023</td>\n",
       "      <td>-12.234007</td>\n",
       "    </tr>\n",
       "    <tr>\n",
       "      <th>std</th>\n",
       "      <td>0.0</td>\n",
       "      <td>0.160035</td>\n",
       "      <td>0.092270</td>\n",
       "      <td>0.308394</td>\n",
       "    </tr>\n",
       "    <tr>\n",
       "      <th>min</th>\n",
       "      <td>6.0</td>\n",
       "      <td>-10.489480</td>\n",
       "      <td>15.767770</td>\n",
       "      <td>-15.915390</td>\n",
       "    </tr>\n",
       "    <tr>\n",
       "      <th>25%</th>\n",
       "      <td>6.0</td>\n",
       "      <td>-10.330915</td>\n",
       "      <td>16.503145</td>\n",
       "      <td>-12.325785</td>\n",
       "    </tr>\n",
       "    <tr>\n",
       "      <th>50%</th>\n",
       "      <td>6.0</td>\n",
       "      <td>-10.217370</td>\n",
       "      <td>16.563700</td>\n",
       "      <td>-12.212220</td>\n",
       "    </tr>\n",
       "    <tr>\n",
       "      <th>75%</th>\n",
       "      <td>6.0</td>\n",
       "      <td>-10.139460</td>\n",
       "      <td>16.633205</td>\n",
       "      <td>-12.093165</td>\n",
       "    </tr>\n",
       "    <tr>\n",
       "      <th>max</th>\n",
       "      <td>6.0</td>\n",
       "      <td>-8.866876</td>\n",
       "      <td>16.727920</td>\n",
       "      <td>-11.880080</td>\n",
       "    </tr>\n",
       "  </tbody>\n",
       "</table>\n",
       "</div>"
      ],
      "text/plain": [
       "        Freq       dBS11       dBS21       dBS22\n",
       "count  199.0  199.000000  199.000000  199.000000\n",
       "mean     6.0  -10.223419   16.565023  -12.234007\n",
       "std      0.0    0.160035    0.092270    0.308394\n",
       "min      6.0  -10.489480   15.767770  -15.915390\n",
       "25%      6.0  -10.330915   16.503145  -12.325785\n",
       "50%      6.0  -10.217370   16.563700  -12.212220\n",
       "75%      6.0  -10.139460   16.633205  -12.093165\n",
       "max      6.0   -8.866876   16.727920  -11.880080"
      ]
     },
     "execution_count": 13,
     "metadata": {},
     "output_type": "execute_result"
    }
   ],
   "source": [
    "df2.describe()"
   ]
  },
  {
   "cell_type": "markdown",
   "metadata": {},
   "source": [
    "## Extract 9GHz Data"
   ]
  },
  {
   "cell_type": "code",
   "execution_count": 14,
   "metadata": {
    "scrolled": true
   },
   "outputs": [
    {
     "data": {
      "text/html": [
       "<div>\n",
       "<style scoped>\n",
       "    .dataframe tbody tr th:only-of-type {\n",
       "        vertical-align: middle;\n",
       "    }\n",
       "\n",
       "    .dataframe tbody tr th {\n",
       "        vertical-align: top;\n",
       "    }\n",
       "\n",
       "    .dataframe thead th {\n",
       "        text-align: right;\n",
       "    }\n",
       "</style>\n",
       "<table border=\"1\" class=\"dataframe\">\n",
       "  <thead>\n",
       "    <tr style=\"text-align: right;\">\n",
       "      <th></th>\n",
       "      <th>Freq</th>\n",
       "      <th>dBS11</th>\n",
       "      <th>dBS21</th>\n",
       "      <th>dBS22</th>\n",
       "    </tr>\n",
       "  </thead>\n",
       "  <tbody>\n",
       "    <tr>\n",
       "      <th>89</th>\n",
       "      <td>8.999999</td>\n",
       "      <td>-12.405270</td>\n",
       "      <td>17.76468</td>\n",
       "      <td>-10.140230</td>\n",
       "    </tr>\n",
       "    <tr>\n",
       "      <th>489</th>\n",
       "      <td>8.999999</td>\n",
       "      <td>-12.667990</td>\n",
       "      <td>17.85854</td>\n",
       "      <td>-9.749912</td>\n",
       "    </tr>\n",
       "    <tr>\n",
       "      <th>889</th>\n",
       "      <td>8.999999</td>\n",
       "      <td>-12.583610</td>\n",
       "      <td>17.79932</td>\n",
       "      <td>-9.957961</td>\n",
       "    </tr>\n",
       "    <tr>\n",
       "      <th>1289</th>\n",
       "      <td>8.999999</td>\n",
       "      <td>-9.918789</td>\n",
       "      <td>15.61766</td>\n",
       "      <td>-9.632690</td>\n",
       "    </tr>\n",
       "    <tr>\n",
       "      <th>1689</th>\n",
       "      <td>8.999999</td>\n",
       "      <td>-12.679570</td>\n",
       "      <td>17.79396</td>\n",
       "      <td>-9.940454</td>\n",
       "    </tr>\n",
       "  </tbody>\n",
       "</table>\n",
       "</div>"
      ],
      "text/plain": [
       "          Freq      dBS11     dBS21      dBS22\n",
       "89    8.999999 -12.405270  17.76468 -10.140230\n",
       "489   8.999999 -12.667990  17.85854  -9.749912\n",
       "889   8.999999 -12.583610  17.79932  -9.957961\n",
       "1289  8.999999  -9.918789  15.61766  -9.632690\n",
       "1689  8.999999 -12.679570  17.79396  -9.940454"
      ]
     },
     "execution_count": 14,
     "metadata": {},
     "output_type": "execute_result"
    }
   ],
   "source": [
    "# Extract only the data for Freq = 9\n",
    "df3 = df.loc[df['Freq'] == 8.999999]\n",
    "df3.head()"
   ]
  },
  {
   "cell_type": "markdown",
   "metadata": {},
   "source": [
    "## dBS11 Distribution (9GHz)"
   ]
  },
  {
   "cell_type": "code",
   "execution_count": 15,
   "metadata": {},
   "outputs": [
    {
     "data": {
      "image/png": "[encoded data removed]",
      "text/plain": [
       "<Figure size 432x288 with 1 Axes>"
      ]
     },
     "metadata": {},
     "output_type": "display_data"
    }
   ],
   "source": [
    "# Plot dBS11 distribution at 9GHz\n",
    "df3.dBS11.hist(bins=20)\n",
    "plt.title('dBS11 Distribution @9GHz')\n",
    "plt.xlabel('dBS11 @9GHz')\n",
    "plt.ylabel('Count')\n",
    "plt.show()"
   ]
  },
  {
   "cell_type": "markdown",
   "metadata": {},
   "source": [
    "## dBS21 Distribution (9GHz)"
   ]
  },
  {
   "cell_type": "code",
   "execution_count": 16,
   "metadata": {},
   "outputs": [
    {
     "data": {
      "image/png": "[encoded data removed]",
      "text/plain": [
       "<Figure size 432x288 with 1 Axes>"
      ]
     },
     "metadata": {},
     "output_type": "display_data"
    }
   ],
   "source": [
    "# Plot dBS21 distribution at 9GHz\n",
    "df3.dBS21.hist(bins=20)\n",
    "plt.title('dBS21 Distribution @9GHz')\n",
    "plt.xlabel('dBS21 @9GHz')\n",
    "plt.ylabel('Count')\n",
    "plt.show()"
   ]
  },
  {
   "cell_type": "markdown",
   "metadata": {},
   "source": [
    "## dBS22 Distribution (9GHz)"
   ]
  },
  {
   "cell_type": "code",
   "execution_count": 17,
   "metadata": {},
   "outputs": [
    {
     "data": {
      "image/png": "[encoded data removed]",
      "text/plain": [
       "<Figure size 432x288 with 1 Axes>"
      ]
     },
     "metadata": {},
     "output_type": "display_data"
    }
   ],
   "source": [
    "# Plot dBS22 distribution at 9GHz\n",
    "df3.dBS22.hist(bins=20)\n",
    "plt.title('dBS22 Distribution @9GHz')\n",
    "plt.xlabel('dBS22 @9GHz')\n",
    "plt.ylabel('Count')\n",
    "plt.show()"
   ]
  },
  {
   "cell_type": "markdown",
   "metadata": {},
   "source": [
    "## Key Statistics (Freq=9GHz)"
   ]
  },
  {
   "cell_type": "code",
   "execution_count": 18,
   "metadata": {
    "scrolled": false
   },
   "outputs": [
    {
     "data": {
      "text/html": [
       "<div>\n",
       "<style scoped>\n",
       "    .dataframe tbody tr th:only-of-type {\n",
       "        vertical-align: middle;\n",
       "    }\n",
       "\n",
       "    .dataframe tbody tr th {\n",
       "        vertical-align: top;\n",
       "    }\n",
       "\n",
       "    .dataframe thead th {\n",
       "        text-align: right;\n",
       "    }\n",
       "</style>\n",
       "<table border=\"1\" class=\"dataframe\">\n",
       "  <thead>\n",
       "    <tr style=\"text-align: right;\">\n",
       "      <th></th>\n",
       "      <th>Freq</th>\n",
       "      <th>dBS11</th>\n",
       "      <th>dBS21</th>\n",
       "      <th>dBS22</th>\n",
       "    </tr>\n",
       "  </thead>\n",
       "  <tbody>\n",
       "    <tr>\n",
       "      <th>count</th>\n",
       "      <td>1.990000e+02</td>\n",
       "      <td>199.000000</td>\n",
       "      <td>199.000000</td>\n",
       "      <td>199.000000</td>\n",
       "    </tr>\n",
       "    <tr>\n",
       "      <th>mean</th>\n",
       "      <td>8.999999e+00</td>\n",
       "      <td>-12.843033</td>\n",
       "      <td>17.688722</td>\n",
       "      <td>-9.964045</td>\n",
       "    </tr>\n",
       "    <tr>\n",
       "      <th>std</th>\n",
       "      <td>4.808260e-14</td>\n",
       "      <td>0.313067</td>\n",
       "      <td>0.167220</td>\n",
       "      <td>0.174764</td>\n",
       "    </tr>\n",
       "    <tr>\n",
       "      <th>min</th>\n",
       "      <td>8.999999e+00</td>\n",
       "      <td>-13.395430</td>\n",
       "      <td>15.617660</td>\n",
       "      <td>-10.550280</td>\n",
       "    </tr>\n",
       "    <tr>\n",
       "      <th>25%</th>\n",
       "      <td>8.999999e+00</td>\n",
       "      <td>-13.033625</td>\n",
       "      <td>17.626765</td>\n",
       "      <td>-10.073505</td>\n",
       "    </tr>\n",
       "    <tr>\n",
       "      <th>50%</th>\n",
       "      <td>8.999999e+00</td>\n",
       "      <td>-12.859720</td>\n",
       "      <td>17.689670</td>\n",
       "      <td>-9.957961</td>\n",
       "    </tr>\n",
       "    <tr>\n",
       "      <th>75%</th>\n",
       "      <td>8.999999e+00</td>\n",
       "      <td>-12.677935</td>\n",
       "      <td>17.766700</td>\n",
       "      <td>-9.832948</td>\n",
       "    </tr>\n",
       "    <tr>\n",
       "      <th>max</th>\n",
       "      <td>8.999999e+00</td>\n",
       "      <td>-9.918789</td>\n",
       "      <td>17.893070</td>\n",
       "      <td>-9.560314</td>\n",
       "    </tr>\n",
       "  </tbody>\n",
       "</table>\n",
       "</div>"
      ],
      "text/plain": [
       "               Freq       dBS11       dBS21       dBS22\n",
       "count  1.990000e+02  199.000000  199.000000  199.000000\n",
       "mean   8.999999e+00  -12.843033   17.688722   -9.964045\n",
       "std    4.808260e-14    0.313067    0.167220    0.174764\n",
       "min    8.999999e+00  -13.395430   15.617660  -10.550280\n",
       "25%    8.999999e+00  -13.033625   17.626765  -10.073505\n",
       "50%    8.999999e+00  -12.859720   17.689670   -9.957961\n",
       "75%    8.999999e+00  -12.677935   17.766700   -9.832948\n",
       "max    8.999999e+00   -9.918789   17.893070   -9.560314"
      ]
     },
     "execution_count": 18,
     "metadata": {},
     "output_type": "execute_result"
    }
   ],
   "source": [
    "df3.describe()"
   ]
  },
  {
   "cell_type": "markdown",
   "metadata": {},
   "source": [
    "## Extract 12GHz Data"
   ]
  },
  {
   "cell_type": "code",
   "execution_count": 19,
   "metadata": {
    "scrolled": true
   },
   "outputs": [
    {
     "data": {
      "text/html": [
       "<div>\n",
       "<style scoped>\n",
       "    .dataframe tbody tr th:only-of-type {\n",
       "        vertical-align: middle;\n",
       "    }\n",
       "\n",
       "    .dataframe tbody tr th {\n",
       "        vertical-align: top;\n",
       "    }\n",
       "\n",
       "    .dataframe thead th {\n",
       "        text-align: right;\n",
       "    }\n",
       "</style>\n",
       "<table border=\"1\" class=\"dataframe\">\n",
       "  <thead>\n",
       "    <tr style=\"text-align: right;\">\n",
       "      <th></th>\n",
       "      <th>Freq</th>\n",
       "      <th>dBS11</th>\n",
       "      <th>dBS21</th>\n",
       "      <th>dBS22</th>\n",
       "    </tr>\n",
       "  </thead>\n",
       "  <tbody>\n",
       "    <tr>\n",
       "      <th>119</th>\n",
       "      <td>12.0</td>\n",
       "      <td>-15.55967</td>\n",
       "      <td>18.76574</td>\n",
       "      <td>-12.81076</td>\n",
       "    </tr>\n",
       "    <tr>\n",
       "      <th>519</th>\n",
       "      <td>12.0</td>\n",
       "      <td>-15.74340</td>\n",
       "      <td>18.89939</td>\n",
       "      <td>-12.07408</td>\n",
       "    </tr>\n",
       "    <tr>\n",
       "      <th>919</th>\n",
       "      <td>12.0</td>\n",
       "      <td>-15.66154</td>\n",
       "      <td>18.80135</td>\n",
       "      <td>-12.53445</td>\n",
       "    </tr>\n",
       "    <tr>\n",
       "      <th>1319</th>\n",
       "      <td>12.0</td>\n",
       "      <td>-11.50371</td>\n",
       "      <td>16.58876</td>\n",
       "      <td>-11.76039</td>\n",
       "    </tr>\n",
       "    <tr>\n",
       "      <th>1719</th>\n",
       "      <td>12.0</td>\n",
       "      <td>-15.93970</td>\n",
       "      <td>18.79905</td>\n",
       "      <td>-12.49742</td>\n",
       "    </tr>\n",
       "  </tbody>\n",
       "</table>\n",
       "</div>"
      ],
      "text/plain": [
       "      Freq     dBS11     dBS21     dBS22\n",
       "119   12.0 -15.55967  18.76574 -12.81076\n",
       "519   12.0 -15.74340  18.89939 -12.07408\n",
       "919   12.0 -15.66154  18.80135 -12.53445\n",
       "1319  12.0 -11.50371  16.58876 -11.76039\n",
       "1719  12.0 -15.93970  18.79905 -12.49742"
      ]
     },
     "execution_count": 19,
     "metadata": {},
     "output_type": "execute_result"
    }
   ],
   "source": [
    "# Extract only the data for Freq = 12\n",
    "df4 = df.loc[df['Freq'] == 12]\n",
    "df4.head()"
   ]
  },
  {
   "cell_type": "markdown",
   "metadata": {},
   "source": [
    "## dBS11 Distribution (12GHz)"
   ]
  },
  {
   "cell_type": "code",
   "execution_count": 20,
   "metadata": {},
   "outputs": [
    {
     "data": {
      "image/png": "[encoded data removed]",
      "text/plain": [
       "<Figure size 432x288 with 1 Axes>"
      ]
     },
     "metadata": {},
     "output_type": "display_data"
    }
   ],
   "source": [
    "# Plot dBS11 distribution at 12GHz\n",
    "df4.dBS11.hist(bins=20)\n",
    "plt.title('dBS11 Distribution @12GHz')\n",
    "plt.xlabel('dBS11 @12GHz')\n",
    "plt.ylabel('Count')\n",
    "plt.show()"
   ]
  },
  {
   "cell_type": "markdown",
   "metadata": {},
   "source": [
    "## dBS21 Distribution (12GHz)"
   ]
  },
  {
   "cell_type": "code",
   "execution_count": 21,
   "metadata": {},
   "outputs": [
    {
     "data": {
      "image/png": "[encoded data removed]",
      "text/plain": [
       "<Figure size 432x288 with 1 Axes>"
      ]
     },
     "metadata": {},
     "output_type": "display_data"
    }
   ],
   "source": [
    "# Plot dBS21 distribution at 12GHz\n",
    "df4.dBS21.hist(bins=20)\n",
    "plt.title('dBS21 Distribution @12GHz')\n",
    "plt.xlabel('dBS21 @12GHz')\n",
    "plt.ylabel('Count')\n",
    "plt.show()"
   ]
  },
  {
   "cell_type": "markdown",
   "metadata": {},
   "source": [
    "## dBS22 Distribution (12GHz)"
   ]
  },
  {
   "cell_type": "code",
   "execution_count": 22,
   "metadata": {},
   "outputs": [
    {
     "data": {
      "image/png": "[encoded data removed]",
      "text/plain": [
       "<Figure size 432x288 with 1 Axes>"
      ]
     },
     "metadata": {},
     "output_type": "display_data"
    }
   ],
   "source": [
    "# Plot dBS22 distribution at 12GHz\n",
    "df4.dBS22.hist(bins=20)\n",
    "plt.title('dBS22 Distribution @12GHz')\n",
    "plt.xlabel('dBS22 @12GHz')\n",
    "plt.ylabel('Count')\n",
    "plt.show()"
   ]
  },
  {
   "cell_type": "markdown",
   "metadata": {},
   "source": [
    "## Key Statistics (Freq=12GHz)"
   ]
  },
  {
   "cell_type": "code",
   "execution_count": 23,
   "metadata": {
    "scrolled": false
   },
   "outputs": [
    {
     "data": {
      "text/html": [
       "<div>\n",
       "<style scoped>\n",
       "    .dataframe tbody tr th:only-of-type {\n",
       "        vertical-align: middle;\n",
       "    }\n",
       "\n",
       "    .dataframe tbody tr th {\n",
       "        vertical-align: top;\n",
       "    }\n",
       "\n",
       "    .dataframe thead th {\n",
       "        text-align: right;\n",
       "    }\n",
       "</style>\n",
       "<table border=\"1\" class=\"dataframe\">\n",
       "  <thead>\n",
       "    <tr style=\"text-align: right;\">\n",
       "      <th></th>\n",
       "      <th>Freq</th>\n",
       "      <th>dBS11</th>\n",
       "      <th>dBS21</th>\n",
       "      <th>dBS22</th>\n",
       "    </tr>\n",
       "  </thead>\n",
       "  <tbody>\n",
       "    <tr>\n",
       "      <th>count</th>\n",
       "      <td>199.0</td>\n",
       "      <td>199.000000</td>\n",
       "      <td>199.000000</td>\n",
       "      <td>199.000000</td>\n",
       "    </tr>\n",
       "    <tr>\n",
       "      <th>mean</th>\n",
       "      <td>12.0</td>\n",
       "      <td>-16.930138</td>\n",
       "      <td>18.736482</td>\n",
       "      <td>-12.274029</td>\n",
       "    </tr>\n",
       "    <tr>\n",
       "      <th>std</th>\n",
       "      <td>0.0</td>\n",
       "      <td>0.875090</td>\n",
       "      <td>0.176905</td>\n",
       "      <td>0.383991</td>\n",
       "    </tr>\n",
       "    <tr>\n",
       "      <th>min</th>\n",
       "      <td>12.0</td>\n",
       "      <td>-18.389850</td>\n",
       "      <td>16.588760</td>\n",
       "      <td>-13.476270</td>\n",
       "    </tr>\n",
       "    <tr>\n",
       "      <th>25%</th>\n",
       "      <td>12.0</td>\n",
       "      <td>-17.531805</td>\n",
       "      <td>18.674630</td>\n",
       "      <td>-12.534845</td>\n",
       "    </tr>\n",
       "    <tr>\n",
       "      <th>50%</th>\n",
       "      <td>12.0</td>\n",
       "      <td>-17.092180</td>\n",
       "      <td>18.735490</td>\n",
       "      <td>-12.263640</td>\n",
       "    </tr>\n",
       "    <tr>\n",
       "      <th>75%</th>\n",
       "      <td>12.0</td>\n",
       "      <td>-16.350115</td>\n",
       "      <td>18.809190</td>\n",
       "      <td>-11.972370</td>\n",
       "    </tr>\n",
       "    <tr>\n",
       "      <th>max</th>\n",
       "      <td>12.0</td>\n",
       "      <td>-11.503710</td>\n",
       "      <td>19.004470</td>\n",
       "      <td>-11.433090</td>\n",
       "    </tr>\n",
       "  </tbody>\n",
       "</table>\n",
       "</div>"
      ],
      "text/plain": [
       "        Freq       dBS11       dBS21       dBS22\n",
       "count  199.0  199.000000  199.000000  199.000000\n",
       "mean    12.0  -16.930138   18.736482  -12.274029\n",
       "std      0.0    0.875090    0.176905    0.383991\n",
       "min     12.0  -18.389850   16.588760  -13.476270\n",
       "25%     12.0  -17.531805   18.674630  -12.534845\n",
       "50%     12.0  -17.092180   18.735490  -12.263640\n",
       "75%     12.0  -16.350115   18.809190  -11.972370\n",
       "max     12.0  -11.503710   19.004470  -11.433090"
      ]
     },
     "execution_count": 23,
     "metadata": {},
     "output_type": "execute_result"
    }
   ],
   "source": [
    "df4.describe()"
   ]
  },
  {
   "cell_type": "markdown",
   "metadata": {},
   "source": [
    "## Extract 14GHz Data"
   ]
  },
  {
   "cell_type": "code",
   "execution_count": 24,
   "metadata": {
    "scrolled": true
   },
   "outputs": [
    {
     "data": {
      "text/html": [
       "<div>\n",
       "<style scoped>\n",
       "    .dataframe tbody tr th:only-of-type {\n",
       "        vertical-align: middle;\n",
       "    }\n",
       "\n",
       "    .dataframe tbody tr th {\n",
       "        vertical-align: top;\n",
       "    }\n",
       "\n",
       "    .dataframe thead th {\n",
       "        text-align: right;\n",
       "    }\n",
       "</style>\n",
       "<table border=\"1\" class=\"dataframe\">\n",
       "  <thead>\n",
       "    <tr style=\"text-align: right;\">\n",
       "      <th></th>\n",
       "      <th>Freq</th>\n",
       "      <th>dBS11</th>\n",
       "      <th>dBS21</th>\n",
       "      <th>dBS22</th>\n",
       "    </tr>\n",
       "  </thead>\n",
       "  <tbody>\n",
       "    <tr>\n",
       "      <th>139</th>\n",
       "      <td>14.0</td>\n",
       "      <td>-8.474581</td>\n",
       "      <td>18.28153</td>\n",
       "      <td>-13.63084</td>\n",
       "    </tr>\n",
       "    <tr>\n",
       "      <th>539</th>\n",
       "      <td>14.0</td>\n",
       "      <td>-8.510300</td>\n",
       "      <td>18.44825</td>\n",
       "      <td>-12.29914</td>\n",
       "    </tr>\n",
       "    <tr>\n",
       "      <th>939</th>\n",
       "      <td>14.0</td>\n",
       "      <td>-8.452004</td>\n",
       "      <td>18.27976</td>\n",
       "      <td>-12.87179</td>\n",
       "    </tr>\n",
       "    <tr>\n",
       "      <th>1339</th>\n",
       "      <td>14.0</td>\n",
       "      <td>-10.108590</td>\n",
       "      <td>17.75542</td>\n",
       "      <td>-17.95431</td>\n",
       "    </tr>\n",
       "    <tr>\n",
       "      <th>1739</th>\n",
       "      <td>14.0</td>\n",
       "      <td>-8.592101</td>\n",
       "      <td>18.28519</td>\n",
       "      <td>-12.85863</td>\n",
       "    </tr>\n",
       "  </tbody>\n",
       "</table>\n",
       "</div>"
      ],
      "text/plain": [
       "      Freq      dBS11     dBS21     dBS22\n",
       "139   14.0  -8.474581  18.28153 -13.63084\n",
       "539   14.0  -8.510300  18.44825 -12.29914\n",
       "939   14.0  -8.452004  18.27976 -12.87179\n",
       "1339  14.0 -10.108590  17.75542 -17.95431\n",
       "1739  14.0  -8.592101  18.28519 -12.85863"
      ]
     },
     "execution_count": 24,
     "metadata": {},
     "output_type": "execute_result"
    }
   ],
   "source": [
    "# Extract only the data for Freq = 14\n",
    "df5 = df.loc[df['Freq'] == 14]\n",
    "df5.head()"
   ]
  },
  {
   "cell_type": "markdown",
   "metadata": {},
   "source": [
    "## dBS11 Distribution (14GHz)"
   ]
  },
  {
   "cell_type": "code",
   "execution_count": 25,
   "metadata": {},
   "outputs": [
    {
     "data": {
      "image/png": "[encoded data removed]",
      "text/plain": [
       "<Figure size 432x288 with 1 Axes>"
      ]
     },
     "metadata": {},
     "output_type": "display_data"
    }
   ],
   "source": [
    "# Plot dBS11 distribution at 14GHz\n",
    "df5.dBS11.hist(bins=20)\n",
    "plt.title('dBS11 Distribution @14GHz')\n",
    "plt.xlabel('dBS11 @14GHz')\n",
    "plt.ylabel('Count')\n",
    "plt.show()"
   ]
  },
  {
   "cell_type": "markdown",
   "metadata": {},
   "source": [
    "## dBS21 Distribution (14GHz)"
   ]
  },
  {
   "cell_type": "code",
   "execution_count": 26,
   "metadata": {},
   "outputs": [
    {
     "data": {
      "image/png": "[encoded data removed]",
      "text/plain": [
       "<Figure size 432x288 with 1 Axes>"
      ]
     },
     "metadata": {},
     "output_type": "display_data"
    }
   ],
   "source": [
    "# Plot dBS21 distribution at 14GHz\n",
    "df5.dBS21.hist(bins=20)\n",
    "plt.title('dBS21 Distribution @14GHz')\n",
    "plt.xlabel('dBS21 @14GHz')\n",
    "plt.ylabel('Count')\n",
    "plt.show()"
   ]
  },
  {
   "cell_type": "markdown",
   "metadata": {},
   "source": [
    "## dBS22 Distribution (14GHz)"
   ]
  },
  {
   "cell_type": "code",
   "execution_count": 27,
   "metadata": {},
   "outputs": [
    {
     "data": {
      "image/png": "[encoded data removed]",
      "text/plain": [
       "<Figure size 432x288 with 1 Axes>"
      ]
     },
     "metadata": {},
     "output_type": "display_data"
    }
   ],
   "source": [
    "# Plot dBS22 distribution at 14GHz\n",
    "df5.dBS22.hist(bins=20)\n",
    "plt.title('dBS22 Distribution @14GHz')\n",
    "plt.xlabel('dBS22 @14GHz')\n",
    "plt.ylabel('Count')\n",
    "plt.show()"
   ]
  },
  {
   "cell_type": "markdown",
   "metadata": {},
   "source": [
    "## Key Statistics (Freq=14GHz)"
   ]
  },
  {
   "cell_type": "code",
   "execution_count": 28,
   "metadata": {
    "scrolled": false
   },
   "outputs": [
    {
     "data": {
      "text/html": [
       "<div>\n",
       "<style scoped>\n",
       "    .dataframe tbody tr th:only-of-type {\n",
       "        vertical-align: middle;\n",
       "    }\n",
       "\n",
       "    .dataframe tbody tr th {\n",
       "        vertical-align: top;\n",
       "    }\n",
       "\n",
       "    .dataframe thead th {\n",
       "        text-align: right;\n",
       "    }\n",
       "</style>\n",
       "<table border=\"1\" class=\"dataframe\">\n",
       "  <thead>\n",
       "    <tr style=\"text-align: right;\">\n",
       "      <th></th>\n",
       "      <th>Freq</th>\n",
       "      <th>dBS11</th>\n",
       "      <th>dBS21</th>\n",
       "      <th>dBS22</th>\n",
       "    </tr>\n",
       "  </thead>\n",
       "  <tbody>\n",
       "    <tr>\n",
       "      <th>count</th>\n",
       "      <td>199.0</td>\n",
       "      <td>199.000000</td>\n",
       "      <td>199.000000</td>\n",
       "      <td>199.000000</td>\n",
       "    </tr>\n",
       "    <tr>\n",
       "      <th>mean</th>\n",
       "      <td>14.0</td>\n",
       "      <td>-9.159178</td>\n",
       "      <td>18.410712</td>\n",
       "      <td>-13.184445</td>\n",
       "    </tr>\n",
       "    <tr>\n",
       "      <th>std</th>\n",
       "      <td>0.0</td>\n",
       "      <td>0.493677</td>\n",
       "      <td>0.144272</td>\n",
       "      <td>0.662660</td>\n",
       "    </tr>\n",
       "    <tr>\n",
       "      <th>min</th>\n",
       "      <td>14.0</td>\n",
       "      <td>-10.144590</td>\n",
       "      <td>17.755420</td>\n",
       "      <td>-17.954310</td>\n",
       "    </tr>\n",
       "    <tr>\n",
       "      <th>25%</th>\n",
       "      <td>14.0</td>\n",
       "      <td>-9.534648</td>\n",
       "      <td>18.323560</td>\n",
       "      <td>-13.401830</td>\n",
       "    </tr>\n",
       "    <tr>\n",
       "      <th>50%</th>\n",
       "      <td>14.0</td>\n",
       "      <td>-9.264850</td>\n",
       "      <td>18.414970</td>\n",
       "      <td>-13.055440</td>\n",
       "    </tr>\n",
       "    <tr>\n",
       "      <th>75%</th>\n",
       "      <td>14.0</td>\n",
       "      <td>-8.805143</td>\n",
       "      <td>18.504870</td>\n",
       "      <td>-12.863730</td>\n",
       "    </tr>\n",
       "    <tr>\n",
       "      <th>max</th>\n",
       "      <td>14.0</td>\n",
       "      <td>-7.844082</td>\n",
       "      <td>18.755250</td>\n",
       "      <td>-11.882130</td>\n",
       "    </tr>\n",
       "  </tbody>\n",
       "</table>\n",
       "</div>"
      ],
      "text/plain": [
       "        Freq       dBS11       dBS21       dBS22\n",
       "count  199.0  199.000000  199.000000  199.000000\n",
       "mean    14.0   -9.159178   18.410712  -13.184445\n",
       "std      0.0    0.493677    0.144272    0.662660\n",
       "min     14.0  -10.144590   17.755420  -17.954310\n",
       "25%     14.0   -9.534648   18.323560  -13.401830\n",
       "50%     14.0   -9.264850   18.414970  -13.055440\n",
       "75%     14.0   -8.805143   18.504870  -12.863730\n",
       "max     14.0   -7.844082   18.755250  -11.882130"
      ]
     },
     "execution_count": 28,
     "metadata": {},
     "output_type": "execute_result"
    }
   ],
   "source": [
    "df5.describe()"
   ]
  },
  {
   "cell_type": "markdown",
   "metadata": {},
   "source": [
    "# 1805A Data"
   ]
  },
  {
   "cell_type": "code",
   "execution_count": 29,
   "metadata": {
    "scrolled": true
   },
   "outputs": [
    {
     "name": "stderr",
     "output_type": "stream",
     "text": [
      "/Users/rakeshbhatia/anaconda/lib/python3.6/site-packages/ipykernel_launcher.py:1: ParserWarning: Falling back to the 'python' engine because the 'c' engine does not support regex separators (separators > 1 char and different from '\\s+' are interpreted as regex); you can avoid this warning by specifying engine='python'.\n",
      "  \"\"\"Entry point for launching an IPython kernel.\n"
     ]
    },
    {
     "data": {
      "text/html": [
       "<div>\n",
       "<style scoped>\n",
       "    .dataframe tbody tr th:only-of-type {\n",
       "        vertical-align: middle;\n",
       "    }\n",
       "\n",
       "    .dataframe tbody tr th {\n",
       "        vertical-align: top;\n",
       "    }\n",
       "\n",
       "    .dataframe thead th {\n",
       "        text-align: right;\n",
       "    }\n",
       "</style>\n",
       "<table border=\"1\" class=\"dataframe\">\n",
       "  <thead>\n",
       "    <tr style=\"text-align: right;\">\n",
       "      <th></th>\n",
       "      <th>Freq</th>\n",
       "      <th>dBS11</th>\n",
       "      <th>dBS21</th>\n",
       "      <th>dBS22</th>\n",
       "    </tr>\n",
       "  </thead>\n",
       "  <tbody>\n",
       "    <tr>\n",
       "      <th>0</th>\n",
       "      <td>0.1</td>\n",
       "      <td>0.010573</td>\n",
       "      <td>-76.08674</td>\n",
       "      <td>-0.013744</td>\n",
       "    </tr>\n",
       "    <tr>\n",
       "      <th>1</th>\n",
       "      <td>0.2</td>\n",
       "      <td>-0.020535</td>\n",
       "      <td>-69.14332</td>\n",
       "      <td>-0.098646</td>\n",
       "    </tr>\n",
       "    <tr>\n",
       "      <th>2</th>\n",
       "      <td>0.3</td>\n",
       "      <td>-0.009909</td>\n",
       "      <td>-63.57820</td>\n",
       "      <td>-0.185163</td>\n",
       "    </tr>\n",
       "    <tr>\n",
       "      <th>3</th>\n",
       "      <td>0.4</td>\n",
       "      <td>-0.045886</td>\n",
       "      <td>-58.17558</td>\n",
       "      <td>-0.292580</td>\n",
       "    </tr>\n",
       "    <tr>\n",
       "      <th>4</th>\n",
       "      <td>0.5</td>\n",
       "      <td>-0.071007</td>\n",
       "      <td>-50.92647</td>\n",
       "      <td>-0.416192</td>\n",
       "    </tr>\n",
       "  </tbody>\n",
       "</table>\n",
       "</div>"
      ],
      "text/plain": [
       "   Freq     dBS11     dBS21     dBS22\n",
       "0   0.1  0.010573 -76.08674 -0.013744\n",
       "1   0.2 -0.020535 -69.14332 -0.098646\n",
       "2   0.3 -0.009909 -63.57820 -0.185163\n",
       "3   0.4 -0.045886 -58.17558 -0.292580\n",
       "4   0.5 -0.071007 -50.92647 -0.416192"
      ]
     },
     "execution_count": 29,
     "metadata": {},
     "output_type": "execute_result"
    }
   ],
   "source": [
    "df = pd.read_csv('docs/F123019_1_B18U01_BST1805A_S_full.csv', delimiter='\\;')\n",
    "df = df.drop(['XAdress', 'YAdress', 'PhS11', 'dBS12', 'PhS12', 'PhS21', 'PhS22', 'Unnamed: 11'], axis=1).dropna()\n",
    "df.head()"
   ]
  },
  {
   "cell_type": "code",
   "execution_count": 30,
   "metadata": {},
   "outputs": [
    {
     "name": "stdout",
     "output_type": "stream",
     "text": [
      "Freq     float64\n",
      "dBS11    float64\n",
      "dBS21    float64\n",
      "dBS22    float64\n",
      "dtype: object\n"
     ]
    }
   ],
   "source": [
    "print(df.dtypes)"
   ]
  },
  {
   "cell_type": "markdown",
   "metadata": {},
   "source": [
    "## Extract 5GHz Data"
   ]
  },
  {
   "cell_type": "code",
   "execution_count": 31,
   "metadata": {
    "scrolled": true
   },
   "outputs": [
    {
     "data": {
      "text/html": [
       "<div>\n",
       "<style scoped>\n",
       "    .dataframe tbody tr th:only-of-type {\n",
       "        vertical-align: middle;\n",
       "    }\n",
       "\n",
       "    .dataframe tbody tr th {\n",
       "        vertical-align: top;\n",
       "    }\n",
       "\n",
       "    .dataframe thead th {\n",
       "        text-align: right;\n",
       "    }\n",
       "</style>\n",
       "<table border=\"1\" class=\"dataframe\">\n",
       "  <thead>\n",
       "    <tr style=\"text-align: right;\">\n",
       "      <th></th>\n",
       "      <th>Freq</th>\n",
       "      <th>dBS11</th>\n",
       "      <th>dBS21</th>\n",
       "      <th>dBS22</th>\n",
       "    </tr>\n",
       "  </thead>\n",
       "  <tbody>\n",
       "    <tr>\n",
       "      <th>49</th>\n",
       "      <td>5.0</td>\n",
       "      <td>-10.42336</td>\n",
       "      <td>23.61511</td>\n",
       "      <td>-11.95370</td>\n",
       "    </tr>\n",
       "    <tr>\n",
       "      <th>449</th>\n",
       "      <td>5.0</td>\n",
       "      <td>-10.40914</td>\n",
       "      <td>23.64648</td>\n",
       "      <td>-12.07714</td>\n",
       "    </tr>\n",
       "    <tr>\n",
       "      <th>849</th>\n",
       "      <td>5.0</td>\n",
       "      <td>-10.18221</td>\n",
       "      <td>23.56678</td>\n",
       "      <td>-11.93713</td>\n",
       "    </tr>\n",
       "    <tr>\n",
       "      <th>1249</th>\n",
       "      <td>5.0</td>\n",
       "      <td>-10.78723</td>\n",
       "      <td>23.70150</td>\n",
       "      <td>-12.13950</td>\n",
       "    </tr>\n",
       "    <tr>\n",
       "      <th>1649</th>\n",
       "      <td>5.0</td>\n",
       "      <td>-10.49322</td>\n",
       "      <td>23.59074</td>\n",
       "      <td>-11.91809</td>\n",
       "    </tr>\n",
       "  </tbody>\n",
       "</table>\n",
       "</div>"
      ],
      "text/plain": [
       "      Freq     dBS11     dBS21     dBS22\n",
       "49     5.0 -10.42336  23.61511 -11.95370\n",
       "449    5.0 -10.40914  23.64648 -12.07714\n",
       "849    5.0 -10.18221  23.56678 -11.93713\n",
       "1249   5.0 -10.78723  23.70150 -12.13950\n",
       "1649   5.0 -10.49322  23.59074 -11.91809"
      ]
     },
     "execution_count": 31,
     "metadata": {},
     "output_type": "execute_result"
    }
   ],
   "source": [
    "# Extract only the data for Freq = 5\n",
    "df1 = df.loc[df['Freq'] == 5]\n",
    "df1.head()"
   ]
  },
  {
   "cell_type": "markdown",
   "metadata": {},
   "source": [
    "## dBS11 Distribution (5GHz)"
   ]
  },
  {
   "cell_type": "code",
   "execution_count": 32,
   "metadata": {},
   "outputs": [
    {
     "data": {
      "image/png": "[encoded data removed]",
      "text/plain": [
       "<Figure size 432x288 with 1 Axes>"
      ]
     },
     "metadata": {},
     "output_type": "display_data"
    }
   ],
   "source": [
    "# Plot dBS11 distribution at 5GHz\n",
    "df1.dBS11.hist(bins=20)\n",
    "plt.title('dBS11 Distribution @5GHz')\n",
    "plt.xlabel('dBS11 @5GHz')\n",
    "plt.ylabel('Count')\n",
    "plt.show()"
   ]
  },
  {
   "cell_type": "markdown",
   "metadata": {},
   "source": [
    "## dBS21 Distribution (5GHz)"
   ]
  },
  {
   "cell_type": "code",
   "execution_count": 33,
   "metadata": {},
   "outputs": [
    {
     "data": {
      "image/png": "[encoded data removed]",
      "text/plain": [
       "<Figure size 432x288 with 1 Axes>"
      ]
     },
     "metadata": {},
     "output_type": "display_data"
    }
   ],
   "source": [
    "# Plot dBS21 distribution at 5GHz\n",
    "df1.dBS21.hist(bins=20)\n",
    "plt.title('dBS21 Distribution @5GHz')\n",
    "plt.xlabel('dBS21 @5GHz')\n",
    "plt.ylabel('Count')\n",
    "plt.show()"
   ]
  },
  {
   "cell_type": "markdown",
   "metadata": {},
   "source": [
    "## dBS22 Distribution (5GHz)"
   ]
  },
  {
   "cell_type": "code",
   "execution_count": 34,
   "metadata": {},
   "outputs": [
    {
     "data": {
      "image/png": "[encoded data removed]",
      "text/plain": [
       "<Figure size 432x288 with 1 Axes>"
      ]
     },
     "metadata": {},
     "output_type": "display_data"
    }
   ],
   "source": [
    "# Plot dBS22 distribution at 5GHz\n",
    "df1.dBS22.hist(bins=20)\n",
    "plt.title('dBS22 Distribution @5GHz')\n",
    "plt.xlabel('dBS22 @5GHz')\n",
    "plt.ylabel('Count')\n",
    "plt.show()"
   ]
  },
  {
   "cell_type": "markdown",
   "metadata": {},
   "source": [
    "## Key Statistics (Freq=5GHz)"
   ]
  },
  {
   "cell_type": "code",
   "execution_count": 35,
   "metadata": {
    "scrolled": true
   },
   "outputs": [
    {
     "data": {
      "text/html": [
       "<div>\n",
       "<style scoped>\n",
       "    .dataframe tbody tr th:only-of-type {\n",
       "        vertical-align: middle;\n",
       "    }\n",
       "\n",
       "    .dataframe tbody tr th {\n",
       "        vertical-align: top;\n",
       "    }\n",
       "\n",
       "    .dataframe thead th {\n",
       "        text-align: right;\n",
       "    }\n",
       "</style>\n",
       "<table border=\"1\" class=\"dataframe\">\n",
       "  <thead>\n",
       "    <tr style=\"text-align: right;\">\n",
       "      <th></th>\n",
       "      <th>Freq</th>\n",
       "      <th>dBS11</th>\n",
       "      <th>dBS21</th>\n",
       "      <th>dBS22</th>\n",
       "    </tr>\n",
       "  </thead>\n",
       "  <tbody>\n",
       "    <tr>\n",
       "      <th>count</th>\n",
       "      <td>235.0</td>\n",
       "      <td>235.000000</td>\n",
       "      <td>235.000000</td>\n",
       "      <td>235.000000</td>\n",
       "    </tr>\n",
       "    <tr>\n",
       "      <th>mean</th>\n",
       "      <td>5.0</td>\n",
       "      <td>-10.551063</td>\n",
       "      <td>23.669021</td>\n",
       "      <td>-12.054247</td>\n",
       "    </tr>\n",
       "    <tr>\n",
       "      <th>std</th>\n",
       "      <td>0.0</td>\n",
       "      <td>0.629894</td>\n",
       "      <td>0.277857</td>\n",
       "      <td>0.123789</td>\n",
       "    </tr>\n",
       "    <tr>\n",
       "      <th>min</th>\n",
       "      <td>5.0</td>\n",
       "      <td>-11.601430</td>\n",
       "      <td>20.659760</td>\n",
       "      <td>-12.329980</td>\n",
       "    </tr>\n",
       "    <tr>\n",
       "      <th>25%</th>\n",
       "      <td>5.0</td>\n",
       "      <td>-10.904755</td>\n",
       "      <td>23.561080</td>\n",
       "      <td>-12.147175</td>\n",
       "    </tr>\n",
       "    <tr>\n",
       "      <th>50%</th>\n",
       "      <td>5.0</td>\n",
       "      <td>-10.595160</td>\n",
       "      <td>23.680400</td>\n",
       "      <td>-12.057860</td>\n",
       "    </tr>\n",
       "    <tr>\n",
       "      <th>75%</th>\n",
       "      <td>5.0</td>\n",
       "      <td>-10.372880</td>\n",
       "      <td>23.812605</td>\n",
       "      <td>-11.973135</td>\n",
       "    </tr>\n",
       "    <tr>\n",
       "      <th>max</th>\n",
       "      <td>5.0</td>\n",
       "      <td>-4.644823</td>\n",
       "      <td>24.090790</td>\n",
       "      <td>-11.702950</td>\n",
       "    </tr>\n",
       "  </tbody>\n",
       "</table>\n",
       "</div>"
      ],
      "text/plain": [
       "        Freq       dBS11       dBS21       dBS22\n",
       "count  235.0  235.000000  235.000000  235.000000\n",
       "mean     5.0  -10.551063   23.669021  -12.054247\n",
       "std      0.0    0.629894    0.277857    0.123789\n",
       "min      5.0  -11.601430   20.659760  -12.329980\n",
       "25%      5.0  -10.904755   23.561080  -12.147175\n",
       "50%      5.0  -10.595160   23.680400  -12.057860\n",
       "75%      5.0  -10.372880   23.812605  -11.973135\n",
       "max      5.0   -4.644823   24.090790  -11.702950"
      ]
     },
     "execution_count": 35,
     "metadata": {},
     "output_type": "execute_result"
    }
   ],
   "source": [
    "df1.describe()"
   ]
  },
  {
   "cell_type": "markdown",
   "metadata": {},
   "source": [
    "## Extract 7GHz Data"
   ]
  },
  {
   "cell_type": "code",
   "execution_count": 36,
   "metadata": {
    "scrolled": true
   },
   "outputs": [
    {
     "data": {
      "text/html": [
       "<div>\n",
       "<style scoped>\n",
       "    .dataframe tbody tr th:only-of-type {\n",
       "        vertical-align: middle;\n",
       "    }\n",
       "\n",
       "    .dataframe tbody tr th {\n",
       "        vertical-align: top;\n",
       "    }\n",
       "\n",
       "    .dataframe thead th {\n",
       "        text-align: right;\n",
       "    }\n",
       "</style>\n",
       "<table border=\"1\" class=\"dataframe\">\n",
       "  <thead>\n",
       "    <tr style=\"text-align: right;\">\n",
       "      <th></th>\n",
       "      <th>Freq</th>\n",
       "      <th>dBS11</th>\n",
       "      <th>dBS21</th>\n",
       "      <th>dBS22</th>\n",
       "    </tr>\n",
       "  </thead>\n",
       "  <tbody>\n",
       "    <tr>\n",
       "      <th>69</th>\n",
       "      <td>7.0</td>\n",
       "      <td>-16.60513</td>\n",
       "      <td>22.61904</td>\n",
       "      <td>-13.15295</td>\n",
       "    </tr>\n",
       "    <tr>\n",
       "      <th>469</th>\n",
       "      <td>7.0</td>\n",
       "      <td>-16.45434</td>\n",
       "      <td>22.66301</td>\n",
       "      <td>-13.46626</td>\n",
       "    </tr>\n",
       "    <tr>\n",
       "      <th>869</th>\n",
       "      <td>7.0</td>\n",
       "      <td>-17.16176</td>\n",
       "      <td>22.70254</td>\n",
       "      <td>-13.10398</td>\n",
       "    </tr>\n",
       "    <tr>\n",
       "      <th>1269</th>\n",
       "      <td>7.0</td>\n",
       "      <td>-16.35508</td>\n",
       "      <td>22.68294</td>\n",
       "      <td>-13.74697</td>\n",
       "    </tr>\n",
       "    <tr>\n",
       "      <th>1669</th>\n",
       "      <td>7.0</td>\n",
       "      <td>-16.81986</td>\n",
       "      <td>22.69728</td>\n",
       "      <td>-13.09944</td>\n",
       "    </tr>\n",
       "  </tbody>\n",
       "</table>\n",
       "</div>"
      ],
      "text/plain": [
       "      Freq     dBS11     dBS21     dBS22\n",
       "69     7.0 -16.60513  22.61904 -13.15295\n",
       "469    7.0 -16.45434  22.66301 -13.46626\n",
       "869    7.0 -17.16176  22.70254 -13.10398\n",
       "1269   7.0 -16.35508  22.68294 -13.74697\n",
       "1669   7.0 -16.81986  22.69728 -13.09944"
      ]
     },
     "execution_count": 36,
     "metadata": {},
     "output_type": "execute_result"
    }
   ],
   "source": [
    "# Extract only the data for Freq = 7\n",
    "df2 = df.loc[df['Freq'] == 7]\n",
    "df2.head()"
   ]
  },
  {
   "cell_type": "markdown",
   "metadata": {},
   "source": [
    "## dBS11 Distribution (7GHz)"
   ]
  },
  {
   "cell_type": "code",
   "execution_count": 37,
   "metadata": {},
   "outputs": [
    {
     "data": {
      "image/png": "[encoded data removed]",
      "text/plain": [
       "<Figure size 432x288 with 1 Axes>"
      ]
     },
     "metadata": {},
     "output_type": "display_data"
    }
   ],
   "source": [
    "# Plot dBS11 distribution at 7GHz\n",
    "df2.dBS11.hist(bins=20)\n",
    "plt.title('dBS11 Distribution @7GHz')\n",
    "plt.xlabel('dBS11 @7GHz')\n",
    "plt.ylabel('Count')\n",
    "plt.show()"
   ]
  },
  {
   "cell_type": "markdown",
   "metadata": {},
   "source": [
    "## dBS21 Distribution (7GHz)"
   ]
  },
  {
   "cell_type": "code",
   "execution_count": 38,
   "metadata": {},
   "outputs": [
    {
     "data": {
      "image/png": "[encoded data removed]",
      "text/plain": [
       "<Figure size 432x288 with 1 Axes>"
      ]
     },
     "metadata": {},
     "output_type": "display_data"
    }
   ],
   "source": [
    "# Plot dBS21 distribution at 7GHz\n",
    "df2.dBS21.hist(bins=20)\n",
    "plt.title('dBS21 Distribution @7GHz')\n",
    "plt.xlabel('dBS21 @7GHz')\n",
    "plt.ylabel('Count')\n",
    "plt.show()"
   ]
  },
  {
   "cell_type": "markdown",
   "metadata": {},
   "source": [
    "## dBS22 Distribution (7GHz)"
   ]
  },
  {
   "cell_type": "code",
   "execution_count": 39,
   "metadata": {},
   "outputs": [
    {
     "data": {
      "image/png": "[encoded data removed]",
      "text/plain": [
       "<Figure size 432x288 with 1 Axes>"
      ]
     },
     "metadata": {},
     "output_type": "display_data"
    }
   ],
   "source": [
    "# Plot dBS22 distribution at 7GHz\n",
    "df2.dBS22.hist(bins=20)\n",
    "plt.title('dBS22 Distribution @7GHz')\n",
    "plt.xlabel('dBS22 @7GHz')\n",
    "plt.ylabel('Count')\n",
    "plt.show()"
   ]
  },
  {
   "cell_type": "markdown",
   "metadata": {},
   "source": [
    "## Key Statistics (Freq=7GHz)"
   ]
  },
  {
   "cell_type": "code",
   "execution_count": 40,
   "metadata": {
    "scrolled": false
   },
   "outputs": [
    {
     "data": {
      "text/html": [
       "<div>\n",
       "<style scoped>\n",
       "    .dataframe tbody tr th:only-of-type {\n",
       "        vertical-align: middle;\n",
       "    }\n",
       "\n",
       "    .dataframe tbody tr th {\n",
       "        vertical-align: top;\n",
       "    }\n",
       "\n",
       "    .dataframe thead th {\n",
       "        text-align: right;\n",
       "    }\n",
       "</style>\n",
       "<table border=\"1\" class=\"dataframe\">\n",
       "  <thead>\n",
       "    <tr style=\"text-align: right;\">\n",
       "      <th></th>\n",
       "      <th>Freq</th>\n",
       "      <th>dBS11</th>\n",
       "      <th>dBS21</th>\n",
       "      <th>dBS22</th>\n",
       "    </tr>\n",
       "  </thead>\n",
       "  <tbody>\n",
       "    <tr>\n",
       "      <th>count</th>\n",
       "      <td>235.0</td>\n",
       "      <td>235.000000</td>\n",
       "      <td>235.000000</td>\n",
       "      <td>235.000000</td>\n",
       "    </tr>\n",
       "    <tr>\n",
       "      <th>mean</th>\n",
       "      <td>7.0</td>\n",
       "      <td>-17.309036</td>\n",
       "      <td>22.761961</td>\n",
       "      <td>-13.644450</td>\n",
       "    </tr>\n",
       "    <tr>\n",
       "      <th>std</th>\n",
       "      <td>0.0</td>\n",
       "      <td>0.622652</td>\n",
       "      <td>0.178806</td>\n",
       "      <td>0.471827</td>\n",
       "    </tr>\n",
       "    <tr>\n",
       "      <th>min</th>\n",
       "      <td>7.0</td>\n",
       "      <td>-19.906880</td>\n",
       "      <td>21.828900</td>\n",
       "      <td>-15.133200</td>\n",
       "    </tr>\n",
       "    <tr>\n",
       "      <th>25%</th>\n",
       "      <td>7.0</td>\n",
       "      <td>-17.653740</td>\n",
       "      <td>22.656650</td>\n",
       "      <td>-13.949530</td>\n",
       "    </tr>\n",
       "    <tr>\n",
       "      <th>50%</th>\n",
       "      <td>7.0</td>\n",
       "      <td>-17.303050</td>\n",
       "      <td>22.771070</td>\n",
       "      <td>-13.648070</td>\n",
       "    </tr>\n",
       "    <tr>\n",
       "      <th>75%</th>\n",
       "      <td>7.0</td>\n",
       "      <td>-16.892930</td>\n",
       "      <td>22.891935</td>\n",
       "      <td>-13.379725</td>\n",
       "    </tr>\n",
       "    <tr>\n",
       "      <th>max</th>\n",
       "      <td>7.0</td>\n",
       "      <td>-15.784470</td>\n",
       "      <td>23.117140</td>\n",
       "      <td>-12.296640</td>\n",
       "    </tr>\n",
       "  </tbody>\n",
       "</table>\n",
       "</div>"
      ],
      "text/plain": [
       "        Freq       dBS11       dBS21       dBS22\n",
       "count  235.0  235.000000  235.000000  235.000000\n",
       "mean     7.0  -17.309036   22.761961  -13.644450\n",
       "std      0.0    0.622652    0.178806    0.471827\n",
       "min      7.0  -19.906880   21.828900  -15.133200\n",
       "25%      7.0  -17.653740   22.656650  -13.949530\n",
       "50%      7.0  -17.303050   22.771070  -13.648070\n",
       "75%      7.0  -16.892930   22.891935  -13.379725\n",
       "max      7.0  -15.784470   23.117140  -12.296640"
      ]
     },
     "execution_count": 40,
     "metadata": {},
     "output_type": "execute_result"
    }
   ],
   "source": [
    "df2.describe()"
   ]
  },
  {
   "cell_type": "markdown",
   "metadata": {},
   "source": [
    "## Extract 11GHz Data"
   ]
  },
  {
   "cell_type": "code",
   "execution_count": 41,
   "metadata": {
    "scrolled": true
   },
   "outputs": [
    {
     "data": {
      "text/html": [
       "<div>\n",
       "<style scoped>\n",
       "    .dataframe tbody tr th:only-of-type {\n",
       "        vertical-align: middle;\n",
       "    }\n",
       "\n",
       "    .dataframe tbody tr th {\n",
       "        vertical-align: top;\n",
       "    }\n",
       "\n",
       "    .dataframe thead th {\n",
       "        text-align: right;\n",
       "    }\n",
       "</style>\n",
       "<table border=\"1\" class=\"dataframe\">\n",
       "  <thead>\n",
       "    <tr style=\"text-align: right;\">\n",
       "      <th></th>\n",
       "      <th>Freq</th>\n",
       "      <th>dBS11</th>\n",
       "      <th>dBS21</th>\n",
       "      <th>dBS22</th>\n",
       "    </tr>\n",
       "  </thead>\n",
       "  <tbody>\n",
       "    <tr>\n",
       "      <th>109</th>\n",
       "      <td>11.0</td>\n",
       "      <td>-12.33532</td>\n",
       "      <td>22.11853</td>\n",
       "      <td>-16.49619</td>\n",
       "    </tr>\n",
       "    <tr>\n",
       "      <th>509</th>\n",
       "      <td>11.0</td>\n",
       "      <td>-12.26973</td>\n",
       "      <td>22.16444</td>\n",
       "      <td>-17.07395</td>\n",
       "    </tr>\n",
       "    <tr>\n",
       "      <th>909</th>\n",
       "      <td>11.0</td>\n",
       "      <td>-12.22223</td>\n",
       "      <td>22.26095</td>\n",
       "      <td>-16.53758</td>\n",
       "    </tr>\n",
       "    <tr>\n",
       "      <th>1309</th>\n",
       "      <td>11.0</td>\n",
       "      <td>-12.50065</td>\n",
       "      <td>22.19628</td>\n",
       "      <td>-17.62481</td>\n",
       "    </tr>\n",
       "    <tr>\n",
       "      <th>1709</th>\n",
       "      <td>11.0</td>\n",
       "      <td>-12.31606</td>\n",
       "      <td>22.28214</td>\n",
       "      <td>-16.54425</td>\n",
       "    </tr>\n",
       "  </tbody>\n",
       "</table>\n",
       "</div>"
      ],
      "text/plain": [
       "      Freq     dBS11     dBS21     dBS22\n",
       "109   11.0 -12.33532  22.11853 -16.49619\n",
       "509   11.0 -12.26973  22.16444 -17.07395\n",
       "909   11.0 -12.22223  22.26095 -16.53758\n",
       "1309  11.0 -12.50065  22.19628 -17.62481\n",
       "1709  11.0 -12.31606  22.28214 -16.54425"
      ]
     },
     "execution_count": 41,
     "metadata": {},
     "output_type": "execute_result"
    }
   ],
   "source": [
    "# Extract only the data for Freq = 11\n",
    "df3 = df.loc[df['Freq'] == 11]\n",
    "df3.head()"
   ]
  },
  {
   "cell_type": "markdown",
   "metadata": {},
   "source": [
    "## dBS11 Distribution (11GHz)"
   ]
  },
  {
   "cell_type": "code",
   "execution_count": 42,
   "metadata": {},
   "outputs": [
    {
     "data": {
      "image/png": "[encoded data removed]",
      "text/plain": [
       "<Figure size 432x288 with 1 Axes>"
      ]
     },
     "metadata": {},
     "output_type": "display_data"
    }
   ],
   "source": [
    "# Plot dBS11 distribution at 11GHz\n",
    "df3.dBS11.hist(bins=20)\n",
    "plt.title('dBS11 Distribution @11GHz')\n",
    "plt.xlabel('dBS11 @11GHz')\n",
    "plt.ylabel('Count')\n",
    "plt.show()"
   ]
  },
  {
   "cell_type": "markdown",
   "metadata": {},
   "source": [
    "## dBS21 Distribution (11GHz)"
   ]
  },
  {
   "cell_type": "code",
   "execution_count": 43,
   "metadata": {},
   "outputs": [
    {
     "data": {
      "image/png": "[encoded data removed]",
      "text/plain": [
       "<Figure size 432x288 with 1 Axes>"
      ]
     },
     "metadata": {},
     "output_type": "display_data"
    }
   ],
   "source": [
    "# Plot dBS21 distribution at 11GHz\n",
    "df3.dBS21.hist(bins=20)\n",
    "plt.title('dBS21 Distribution @11GHz')\n",
    "plt.xlabel('dBS21 @11GHz')\n",
    "plt.ylabel('Count')\n",
    "plt.show()"
   ]
  },
  {
   "cell_type": "markdown",
   "metadata": {},
   "source": [
    "## dBS22 Distribution (11GHz)"
   ]
  },
  {
   "cell_type": "code",
   "execution_count": 44,
   "metadata": {},
   "outputs": [
    {
     "data": {
      "image/png": "[encoded data removed]",
      "text/plain": [
       "<Figure size 432x288 with 1 Axes>"
      ]
     },
     "metadata": {},
     "output_type": "display_data"
    }
   ],
   "source": [
    "# Plot dBS22 distribution at 11GHz\n",
    "df3.dBS22.hist(bins=20)\n",
    "plt.title('dBS22 Distribution @11GHz')\n",
    "plt.xlabel('dBS22 @11GHz')\n",
    "plt.ylabel('Count')\n",
    "plt.show()"
   ]
  },
  {
   "cell_type": "markdown",
   "metadata": {},
   "source": [
    "## Key Statistics (Freq=11GHz)"
   ]
  },
  {
   "cell_type": "code",
   "execution_count": 45,
   "metadata": {
    "scrolled": true
   },
   "outputs": [
    {
     "data": {
      "text/html": [
       "<div>\n",
       "<style scoped>\n",
       "    .dataframe tbody tr th:only-of-type {\n",
       "        vertical-align: middle;\n",
       "    }\n",
       "\n",
       "    .dataframe tbody tr th {\n",
       "        vertical-align: top;\n",
       "    }\n",
       "\n",
       "    .dataframe thead th {\n",
       "        text-align: right;\n",
       "    }\n",
       "</style>\n",
       "<table border=\"1\" class=\"dataframe\">\n",
       "  <thead>\n",
       "    <tr style=\"text-align: right;\">\n",
       "      <th></th>\n",
       "      <th>Freq</th>\n",
       "      <th>dBS11</th>\n",
       "      <th>dBS21</th>\n",
       "      <th>dBS22</th>\n",
       "    </tr>\n",
       "  </thead>\n",
       "  <tbody>\n",
       "    <tr>\n",
       "      <th>count</th>\n",
       "      <td>235.0</td>\n",
       "      <td>235.000000</td>\n",
       "      <td>235.000000</td>\n",
       "      <td>235.000000</td>\n",
       "    </tr>\n",
       "    <tr>\n",
       "      <th>mean</th>\n",
       "      <td>11.0</td>\n",
       "      <td>-12.532657</td>\n",
       "      <td>22.291133</td>\n",
       "      <td>-17.561227</td>\n",
       "    </tr>\n",
       "    <tr>\n",
       "      <th>std</th>\n",
       "      <td>0.0</td>\n",
       "      <td>0.244757</td>\n",
       "      <td>0.170289</td>\n",
       "      <td>0.886189</td>\n",
       "    </tr>\n",
       "    <tr>\n",
       "      <th>min</th>\n",
       "      <td>11.0</td>\n",
       "      <td>-13.881930</td>\n",
       "      <td>21.629940</td>\n",
       "      <td>-20.829990</td>\n",
       "    </tr>\n",
       "    <tr>\n",
       "      <th>25%</th>\n",
       "      <td>11.0</td>\n",
       "      <td>-12.660305</td>\n",
       "      <td>22.190090</td>\n",
       "      <td>-18.128210</td>\n",
       "    </tr>\n",
       "    <tr>\n",
       "      <th>50%</th>\n",
       "      <td>11.0</td>\n",
       "      <td>-12.552040</td>\n",
       "      <td>22.297950</td>\n",
       "      <td>-17.544260</td>\n",
       "    </tr>\n",
       "    <tr>\n",
       "      <th>75%</th>\n",
       "      <td>11.0</td>\n",
       "      <td>-12.412675</td>\n",
       "      <td>22.414160</td>\n",
       "      <td>-17.048630</td>\n",
       "    </tr>\n",
       "    <tr>\n",
       "      <th>max</th>\n",
       "      <td>11.0</td>\n",
       "      <td>-11.774760</td>\n",
       "      <td>22.655760</td>\n",
       "      <td>-15.258520</td>\n",
       "    </tr>\n",
       "  </tbody>\n",
       "</table>\n",
       "</div>"
      ],
      "text/plain": [
       "        Freq       dBS11       dBS21       dBS22\n",
       "count  235.0  235.000000  235.000000  235.000000\n",
       "mean    11.0  -12.532657   22.291133  -17.561227\n",
       "std      0.0    0.244757    0.170289    0.886189\n",
       "min     11.0  -13.881930   21.629940  -20.829990\n",
       "25%     11.0  -12.660305   22.190090  -18.128210\n",
       "50%     11.0  -12.552040   22.297950  -17.544260\n",
       "75%     11.0  -12.412675   22.414160  -17.048630\n",
       "max     11.0  -11.774760   22.655760  -15.258520"
      ]
     },
     "execution_count": 45,
     "metadata": {},
     "output_type": "execute_result"
    }
   ],
   "source": [
    "df3.describe()"
   ]
  },
  {
   "cell_type": "markdown",
   "metadata": {},
   "source": [
    "## Extract 18GHz Data"
   ]
  },
  {
   "cell_type": "code",
   "execution_count": 46,
   "metadata": {
    "scrolled": true
   },
   "outputs": [
    {
     "data": {
      "text/html": [
       "<div>\n",
       "<style scoped>\n",
       "    .dataframe tbody tr th:only-of-type {\n",
       "        vertical-align: middle;\n",
       "    }\n",
       "\n",
       "    .dataframe tbody tr th {\n",
       "        vertical-align: top;\n",
       "    }\n",
       "\n",
       "    .dataframe thead th {\n",
       "        text-align: right;\n",
       "    }\n",
       "</style>\n",
       "<table border=\"1\" class=\"dataframe\">\n",
       "  <thead>\n",
       "    <tr style=\"text-align: right;\">\n",
       "      <th></th>\n",
       "      <th>Freq</th>\n",
       "      <th>dBS11</th>\n",
       "      <th>dBS21</th>\n",
       "      <th>dBS22</th>\n",
       "    </tr>\n",
       "  </thead>\n",
       "  <tbody>\n",
       "    <tr>\n",
       "      <th>179</th>\n",
       "      <td>18.0</td>\n",
       "      <td>-32.53231</td>\n",
       "      <td>20.43977</td>\n",
       "      <td>-15.92729</td>\n",
       "    </tr>\n",
       "    <tr>\n",
       "      <th>579</th>\n",
       "      <td>18.0</td>\n",
       "      <td>-32.15328</td>\n",
       "      <td>20.41885</td>\n",
       "      <td>-16.01540</td>\n",
       "    </tr>\n",
       "    <tr>\n",
       "      <th>979</th>\n",
       "      <td>18.0</td>\n",
       "      <td>-29.55933</td>\n",
       "      <td>20.46294</td>\n",
       "      <td>-16.28956</td>\n",
       "    </tr>\n",
       "    <tr>\n",
       "      <th>1379</th>\n",
       "      <td>18.0</td>\n",
       "      <td>-33.73080</td>\n",
       "      <td>20.32515</td>\n",
       "      <td>-16.01700</td>\n",
       "    </tr>\n",
       "    <tr>\n",
       "      <th>1779</th>\n",
       "      <td>18.0</td>\n",
       "      <td>-29.81385</td>\n",
       "      <td>20.41036</td>\n",
       "      <td>-16.23384</td>\n",
       "    </tr>\n",
       "  </tbody>\n",
       "</table>\n",
       "</div>"
      ],
      "text/plain": [
       "      Freq     dBS11     dBS21     dBS22\n",
       "179   18.0 -32.53231  20.43977 -15.92729\n",
       "579   18.0 -32.15328  20.41885 -16.01540\n",
       "979   18.0 -29.55933  20.46294 -16.28956\n",
       "1379  18.0 -33.73080  20.32515 -16.01700\n",
       "1779  18.0 -29.81385  20.41036 -16.23384"
      ]
     },
     "execution_count": 46,
     "metadata": {},
     "output_type": "execute_result"
    }
   ],
   "source": [
    "# Extract only the data for Freq = 18\n",
    "df4 = df.loc[df['Freq'] == 18]\n",
    "df4.head()"
   ]
  },
  {
   "cell_type": "markdown",
   "metadata": {},
   "source": [
    "## dBS11 Distribution (18GHz)"
   ]
  },
  {
   "cell_type": "code",
   "execution_count": 47,
   "metadata": {},
   "outputs": [
    {
     "data": {
      "image/png": "[encoded data removed]",
      "text/plain": [
       "<Figure size 432x288 with 1 Axes>"
      ]
     },
     "metadata": {},
     "output_type": "display_data"
    }
   ],
   "source": [
    "# Plot dBS11 distribution at 18GHz\n",
    "df4.dBS11.hist(bins=20)\n",
    "plt.title('dBS11 Distribution @18GHz')\n",
    "plt.xlabel('dBS11 @18GHz')\n",
    "plt.ylabel('Count')\n",
    "plt.show()"
   ]
  },
  {
   "cell_type": "markdown",
   "metadata": {},
   "source": [
    "## dBS21 Distribution (18GHz)"
   ]
  },
  {
   "cell_type": "code",
   "execution_count": 48,
   "metadata": {},
   "outputs": [
    {
     "data": {
      "image/png": "[encoded data removed]",
      "text/plain": [
       "<Figure size 432x288 with 1 Axes>"
      ]
     },
     "metadata": {},
     "output_type": "display_data"
    }
   ],
   "source": [
    "# Plot dBS21 distribution at 18GHz\n",
    "df4.dBS21.hist(bins=20)\n",
    "plt.title('dBS21 Distribution @18GHz')\n",
    "plt.xlabel('dBS21 @6GHz')\n",
    "plt.ylabel('Count')\n",
    "plt.show()"
   ]
  },
  {
   "cell_type": "markdown",
   "metadata": {},
   "source": [
    "## dBS22 Distribution (18GHz)"
   ]
  },
  {
   "cell_type": "code",
   "execution_count": 49,
   "metadata": {},
   "outputs": [
    {
     "data": {
      "image/png": "[encoded data removed]",
      "text/plain": [
       "<Figure size 432x288 with 1 Axes>"
      ]
     },
     "metadata": {},
     "output_type": "display_data"
    }
   ],
   "source": [
    "# Plot dBS22 distribution at 18GHz\n",
    "df4.dBS22.hist(bins=20)\n",
    "plt.title('dBS22 Distribution @18GHz')\n",
    "plt.xlabel('dBS22 @6GHz')\n",
    "plt.ylabel('Count')\n",
    "plt.show()"
   ]
  },
  {
   "cell_type": "markdown",
   "metadata": {},
   "source": [
    "## Key Statistics (Freq=18GHz)"
   ]
  },
  {
   "cell_type": "code",
   "execution_count": 50,
   "metadata": {
    "scrolled": true
   },
   "outputs": [
    {
     "data": {
      "text/html": [
       "<div>\n",
       "<style scoped>\n",
       "    .dataframe tbody tr th:only-of-type {\n",
       "        vertical-align: middle;\n",
       "    }\n",
       "\n",
       "    .dataframe tbody tr th {\n",
       "        vertical-align: top;\n",
       "    }\n",
       "\n",
       "    .dataframe thead th {\n",
       "        text-align: right;\n",
       "    }\n",
       "</style>\n",
       "<table border=\"1\" class=\"dataframe\">\n",
       "  <thead>\n",
       "    <tr style=\"text-align: right;\">\n",
       "      <th></th>\n",
       "      <th>Freq</th>\n",
       "      <th>dBS11</th>\n",
       "      <th>dBS21</th>\n",
       "      <th>dBS22</th>\n",
       "    </tr>\n",
       "  </thead>\n",
       "  <tbody>\n",
       "    <tr>\n",
       "      <th>count</th>\n",
       "      <td>235.0</td>\n",
       "      <td>235.000000</td>\n",
       "      <td>235.000000</td>\n",
       "      <td>235.000000</td>\n",
       "    </tr>\n",
       "    <tr>\n",
       "      <th>mean</th>\n",
       "      <td>18.0</td>\n",
       "      <td>-30.599641</td>\n",
       "      <td>20.412133</td>\n",
       "      <td>-16.137362</td>\n",
       "    </tr>\n",
       "    <tr>\n",
       "      <th>std</th>\n",
       "      <td>0.0</td>\n",
       "      <td>2.402802</td>\n",
       "      <td>0.118059</td>\n",
       "      <td>0.244860</td>\n",
       "    </tr>\n",
       "    <tr>\n",
       "      <th>min</th>\n",
       "      <td>18.0</td>\n",
       "      <td>-38.203290</td>\n",
       "      <td>20.189260</td>\n",
       "      <td>-16.695290</td>\n",
       "    </tr>\n",
       "    <tr>\n",
       "      <th>25%</th>\n",
       "      <td>18.0</td>\n",
       "      <td>-31.991915</td>\n",
       "      <td>20.330560</td>\n",
       "      <td>-16.299205</td>\n",
       "    </tr>\n",
       "    <tr>\n",
       "      <th>50%</th>\n",
       "      <td>18.0</td>\n",
       "      <td>-30.235330</td>\n",
       "      <td>20.407730</td>\n",
       "      <td>-16.158040</td>\n",
       "    </tr>\n",
       "    <tr>\n",
       "      <th>75%</th>\n",
       "      <td>18.0</td>\n",
       "      <td>-28.964435</td>\n",
       "      <td>20.465155</td>\n",
       "      <td>-16.006095</td>\n",
       "    </tr>\n",
       "    <tr>\n",
       "      <th>max</th>\n",
       "      <td>18.0</td>\n",
       "      <td>-20.403410</td>\n",
       "      <td>20.973560</td>\n",
       "      <td>-15.344100</td>\n",
       "    </tr>\n",
       "  </tbody>\n",
       "</table>\n",
       "</div>"
      ],
      "text/plain": [
       "        Freq       dBS11       dBS21       dBS22\n",
       "count  235.0  235.000000  235.000000  235.000000\n",
       "mean    18.0  -30.599641   20.412133  -16.137362\n",
       "std      0.0    2.402802    0.118059    0.244860\n",
       "min     18.0  -38.203290   20.189260  -16.695290\n",
       "25%     18.0  -31.991915   20.330560  -16.299205\n",
       "50%     18.0  -30.235330   20.407730  -16.158040\n",
       "75%     18.0  -28.964435   20.465155  -16.006095\n",
       "max     18.0  -20.403410   20.973560  -15.344100"
      ]
     },
     "execution_count": 50,
     "metadata": {},
     "output_type": "execute_result"
    }
   ],
   "source": [
    "df4.describe()"
   ]
  },
  {
   "cell_type": "markdown",
   "metadata": {},
   "source": [
    "## Extract 20GHz Data"
   ]
  },
  {
   "cell_type": "code",
   "execution_count": 51,
   "metadata": {
    "scrolled": false
   },
   "outputs": [
    {
     "data": {
      "text/html": [
       "<div>\n",
       "<style scoped>\n",
       "    .dataframe tbody tr th:only-of-type {\n",
       "        vertical-align: middle;\n",
       "    }\n",
       "\n",
       "    .dataframe tbody tr th {\n",
       "        vertical-align: top;\n",
       "    }\n",
       "\n",
       "    .dataframe thead th {\n",
       "        text-align: right;\n",
       "    }\n",
       "</style>\n",
       "<table border=\"1\" class=\"dataframe\">\n",
       "  <thead>\n",
       "    <tr style=\"text-align: right;\">\n",
       "      <th></th>\n",
       "      <th>Freq</th>\n",
       "      <th>dBS11</th>\n",
       "      <th>dBS21</th>\n",
       "      <th>dBS22</th>\n",
       "    </tr>\n",
       "  </thead>\n",
       "  <tbody>\n",
       "    <tr>\n",
       "      <th>199</th>\n",
       "      <td>20.0</td>\n",
       "      <td>-16.92885</td>\n",
       "      <td>18.76583</td>\n",
       "      <td>-13.90444</td>\n",
       "    </tr>\n",
       "    <tr>\n",
       "      <th>599</th>\n",
       "      <td>20.0</td>\n",
       "      <td>-16.80726</td>\n",
       "      <td>18.73182</td>\n",
       "      <td>-13.84491</td>\n",
       "    </tr>\n",
       "    <tr>\n",
       "      <th>999</th>\n",
       "      <td>20.0</td>\n",
       "      <td>-16.57510</td>\n",
       "      <td>18.77656</td>\n",
       "      <td>-14.09999</td>\n",
       "    </tr>\n",
       "    <tr>\n",
       "      <th>1399</th>\n",
       "      <td>20.0</td>\n",
       "      <td>-16.60360</td>\n",
       "      <td>18.64695</td>\n",
       "      <td>-13.88561</td>\n",
       "    </tr>\n",
       "    <tr>\n",
       "      <th>1799</th>\n",
       "      <td>20.0</td>\n",
       "      <td>-16.17047</td>\n",
       "      <td>18.70738</td>\n",
       "      <td>-13.94949</td>\n",
       "    </tr>\n",
       "  </tbody>\n",
       "</table>\n",
       "</div>"
      ],
      "text/plain": [
       "      Freq     dBS11     dBS21     dBS22\n",
       "199   20.0 -16.92885  18.76583 -13.90444\n",
       "599   20.0 -16.80726  18.73182 -13.84491\n",
       "999   20.0 -16.57510  18.77656 -14.09999\n",
       "1399  20.0 -16.60360  18.64695 -13.88561\n",
       "1799  20.0 -16.17047  18.70738 -13.94949"
      ]
     },
     "execution_count": 51,
     "metadata": {},
     "output_type": "execute_result"
    }
   ],
   "source": [
    "# Extract only the data for Freq = 20\n",
    "df5 = df.loc[df['Freq'] == 20]\n",
    "df5.head()"
   ]
  },
  {
   "cell_type": "markdown",
   "metadata": {},
   "source": [
    "## dBS11 Distribution (20GHz)"
   ]
  },
  {
   "cell_type": "code",
   "execution_count": 52,
   "metadata": {},
   "outputs": [
    {
     "data": {
      "image/png": "[encoded data removed]",
      "text/plain": [
       "<Figure size 432x288 with 1 Axes>"
      ]
     },
     "metadata": {},
     "output_type": "display_data"
    }
   ],
   "source": [
    "# Plot dBS11 distribution at 20GHz\n",
    "df5.dBS11.hist(bins=20)\n",
    "plt.title('dBS11 Distribution @20GHz')\n",
    "plt.xlabel('dBS11 @20GHz')\n",
    "plt.ylabel('Count')\n",
    "plt.show()"
   ]
  },
  {
   "cell_type": "markdown",
   "metadata": {},
   "source": [
    "## dBS21 Distribution (20GHz)"
   ]
  },
  {
   "cell_type": "code",
   "execution_count": 53,
   "metadata": {},
   "outputs": [
    {
     "data": {
      "image/png": "[encoded data removed]",
      "text/plain": [
       "<Figure size 432x288 with 1 Axes>"
      ]
     },
     "metadata": {},
     "output_type": "display_data"
    }
   ],
   "source": [
    "# Plot dBS21 distribution at 20GHz\n",
    "df5.dBS21.hist(bins=20)\n",
    "plt.title('dBS21 Distribution @20GHz')\n",
    "plt.xlabel('dBS21 @20GHz')\n",
    "plt.ylabel('Count')\n",
    "plt.show()"
   ]
  },
  {
   "cell_type": "markdown",
   "metadata": {},
   "source": [
    "## dBS22 Distribution (20GHz)"
   ]
  },
  {
   "cell_type": "code",
   "execution_count": 54,
   "metadata": {},
   "outputs": [
    {
     "data": {
      "image/png": "[encoded data removed]",
      "text/plain": [
       "<Figure size 432x288 with 1 Axes>"
      ]
     },
     "metadata": {},
     "output_type": "display_data"
    }
   ],
   "source": [
    "# Plot dBS22 distribution at 20GHz\n",
    "df5.dBS22.hist(bins=20)\n",
    "plt.title('dBS22 Distribution @20GHz')\n",
    "plt.xlabel('dBS22 @20GHz')\n",
    "plt.ylabel('Count')\n",
    "plt.show()"
   ]
  },
  {
   "cell_type": "markdown",
   "metadata": {},
   "source": [
    "## Key Statistics (Freq=20GHz)"
   ]
  },
  {
   "cell_type": "code",
   "execution_count": 55,
   "metadata": {
    "scrolled": true
   },
   "outputs": [
    {
     "data": {
      "text/html": [
       "<div>\n",
       "<style scoped>\n",
       "    .dataframe tbody tr th:only-of-type {\n",
       "        vertical-align: middle;\n",
       "    }\n",
       "\n",
       "    .dataframe tbody tr th {\n",
       "        vertical-align: top;\n",
       "    }\n",
       "\n",
       "    .dataframe thead th {\n",
       "        text-align: right;\n",
       "    }\n",
       "</style>\n",
       "<table border=\"1\" class=\"dataframe\">\n",
       "  <thead>\n",
       "    <tr style=\"text-align: right;\">\n",
       "      <th></th>\n",
       "      <th>Freq</th>\n",
       "      <th>dBS11</th>\n",
       "      <th>dBS21</th>\n",
       "      <th>dBS22</th>\n",
       "    </tr>\n",
       "  </thead>\n",
       "  <tbody>\n",
       "    <tr>\n",
       "      <th>count</th>\n",
       "      <td>235.0</td>\n",
       "      <td>235.000000</td>\n",
       "      <td>235.000000</td>\n",
       "      <td>235.000000</td>\n",
       "    </tr>\n",
       "    <tr>\n",
       "      <th>mean</th>\n",
       "      <td>20.0</td>\n",
       "      <td>-16.906550</td>\n",
       "      <td>18.746694</td>\n",
       "      <td>-13.947362</td>\n",
       "    </tr>\n",
       "    <tr>\n",
       "      <th>std</th>\n",
       "      <td>0.0</td>\n",
       "      <td>0.472049</td>\n",
       "      <td>0.119102</td>\n",
       "      <td>0.179936</td>\n",
       "    </tr>\n",
       "    <tr>\n",
       "      <th>min</th>\n",
       "      <td>20.0</td>\n",
       "      <td>-18.841970</td>\n",
       "      <td>18.515630</td>\n",
       "      <td>-14.244200</td>\n",
       "    </tr>\n",
       "    <tr>\n",
       "      <th>25%</th>\n",
       "      <td>20.0</td>\n",
       "      <td>-17.172030</td>\n",
       "      <td>18.665670</td>\n",
       "      <td>-14.075910</td>\n",
       "    </tr>\n",
       "    <tr>\n",
       "      <th>50%</th>\n",
       "      <td>20.0</td>\n",
       "      <td>-16.889640</td>\n",
       "      <td>18.735730</td>\n",
       "      <td>-13.966830</td>\n",
       "    </tr>\n",
       "    <tr>\n",
       "      <th>75%</th>\n",
       "      <td>20.0</td>\n",
       "      <td>-16.603455</td>\n",
       "      <td>18.798750</td>\n",
       "      <td>-13.843645</td>\n",
       "    </tr>\n",
       "    <tr>\n",
       "      <th>max</th>\n",
       "      <td>20.0</td>\n",
       "      <td>-15.846820</td>\n",
       "      <td>19.333830</td>\n",
       "      <td>-13.231020</td>\n",
       "    </tr>\n",
       "  </tbody>\n",
       "</table>\n",
       "</div>"
      ],
      "text/plain": [
       "        Freq       dBS11       dBS21       dBS22\n",
       "count  235.0  235.000000  235.000000  235.000000\n",
       "mean    20.0  -16.906550   18.746694  -13.947362\n",
       "std      0.0    0.472049    0.119102    0.179936\n",
       "min     20.0  -18.841970   18.515630  -14.244200\n",
       "25%     20.0  -17.172030   18.665670  -14.075910\n",
       "50%     20.0  -16.889640   18.735730  -13.966830\n",
       "75%     20.0  -16.603455   18.798750  -13.843645\n",
       "max     20.0  -15.846820   19.333830  -13.231020"
      ]
     },
     "execution_count": 55,
     "metadata": {},
     "output_type": "execute_result"
    }
   ],
   "source": [
    "df5.describe()"
   ]
  },
  {
   "cell_type": "markdown",
   "metadata": {},
   "source": [
    "# 1805B Data"
   ]
  },
  {
   "cell_type": "code",
   "execution_count": 56,
   "metadata": {},
   "outputs": [
    {
     "name": "stderr",
     "output_type": "stream",
     "text": [
      "/Users/rakeshbhatia/anaconda/lib/python3.6/site-packages/ipykernel_launcher.py:1: ParserWarning: Falling back to the 'python' engine because the 'c' engine does not support regex separators (separators > 1 char and different from '\\s+' are interpreted as regex); you can avoid this warning by specifying engine='python'.\n",
      "  \"\"\"Entry point for launching an IPython kernel.\n"
     ]
    },
    {
     "data": {
      "text/html": [
       "<div>\n",
       "<style scoped>\n",
       "    .dataframe tbody tr th:only-of-type {\n",
       "        vertical-align: middle;\n",
       "    }\n",
       "\n",
       "    .dataframe tbody tr th {\n",
       "        vertical-align: top;\n",
       "    }\n",
       "\n",
       "    .dataframe thead th {\n",
       "        text-align: right;\n",
       "    }\n",
       "</style>\n",
       "<table border=\"1\" class=\"dataframe\">\n",
       "  <thead>\n",
       "    <tr style=\"text-align: right;\">\n",
       "      <th></th>\n",
       "      <th>Freq</th>\n",
       "      <th>dBS11</th>\n",
       "      <th>dBS21</th>\n",
       "      <th>dBS22</th>\n",
       "    </tr>\n",
       "  </thead>\n",
       "  <tbody>\n",
       "    <tr>\n",
       "      <th>0</th>\n",
       "      <td>0.1</td>\n",
       "      <td>-0.010521</td>\n",
       "      <td>-62.68544</td>\n",
       "      <td>0.001049</td>\n",
       "    </tr>\n",
       "    <tr>\n",
       "      <th>1</th>\n",
       "      <td>0.2</td>\n",
       "      <td>-0.021072</td>\n",
       "      <td>-70.72228</td>\n",
       "      <td>-0.084547</td>\n",
       "    </tr>\n",
       "    <tr>\n",
       "      <th>2</th>\n",
       "      <td>0.3</td>\n",
       "      <td>-0.015438</td>\n",
       "      <td>-64.09773</td>\n",
       "      <td>-0.185811</td>\n",
       "    </tr>\n",
       "    <tr>\n",
       "      <th>3</th>\n",
       "      <td>0.4</td>\n",
       "      <td>-0.030365</td>\n",
       "      <td>-57.71990</td>\n",
       "      <td>-0.295006</td>\n",
       "    </tr>\n",
       "    <tr>\n",
       "      <th>4</th>\n",
       "      <td>0.5</td>\n",
       "      <td>-0.064610</td>\n",
       "      <td>-50.78907</td>\n",
       "      <td>-0.420105</td>\n",
       "    </tr>\n",
       "  </tbody>\n",
       "</table>\n",
       "</div>"
      ],
      "text/plain": [
       "   Freq     dBS11     dBS21     dBS22\n",
       "0   0.1 -0.010521 -62.68544  0.001049\n",
       "1   0.2 -0.021072 -70.72228 -0.084547\n",
       "2   0.3 -0.015438 -64.09773 -0.185811\n",
       "3   0.4 -0.030365 -57.71990 -0.295006\n",
       "4   0.5 -0.064610 -50.78907 -0.420105"
      ]
     },
     "execution_count": 56,
     "metadata": {},
     "output_type": "execute_result"
    }
   ],
   "source": [
    "df = pd.read_csv('docs/F123019_1_B18U01_BST1805B_S_full.csv', delimiter='\\;')\n",
    "df = df.drop(['XAdress', 'YAdress', 'PhS11', 'dBS12', 'PhS12', 'PhS21', 'PhS22', 'Unnamed: 11'], axis=1).dropna()\n",
    "df.head()"
   ]
  },
  {
   "cell_type": "code",
   "execution_count": 57,
   "metadata": {},
   "outputs": [
    {
     "name": "stdout",
     "output_type": "stream",
     "text": [
      "Freq     float64\n",
      "dBS11    float64\n",
      "dBS21    float64\n",
      "dBS22    float64\n",
      "dtype: object\n"
     ]
    }
   ],
   "source": [
    "print(df.dtypes)"
   ]
  },
  {
   "cell_type": "markdown",
   "metadata": {},
   "source": [
    "## Extract 5GHz Data"
   ]
  },
  {
   "cell_type": "code",
   "execution_count": 58,
   "metadata": {
    "scrolled": true
   },
   "outputs": [
    {
     "data": {
      "text/html": [
       "<div>\n",
       "<style scoped>\n",
       "    .dataframe tbody tr th:only-of-type {\n",
       "        vertical-align: middle;\n",
       "    }\n",
       "\n",
       "    .dataframe tbody tr th {\n",
       "        vertical-align: top;\n",
       "    }\n",
       "\n",
       "    .dataframe thead th {\n",
       "        text-align: right;\n",
       "    }\n",
       "</style>\n",
       "<table border=\"1\" class=\"dataframe\">\n",
       "  <thead>\n",
       "    <tr style=\"text-align: right;\">\n",
       "      <th></th>\n",
       "      <th>Freq</th>\n",
       "      <th>dBS11</th>\n",
       "      <th>dBS21</th>\n",
       "      <th>dBS22</th>\n",
       "    </tr>\n",
       "  </thead>\n",
       "  <tbody>\n",
       "    <tr>\n",
       "      <th>49</th>\n",
       "      <td>5.0</td>\n",
       "      <td>-11.07842</td>\n",
       "      <td>23.67603</td>\n",
       "      <td>-11.74675</td>\n",
       "    </tr>\n",
       "    <tr>\n",
       "      <th>449</th>\n",
       "      <td>5.0</td>\n",
       "      <td>-10.92548</td>\n",
       "      <td>23.73322</td>\n",
       "      <td>-11.72783</td>\n",
       "    </tr>\n",
       "    <tr>\n",
       "      <th>849</th>\n",
       "      <td>5.0</td>\n",
       "      <td>-11.16697</td>\n",
       "      <td>23.71796</td>\n",
       "      <td>-11.73677</td>\n",
       "    </tr>\n",
       "    <tr>\n",
       "      <th>1249</th>\n",
       "      <td>5.0</td>\n",
       "      <td>-11.07818</td>\n",
       "      <td>23.79352</td>\n",
       "      <td>-11.70459</td>\n",
       "    </tr>\n",
       "    <tr>\n",
       "      <th>1649</th>\n",
       "      <td>5.0</td>\n",
       "      <td>-11.19607</td>\n",
       "      <td>23.74428</td>\n",
       "      <td>-11.68492</td>\n",
       "    </tr>\n",
       "  </tbody>\n",
       "</table>\n",
       "</div>"
      ],
      "text/plain": [
       "      Freq     dBS11     dBS21     dBS22\n",
       "49     5.0 -11.07842  23.67603 -11.74675\n",
       "449    5.0 -10.92548  23.73322 -11.72783\n",
       "849    5.0 -11.16697  23.71796 -11.73677\n",
       "1249   5.0 -11.07818  23.79352 -11.70459\n",
       "1649   5.0 -11.19607  23.74428 -11.68492"
      ]
     },
     "execution_count": 58,
     "metadata": {},
     "output_type": "execute_result"
    }
   ],
   "source": [
    "# Extract only the data for Freq = 5\n",
    "df1 = df.loc[df['Freq'] == 5]\n",
    "df1.head()"
   ]
  },
  {
   "cell_type": "markdown",
   "metadata": {},
   "source": [
    "## dBS11 Distribution (5GHz)"
   ]
  },
  {
   "cell_type": "code",
   "execution_count": 59,
   "metadata": {},
   "outputs": [
    {
     "data": {
      "image/png": "[encoded data removed]",
      "text/plain": [
       "<Figure size 432x288 with 1 Axes>"
      ]
     },
     "metadata": {},
     "output_type": "display_data"
    }
   ],
   "source": [
    "# Plot dBS11 distribution at 5GHz\n",
    "df1.dBS11.hist(bins=20)\n",
    "plt.title('dBS11 Distribution @5GHz')\n",
    "plt.xlabel('dBS11 @5GHz')\n",
    "plt.ylabel('Count')\n",
    "plt.show()"
   ]
  },
  {
   "cell_type": "markdown",
   "metadata": {},
   "source": [
    "## dBS21 Distribution (5GHz)"
   ]
  },
  {
   "cell_type": "code",
   "execution_count": 60,
   "metadata": {},
   "outputs": [
    {
     "data": {
      "image/png": "[encoded data removed]",
      "text/plain": [
       "<Figure size 432x288 with 1 Axes>"
      ]
     },
     "metadata": {},
     "output_type": "display_data"
    }
   ],
   "source": [
    "# Plot dBS21 distribution at 5GHz\n",
    "df1.dBS21.hist(bins=20)\n",
    "plt.title('dBS11 Distribution @5GHz')\n",
    "plt.xlabel('dBS11 @5GHz')\n",
    "plt.ylabel('Count')\n",
    "plt.show()"
   ]
  },
  {
   "cell_type": "markdown",
   "metadata": {},
   "source": [
    "## dBS22 Distribution (5GHz)"
   ]
  },
  {
   "cell_type": "code",
   "execution_count": 61,
   "metadata": {},
   "outputs": [
    {
     "data": {
      "image/png": "[encoded data removed]",
      "text/plain": [
       "<Figure size 432x288 with 1 Axes>"
      ]
     },
     "metadata": {},
     "output_type": "display_data"
    }
   ],
   "source": [
    "# Plot dBS22 distribution at 5GHz\n",
    "df1.dBS22.hist(bins=20)\n",
    "plt.title('dBS11 Distribution @5GHz')\n",
    "plt.xlabel('dBS11 @5GHz')\n",
    "plt.ylabel('Count')\n",
    "plt.show()"
   ]
  },
  {
   "cell_type": "markdown",
   "metadata": {},
   "source": [
    "## Key Statistics (Freq=5GHz)"
   ]
  },
  {
   "cell_type": "code",
   "execution_count": 62,
   "metadata": {
    "scrolled": true
   },
   "outputs": [
    {
     "data": {
      "text/html": [
       "<div>\n",
       "<style scoped>\n",
       "    .dataframe tbody tr th:only-of-type {\n",
       "        vertical-align: middle;\n",
       "    }\n",
       "\n",
       "    .dataframe tbody tr th {\n",
       "        vertical-align: top;\n",
       "    }\n",
       "\n",
       "    .dataframe thead th {\n",
       "        text-align: right;\n",
       "    }\n",
       "</style>\n",
       "<table border=\"1\" class=\"dataframe\">\n",
       "  <thead>\n",
       "    <tr style=\"text-align: right;\">\n",
       "      <th></th>\n",
       "      <th>Freq</th>\n",
       "      <th>dBS11</th>\n",
       "      <th>dBS21</th>\n",
       "      <th>dBS22</th>\n",
       "    </tr>\n",
       "  </thead>\n",
       "  <tbody>\n",
       "    <tr>\n",
       "      <th>count</th>\n",
       "      <td>295.0</td>\n",
       "      <td>295.000000</td>\n",
       "      <td>295.000000</td>\n",
       "      <td>295.000000</td>\n",
       "    </tr>\n",
       "    <tr>\n",
       "      <th>mean</th>\n",
       "      <td>5.0</td>\n",
       "      <td>-11.518385</td>\n",
       "      <td>23.779997</td>\n",
       "      <td>-11.597490</td>\n",
       "    </tr>\n",
       "    <tr>\n",
       "      <th>std</th>\n",
       "      <td>0.0</td>\n",
       "      <td>0.239181</td>\n",
       "      <td>0.151274</td>\n",
       "      <td>0.110049</td>\n",
       "    </tr>\n",
       "    <tr>\n",
       "      <th>min</th>\n",
       "      <td>5.0</td>\n",
       "      <td>-12.009660</td>\n",
       "      <td>23.062440</td>\n",
       "      <td>-12.042890</td>\n",
       "    </tr>\n",
       "    <tr>\n",
       "      <th>25%</th>\n",
       "      <td>5.0</td>\n",
       "      <td>-11.695270</td>\n",
       "      <td>23.676410</td>\n",
       "      <td>-11.659265</td>\n",
       "    </tr>\n",
       "    <tr>\n",
       "      <th>50%</th>\n",
       "      <td>5.0</td>\n",
       "      <td>-11.550750</td>\n",
       "      <td>23.793520</td>\n",
       "      <td>-11.578470</td>\n",
       "    </tr>\n",
       "    <tr>\n",
       "      <th>75%</th>\n",
       "      <td>5.0</td>\n",
       "      <td>-11.383740</td>\n",
       "      <td>23.889265</td>\n",
       "      <td>-11.516745</td>\n",
       "    </tr>\n",
       "    <tr>\n",
       "      <th>max</th>\n",
       "      <td>5.0</td>\n",
       "      <td>-10.802340</td>\n",
       "      <td>24.152850</td>\n",
       "      <td>-11.356200</td>\n",
       "    </tr>\n",
       "  </tbody>\n",
       "</table>\n",
       "</div>"
      ],
      "text/plain": [
       "        Freq       dBS11       dBS21       dBS22\n",
       "count  295.0  295.000000  295.000000  295.000000\n",
       "mean     5.0  -11.518385   23.779997  -11.597490\n",
       "std      0.0    0.239181    0.151274    0.110049\n",
       "min      5.0  -12.009660   23.062440  -12.042890\n",
       "25%      5.0  -11.695270   23.676410  -11.659265\n",
       "50%      5.0  -11.550750   23.793520  -11.578470\n",
       "75%      5.0  -11.383740   23.889265  -11.516745\n",
       "max      5.0  -10.802340   24.152850  -11.356200"
      ]
     },
     "execution_count": 62,
     "metadata": {},
     "output_type": "execute_result"
    }
   ],
   "source": [
    "df1.describe()"
   ]
  },
  {
   "cell_type": "markdown",
   "metadata": {},
   "source": [
    "## Extract 7GHz Data"
   ]
  },
  {
   "cell_type": "code",
   "execution_count": 63,
   "metadata": {
    "scrolled": true
   },
   "outputs": [
    {
     "data": {
      "text/html": [
       "<div>\n",
       "<style scoped>\n",
       "    .dataframe tbody tr th:only-of-type {\n",
       "        vertical-align: middle;\n",
       "    }\n",
       "\n",
       "    .dataframe tbody tr th {\n",
       "        vertical-align: top;\n",
       "    }\n",
       "\n",
       "    .dataframe thead th {\n",
       "        text-align: right;\n",
       "    }\n",
       "</style>\n",
       "<table border=\"1\" class=\"dataframe\">\n",
       "  <thead>\n",
       "    <tr style=\"text-align: right;\">\n",
       "      <th></th>\n",
       "      <th>Freq</th>\n",
       "      <th>dBS11</th>\n",
       "      <th>dBS21</th>\n",
       "      <th>dBS22</th>\n",
       "    </tr>\n",
       "  </thead>\n",
       "  <tbody>\n",
       "    <tr>\n",
       "      <th>69</th>\n",
       "      <td>7.0</td>\n",
       "      <td>-10.72236</td>\n",
       "      <td>22.96420</td>\n",
       "      <td>-16.36640</td>\n",
       "    </tr>\n",
       "    <tr>\n",
       "      <th>469</th>\n",
       "      <td>7.0</td>\n",
       "      <td>-10.53478</td>\n",
       "      <td>23.01464</td>\n",
       "      <td>-16.51727</td>\n",
       "    </tr>\n",
       "    <tr>\n",
       "      <th>869</th>\n",
       "      <td>7.0</td>\n",
       "      <td>-10.73799</td>\n",
       "      <td>23.04493</td>\n",
       "      <td>-16.29637</td>\n",
       "    </tr>\n",
       "    <tr>\n",
       "      <th>1269</th>\n",
       "      <td>7.0</td>\n",
       "      <td>-10.63710</td>\n",
       "      <td>23.07998</td>\n",
       "      <td>-16.64480</td>\n",
       "    </tr>\n",
       "    <tr>\n",
       "      <th>1669</th>\n",
       "      <td>7.0</td>\n",
       "      <td>-10.70496</td>\n",
       "      <td>23.10423</td>\n",
       "      <td>-16.62696</td>\n",
       "    </tr>\n",
       "  </tbody>\n",
       "</table>\n",
       "</div>"
      ],
      "text/plain": [
       "      Freq     dBS11     dBS21     dBS22\n",
       "69     7.0 -10.72236  22.96420 -16.36640\n",
       "469    7.0 -10.53478  23.01464 -16.51727\n",
       "869    7.0 -10.73799  23.04493 -16.29637\n",
       "1269   7.0 -10.63710  23.07998 -16.64480\n",
       "1669   7.0 -10.70496  23.10423 -16.62696"
      ]
     },
     "execution_count": 63,
     "metadata": {},
     "output_type": "execute_result"
    }
   ],
   "source": [
    "# Extract only the data for Freq = 7\n",
    "df2 = df.loc[df['Freq'] == 7]\n",
    "df2.head()"
   ]
  },
  {
   "cell_type": "markdown",
   "metadata": {},
   "source": [
    "## dBS11 Distribution (7GHz)"
   ]
  },
  {
   "cell_type": "code",
   "execution_count": 64,
   "metadata": {},
   "outputs": [
    {
     "data": {
      "image/png": "[encoded data removed]",
      "text/plain": [
       "<Figure size 432x288 with 1 Axes>"
      ]
     },
     "metadata": {},
     "output_type": "display_data"
    }
   ],
   "source": [
    "# Plot dBS11 distribution at 7GHz\n",
    "df2.dBS11.hist(bins=20)\n",
    "plt.title('dBS11 Distribution @7GHz')\n",
    "plt.xlabel('dBS11 @7GHz')\n",
    "plt.ylabel('Count')\n",
    "plt.show()"
   ]
  },
  {
   "cell_type": "markdown",
   "metadata": {},
   "source": [
    "## dBS21 Distribution (7GHz)"
   ]
  },
  {
   "cell_type": "code",
   "execution_count": 65,
   "metadata": {},
   "outputs": [
    {
     "data": {
      "image/png": "[encoded data removed]",
      "text/plain": [
       "<Figure size 432x288 with 1 Axes>"
      ]
     },
     "metadata": {},
     "output_type": "display_data"
    }
   ],
   "source": [
    "# Plot dBS21 distribution at 7GHz\n",
    "df2.dBS21.hist(bins=20)\n",
    "plt.title('dBS21 Distribution @7GHz')\n",
    "plt.xlabel('dBS21 @7GHz')\n",
    "plt.ylabel('Count')\n",
    "plt.show()"
   ]
  },
  {
   "cell_type": "markdown",
   "metadata": {},
   "source": [
    "## dBS22 Distribution (7GHz)"
   ]
  },
  {
   "cell_type": "code",
   "execution_count": 66,
   "metadata": {},
   "outputs": [
    {
     "data": {
      "image/png": "[encoded data removed]",
      "text/plain": [
       "<Figure size 432x288 with 1 Axes>"
      ]
     },
     "metadata": {},
     "output_type": "display_data"
    }
   ],
   "source": [
    "# Plot dBS22 distribution at 7GHz\n",
    "df2.dBS22.hist(bins=20)\n",
    "plt.title('dBS22 Distribution @7GHz')\n",
    "plt.xlabel('dBS22 @7GHz')\n",
    "plt.ylabel('Count')\n",
    "plt.show()"
   ]
  },
  {
   "cell_type": "markdown",
   "metadata": {},
   "source": [
    "## Key Statistics (Freq=7GHz)"
   ]
  },
  {
   "cell_type": "code",
   "execution_count": 67,
   "metadata": {
    "scrolled": false
   },
   "outputs": [
    {
     "data": {
      "text/html": [
       "<div>\n",
       "<style scoped>\n",
       "    .dataframe tbody tr th:only-of-type {\n",
       "        vertical-align: middle;\n",
       "    }\n",
       "\n",
       "    .dataframe tbody tr th {\n",
       "        vertical-align: top;\n",
       "    }\n",
       "\n",
       "    .dataframe thead th {\n",
       "        text-align: right;\n",
       "    }\n",
       "</style>\n",
       "<table border=\"1\" class=\"dataframe\">\n",
       "  <thead>\n",
       "    <tr style=\"text-align: right;\">\n",
       "      <th></th>\n",
       "      <th>Freq</th>\n",
       "      <th>dBS11</th>\n",
       "      <th>dBS21</th>\n",
       "      <th>dBS22</th>\n",
       "    </tr>\n",
       "  </thead>\n",
       "  <tbody>\n",
       "    <tr>\n",
       "      <th>count</th>\n",
       "      <td>295.0</td>\n",
       "      <td>295.000000</td>\n",
       "      <td>295.000000</td>\n",
       "      <td>295.000000</td>\n",
       "    </tr>\n",
       "    <tr>\n",
       "      <th>mean</th>\n",
       "      <td>7.0</td>\n",
       "      <td>-11.005048</td>\n",
       "      <td>23.111815</td>\n",
       "      <td>-16.542979</td>\n",
       "    </tr>\n",
       "    <tr>\n",
       "      <th>std</th>\n",
       "      <td>0.0</td>\n",
       "      <td>0.219449</td>\n",
       "      <td>0.152174</td>\n",
       "      <td>0.301244</td>\n",
       "    </tr>\n",
       "    <tr>\n",
       "      <th>min</th>\n",
       "      <td>7.0</td>\n",
       "      <td>-11.692570</td>\n",
       "      <td>22.442400</td>\n",
       "      <td>-17.136980</td>\n",
       "    </tr>\n",
       "    <tr>\n",
       "      <th>25%</th>\n",
       "      <td>7.0</td>\n",
       "      <td>-11.138315</td>\n",
       "      <td>23.001080</td>\n",
       "      <td>-16.786150</td>\n",
       "    </tr>\n",
       "    <tr>\n",
       "      <th>50%</th>\n",
       "      <td>7.0</td>\n",
       "      <td>-11.032210</td>\n",
       "      <td>23.126220</td>\n",
       "      <td>-16.561240</td>\n",
       "    </tr>\n",
       "    <tr>\n",
       "      <th>75%</th>\n",
       "      <td>7.0</td>\n",
       "      <td>-10.883580</td>\n",
       "      <td>23.224445</td>\n",
       "      <td>-16.358780</td>\n",
       "    </tr>\n",
       "    <tr>\n",
       "      <th>max</th>\n",
       "      <td>7.0</td>\n",
       "      <td>-10.354600</td>\n",
       "      <td>23.483890</td>\n",
       "      <td>-15.609760</td>\n",
       "    </tr>\n",
       "  </tbody>\n",
       "</table>\n",
       "</div>"
      ],
      "text/plain": [
       "        Freq       dBS11       dBS21       dBS22\n",
       "count  295.0  295.000000  295.000000  295.000000\n",
       "mean     7.0  -11.005048   23.111815  -16.542979\n",
       "std      0.0    0.219449    0.152174    0.301244\n",
       "min      7.0  -11.692570   22.442400  -17.136980\n",
       "25%      7.0  -11.138315   23.001080  -16.786150\n",
       "50%      7.0  -11.032210   23.126220  -16.561240\n",
       "75%      7.0  -10.883580   23.224445  -16.358780\n",
       "max      7.0  -10.354600   23.483890  -15.609760"
      ]
     },
     "execution_count": 67,
     "metadata": {},
     "output_type": "execute_result"
    }
   ],
   "source": [
    "df2.describe()"
   ]
  },
  {
   "cell_type": "markdown",
   "metadata": {},
   "source": [
    "## Extract 11GHz Data"
   ]
  },
  {
   "cell_type": "code",
   "execution_count": 68,
   "metadata": {
    "scrolled": true
   },
   "outputs": [
    {
     "data": {
      "text/html": [
       "<div>\n",
       "<style scoped>\n",
       "    .dataframe tbody tr th:only-of-type {\n",
       "        vertical-align: middle;\n",
       "    }\n",
       "\n",
       "    .dataframe tbody tr th {\n",
       "        vertical-align: top;\n",
       "    }\n",
       "\n",
       "    .dataframe thead th {\n",
       "        text-align: right;\n",
       "    }\n",
       "</style>\n",
       "<table border=\"1\" class=\"dataframe\">\n",
       "  <thead>\n",
       "    <tr style=\"text-align: right;\">\n",
       "      <th></th>\n",
       "      <th>Freq</th>\n",
       "      <th>dBS11</th>\n",
       "      <th>dBS21</th>\n",
       "      <th>dBS22</th>\n",
       "    </tr>\n",
       "  </thead>\n",
       "  <tbody>\n",
       "    <tr>\n",
       "      <th>109</th>\n",
       "      <td>11.0</td>\n",
       "      <td>-17.81669</td>\n",
       "      <td>23.62515</td>\n",
       "      <td>-28.44229</td>\n",
       "    </tr>\n",
       "    <tr>\n",
       "      <th>509</th>\n",
       "      <td>11.0</td>\n",
       "      <td>-17.75754</td>\n",
       "      <td>23.68512</td>\n",
       "      <td>-29.67550</td>\n",
       "    </tr>\n",
       "    <tr>\n",
       "      <th>909</th>\n",
       "      <td>11.0</td>\n",
       "      <td>-17.86480</td>\n",
       "      <td>23.74452</td>\n",
       "      <td>-28.42763</td>\n",
       "    </tr>\n",
       "    <tr>\n",
       "      <th>1309</th>\n",
       "      <td>11.0</td>\n",
       "      <td>-18.14783</td>\n",
       "      <td>23.73582</td>\n",
       "      <td>-31.09664</td>\n",
       "    </tr>\n",
       "    <tr>\n",
       "      <th>1709</th>\n",
       "      <td>11.0</td>\n",
       "      <td>-18.10816</td>\n",
       "      <td>23.82677</td>\n",
       "      <td>-31.44076</td>\n",
       "    </tr>\n",
       "  </tbody>\n",
       "</table>\n",
       "</div>"
      ],
      "text/plain": [
       "      Freq     dBS11     dBS21     dBS22\n",
       "109   11.0 -17.81669  23.62515 -28.44229\n",
       "509   11.0 -17.75754  23.68512 -29.67550\n",
       "909   11.0 -17.86480  23.74452 -28.42763\n",
       "1309  11.0 -18.14783  23.73582 -31.09664\n",
       "1709  11.0 -18.10816  23.82677 -31.44076"
      ]
     },
     "execution_count": 68,
     "metadata": {},
     "output_type": "execute_result"
    }
   ],
   "source": [
    "# Extract only the data for Freq = 6\n",
    "df3 = df.loc[df['Freq'] == 11]\n",
    "df3.head()"
   ]
  },
  {
   "cell_type": "markdown",
   "metadata": {},
   "source": [
    "## dBS11 Distribution (11GHz)"
   ]
  },
  {
   "cell_type": "code",
   "execution_count": 69,
   "metadata": {},
   "outputs": [
    {
     "data": {
      "image/png": "[encoded data removed]",
      "text/plain": [
       "<Figure size 432x288 with 1 Axes>"
      ]
     },
     "metadata": {},
     "output_type": "display_data"
    }
   ],
   "source": [
    "# Plot dBS11 distribution at 11GHz\n",
    "df3.dBS11.hist(bins=20)\n",
    "plt.title('dBS11 Distribution @11GHz')\n",
    "plt.xlabel('dBS11 @11GHz')\n",
    "plt.ylabel('Count')\n",
    "plt.show()"
   ]
  },
  {
   "cell_type": "markdown",
   "metadata": {},
   "source": [
    "## dBS21 Distribution (11GHz)"
   ]
  },
  {
   "cell_type": "code",
   "execution_count": 70,
   "metadata": {},
   "outputs": [
    {
     "data": {
      "image/png": "[encoded data removed]",
      "text/plain": [
       "<Figure size 432x288 with 1 Axes>"
      ]
     },
     "metadata": {},
     "output_type": "display_data"
    }
   ],
   "source": [
    "# Plot dBS21 distribution at 11GHz\n",
    "df3.dBS21.hist(bins=20)\n",
    "plt.title('dBS21 Distribution @11GHz')\n",
    "plt.xlabel('dBS21 @11GHz')\n",
    "plt.ylabel('Count')\n",
    "plt.show()"
   ]
  },
  {
   "cell_type": "markdown",
   "metadata": {},
   "source": [
    "## dBS22 Distribution (11GHz)"
   ]
  },
  {
   "cell_type": "code",
   "execution_count": 71,
   "metadata": {},
   "outputs": [
    {
     "data": {
      "image/png": "[encoded data removed]",
      "text/plain": [
       "<Figure size 432x288 with 1 Axes>"
      ]
     },
     "metadata": {},
     "output_type": "display_data"
    }
   ],
   "source": [
    "# Plot dBS22 distribution at 11GHz\n",
    "df3.dBS22.hist(bins=20)\n",
    "plt.title('dBS22 Distribution @11GHz')\n",
    "plt.xlabel('dBS22 @11GHz')\n",
    "plt.ylabel('Count')\n",
    "plt.show()"
   ]
  },
  {
   "cell_type": "markdown",
   "metadata": {},
   "source": [
    "## Key Statistics (Freq=11GHz)"
   ]
  },
  {
   "cell_type": "code",
   "execution_count": 72,
   "metadata": {
    "scrolled": true
   },
   "outputs": [
    {
     "data": {
      "text/html": [
       "<div>\n",
       "<style scoped>\n",
       "    .dataframe tbody tr th:only-of-type {\n",
       "        vertical-align: middle;\n",
       "    }\n",
       "\n",
       "    .dataframe tbody tr th {\n",
       "        vertical-align: top;\n",
       "    }\n",
       "\n",
       "    .dataframe thead th {\n",
       "        text-align: right;\n",
       "    }\n",
       "</style>\n",
       "<table border=\"1\" class=\"dataframe\">\n",
       "  <thead>\n",
       "    <tr style=\"text-align: right;\">\n",
       "      <th></th>\n",
       "      <th>Freq</th>\n",
       "      <th>dBS11</th>\n",
       "      <th>dBS21</th>\n",
       "      <th>dBS22</th>\n",
       "    </tr>\n",
       "  </thead>\n",
       "  <tbody>\n",
       "    <tr>\n",
       "      <th>count</th>\n",
       "      <td>295.0</td>\n",
       "      <td>295.000000</td>\n",
       "      <td>295.000000</td>\n",
       "      <td>295.000000</td>\n",
       "    </tr>\n",
       "    <tr>\n",
       "      <th>mean</th>\n",
       "      <td>11.0</td>\n",
       "      <td>-18.575991</td>\n",
       "      <td>23.775733</td>\n",
       "      <td>-32.004279</td>\n",
       "    </tr>\n",
       "    <tr>\n",
       "      <th>std</th>\n",
       "      <td>0.0</td>\n",
       "      <td>0.521307</td>\n",
       "      <td>0.144373</td>\n",
       "      <td>3.225291</td>\n",
       "    </tr>\n",
       "    <tr>\n",
       "      <th>min</th>\n",
       "      <td>11.0</td>\n",
       "      <td>-19.592070</td>\n",
       "      <td>23.076620</td>\n",
       "      <td>-38.388420</td>\n",
       "    </tr>\n",
       "    <tr>\n",
       "      <th>25%</th>\n",
       "      <td>11.0</td>\n",
       "      <td>-18.943620</td>\n",
       "      <td>23.673485</td>\n",
       "      <td>-34.711460</td>\n",
       "    </tr>\n",
       "    <tr>\n",
       "      <th>50%</th>\n",
       "      <td>11.0</td>\n",
       "      <td>-18.629620</td>\n",
       "      <td>23.782870</td>\n",
       "      <td>-31.811210</td>\n",
       "    </tr>\n",
       "    <tr>\n",
       "      <th>75%</th>\n",
       "      <td>11.0</td>\n",
       "      <td>-18.322280</td>\n",
       "      <td>23.884140</td>\n",
       "      <td>-29.778345</td>\n",
       "    </tr>\n",
       "    <tr>\n",
       "      <th>max</th>\n",
       "      <td>11.0</td>\n",
       "      <td>-16.785870</td>\n",
       "      <td>24.104350</td>\n",
       "      <td>-24.049370</td>\n",
       "    </tr>\n",
       "  </tbody>\n",
       "</table>\n",
       "</div>"
      ],
      "text/plain": [
       "        Freq       dBS11       dBS21       dBS22\n",
       "count  295.0  295.000000  295.000000  295.000000\n",
       "mean    11.0  -18.575991   23.775733  -32.004279\n",
       "std      0.0    0.521307    0.144373    3.225291\n",
       "min     11.0  -19.592070   23.076620  -38.388420\n",
       "25%     11.0  -18.943620   23.673485  -34.711460\n",
       "50%     11.0  -18.629620   23.782870  -31.811210\n",
       "75%     11.0  -18.322280   23.884140  -29.778345\n",
       "max     11.0  -16.785870   24.104350  -24.049370"
      ]
     },
     "execution_count": 72,
     "metadata": {},
     "output_type": "execute_result"
    }
   ],
   "source": [
    "df3.describe()"
   ]
  },
  {
   "cell_type": "markdown",
   "metadata": {},
   "source": [
    "## Extract 18GHz Data"
   ]
  },
  {
   "cell_type": "code",
   "execution_count": 73,
   "metadata": {
    "scrolled": true
   },
   "outputs": [
    {
     "data": {
      "text/html": [
       "<div>\n",
       "<style scoped>\n",
       "    .dataframe tbody tr th:only-of-type {\n",
       "        vertical-align: middle;\n",
       "    }\n",
       "\n",
       "    .dataframe tbody tr th {\n",
       "        vertical-align: top;\n",
       "    }\n",
       "\n",
       "    .dataframe thead th {\n",
       "        text-align: right;\n",
       "    }\n",
       "</style>\n",
       "<table border=\"1\" class=\"dataframe\">\n",
       "  <thead>\n",
       "    <tr style=\"text-align: right;\">\n",
       "      <th></th>\n",
       "      <th>Freq</th>\n",
       "      <th>dBS11</th>\n",
       "      <th>dBS21</th>\n",
       "      <th>dBS22</th>\n",
       "    </tr>\n",
       "  </thead>\n",
       "  <tbody>\n",
       "    <tr>\n",
       "      <th>179</th>\n",
       "      <td>18.0</td>\n",
       "      <td>-19.81520</td>\n",
       "      <td>20.80170</td>\n",
       "      <td>-17.44869</td>\n",
       "    </tr>\n",
       "    <tr>\n",
       "      <th>579</th>\n",
       "      <td>18.0</td>\n",
       "      <td>-19.67049</td>\n",
       "      <td>20.79345</td>\n",
       "      <td>-17.27973</td>\n",
       "    </tr>\n",
       "    <tr>\n",
       "      <th>979</th>\n",
       "      <td>18.0</td>\n",
       "      <td>-19.34783</td>\n",
       "      <td>20.79048</td>\n",
       "      <td>-17.65238</td>\n",
       "    </tr>\n",
       "    <tr>\n",
       "      <th>1379</th>\n",
       "      <td>18.0</td>\n",
       "      <td>-19.58426</td>\n",
       "      <td>20.73212</td>\n",
       "      <td>-17.29170</td>\n",
       "    </tr>\n",
       "    <tr>\n",
       "      <th>1779</th>\n",
       "      <td>18.0</td>\n",
       "      <td>-19.29255</td>\n",
       "      <td>20.76008</td>\n",
       "      <td>-17.31918</td>\n",
       "    </tr>\n",
       "  </tbody>\n",
       "</table>\n",
       "</div>"
      ],
      "text/plain": [
       "      Freq     dBS11     dBS21     dBS22\n",
       "179   18.0 -19.81520  20.80170 -17.44869\n",
       "579   18.0 -19.67049  20.79345 -17.27973\n",
       "979   18.0 -19.34783  20.79048 -17.65238\n",
       "1379  18.0 -19.58426  20.73212 -17.29170\n",
       "1779  18.0 -19.29255  20.76008 -17.31918"
      ]
     },
     "execution_count": 73,
     "metadata": {},
     "output_type": "execute_result"
    }
   ],
   "source": [
    "# Extract only the data for Freq = 18\n",
    "df4 = df.loc[df['Freq'] == 18]\n",
    "df4.head()"
   ]
  },
  {
   "cell_type": "markdown",
   "metadata": {},
   "source": [
    "## dBS11 Distribution (18GHz)"
   ]
  },
  {
   "cell_type": "code",
   "execution_count": 74,
   "metadata": {},
   "outputs": [
    {
     "data": {
      "image/png": "[encoded data removed]",
      "text/plain": [
       "<Figure size 432x288 with 1 Axes>"
      ]
     },
     "metadata": {},
     "output_type": "display_data"
    }
   ],
   "source": [
    "# Plot dBS11 distribution at 18GHz\n",
    "df4.dBS11.hist(bins=20)\n",
    "plt.title('dBS11 Distribution @18GHz')\n",
    "plt.xlabel('dBS11 @18GHz')\n",
    "plt.ylabel('Count')\n",
    "plt.show()"
   ]
  },
  {
   "cell_type": "markdown",
   "metadata": {},
   "source": [
    "## dBS21 Distribution (18GHz)"
   ]
  },
  {
   "cell_type": "code",
   "execution_count": 75,
   "metadata": {},
   "outputs": [
    {
     "data": {
      "image/png": "[encoded data removed]",
      "text/plain": [
       "<Figure size 432x288 with 1 Axes>"
      ]
     },
     "metadata": {},
     "output_type": "display_data"
    }
   ],
   "source": [
    "# Plot dBS21 distribution at 18GHz\n",
    "df4.dBS21.hist(bins=20)\n",
    "plt.title('dBS21 Distribution @18GHz')\n",
    "plt.xlabel('dBS21 @6GHz')\n",
    "plt.ylabel('Count')\n",
    "plt.show()"
   ]
  },
  {
   "cell_type": "markdown",
   "metadata": {},
   "source": [
    "## dBS22 Distribution (18GHz)"
   ]
  },
  {
   "cell_type": "code",
   "execution_count": 76,
   "metadata": {},
   "outputs": [
    {
     "data": {
      "image/png": "[encoded data removed]",
      "text/plain": [
       "<Figure size 432x288 with 1 Axes>"
      ]
     },
     "metadata": {},
     "output_type": "display_data"
    }
   ],
   "source": [
    "# Plot dBS22 distribution at 18GHz\n",
    "df4.dBS22.hist(bins=20)\n",
    "plt.title('dBS22 Distribution @18GHz')\n",
    "plt.xlabel('dBS22 @6GHz')\n",
    "plt.ylabel('Count')\n",
    "plt.show()"
   ]
  },
  {
   "cell_type": "markdown",
   "metadata": {},
   "source": [
    "## Key Statistics (Freq=18GHz)"
   ]
  },
  {
   "cell_type": "code",
   "execution_count": 77,
   "metadata": {
    "scrolled": true
   },
   "outputs": [
    {
     "data": {
      "text/html": [
       "<div>\n",
       "<style scoped>\n",
       "    .dataframe tbody tr th:only-of-type {\n",
       "        vertical-align: middle;\n",
       "    }\n",
       "\n",
       "    .dataframe tbody tr th {\n",
       "        vertical-align: top;\n",
       "    }\n",
       "\n",
       "    .dataframe thead th {\n",
       "        text-align: right;\n",
       "    }\n",
       "</style>\n",
       "<table border=\"1\" class=\"dataframe\">\n",
       "  <thead>\n",
       "    <tr style=\"text-align: right;\">\n",
       "      <th></th>\n",
       "      <th>Freq</th>\n",
       "      <th>dBS11</th>\n",
       "      <th>dBS21</th>\n",
       "      <th>dBS22</th>\n",
       "    </tr>\n",
       "  </thead>\n",
       "  <tbody>\n",
       "    <tr>\n",
       "      <th>count</th>\n",
       "      <td>295.0</td>\n",
       "      <td>295.000000</td>\n",
       "      <td>295.000000</td>\n",
       "      <td>295.000000</td>\n",
       "    </tr>\n",
       "    <tr>\n",
       "      <th>mean</th>\n",
       "      <td>18.0</td>\n",
       "      <td>-19.519634</td>\n",
       "      <td>20.729409</td>\n",
       "      <td>-17.237495</td>\n",
       "    </tr>\n",
       "    <tr>\n",
       "      <th>std</th>\n",
       "      <td>0.0</td>\n",
       "      <td>0.293053</td>\n",
       "      <td>0.114558</td>\n",
       "      <td>0.323519</td>\n",
       "    </tr>\n",
       "    <tr>\n",
       "      <th>min</th>\n",
       "      <td>18.0</td>\n",
       "      <td>-20.573310</td>\n",
       "      <td>20.494880</td>\n",
       "      <td>-18.029100</td>\n",
       "    </tr>\n",
       "    <tr>\n",
       "      <th>25%</th>\n",
       "      <td>18.0</td>\n",
       "      <td>-19.680075</td>\n",
       "      <td>20.642035</td>\n",
       "      <td>-17.427095</td>\n",
       "    </tr>\n",
       "    <tr>\n",
       "      <th>50%</th>\n",
       "      <td>18.0</td>\n",
       "      <td>-19.503310</td>\n",
       "      <td>20.712400</td>\n",
       "      <td>-17.254220</td>\n",
       "    </tr>\n",
       "    <tr>\n",
       "      <th>75%</th>\n",
       "      <td>18.0</td>\n",
       "      <td>-19.326670</td>\n",
       "      <td>20.783380</td>\n",
       "      <td>-17.038840</td>\n",
       "    </tr>\n",
       "    <tr>\n",
       "      <th>max</th>\n",
       "      <td>18.0</td>\n",
       "      <td>-18.908340</td>\n",
       "      <td>21.189640</td>\n",
       "      <td>-16.251380</td>\n",
       "    </tr>\n",
       "  </tbody>\n",
       "</table>\n",
       "</div>"
      ],
      "text/plain": [
       "        Freq       dBS11       dBS21       dBS22\n",
       "count  295.0  295.000000  295.000000  295.000000\n",
       "mean    18.0  -19.519634   20.729409  -17.237495\n",
       "std      0.0    0.293053    0.114558    0.323519\n",
       "min     18.0  -20.573310   20.494880  -18.029100\n",
       "25%     18.0  -19.680075   20.642035  -17.427095\n",
       "50%     18.0  -19.503310   20.712400  -17.254220\n",
       "75%     18.0  -19.326670   20.783380  -17.038840\n",
       "max     18.0  -18.908340   21.189640  -16.251380"
      ]
     },
     "execution_count": 77,
     "metadata": {},
     "output_type": "execute_result"
    }
   ],
   "source": [
    "df4.describe()"
   ]
  },
  {
   "cell_type": "markdown",
   "metadata": {},
   "source": [
    "## Extract 20GHz Data"
   ]
  },
  {
   "cell_type": "code",
   "execution_count": 78,
   "metadata": {
    "scrolled": false
   },
   "outputs": [
    {
     "data": {
      "text/html": [
       "<div>\n",
       "<style scoped>\n",
       "    .dataframe tbody tr th:only-of-type {\n",
       "        vertical-align: middle;\n",
       "    }\n",
       "\n",
       "    .dataframe tbody tr th {\n",
       "        vertical-align: top;\n",
       "    }\n",
       "\n",
       "    .dataframe thead th {\n",
       "        text-align: right;\n",
       "    }\n",
       "</style>\n",
       "<table border=\"1\" class=\"dataframe\">\n",
       "  <thead>\n",
       "    <tr style=\"text-align: right;\">\n",
       "      <th></th>\n",
       "      <th>Freq</th>\n",
       "      <th>dBS11</th>\n",
       "      <th>dBS21</th>\n",
       "      <th>dBS22</th>\n",
       "    </tr>\n",
       "  </thead>\n",
       "  <tbody>\n",
       "    <tr>\n",
       "      <th>199</th>\n",
       "      <td>20.0</td>\n",
       "      <td>-15.30288</td>\n",
       "      <td>18.91892</td>\n",
       "      <td>-12.61518</td>\n",
       "    </tr>\n",
       "    <tr>\n",
       "      <th>599</th>\n",
       "      <td>20.0</td>\n",
       "      <td>-15.11921</td>\n",
       "      <td>18.89940</td>\n",
       "      <td>-12.51443</td>\n",
       "    </tr>\n",
       "    <tr>\n",
       "      <th>999</th>\n",
       "      <td>20.0</td>\n",
       "      <td>-15.01253</td>\n",
       "      <td>18.89355</td>\n",
       "      <td>-12.63902</td>\n",
       "    </tr>\n",
       "    <tr>\n",
       "      <th>1399</th>\n",
       "      <td>20.0</td>\n",
       "      <td>-15.08008</td>\n",
       "      <td>18.85737</td>\n",
       "      <td>-12.51217</td>\n",
       "    </tr>\n",
       "    <tr>\n",
       "      <th>1799</th>\n",
       "      <td>20.0</td>\n",
       "      <td>-14.96330</td>\n",
       "      <td>18.86747</td>\n",
       "      <td>-12.47076</td>\n",
       "    </tr>\n",
       "  </tbody>\n",
       "</table>\n",
       "</div>"
      ],
      "text/plain": [
       "      Freq     dBS11     dBS21     dBS22\n",
       "199   20.0 -15.30288  18.91892 -12.61518\n",
       "599   20.0 -15.11921  18.89940 -12.51443\n",
       "999   20.0 -15.01253  18.89355 -12.63902\n",
       "1399  20.0 -15.08008  18.85737 -12.51217\n",
       "1799  20.0 -14.96330  18.86747 -12.47076"
      ]
     },
     "execution_count": 78,
     "metadata": {},
     "output_type": "execute_result"
    }
   ],
   "source": [
    "# Extract only the data for Freq = 20\n",
    "df5 = df.loc[df['Freq'] == 20]\n",
    "df5.head()"
   ]
  },
  {
   "cell_type": "markdown",
   "metadata": {},
   "source": [
    "## dBS11 Distribution (20GHz)"
   ]
  },
  {
   "cell_type": "code",
   "execution_count": 79,
   "metadata": {},
   "outputs": [
    {
     "data": {
      "image/png": "[encoded data removed]",
      "text/plain": [
       "<Figure size 432x288 with 1 Axes>"
      ]
     },
     "metadata": {},
     "output_type": "display_data"
    }
   ],
   "source": [
    "# Plot dBS11 distribution at 20GHz\n",
    "df5.dBS11.hist(bins=20)\n",
    "plt.title('dBS11 Distribution @20GHz')\n",
    "plt.xlabel('dBS11 @20GHz')\n",
    "plt.ylabel('Count')\n",
    "plt.show()"
   ]
  },
  {
   "cell_type": "markdown",
   "metadata": {},
   "source": [
    "## dBS21 Distribution (20GHz)"
   ]
  },
  {
   "cell_type": "code",
   "execution_count": 80,
   "metadata": {},
   "outputs": [
    {
     "data": {
      "image/png": "[encoded data removed]",
      "text/plain": [
       "<Figure size 432x288 with 1 Axes>"
      ]
     },
     "metadata": {},
     "output_type": "display_data"
    }
   ],
   "source": [
    "# Plot dBS21 distribution at 20GHz\n",
    "df5.dBS21.hist(bins=20)\n",
    "plt.title('dBS21 Distribution @20GHz')\n",
    "plt.xlabel('dBS21 @20GHz')\n",
    "plt.ylabel('Count')\n",
    "plt.show()"
   ]
  },
  {
   "cell_type": "markdown",
   "metadata": {},
   "source": [
    "## dBS22 Distribution (20GHz)"
   ]
  },
  {
   "cell_type": "code",
   "execution_count": 81,
   "metadata": {},
   "outputs": [
    {
     "data": {
      "image/png": "[encoded data removed]",
      "text/plain": [
       "<Figure size 432x288 with 1 Axes>"
      ]
     },
     "metadata": {},
     "output_type": "display_data"
    }
   ],
   "source": [
    "# Plot dBS22 distribution at 20GHz\n",
    "df5.dBS22.hist(bins=20)\n",
    "plt.title('dBS22 Distribution @20GHz')\n",
    "plt.xlabel('dBS22 @20GHz')\n",
    "plt.ylabel('Count')\n",
    "plt.show()"
   ]
  },
  {
   "cell_type": "markdown",
   "metadata": {},
   "source": [
    "## Key Statistics (Freq=20GHz)"
   ]
  },
  {
   "cell_type": "code",
   "execution_count": 82,
   "metadata": {
    "scrolled": false
   },
   "outputs": [
    {
     "data": {
      "text/html": [
       "<div>\n",
       "<style scoped>\n",
       "    .dataframe tbody tr th:only-of-type {\n",
       "        vertical-align: middle;\n",
       "    }\n",
       "\n",
       "    .dataframe tbody tr th {\n",
       "        vertical-align: top;\n",
       "    }\n",
       "\n",
       "    .dataframe thead th {\n",
       "        text-align: right;\n",
       "    }\n",
       "</style>\n",
       "<table border=\"1\" class=\"dataframe\">\n",
       "  <thead>\n",
       "    <tr style=\"text-align: right;\">\n",
       "      <th></th>\n",
       "      <th>Freq</th>\n",
       "      <th>dBS11</th>\n",
       "      <th>dBS21</th>\n",
       "      <th>dBS22</th>\n",
       "    </tr>\n",
       "  </thead>\n",
       "  <tbody>\n",
       "    <tr>\n",
       "      <th>count</th>\n",
       "      <td>295.0</td>\n",
       "      <td>295.000000</td>\n",
       "      <td>295.000000</td>\n",
       "      <td>295.000000</td>\n",
       "    </tr>\n",
       "    <tr>\n",
       "      <th>mean</th>\n",
       "      <td>20.0</td>\n",
       "      <td>-15.250557</td>\n",
       "      <td>18.854922</td>\n",
       "      <td>-12.482376</td>\n",
       "    </tr>\n",
       "    <tr>\n",
       "      <th>std</th>\n",
       "      <td>0.0</td>\n",
       "      <td>0.315852</td>\n",
       "      <td>0.109637</td>\n",
       "      <td>0.212733</td>\n",
       "    </tr>\n",
       "    <tr>\n",
       "      <th>min</th>\n",
       "      <td>20.0</td>\n",
       "      <td>-16.296750</td>\n",
       "      <td>18.624680</td>\n",
       "      <td>-13.008910</td>\n",
       "    </tr>\n",
       "    <tr>\n",
       "      <th>25%</th>\n",
       "      <td>20.0</td>\n",
       "      <td>-15.460500</td>\n",
       "      <td>18.777085</td>\n",
       "      <td>-12.621625</td>\n",
       "    </tr>\n",
       "    <tr>\n",
       "      <th>50%</th>\n",
       "      <td>20.0</td>\n",
       "      <td>-15.261350</td>\n",
       "      <td>18.839660</td>\n",
       "      <td>-12.489760</td>\n",
       "    </tr>\n",
       "    <tr>\n",
       "      <th>75%</th>\n",
       "      <td>20.0</td>\n",
       "      <td>-15.025800</td>\n",
       "      <td>18.908925</td>\n",
       "      <td>-12.347590</td>\n",
       "    </tr>\n",
       "    <tr>\n",
       "      <th>max</th>\n",
       "      <td>20.0</td>\n",
       "      <td>-14.518400</td>\n",
       "      <td>19.304680</td>\n",
       "      <td>-11.860950</td>\n",
       "    </tr>\n",
       "  </tbody>\n",
       "</table>\n",
       "</div>"
      ],
      "text/plain": [
       "        Freq       dBS11       dBS21       dBS22\n",
       "count  295.0  295.000000  295.000000  295.000000\n",
       "mean    20.0  -15.250557   18.854922  -12.482376\n",
       "std      0.0    0.315852    0.109637    0.212733\n",
       "min     20.0  -16.296750   18.624680  -13.008910\n",
       "25%     20.0  -15.460500   18.777085  -12.621625\n",
       "50%     20.0  -15.261350   18.839660  -12.489760\n",
       "75%     20.0  -15.025800   18.908925  -12.347590\n",
       "max     20.0  -14.518400   19.304680  -11.860950"
      ]
     },
     "execution_count": 82,
     "metadata": {},
     "output_type": "execute_result"
    }
   ],
   "source": [
    "df5.describe()"
   ]
  }
 ],
 "metadata": {
  "kernelspec": {
   "display_name": "Python 3",
   "language": "python",
   "name": "python3"
  },
  "language_info": {
   "codemirror_mode": {
    "name": "ipython",
    "version": 3
   },
   "file_extension": ".py",
   "mimetype": "text/x-python",
   "name": "python",
   "nbconvert_exporter": "python",
   "pygments_lexer": "ipython3",
   "version": "3.6.7"
  }
 },
 "nbformat": 4,
 "nbformat_minor": 2
}
