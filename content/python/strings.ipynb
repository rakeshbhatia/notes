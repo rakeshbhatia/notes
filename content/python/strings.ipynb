{
 "cells": [
  {
   "cell_type": "markdown",
   "id": "7376a173",
   "metadata": {},
   "source": [
    "# Strings\n",
    "\n",
    "## Basics\n",
    "\n",
    "* Strings represent a sequence of text characters\n",
    "* They are created by enclosing characters in quotes\n",
    "    * Single quotes and double quotes are treated the same in Python\n",
    "\n",
    "### Create a string with single quotes and assign it to a variable"
   ]
  },
  {
   "cell_type": "code",
   "execution_count": 3,
   "id": "ed867bd2",
   "metadata": {},
   "outputs": [
    {
     "name": "stdout",
     "output_type": "stream",
     "text": [
      "Hello World\n"
     ]
    }
   ],
   "source": [
    "my_str = 'Hello World'\n",
    "\n",
    "print(my_str)"
   ]
  },
  {
   "cell_type": "markdown",
   "id": "aabf64fa",
   "metadata": {},
   "source": [
    "### Create a string with double quotes and assign it to a variable"
   ]
  },
  {
   "cell_type": "code",
   "execution_count": 4,
   "id": "47569dc7",
   "metadata": {},
   "outputs": [
    {
     "name": "stdout",
     "output_type": "stream",
     "text": [
      "Hello World\n"
     ]
    }
   ],
   "source": [
    "my_str = \"Hello World\"\n",
    "\n",
    "print(my_str)"
   ]
  },
  {
   "cell_type": "markdown",
   "id": "3d082ebf",
   "metadata": {},
   "source": [
    "## Accessing String Elements\n",
    "\n",
    "* Square brackets and the index (or indices) are used together to access string elements\n",
    "* A single character is also treated as a substring, or just a string of length one\n",
    "\n",
    "### Access substrings of a string"
   ]
  },
  {
   "cell_type": "code",
   "execution_count": 9,
   "id": "db77924a",
   "metadata": {},
   "outputs": [
    {
     "name": "stdout",
     "output_type": "stream",
     "text": [
      "H\n",
      "Hello\n"
     ]
    }
   ],
   "source": [
    "my_str = \"Hello World\"\n",
    "\n",
    "print(my_str[0])\n",
    "\n",
    "print(my_str[0:5])"
   ]
  },
  {
   "cell_type": "markdown",
   "id": "b033ee82",
   "metadata": {},
   "source": [
    "## Modifying Strings\n",
    "* A string can be modified by reassigning a string variable to a different string\n",
    "\n",
    "### Create a new string using a substring of another string"
   ]
  },
  {
   "cell_type": "code",
   "execution_count": 2,
   "id": "f1219351",
   "metadata": {},
   "outputs": [
    {
     "name": "stdout",
     "output_type": "stream",
     "text": [
      "Hello Universe\n"
     ]
    }
   ],
   "source": [
    "my_str = \"Hello World\"\n",
    "\n",
    "new_str = my_str[:6] + \"Universe\"\n",
    "\n",
    "print(new_str)"
   ]
  },
  {
   "cell_type": "markdown",
   "id": "450fec8e",
   "metadata": {},
   "source": [
    "## String Formatting Operator\n",
    "* The string formatting operator \"%\" can be used to set strings dynamically\n",
    "* This operator is used to format a set of variables enclosed in a tuple\n",
    "* The format variable is used in place of the variable element in the string\n",
    "    * This variable can take on different types\n",
    "        * \"%s\" is used for a string\n",
    "        * \"%d\" is used for an integer\n",
    "\n",
    "### Simple string formatting example"
   ]
  },
  {
   "cell_type": "code",
   "execution_count": 4,
   "id": "206f4dbc",
   "metadata": {},
   "outputs": [
    {
     "name": "stdout",
     "output_type": "stream",
     "text": [
      "My name is John and I am 30 years old.\n"
     ]
    }
   ],
   "source": [
    "print(\"My name is %s and I am %d years old.\" % (\"John\", 30))"
   ]
  },
  {
   "cell_type": "code",
   "execution_count": null,
   "id": "df16f8a4",
   "metadata": {},
   "outputs": [],
   "source": []
  }
 ],
 "metadata": {
  "kernelspec": {
   "display_name": "Python 3 (ipykernel)",
   "language": "python",
   "name": "python3"
  },
  "language_info": {
   "codemirror_mode": {
    "name": "ipython",
    "version": 3
   },
   "file_extension": ".py",
   "mimetype": "text/x-python",
   "name": "python",
   "nbconvert_exporter": "python",
   "pygments_lexer": "ipython3",
   "version": "3.9.7"
  }
 },
 "nbformat": 4,
 "nbformat_minor": 5
}
