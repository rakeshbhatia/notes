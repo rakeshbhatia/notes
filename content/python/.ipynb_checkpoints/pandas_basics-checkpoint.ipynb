{
 "cells": [
  {
   "cell_type": "markdown",
   "metadata": {},
   "source": [
    "# Pandas Basics\n",
    "15 May 2019\n",
    "\n",
    "## Import modules"
   ]
  },
  {
   "cell_type": "code",
   "execution_count": 1,
   "metadata": {
    "collapsed": true
   },
   "outputs": [],
   "source": [
    "import pandas as pd\n",
    "import numpy as np"
   ]
  },
  {
   "cell_type": "markdown",
   "metadata": {},
   "source": [
    "## Create an empty dataframe"
   ]
  },
  {
   "cell_type": "code",
   "execution_count": 2,
   "metadata": {},
   "outputs": [
    {
     "name": "stdout",
     "output_type": "stream",
     "text": [
      "Empty DataFrame\n",
      "Columns: []\n",
      "Index: []\n"
     ]
    }
   ],
   "source": [
    "df = pd.DataFrame()\n",
    "print(df)"
   ]
  },
  {
   "cell_type": "markdown",
   "metadata": {},
   "source": [
    "## Create a dataframe from list"
   ]
  },
  {
   "cell_type": "code",
   "execution_count": 3,
   "metadata": {},
   "outputs": [
    {
     "name": "stdout",
     "output_type": "stream",
     "text": [
      "   0\n",
      "0  1\n",
      "1  2\n",
      "2  3\n",
      "3  4\n"
     ]
    }
   ],
   "source": [
    "data = [1, 2, 3, 4]\n",
    "df = pd.DataFrame(data)\n",
    "print(df)"
   ]
  },
  {
   "cell_type": "markdown",
   "metadata": {},
   "source": [
    "## Create a dataframe from list of lists"
   ]
  },
  {
   "cell_type": "code",
   "execution_count": 4,
   "metadata": {
    "collapsed": true
   },
   "outputs": [],
   "source": [
    "data = [[]]"
   ]
  },
  {
   "cell_type": "markdown",
   "metadata": {},
   "source": [
    "## Create a dataframe from dict of ndarrays/lists"
   ]
  },
  {
   "cell_type": "code",
   "execution_count": 5,
   "metadata": {},
   "outputs": [
    {
     "name": "stdout",
     "output_type": "stream",
     "text": [
      "  Student  Test Score\n",
      "0    Adam          95\n",
      "1    John          78\n",
      "2  Rachel          84\n",
      "3   Sarah          91\n"
     ]
    }
   ],
   "source": [
    "data = {'Student': ['Adam', 'John', 'Rachel', 'Sarah'], 'Test Score': [95, 78, 84, 91]}\n",
    "df = pd.DataFrame(data)\n",
    "print(df)"
   ]
  },
  {
   "cell_type": "markdown",
   "metadata": {},
   "source": [
    "## Create a dataframe from list of dicts"
   ]
  },
  {
   "cell_type": "code",
   "execution_count": 6,
   "metadata": {},
   "outputs": [
    {
     "name": "stdout",
     "output_type": "stream",
     "text": [
      "   a  b  c    d\n",
      "0  1  2  3  NaN\n",
      "1  5  6  7  8.0\n"
     ]
    }
   ],
   "source": [
    "data = [{'a': 1, 'b': 2, 'c': 3}, {'a': 5, 'b': 6, 'c': 7, 'd': 8}]\n",
    "df = pd.DataFrame(data)\n",
    "print(df)"
   ]
  },
  {
   "cell_type": "markdown",
   "metadata": {},
   "source": [
    "**Note how NaN is appended in missing areas where no value is provided.**"
   ]
  },
  {
   "cell_type": "markdown",
   "metadata": {},
   "source": [
    "## Selecting columns\n",
    "Columns can be selected using bracket notation."
   ]
  },
  {
   "cell_type": "code",
   "execution_count": 7,
   "metadata": {},
   "outputs": [
    {
     "name": "stdout",
     "output_type": "stream",
     "text": [
      "0    1\n",
      "1    6\n",
      "Name: a, dtype: int64\n"
     ]
    }
   ],
   "source": [
    "data = [{'a': 1, 'b': 2, 'c': 3}, {'a': 6, 'b': 7, 'c': 8, 'd': 9}]\n",
    "df = pd.DataFrame(data)\n",
    "print(df['a'])"
   ]
  },
  {
   "cell_type": "markdown",
   "metadata": {},
   "source": [
    "## Adding columns\n",
    "New columns can be added by passing in a Series."
   ]
  },
  {
   "cell_type": "code",
   "execution_count": 8,
   "metadata": {},
   "outputs": [
    {
     "name": "stdout",
     "output_type": "stream",
     "text": [
      "   a  b  c    d   e\n",
      "0  1  2  3  NaN   5\n",
      "1  6  7  8  9.0  10\n"
     ]
    }
   ],
   "source": [
    "data = [{'a': 1, 'b': 2, 'c': 3}, {'a': 6, 'b': 7, 'c': 8, 'd': 9}]\n",
    "df = pd.DataFrame(data)\n",
    "\n",
    "# Add a new column by passing in a Series\n",
    "df['e'] = pd.Series([5, 10], index=[0, 1])\n",
    "print(df)"
   ]
  },
  {
   "cell_type": "markdown",
   "metadata": {},
   "source": [
    "## Deleting columns\n",
    "Columns can be deleted using either `del` or the `pop()` function."
   ]
  },
  {
   "cell_type": "code",
   "execution_count": 9,
   "metadata": {},
   "outputs": [
    {
     "name": "stdout",
     "output_type": "stream",
     "text": [
      "Deleting column 'd' using DEL function:\n",
      "   a  b  c\n",
      "0  1  2  3\n",
      "1  6  7  8\n",
      "Deleting column 'c' using POP function:\n",
      "   a  b\n",
      "0  1  2\n",
      "1  6  7\n"
     ]
    }
   ],
   "source": [
    "data = [{'a': 1, 'b': 2, 'c': 3}, {'a': 6, 'b': 7, 'c': 8, 'd': 9}]\n",
    "df = pd.DataFrame(data)\n",
    "\n",
    "# Using del function\n",
    "print('Deleting column \\'d\\' using DEL function:')\n",
    "del df['d']\n",
    "print(df)\n",
    "\n",
    "# Using pop function\n",
    "print('Deleting column \\'c\\' using POP function:')\n",
    "df.pop('c')\n",
    "print(df)"
   ]
  },
  {
   "cell_type": "markdown",
   "metadata": {},
   "source": [
    "## Row selection by label\n",
    "Rows can be selected using the `loc()` function."
   ]
  },
  {
   "cell_type": "code",
   "execution_count": 10,
   "metadata": {},
   "outputs": [
    {
     "name": "stdout",
     "output_type": "stream",
     "text": [
      "Student       Adam\n",
      "Test Score      95\n",
      "Name: 0, dtype: object\n"
     ]
    }
   ],
   "source": [
    "data = {'Student': ['Adam', 'John', 'Rachel', 'Sarah'], 'Test Score': [95, 78, 84, 91]}\n",
    "df = pd.DataFrame(data)\n",
    "print(df.loc[0])"
   ]
  },
  {
   "cell_type": "markdown",
   "metadata": {},
   "source": [
    "## Row selection by integer location\n",
    "Rows can be selected by their integer location using the `iloc()` function."
   ]
  },
  {
   "cell_type": "code",
   "execution_count": 11,
   "metadata": {},
   "outputs": [
    {
     "name": "stdout",
     "output_type": "stream",
     "text": [
      "Student       Rachel\n",
      "Test Score        84\n",
      "Name: 2, dtype: object\n"
     ]
    }
   ],
   "source": [
    "data = {'Student': ['Adam', 'John', 'Rachel', 'Sarah'], 'Test Score': [95, 78, 84, 91]}\n",
    "df = pd.DataFrame(data)\n",
    "print(df.iloc[2])"
   ]
  },
  {
   "cell_type": "markdown",
   "metadata": {},
   "source": [
    "## Row selection by slicing\n",
    "Slice notation involves using a range, i.e. two indexes separated by a colon."
   ]
  },
  {
   "cell_type": "code",
   "execution_count": 12,
   "metadata": {},
   "outputs": [
    {
     "name": "stdout",
     "output_type": "stream",
     "text": [
      "  Student  Test Score\n",
      "2  Rachel          84\n",
      "3   Sarah          91\n"
     ]
    }
   ],
   "source": [
    "data = {'Student': ['Adam', 'John', 'Rachel', 'Sarah'], 'Test Score': [95, 78, 84, 91]}\n",
    "df = pd.DataFrame(data)\n",
    "print(df[2:4])"
   ]
  },
  {
   "cell_type": "markdown",
   "metadata": {},
   "source": [
    "## Row addition\n",
    "Rows can be added with the `append()` function."
   ]
  },
  {
   "cell_type": "code",
   "execution_count": 13,
   "metadata": {},
   "outputs": [
    {
     "name": "stdout",
     "output_type": "stream",
     "text": [
      "   Student  Test Score\n",
      "0     Adam          95\n",
      "1     John          78\n",
      "2   Rachel          84\n",
      "3    Sarah          91\n",
      "4  Michael          97\n"
     ]
    }
   ],
   "source": [
    "data = {'Student': ['Adam', 'John', 'Rachel', 'Sarah'], 'Test Score': [95, 78, 84, 91]}\n",
    "data2 = {'Student': ['Michael'], 'Test Score': [97]}\n",
    "df = pd.DataFrame(data)\n",
    "df2 = pd.DataFrame(data2)\n",
    "df = df.append(df2, ignore_index=True)\n",
    "print(df)"
   ]
  },
  {
   "cell_type": "markdown",
   "metadata": {},
   "source": [
    "## Row deletion\n",
    "Rows can be deleted using the `drop()` function."
   ]
  },
  {
   "cell_type": "code",
   "execution_count": 14,
   "metadata": {},
   "outputs": [
    {
     "name": "stdout",
     "output_type": "stream",
     "text": [
      "  Student  Test Score\n",
      "1    John          78\n",
      "2  Rachel          84\n",
      "3   Sarah          91\n"
     ]
    }
   ],
   "source": [
    "data = {'Student': ['Adam', 'John', 'Rachel', 'Sarah'], 'Test Score': [95, 78, 84, 91]}\n",
    "df = pd.DataFrame(data)\n",
    "df = df.drop(0)\n",
    "print(df)"
   ]
  }
 ],
 "metadata": {
  "kernelspec": {
   "display_name": "Python 3",
   "language": "python",
   "name": "python3"
  },
  "language_info": {
   "codemirror_mode": {
    "name": "ipython",
    "version": 3
   },
   "file_extension": ".py",
   "mimetype": "text/x-python",
   "name": "python",
   "nbconvert_exporter": "python",
   "pygments_lexer": "ipython3",
   "version": "3.6.7"
  }
 },
 "nbformat": 4,
 "nbformat_minor": 2
}
