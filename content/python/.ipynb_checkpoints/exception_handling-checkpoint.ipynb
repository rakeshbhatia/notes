{
 "cells": [
  {
   "cell_type": "markdown",
   "metadata": {},
   "source": [
    "# Exception Handling"
   ]
  },
  {
   "cell_type": "markdown",
   "metadata": {},
   "source": [
    "## Try and Except\n",
    "* Exception: a Python object representing an error\n",
    "* To defend the program, suspicious code that may raise an exception can be placed in a `try` block\n",
    "* After the `try` block, include an `except` block to handle the problem elegantly, i.e. print an error message"
   ]
  },
  {
   "cell_type": "markdown",
   "metadata": {},
   "source": [
    "### Try to add a `string` and `int`"
   ]
  },
  {
   "cell_type": "code",
   "execution_count": 15,
   "metadata": {},
   "outputs": [
    {
     "name": "stdout",
     "output_type": "stream",
     "text": [
      "Error:  must be str, not int\n"
     ]
    }
   ],
   "source": [
    "try:\n",
    "    # Do your main operations here\n",
    "    'word' + 50\n",
    "except Exception as e:\n",
    "    # If an exception occurs, print an error message\n",
    "    print('Error: ', e)"
   ]
  },
  {
   "cell_type": "markdown",
   "metadata": {},
   "source": [
    "## Finally\n",
    "* A `finally` block can be used together with `try` and `except` blocks\n",
    "* It contains any code that must execute no matter what, even if an exception was raised"
   ]
  },
  {
   "cell_type": "code",
   "execution_count": 16,
   "metadata": {},
   "outputs": [
    {
     "name": "stdout",
     "output_type": "stream",
     "text": [
      "Error:  must be str, not int\n",
      "Operation finished.\n"
     ]
    }
   ],
   "source": [
    "try:\n",
    "    # Do your main operations here\n",
    "    'word' + 50\n",
    "except Exception as e:\n",
    "    # If an exception occurs, print an error message\n",
    "    print('Error: ', e)\n",
    "finally:\n",
    "    print('Operation finished.')"
   ]
  }
 ],
 "metadata": {
  "kernelspec": {
   "display_name": "Python 3",
   "language": "python",
   "name": "python3"
  },
  "language_info": {
   "codemirror_mode": {
    "name": "ipython",
    "version": 3
   },
   "file_extension": ".py",
   "mimetype": "text/x-python",
   "name": "python",
   "nbconvert_exporter": "python",
   "pygments_lexer": "ipython3",
   "version": "3.6.7"
  }
 },
 "nbformat": 4,
 "nbformat_minor": 2
}
