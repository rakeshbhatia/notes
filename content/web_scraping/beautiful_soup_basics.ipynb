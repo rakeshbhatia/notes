{
 "cells": [
  {
   "cell_type": "markdown",
   "metadata": {},
   "source": [
    "# Beautiful Soup Basics"
   ]
  },
  {
   "cell_type": "markdown",
   "metadata": {},
   "source": [
    "Let's demonstrate the basics of Beautiful Soup by scraping the homepage of this website. Note: the site has been updated since this notebook was written, so scraped content shown here will not reflect any new changes. It doesn't matter as this notebook is simply for demonstration purposes."
   ]
  },
  {
   "attachments": {},
   "cell_type": "markdown",
   "metadata": {},
   "source": [
    "![notes_website_home.png](../../assets/img/notes_website_home.png)"
   ]
  },
  {
   "cell_type": "markdown",
   "metadata": {},
   "source": [
    "### Import modules"
   ]
  },
  {
   "cell_type": "code",
   "execution_count": 12,
   "metadata": {
    "collapsed": true
   },
   "outputs": [],
   "source": [
    "import requests\n",
    "import bs4\n",
    "from bs4 import BeautifulSoup"
   ]
  },
  {
   "cell_type": "markdown",
   "metadata": {
    "collapsed": true
   },
   "source": [
    "### Scrape this site's home page and create a soup object from its html"
   ]
  },
  {
   "cell_type": "code",
   "execution_count": 13,
   "metadata": {},
   "outputs": [
    {
     "name": "stdout",
     "output_type": "stream",
     "text": [
      "<!DOCTYPE html>\n",
      "\n",
      "<html lang=\"en-US\">\n",
      "<head>\n",
      "<meta charset=\"utf-8\"/>\n",
      "<!-- Begin Jekyll SEO tag v2.5.0 -->\n",
      "<title>Python • Data Science • Machine Learning | Data Science for Truth</title>\n",
      "<meta content=\"Jekyll v3.8.5\" name=\"generator\">\n",
      "<meta content=\"Python • Data Science • Machine Learning\" property=\"og:title\"/>\n",
      "<meta content=\"en_US\" property=\"og:locale\"/>\n",
      "<link href=\"https://rakeshbhatia.github.io/notes/\" rel=\"canonical\"/>\n",
      "<meta content=\"https://rakeshbhatia.github.io/notes/\" property=\"og:url\"/>\n",
      "<meta content=\"Data Science for Truth\" property=\"og:site_name\"/>\n",
      "<script type=\"application/ld+json\">\n",
      "{\"headline\":\"Python • Data Science • Machine Learning\",\"@type\":\"WebSite\",\"url\":\"https://rakeshbhatia.github.io/notes/\",\"name\":\"Data Science for Truth\",\"@context\":\"http://schema.org\"}</script>\n",
      "<!-- End Jekyll SEO tag -->\n",
      "<meta content=\"width=device-width, initial-scale=1\" name=\"viewport\"/>\n",
      "<meta content=\"#157878\" name=\"theme-color\"/>\n",
      "<link href=\"/notes/assets/css/style.css?v=c811497a7d1d5a66645989749034b290a11776f8\" rel=\"stylesheet\"/>\n",
      "</meta></head>\n",
      "<body>\n",
      "<section class=\"page-header\">\n",
      "<h1 class=\"project-name\">Data Science for Truth</h1>\n",
      "<h2 class=\"project-tagline\"></h2>\n",
      "<a class=\"btn\" href=\"https://github.com/rakeshbhatia/notes\">View on GitHub</a>\n",
      "</section>\n",
      "<section class=\"main-content\">\n",
      "<h2 id=\"python--data-science--machine-learning\"><center>Python • Data Science • Machine Learning</center></h2>\n",
      "<h2 id=\"technical-notes\"><center>Technical Notes</center></h2>\n",
      "<p>Hello! I’m Rakesh Bhatia. I enjoy searching for hidden truths in data, which inspired me to create this site with a variety of technical notes on python, data science, machine learning, and more. Check out all my technical notes below!</p>\n",
      "<blockquote>\n",
      "<p><strong><em>Python</em></strong></p>\n",
      "<ul>\n",
      "<li><a href=\"https://rakeshbhatia.github.io/notes/content/python/sets\">Sets</a></li>\n",
      "<li><a href=\"https://rakeshbhatia.github.io/notes/content/python/loops\">Loops</a></li>\n",
      "<li><a href=\"https://rakeshbhatia.github.io/notes/content/python/if_else\">If Else</a></li>\n",
      "<li><a href=\"https://rakeshbhatia.github.io/notes/content/python/dictionaries\">Dictionaries</a></li>\n",
      "<li><a href=\"https://rakeshbhatia.github.io/notes/content/python/linked_lists\">Linked Lists</a></li>\n",
      "<li><a href=\"https://rakeshbhatia.github.io/notes/content/python/pandas_basics\">Pandas Basics</a></li>\n",
      "<li><a href=\"https://rakeshbhatia.github.io/notes/content/python/list_comprehension\">List Comprehension</a></li>\n",
      "</ul>\n",
      "</blockquote>\n",
      "<blockquote>\n",
      "<p><strong><em>Web Scraping</em></strong></p>\n",
      "<ul>\n",
      "<li><a href=\"https://rakeshbhatia.github.io/notes/content/web_scraping/scrapy_basics\">Scrapy Basics</a></li>\n",
      "<li><a href=\"https://rakeshbhatia.github.io/notes/content/web_scraping/beautiful_soup_basics\">Beautiful Soup Basics</a></li>\n",
      "<li><a href=\"https://rakeshbhatia.github.io/notes/content/web_scraping/scrape_historical_ohlc_stock_prices\">Scrape Historical OHLC Stock Prices</a></li>\n",
      "<li><a href=\"https://rakeshbhatia.github.io/notes/content/web_scraping/scrape_fanduel_nba_player_stats_with_scrapy\">Scrape Fanduel NBA Player Stats with Scrapy</a></li>\n",
      "<li><a href=\"https://rakeshbhatia.github.io/notes/content/web_scraping/scrape_nba_player_rpm_stats_from_espn_with_lxml\">Scrape NBA Player RPM Stats from ESPN with lxml</a></li>\n",
      "<li><a href=\"https://rakeshbhatia.github.io/notes/content/web_scraping/scrape_nba_player_game_logs_from_espn_with_lxml\">Scrape NBA Player Game Logs from ESPN with lxml</a></li>\n",
      "</ul>\n",
      "</blockquote>\n",
      "<blockquote>\n",
      "<p><strong><em>Data Science</em></strong></p>\n",
      "<ul>\n",
      "<li><a href=\"https://rakeshbhatia.github.io/notes/content/data_science/preparing_data\">Preparing Data</a></li>\n",
      "<li><a href=\"https://rakeshbhatia.github.io/notes/content/data_science/fixing_assumptions\">Fixing Assumptions</a></li>\n",
      "<li><a href=\"https://rakeshbhatia.github.io/notes/content/data_science/analysis_of_boston_house_prices\">Analysis of Boston House Prices</a></li>\n",
      "<li><a href=\"https://rakeshbhatia.github.io/notes/content/data_science/in_sample_evaluation_and_cross_validation\">In Sample Evaluation and Cross Validation</a></li>\n",
      "<li><a href=\"https://rakeshbhatia.github.io/notes/content/data_science/iterate_and_evaluate_a_naive_bayes_classifier\">Iterate and Evaluate a Naive Bayes Classifier</a></li>\n",
      "<li><a href=\"https://rakeshbhatia.github.io/notes/content/data_science/house_prices_advanced_regression_techniques\">House Prices: Advanced Regression Techniques</a></li>\n",
      "<li><a href=\"https://rakeshbhatia.github.io/notes/content/data_science/author_prediction_unsupervised_nlp_with_bow\">Author Prediction: Unsupervised NLP with BOW</a></li>\n",
      "</ul>\n",
      "</blockquote>\n",
      "<blockquote>\n",
      "<p><strong><em>Data Engineering</em></strong></p>\n",
      "<ul>\n",
      "<li><a href=\"https://rakeshbhatia.github.io/notes/content/data_engineering/plotting_s_parameter_distributions_with_matplotlib\">Plotting S-parameter Distributions with Matplotlib</a></li>\n",
      "<li><a href=\"https://rakeshbhatia.github.io/notes/content/data_engineering/plotting_current_and_gain_distributions_with_matplotlib\">Plotting Current and Gain Distributions with Matplotlib</a></li>\n",
      "</ul>\n",
      "</blockquote>\n",
      "<p>Copyright © Rakesh Bhatia, September 2019. All notes available on <a href=\"https://github.com/rakeshbhatia/notes\">GitHub</a>.</p>\n",
      "<footer class=\"site-footer\">\n",
      "<span class=\"site-footer-owner\"><a href=\"https://github.com/rakeshbhatia/notes\">notes</a> is maintained by <a href=\"https://github.com/rakeshbhatia\">rakeshbhatia</a>.</span>\n",
      "<span class=\"site-footer-credits\">This page was generated by <a href=\"https://pages.github.com\">GitHub Pages</a>.</span>\n",
      "</footer>\n",
      "</section>\n",
      "</body>\n",
      "</html>\n",
      "\n"
     ]
    }
   ],
   "source": [
    "# Store the url in a variable\n",
    "url = 'https://rakeshbhatia.github.io/notes/'\n",
    "\n",
    "# Get the site content using requests\n",
    "r = requests.get(url)\n",
    "\n",
    "# Extract text from the content\n",
    "content = r.text\n",
    "\n",
    "# Convert html text content into a beautiful soup object\n",
    "soup = BeautifulSoup(content, 'html.parser')\n",
    "\n",
    "print(soup)"
   ]
  },
  {
   "cell_type": "markdown",
   "metadata": {},
   "source": [
    "### Website title"
   ]
  },
  {
   "cell_type": "code",
   "execution_count": 14,
   "metadata": {
    "scrolled": true
   },
   "outputs": [
    {
     "data": {
      "text/plain": [
       "<title>Python • Data Science • Machine Learning | Data Science for Truth</title>"
      ]
     },
     "execution_count": 14,
     "metadata": {},
     "output_type": "execute_result"
    }
   ],
   "source": [
    "# View the soup object's title tag\n",
    "soup.title"
   ]
  },
  {
   "cell_type": "markdown",
   "metadata": {},
   "source": [
    "### Contents of title tag\n",
    "* Returns a list"
   ]
  },
  {
   "cell_type": "code",
   "execution_count": 15,
   "metadata": {},
   "outputs": [
    {
     "data": {
      "text/plain": [
       "['Python • Data Science • Machine Learning | Data Science for Truth']"
      ]
     },
     "execution_count": 15,
     "metadata": {},
     "output_type": "execute_result"
    }
   ],
   "source": [
    "soup.title.contents"
   ]
  },
  {
   "cell_type": "markdown",
   "metadata": {},
   "source": [
    "### String inside title tag"
   ]
  },
  {
   "cell_type": "code",
   "execution_count": 16,
   "metadata": {},
   "outputs": [
    {
     "data": {
      "text/plain": [
       "'Python • Data Science • Machine Learning | Data Science for Truth'"
      ]
     },
     "execution_count": 16,
     "metadata": {},
     "output_type": "execute_result"
    }
   ],
   "source": [
    "# View the string contained in the title tag\n",
    "soup.title.string"
   ]
  },
  {
   "cell_type": "markdown",
   "metadata": {},
   "source": [
    "### Parent of the title tag"
   ]
  },
  {
   "cell_type": "code",
   "execution_count": 17,
   "metadata": {
    "scrolled": true
   },
   "outputs": [
    {
     "data": {
      "text/plain": [
       "'head'"
      ]
     },
     "execution_count": 17,
     "metadata": {},
     "output_type": "execute_result"
    }
   ],
   "source": [
    "soup.title.parent.name"
   ]
  },
  {
   "cell_type": "markdown",
   "metadata": {},
   "source": [
    "### First paragraph tag"
   ]
  },
  {
   "cell_type": "code",
   "execution_count": 18,
   "metadata": {
    "scrolled": true
   },
   "outputs": [
    {
     "data": {
      "text/plain": [
       "<p>Hello! I’m Rakesh Bhatia. I enjoy searching for hidden truths in data, which inspired me to create this site with a variety of technical notes on python, data science, machine learning, and more. Check out all my technical notes below!</p>"
      ]
     },
     "execution_count": 18,
     "metadata": {},
     "output_type": "execute_result"
    }
   ],
   "source": [
    "# View the soup object's first paragraph tag\n",
    "soup.p"
   ]
  },
  {
   "cell_type": "markdown",
   "metadata": {},
   "source": [
    "### String inside paragraph tag\n",
    "* Note: if the desired string is contained within a nested tab, it will not show up here\n",
    "    * The string must be extracted directly from the tag that immediately encloses it"
   ]
  },
  {
   "cell_type": "code",
   "execution_count": 19,
   "metadata": {},
   "outputs": [
    {
     "data": {
      "text/plain": [
       "'Hello! I’m Rakesh Bhatia. I enjoy searching for hidden truths in data, which inspired me to create this site with a variety of technical notes on python, data science, machine learning, and more. Check out all my technical notes below!'"
      ]
     },
     "execution_count": 19,
     "metadata": {},
     "output_type": "execute_result"
    }
   ],
   "source": [
    "soup.p.string"
   ]
  },
  {
   "cell_type": "markdown",
   "metadata": {},
   "source": [
    "### First link tag"
   ]
  },
  {
   "cell_type": "code",
   "execution_count": 20,
   "metadata": {
    "scrolled": true
   },
   "outputs": [
    {
     "data": {
      "text/plain": [
       "<a class=\"btn\" href=\"https://github.com/rakeshbhatia/notes\">View on GitHub</a>"
      ]
     },
     "execution_count": 20,
     "metadata": {},
     "output_type": "execute_result"
    }
   ],
   "source": [
    "soup.a"
   ]
  },
  {
   "cell_type": "markdown",
   "metadata": {},
   "source": [
    "### Find all link tags and print the first three\n",
    "* The `find_all()` function enables you to search the DOM tree for any desired elements by their tag\n",
    "* Found tags are returned as a list of `Tag` objects\n",
    "    * If only a single tag is found, the `find_all()` method will return just a single `Tag` object"
   ]
  },
  {
   "cell_type": "code",
   "execution_count": 21,
   "metadata": {
    "scrolled": true
   },
   "outputs": [
    {
     "data": {
      "text/plain": [
       "[<a class=\"btn\" href=\"https://github.com/rakeshbhatia/notes\">View on GitHub</a>,\n",
       " <a href=\"https://rakeshbhatia.github.io/notes/content/python/sets\">Sets</a>]"
      ]
     },
     "execution_count": 21,
     "metadata": {},
     "output_type": "execute_result"
    }
   ],
   "source": [
    "soup.find_all('a')[0:2]"
   ]
  },
  {
   "cell_type": "markdown",
   "metadata": {},
   "source": [
    "### Make our soup object's content more readable\n",
    "* This will appear just like the site's original html"
   ]
  },
  {
   "cell_type": "code",
   "execution_count": 22,
   "metadata": {
    "scrolled": false
   },
   "outputs": [
    {
     "name": "stdout",
     "output_type": "stream",
     "text": [
      "<!DOCTYPE html>\n",
      "<html lang=\"en-US\">\n",
      " <head>\n",
      "  <meta charset=\"utf-8\"/>\n",
      "  <!-- Begin Jekyll SEO tag v2.5.0 -->\n",
      "  <title>\n",
      "   Python • Data Science • Machine Learning | Data Science for Truth\n",
      "  </title>\n",
      "  <meta content=\"Jekyll v3.8.5\" name=\"generator\">\n",
      "   <meta content=\"Python • Data Science • Machine Learning\" property=\"og:title\"/>\n",
      "   <meta content=\"en_US\" property=\"og:locale\"/>\n",
      "   <link href=\"https://rakeshbhatia.github.io/notes/\" rel=\"canonical\"/>\n",
      "   <meta content=\"https://rakeshbhatia.github.io/notes/\" property=\"og:url\"/>\n",
      "   <meta content=\"Data Science for Truth\" property=\"og:site_name\"/>\n",
      "   <script type=\"application/ld+json\">\n",
      "    {\"headline\":\"Python • Data Science • Machine Learning\",\"@type\":\"WebSite\",\"url\":\"https://rakeshbhatia.github.io/notes/\",\"name\":\"Data Science for Truth\",\"@context\":\"http://schema.org\"}\n",
      "   </script>\n",
      "   <!-- End Jekyll SEO tag -->\n",
      "   <meta content=\"width=device-width, initial-scale=1\" name=\"viewport\"/>\n",
      "   <meta content=\"#157878\" name=\"theme-color\"/>\n",
      "   <link href=\"/notes/assets/css/style.css?v=c811497a7d1d5a66645989749034b290a11776f8\" rel=\"stylesheet\"/>\n",
      "  </meta>\n",
      " </head>\n",
      " <body>\n",
      "  <section class=\"page-header\">\n",
      "   <h1 class=\"project-name\">\n",
      "    Data Science for Truth\n",
      "   </h1>\n",
      "   <h2 class=\"project-tagline\">\n",
      "   </h2>\n",
      "   <a class=\"btn\" href=\"https://github.com/rakeshbhatia/notes\">\n",
      "    View on GitHub\n",
      "   </a>\n",
      "  </section>\n",
      "  <section class=\"main-content\">\n",
      "   <h2 id=\"python--data-science--machine-learning\">\n",
      "    <center>\n",
      "     Python • Data Science • Machine Learning\n",
      "    </center>\n",
      "   </h2>\n",
      "   <h2 id=\"technical-notes\">\n",
      "    <center>\n",
      "     Technical Notes\n",
      "    </center>\n",
      "   </h2>\n",
      "   <p>\n",
      "    Hello! I’m Rakesh Bhatia. I enjoy searching for hidden truths in data, which inspired me to create this site with a variety of technical notes on python, data science, machine learning, and more. Check out all my technical notes below!\n",
      "   </p>\n",
      "   <blockquote>\n",
      "    <p>\n",
      "     <strong>\n",
      "      <em>\n",
      "       Python\n",
      "      </em>\n",
      "     </strong>\n",
      "    </p>\n",
      "    <ul>\n",
      "     <li>\n",
      "      <a href=\"https://rakeshbhatia.github.io/notes/content/python/sets\">\n",
      "       Sets\n",
      "      </a>\n",
      "     </li>\n",
      "     <li>\n",
      "      <a href=\"https://rakeshbhatia.github.io/notes/content/python/loops\">\n",
      "       Loops\n",
      "      </a>\n",
      "     </li>\n",
      "     <li>\n",
      "      <a href=\"https://rakeshbhatia.github.io/notes/content/python/if_else\">\n",
      "       If Else\n",
      "      </a>\n",
      "     </li>\n",
      "     <li>\n",
      "      <a href=\"https://rakeshbhatia.github.io/notes/content/python/dictionaries\">\n",
      "       Dictionaries\n",
      "      </a>\n",
      "     </li>\n",
      "     <li>\n",
      "      <a href=\"https://rakeshbhatia.github.io/notes/content/python/linked_lists\">\n",
      "       Linked Lists\n",
      "      </a>\n",
      "     </li>\n",
      "     <li>\n",
      "      <a href=\"https://rakeshbhatia.github.io/notes/content/python/pandas_basics\">\n",
      "       Pandas Basics\n",
      "      </a>\n",
      "     </li>\n",
      "     <li>\n",
      "      <a href=\"https://rakeshbhatia.github.io/notes/content/python/list_comprehension\">\n",
      "       List Comprehension\n",
      "      </a>\n",
      "     </li>\n",
      "    </ul>\n",
      "   </blockquote>\n",
      "   <blockquote>\n",
      "    <p>\n",
      "     <strong>\n",
      "      <em>\n",
      "       Web Scraping\n",
      "      </em>\n",
      "     </strong>\n",
      "    </p>\n",
      "    <ul>\n",
      "     <li>\n",
      "      <a href=\"https://rakeshbhatia.github.io/notes/content/web_scraping/scrapy_basics\">\n",
      "       Scrapy Basics\n",
      "      </a>\n",
      "     </li>\n",
      "     <li>\n",
      "      <a href=\"https://rakeshbhatia.github.io/notes/content/web_scraping/beautiful_soup_basics\">\n",
      "       Beautiful Soup Basics\n",
      "      </a>\n",
      "     </li>\n",
      "     <li>\n",
      "      <a href=\"https://rakeshbhatia.github.io/notes/content/web_scraping/scrape_historical_ohlc_stock_prices\">\n",
      "       Scrape Historical OHLC Stock Prices\n",
      "      </a>\n",
      "     </li>\n",
      "     <li>\n",
      "      <a href=\"https://rakeshbhatia.github.io/notes/content/web_scraping/scrape_fanduel_nba_player_stats_with_scrapy\">\n",
      "       Scrape Fanduel NBA Player Stats with Scrapy\n",
      "      </a>\n",
      "     </li>\n",
      "     <li>\n",
      "      <a href=\"https://rakeshbhatia.github.io/notes/content/web_scraping/scrape_nba_player_rpm_stats_from_espn_with_lxml\">\n",
      "       Scrape NBA Player RPM Stats from ESPN with lxml\n",
      "      </a>\n",
      "     </li>\n",
      "     <li>\n",
      "      <a href=\"https://rakeshbhatia.github.io/notes/content/web_scraping/scrape_nba_player_game_logs_from_espn_with_lxml\">\n",
      "       Scrape NBA Player Game Logs from ESPN with lxml\n",
      "      </a>\n",
      "     </li>\n",
      "    </ul>\n",
      "   </blockquote>\n",
      "   <blockquote>\n",
      "    <p>\n",
      "     <strong>\n",
      "      <em>\n",
      "       Data Science\n",
      "      </em>\n",
      "     </strong>\n",
      "    </p>\n",
      "    <ul>\n",
      "     <li>\n",
      "      <a href=\"https://rakeshbhatia.github.io/notes/content/data_science/preparing_data\">\n",
      "       Preparing Data\n",
      "      </a>\n",
      "     </li>\n",
      "     <li>\n",
      "      <a href=\"https://rakeshbhatia.github.io/notes/content/data_science/fixing_assumptions\">\n",
      "       Fixing Assumptions\n",
      "      </a>\n",
      "     </li>\n",
      "     <li>\n",
      "      <a href=\"https://rakeshbhatia.github.io/notes/content/data_science/analysis_of_boston_house_prices\">\n",
      "       Analysis of Boston House Prices\n",
      "      </a>\n",
      "     </li>\n",
      "     <li>\n",
      "      <a href=\"https://rakeshbhatia.github.io/notes/content/data_science/in_sample_evaluation_and_cross_validation\">\n",
      "       In Sample Evaluation and Cross Validation\n",
      "      </a>\n",
      "     </li>\n",
      "     <li>\n",
      "      <a href=\"https://rakeshbhatia.github.io/notes/content/data_science/iterate_and_evaluate_a_naive_bayes_classifier\">\n",
      "       Iterate and Evaluate a Naive Bayes Classifier\n",
      "      </a>\n",
      "     </li>\n",
      "     <li>\n",
      "      <a href=\"https://rakeshbhatia.github.io/notes/content/data_science/house_prices_advanced_regression_techniques\">\n",
      "       House Prices: Advanced Regression Techniques\n",
      "      </a>\n",
      "     </li>\n",
      "     <li>\n",
      "      <a href=\"https://rakeshbhatia.github.io/notes/content/data_science/author_prediction_unsupervised_nlp_with_bow\">\n",
      "       Author Prediction: Unsupervised NLP with BOW\n",
      "      </a>\n",
      "     </li>\n",
      "    </ul>\n",
      "   </blockquote>\n",
      "   <blockquote>\n",
      "    <p>\n",
      "     <strong>\n",
      "      <em>\n",
      "       Data Engineering\n",
      "      </em>\n",
      "     </strong>\n",
      "    </p>\n",
      "    <ul>\n",
      "     <li>\n",
      "      <a href=\"https://rakeshbhatia.github.io/notes/content/data_engineering/plotting_s_parameter_distributions_with_matplotlib\">\n",
      "       Plotting S-parameter Distributions with Matplotlib\n",
      "      </a>\n",
      "     </li>\n",
      "     <li>\n",
      "      <a href=\"https://rakeshbhatia.github.io/notes/content/data_engineering/plotting_current_and_gain_distributions_with_matplotlib\">\n",
      "       Plotting Current and Gain Distributions with Matplotlib\n",
      "      </a>\n",
      "     </li>\n",
      "    </ul>\n",
      "   </blockquote>\n",
      "   <p>\n",
      "    Copyright © Rakesh Bhatia, September 2019. All notes available on\n",
      "    <a href=\"https://github.com/rakeshbhatia/notes\">\n",
      "     GitHub\n",
      "    </a>\n",
      "    .\n",
      "   </p>\n",
      "   <footer class=\"site-footer\">\n",
      "    <span class=\"site-footer-owner\">\n",
      "     <a href=\"https://github.com/rakeshbhatia/notes\">\n",
      "      notes\n",
      "     </a>\n",
      "     is maintained by\n",
      "     <a href=\"https://github.com/rakeshbhatia\">\n",
      "      rakeshbhatia\n",
      "     </a>\n",
      "     .\n",
      "    </span>\n",
      "    <span class=\"site-footer-credits\">\n",
      "     This page was generated by\n",
      "     <a href=\"https://pages.github.com\">\n",
      "      GitHub Pages\n",
      "     </a>\n",
      "     .\n",
      "    </span>\n",
      "   </footer>\n",
      "  </section>\n",
      " </body>\n",
      "</html>\n",
      "\n"
     ]
    }
   ],
   "source": [
    "pretty_soup = soup.prettify()\n",
    "print(pretty_soup)"
   ]
  }
 ],
 "metadata": {
  "kernelspec": {
   "display_name": "Python 3 (ipykernel)",
   "language": "python",
   "name": "python3"
  },
  "language_info": {
   "codemirror_mode": {
    "name": "ipython",
    "version": 3
   },
   "file_extension": ".py",
   "mimetype": "text/x-python",
   "name": "python",
   "nbconvert_exporter": "python",
   "pygments_lexer": "ipython3",
   "version": "3.9.7"
  }
 },
 "nbformat": 4,
 "nbformat_minor": 2
}
