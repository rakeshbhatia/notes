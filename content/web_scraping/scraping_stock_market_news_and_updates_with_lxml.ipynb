{
 "cells": [
  {
   "cell_type": "markdown",
   "metadata": {},
   "source": [
    "# Scraping Stock Market News and Updates with lxml"
   ]
  },
  {
   "cell_type": "code",
   "execution_count": 39,
   "metadata": {
    "collapsed": true
   },
   "outputs": [],
   "source": [
    "import csv\n",
    "import time\n",
    "import string\n",
    "import datetime\n",
    "import requests\n",
    "import lxml.html as lh\n",
    "import json\n",
    "import numpy as np\n",
    "import pandas as pd\n",
    "import smtplib\n",
    "from email.mime.text import MIMEText\n",
    "from email.mime.multipart import MIMEMultipart"
   ]
  },
  {
   "cell_type": "code",
   "execution_count": 40,
   "metadata": {},
   "outputs": [
    {
     "name": "stdout",
     "output_type": "stream",
     "text": [
      "The last time the S&P did this, it rallied 25% to an all-time highNia Warfield6 hours ago\n"
     ]
    }
   ],
   "source": [
    "#XPath: //*[@id=\"HP-MarketsModule\"]/section[2]/section[2]/section/div[1]\n",
    "\n",
    "url = 'https://www.cnbc.com/'\n",
    "\n",
    "page = requests.get(url)\n",
    "\n",
    "doc = lh.fromstring(page.content)\n",
    "\n",
    "#print(doc.text_content())\n",
    "\n",
    "market_news = doc.xpath('//*[@id=\"HP-MarketsModule\"]/section[2]/section[2]/section//div')\n",
    "\n",
    "print(market_news[0].text_content())"
   ]
  },
  {
   "cell_type": "code",
   "execution_count": 41,
   "metadata": {},
   "outputs": [
    {
     "name": "stdout",
     "output_type": "stream",
     "text": [
      "headlines: \n",
      " ['The last time the S&P did this, it rallied 25% to an all-time high', 'Nia Warfield6 hours ago', 'The market week ahead: Mexico tariffs and more data that may clear the way for a rate cut', 'Dow jumps 260 points, posts best week since November after jobs report spurs rate-cut hopes', \"That big May jobs letdown may just be part of the 'new normal' for the labor market\"]\n"
     ]
    }
   ],
   "source": [
    "keywords = ['Trump', 'China', 'tariff', 'Tariff', 'Mnuchin', 'Treasury', 'commerce', 'Commerce']\n",
    "k = set(keywords)\n",
    "\n",
    "headlines = []\n",
    "\n",
    "for headline in market_news:\n",
    "    if headline.text_content() not in headlines:\n",
    "        headlines.append(headline.text_content())\n",
    "    # Check if keyword in headline\n",
    "    #matching = k.intersection(headline.text_content())\n",
    "    #if matching:\n",
    "    #    headlines.append(headline.text_content())\n",
    "\n",
    "headlines = headlines[1:]\n",
    "#headlines = headlines.remove(headlines[1])\n",
    "print('headlines: \\n', headlines)"
   ]
  },
  {
   "cell_type": "code",
   "execution_count": 42,
   "metadata": {},
   "outputs": [
    {
     "name": "stdout",
     "output_type": "stream",
     "text": [
      "Headlines: \n",
      "The last time the S&P did this, it rallied 25% to an all-time high\n",
      "Nia Warfield6 hours ago\n",
      "The market week ahead: Mexico tariffs and more data that may clear the way for a rate cut\n",
      "Dow jumps 260 points, posts best week since November after jobs report spurs rate-cut hopes\n",
      "That big May jobs letdown may just be part of the 'new normal' for the labor market\n"
     ]
    },
    {
     "data": {
      "text/plain": [
       "(221, b'2.0.0 closing connection p188sm3519277oia.14 - gsmtp')"
      ]
     },
     "execution_count": 42,
     "metadata": {},
     "output_type": "execute_result"
    }
   ],
   "source": [
    "#import smtplib\n",
    "#from email.mime.text import MIMEText\n",
    "#from email.mime.multipart import MIMEMultipart\n",
    "\n",
    "email = \"rakeshbhatia87@gmail.com\"\n",
    "pas = \"\"\n",
    "\n",
    "sms_gateway = '5106480300@txt.att.net'\n",
    "# The server we use to send emails in our case it will be gmail but every email provider has a different smtp \n",
    "# and port is also provided by the email provider.\n",
    "smtp = \"smtp.gmail.com\"\n",
    "port = 587\n",
    "# This will start our email server\n",
    "server = smtplib.SMTP(smtp,port)\n",
    "# Starting the server\n",
    "server.starttls()\n",
    "# Now we need to login\n",
    "server.login(email,pas)\n",
    "\n",
    "# Now we use the MIME module to structure our message.\n",
    "msg = MIMEMultipart()\n",
    "msg['From'] = email\n",
    "msg['To'] = sms_gateway\n",
    "# Make sure you add a new line in the subject\n",
    "msg['Subject'] = \"Testing sms\\n\"\n",
    "# Make sure you also add new lines to your body\n",
    "body = \"Headlines: \\n\" + '\\n'.join(headlines)\n",
    "print(body)\n",
    "# and then attach that body furthermore you can also send html content.\n",
    "msg.attach(MIMEText(body, 'plain'))\n",
    "\n",
    "sms = msg.as_string()\n",
    "\n",
    "server.sendmail(email,sms_gateway,sms)\n",
    "\n",
    "# lastly quit the server\n",
    "server.quit()"
   ]
  },
  {
   "cell_type": "code",
   "execution_count": null,
   "metadata": {
    "collapsed": true
   },
   "outputs": [],
   "source": []
  }
 ],
 "metadata": {
  "kernelspec": {
   "display_name": "Python 3 (ipykernel)",
   "language": "python",
   "name": "python3"
  },
  "language_info": {
   "codemirror_mode": {
    "name": "ipython",
    "version": 3
   },
   "file_extension": ".py",
   "mimetype": "text/x-python",
   "name": "python",
   "nbconvert_exporter": "python",
   "pygments_lexer": "ipython3",
   "version": "3.9.7"
  }
 },
 "nbformat": 4,
 "nbformat_minor": 2
}
