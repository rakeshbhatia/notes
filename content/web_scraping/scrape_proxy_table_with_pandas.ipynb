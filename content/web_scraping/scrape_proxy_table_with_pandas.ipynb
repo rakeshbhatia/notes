{
 "cells": [
  {
   "cell_type": "markdown",
   "id": "1a73ec1b",
   "metadata": {},
   "source": [
    "# Scrape Proxy Table with pandas\n",
    "## Overview\n",
    "* We will use the pandas library to easily scrape the list of proxies at the following website:\n",
    "    * https://hidemy.name/en/proxy-list/\n",
    "* The `read_html()` method will be used to extract all tables from the HTML\n",
    "* The website looks like this:"
   ]
  },
  {
   "attachments": {},
   "cell_type": "markdown",
   "id": "275aa183",
   "metadata": {},
   "source": [
    "![proxy-table-1.png](../../assets/img/proxy-table-1.png)"
   ]
  },
  {
   "cell_type": "markdown",
   "id": "65351501",
   "metadata": {},
   "source": [
    "## Import libraries"
   ]
  },
  {
   "cell_type": "code",
   "execution_count": 1,
   "id": "16a34a7e",
   "metadata": {},
   "outputs": [],
   "source": [
    "import requests\n",
    "import pandas as pd"
   ]
  },
  {
   "cell_type": "markdown",
   "id": "915d2367",
   "metadata": {},
   "source": [
    "## Set user agent header and get website response\n",
    "* In order to avoid getting an HTTP Error 403 (Forbidden), we need to set a user agent header\n",
    "* We can then feed this header as an argument to the `get()` method from the `requests` library"
   ]
  },
  {
   "cell_type": "code",
   "execution_count": 2,
   "id": "67009d87",
   "metadata": {},
   "outputs": [],
   "source": [
    "url = 'https://hidemy.name/en/proxy-list/'\n",
    "\n",
    "header = {\n",
    "  \"User-Agent\": \"Mozilla/5.0 (X11; Linux x86_64) AppleWebKit/537.36 (KHTML, like Gecko) Chrome/50.0.2661.75 Safari/537.36\",\n",
    "  \"X-Requested-With\": \"XMLHttpRequest\"\n",
    "}\n",
    "\n",
    "r = requests.get(url, headers=header)"
   ]
  },
  {
   "cell_type": "markdown",
   "id": "7147a6eb",
   "metadata": {},
   "source": [
    "## Get all tables from the HTML\n",
    "* Now we can use `r.text` (the text of the response) as our input to the `read_html()` method\n",
    "* The `read_html()` method returns a list of all tables from the HTML stored in the response `r`"
   ]
  },
  {
   "cell_type": "code",
   "execution_count": 3,
   "id": "7d7dcfc9",
   "metadata": {},
   "outputs": [
    {
     "name": "stdout",
     "output_type": "stream",
     "text": [
      "Total tables: 1\n"
     ]
    }
   ],
   "source": [
    "tables = pd.read_html(r.text)\n",
    "\n",
    "print(f'Total tables: {len(tables)}')"
   ]
  },
  {
   "cell_type": "markdown",
   "id": "fdbb0a0b",
   "metadata": {},
   "source": [
    "## Store proxy list table in pandas DataFrame\n",
    "* Since there is only one table, our list `tables` will only contain one element\n",
    "* We can store the table in a pandas DataFrame\n",
    "* Printing `df.head()` and comparing with the screenshot above confirms that the table has been extracted successfully"
   ]
  },
  {
   "cell_type": "code",
   "execution_count": 4,
   "id": "a62a0a01",
   "metadata": {},
   "outputs": [
    {
     "data": {
      "text/html": [
       "<div>\n",
       "<style scoped>\n",
       "    .dataframe tbody tr th:only-of-type {\n",
       "        vertical-align: middle;\n",
       "    }\n",
       "\n",
       "    .dataframe tbody tr th {\n",
       "        vertical-align: top;\n",
       "    }\n",
       "\n",
       "    .dataframe thead th {\n",
       "        text-align: right;\n",
       "    }\n",
       "</style>\n",
       "<table border=\"1\" class=\"dataframe\">\n",
       "  <thead>\n",
       "    <tr style=\"text-align: right;\">\n",
       "      <th></th>\n",
       "      <th>IP address</th>\n",
       "      <th>Port</th>\n",
       "      <th>Country, City</th>\n",
       "      <th>Speed</th>\n",
       "      <th>Type</th>\n",
       "      <th>Anonymity</th>\n",
       "      <th>Latest update</th>\n",
       "    </tr>\n",
       "  </thead>\n",
       "  <tbody>\n",
       "    <tr>\n",
       "      <th>0</th>\n",
       "      <td>180.180.170.188</td>\n",
       "      <td>8080</td>\n",
       "      <td>Thailand</td>\n",
       "      <td>4560 ms</td>\n",
       "      <td>HTTP</td>\n",
       "      <td>no</td>\n",
       "      <td>41 seconds</td>\n",
       "    </tr>\n",
       "    <tr>\n",
       "      <th>1</th>\n",
       "      <td>223.27.194.66</td>\n",
       "      <td>63141</td>\n",
       "      <td>Thailand</td>\n",
       "      <td>1900 ms</td>\n",
       "      <td>HTTP</td>\n",
       "      <td>no</td>\n",
       "      <td>43 seconds</td>\n",
       "    </tr>\n",
       "    <tr>\n",
       "      <th>2</th>\n",
       "      <td>101.51.55.153</td>\n",
       "      <td>8080</td>\n",
       "      <td>Thailand Don Chedi</td>\n",
       "      <td>3040 ms</td>\n",
       "      <td>HTTP</td>\n",
       "      <td>no</td>\n",
       "      <td>43 seconds</td>\n",
       "    </tr>\n",
       "    <tr>\n",
       "      <th>3</th>\n",
       "      <td>122.154.35.190</td>\n",
       "      <td>8080</td>\n",
       "      <td>Thailand Panare</td>\n",
       "      <td>1880 ms</td>\n",
       "      <td>HTTP</td>\n",
       "      <td>no</td>\n",
       "      <td>43 seconds</td>\n",
       "    </tr>\n",
       "    <tr>\n",
       "      <th>4</th>\n",
       "      <td>203.23.106.190</td>\n",
       "      <td>80</td>\n",
       "      <td>Cyprus</td>\n",
       "      <td>480 ms</td>\n",
       "      <td>HTTP</td>\n",
       "      <td>no</td>\n",
       "      <td>1 minutes</td>\n",
       "    </tr>\n",
       "  </tbody>\n",
       "</table>\n",
       "</div>"
      ],
      "text/plain": [
       "        IP address   Port       Country, City    Speed  Type Anonymity  \\\n",
       "0  180.180.170.188   8080            Thailand  4560 ms  HTTP        no   \n",
       "1    223.27.194.66  63141            Thailand  1900 ms  HTTP        no   \n",
       "2    101.51.55.153   8080  Thailand Don Chedi  3040 ms  HTTP        no   \n",
       "3   122.154.35.190   8080     Thailand Panare  1880 ms  HTTP        no   \n",
       "4   203.23.106.190     80              Cyprus   480 ms  HTTP        no   \n",
       "\n",
       "  Latest update  \n",
       "0    41 seconds  \n",
       "1    43 seconds  \n",
       "2    43 seconds  \n",
       "3    43 seconds  \n",
       "4     1 minutes  "
      ]
     },
     "execution_count": 4,
     "metadata": {},
     "output_type": "execute_result"
    }
   ],
   "source": [
    "df = tables[0]\n",
    "\n",
    "df.head()"
   ]
  }
 ],
 "metadata": {
  "kernelspec": {
   "display_name": "Python 3 (ipykernel)",
   "language": "python",
   "name": "python3"
  },
  "language_info": {
   "codemirror_mode": {
    "name": "ipython",
    "version": 3
   },
   "file_extension": ".py",
   "mimetype": "text/x-python",
   "name": "python",
   "nbconvert_exporter": "python",
   "pygments_lexer": "ipython3",
   "version": "3.9.7"
  }
 },
 "nbformat": 4,
 "nbformat_minor": 5
}
