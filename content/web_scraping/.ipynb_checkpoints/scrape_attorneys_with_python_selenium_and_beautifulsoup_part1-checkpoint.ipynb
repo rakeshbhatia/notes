{
 "cells": [
  {
   "cell_type": "markdown",
   "id": "dccf0a32",
   "metadata": {},
   "source": [
    "# Scrape Attorneys with Python, Selenium, and Beautiful Soup – Part 1\n",
    "In this project I will demonstrate how to scrape the email addresses for attorneys in a particular geographical area using the California Bar Association (CalBar) website: https://www.calbar.ca.gov/. This is a multi-part project. In the first part, we will search for attorneys in specific zip codes using CalBar's advanced search. Then, we will scrape these attorney listings and scrape their individual CalBar webpages to extract each attorney's email address."
   ]
  },
  {
   "cell_type": "code",
   "execution_count": null,
   "id": "19383271",
   "metadata": {},
   "outputs": [],
   "source": [
    "import re\n",
    "import os\n",
    "import time\n",
    "import string\n",
    "import random\n",
    "import asyncio\n",
    "import requests\n",
    "import zipcodes\n",
    "import itertools\n",
    "import pandas as pd\n",
    "import multiprocessing\n",
    "from pprint import pprint\n",
    "from bs4 import BeautifulSoup\n",
    "from PyPDF2 import PdfFileReader\n",
    "from fake_useragent import UserAgent\n",
    "from requests_html import HTMLSession\n",
    "from requests_html import AsyncHTMLSession"
   ]
  },
  {
   "cell_type": "markdown",
   "id": "404bbe86",
   "metadata": {},
   "source": [
    "First, let's extract the list of all zip codes for San Diego county from the CalBar website. They have a demographics search feature that lists the number of attorneys for a particular county by zip code or city. From this, we will extract all the zip codes that we will use for our next scraper. Let's instantiate the driver and sleep for 5 seconds to give the page time to load."
   ]
  },
  {
   "cell_type": "code",
   "execution_count": null,
   "id": "993796ba",
   "metadata": {},
   "outputs": [],
   "source": [
    "url = \"https://apps.calbar.ca.gov/members/demographics_search.aspx\"\n",
    "\n",
    "driver = browser()\n",
    "driver.get(url)\n",
    "time.sleep(5)"
   ]
  },
  {
   "cell_type": "markdown",
   "id": "b5ac072c",
   "metadata": {},
   "source": [
    "Now we will select the option for San Diego county from the dropdown menu. Each option is numbered in the dynamically-rendered HTML."
   ]
  },
  {
   "cell_type": "code",
   "execution_count": null,
   "id": "64cf7f52",
   "metadata": {},
   "outputs": [],
   "source": [
    "dropdown = Select(driver.find_element(By.ID, \"ddlCounty\"))\n",
    "time.sleep(1)\n",
    "dropdown.select_by_index(19)\n",
    "time.sleep(1)\n",
    "select_zip_code = driver.find_element(By.ID, \"rbZipCode\")\n",
    "select_zip_code.click()\n",
    "time.sleep(3)\n",
    "submit = driver.find_element(By.ID, \"btnSubmit\")\n",
    "submit.click()\n",
    "time.sleep(30)\n",
    "\n",
    "tables = pd.read_html(driver.page_source)\n",
    "df = tables[1]\n",
    "print(df.head())\n",
    "print(df.tail())\n",
    "print(len(df))\n",
    "\n",
    "df.to_csv(\"city-list-la-county-2.csv\")\n",
    "\n",
    "driver.quit()"
   ]
  },
  {
   "cell_type": "markdown",
   "id": "3473497c",
   "metadata": {},
   "source": [
    "The search results take a while to load, so we need to sleep for 30 seconds so that Selenium can detect the results. Otherwise, it will throw an \"element not found\" error."
   ]
  },
  {
   "cell_type": "code",
   "execution_count": null,
   "id": "2bfdddf2",
   "metadata": {},
   "outputs": [],
   "source": []
  }
 ],
 "metadata": {
  "kernelspec": {
   "display_name": "Python 3 (ipykernel)",
   "language": "python",
   "name": "python3"
  },
  "language_info": {
   "codemirror_mode": {
    "name": "ipython",
    "version": 3
   },
   "file_extension": ".py",
   "mimetype": "text/x-python",
   "name": "python",
   "nbconvert_exporter": "python",
   "pygments_lexer": "ipython3",
   "version": "3.9.7"
  }
 },
 "nbformat": 4,
 "nbformat_minor": 5
}
