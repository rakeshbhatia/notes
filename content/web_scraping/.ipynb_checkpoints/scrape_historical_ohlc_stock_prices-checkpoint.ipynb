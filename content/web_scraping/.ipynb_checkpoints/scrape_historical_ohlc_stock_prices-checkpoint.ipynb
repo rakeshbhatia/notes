{
 "cells": [
  {
   "cell_type": "markdown",
   "metadata": {},
   "source": [
    "# Scrape Historical OHLC (Open-High-Low-Close) Stock Prices\n",
    "\n",
    "## Overview\n",
    "* Create a basic web scraper to extract historical OHLC stock price data for a given ticker symbol\n",
    "* Use the Alpha Vantage API to obtain the stock price data\n",
    "* Alpha Vantage API provides last two years' worth of data\n",
    "* Save the data to a pandas dataframe\n",
    "\n",
    "### Obtain a unique API key here: https://www.alphavantage.co/support/#api-key\n",
    "### Import libraries"
   ]
  },
  {
   "cell_type": "code",
   "execution_count": 26,
   "metadata": {
    "collapsed": true
   },
   "outputs": [],
   "source": [
    "import io\n",
    "import os\n",
    "import sys\n",
    "import math\n",
    "import csv\n",
    "import time\n",
    "import itertools\n",
    "import bisect\n",
    "import string\n",
    "import requests\n",
    "import random\n",
    "import requests\n",
    "import json\n",
    "import numpy\n",
    "import pandas as pd\n",
    "import alpha_vantage\n",
    "import bs4\n",
    "from bs4 import BeautifulSoup"
   ]
  },
  {
   "cell_type": "markdown",
   "metadata": {},
   "source": [
    "### Define stock scraper method\n",
    "* Use requests.get() with the Alpha Vantage API url in order to obtain response data\n",
    "* Add appropriate time interval to base url\n",
    "    * DAILY\n",
    "    * WEEKLY\n",
    "    * MONTHLY\n",
    "* Add desired stock symbol to base url\n",
    "* Add unique API key to base url"
   ]
  },
  {
   "cell_type": "code",
   "execution_count": 27,
   "metadata": {
    "collapsed": true
   },
   "outputs": [],
   "source": [
    "def ohlc_stock_price_scraper(symbol, interval, api_key):\n",
    "    # Use GET request to access data through API, using custom API key and desired symbol/interval options\n",
    "    data = requests.get('https://www.alphavantage.co/query?function=TIME_SERIES_' + interval + '&symbol=' + symbol + '&apikey=' + api_key + '=csv')\n",
    "    \n",
    "    return data"
   ]
  },
  {
   "cell_type": "markdown",
   "metadata": {},
   "source": [
    "### Test scraper method\n",
    "* Test symbol: AAPL\n",
    "* Test interval: DAILY"
   ]
  },
  {
   "cell_type": "code",
   "execution_count": 28,
   "metadata": {
    "collapsed": true
   },
   "outputs": [],
   "source": [
    "data = ohlc_stock_price_scraper('AAPL', 'DAILY', 'WTX6IKTWWR57LOIQ&datatype')"
   ]
  },
  {
   "cell_type": "markdown",
   "metadata": {},
   "source": [
    "### Store raw data in new variable\n",
    "* Store data in pandas dataframe with read_csv() method\n",
    "* Decode data content using 'utf-8' decoding\n",
    "* Pass decoded content into io.StringIO() method before passing into read_csv"
   ]
  },
  {
   "cell_type": "code",
   "execution_count": 29,
   "metadata": {
    "collapsed": true
   },
   "outputs": [],
   "source": [
    "raw_data = pd.read_csv(io.StringIO(data.content.decode('utf-8')))"
   ]
  },
  {
   "cell_type": "markdown",
   "metadata": {},
   "source": [
    "### View the first 10 rows of data"
   ]
  },
  {
   "cell_type": "code",
   "execution_count": 30,
   "metadata": {},
   "outputs": [
    {
     "data": {
      "text/html": [
       "<div>\n",
       "<style scoped>\n",
       "    .dataframe tbody tr th:only-of-type {\n",
       "        vertical-align: middle;\n",
       "    }\n",
       "\n",
       "    .dataframe tbody tr th {\n",
       "        vertical-align: top;\n",
       "    }\n",
       "\n",
       "    .dataframe thead th {\n",
       "        text-align: right;\n",
       "    }\n",
       "</style>\n",
       "<table border=\"1\" class=\"dataframe\">\n",
       "  <thead>\n",
       "    <tr style=\"text-align: right;\">\n",
       "      <th></th>\n",
       "      <th>timestamp</th>\n",
       "      <th>open</th>\n",
       "      <th>high</th>\n",
       "      <th>low</th>\n",
       "      <th>close</th>\n",
       "      <th>volume</th>\n",
       "    </tr>\n",
       "  </thead>\n",
       "  <tbody>\n",
       "    <tr>\n",
       "      <th>0</th>\n",
       "      <td>2019-04-05</td>\n",
       "      <td>196.450</td>\n",
       "      <td>197.100</td>\n",
       "      <td>195.93</td>\n",
       "      <td>197.00</td>\n",
       "      <td>18472107</td>\n",
       "    </tr>\n",
       "    <tr>\n",
       "      <th>1</th>\n",
       "      <td>2019-04-04</td>\n",
       "      <td>194.790</td>\n",
       "      <td>196.370</td>\n",
       "      <td>193.14</td>\n",
       "      <td>195.69</td>\n",
       "      <td>19114275</td>\n",
       "    </tr>\n",
       "    <tr>\n",
       "      <th>2</th>\n",
       "      <td>2019-04-03</td>\n",
       "      <td>193.250</td>\n",
       "      <td>196.500</td>\n",
       "      <td>193.15</td>\n",
       "      <td>195.35</td>\n",
       "      <td>23271830</td>\n",
       "    </tr>\n",
       "    <tr>\n",
       "      <th>3</th>\n",
       "      <td>2019-04-02</td>\n",
       "      <td>191.090</td>\n",
       "      <td>194.460</td>\n",
       "      <td>191.05</td>\n",
       "      <td>194.02</td>\n",
       "      <td>22765732</td>\n",
       "    </tr>\n",
       "    <tr>\n",
       "      <th>4</th>\n",
       "      <td>2019-04-01</td>\n",
       "      <td>191.640</td>\n",
       "      <td>191.680</td>\n",
       "      <td>188.38</td>\n",
       "      <td>191.24</td>\n",
       "      <td>27861964</td>\n",
       "    </tr>\n",
       "    <tr>\n",
       "      <th>5</th>\n",
       "      <td>2019-03-29</td>\n",
       "      <td>189.830</td>\n",
       "      <td>190.080</td>\n",
       "      <td>188.54</td>\n",
       "      <td>189.95</td>\n",
       "      <td>23563961</td>\n",
       "    </tr>\n",
       "    <tr>\n",
       "      <th>6</th>\n",
       "      <td>2019-03-28</td>\n",
       "      <td>188.950</td>\n",
       "      <td>189.559</td>\n",
       "      <td>187.53</td>\n",
       "      <td>188.72</td>\n",
       "      <td>20780363</td>\n",
       "    </tr>\n",
       "    <tr>\n",
       "      <th>7</th>\n",
       "      <td>2019-03-27</td>\n",
       "      <td>188.750</td>\n",
       "      <td>189.760</td>\n",
       "      <td>186.55</td>\n",
       "      <td>188.47</td>\n",
       "      <td>29848427</td>\n",
       "    </tr>\n",
       "    <tr>\n",
       "      <th>8</th>\n",
       "      <td>2019-03-26</td>\n",
       "      <td>191.664</td>\n",
       "      <td>192.880</td>\n",
       "      <td>184.58</td>\n",
       "      <td>186.79</td>\n",
       "      <td>49800538</td>\n",
       "    </tr>\n",
       "    <tr>\n",
       "      <th>9</th>\n",
       "      <td>2019-03-25</td>\n",
       "      <td>191.510</td>\n",
       "      <td>191.980</td>\n",
       "      <td>186.60</td>\n",
       "      <td>188.74</td>\n",
       "      <td>43845293</td>\n",
       "    </tr>\n",
       "  </tbody>\n",
       "</table>\n",
       "</div>"
      ],
      "text/plain": [
       "    timestamp     open     high     low   close    volume\n",
       "0  2019-04-05  196.450  197.100  195.93  197.00  18472107\n",
       "1  2019-04-04  194.790  196.370  193.14  195.69  19114275\n",
       "2  2019-04-03  193.250  196.500  193.15  195.35  23271830\n",
       "3  2019-04-02  191.090  194.460  191.05  194.02  22765732\n",
       "4  2019-04-01  191.640  191.680  188.38  191.24  27861964\n",
       "5  2019-03-29  189.830  190.080  188.54  189.95  23563961\n",
       "6  2019-03-28  188.950  189.559  187.53  188.72  20780363\n",
       "7  2019-03-27  188.750  189.760  186.55  188.47  29848427\n",
       "8  2019-03-26  191.664  192.880  184.58  186.79  49800538\n",
       "9  2019-03-25  191.510  191.980  186.60  188.74  43845293"
      ]
     },
     "execution_count": 30,
     "metadata": {},
     "output_type": "execute_result"
    }
   ],
   "source": [
    "raw_data.head(10)"
   ]
  }
 ],
 "metadata": {
  "kernelspec": {
   "display_name": "Python 3 (ipykernel)",
   "language": "python",
   "name": "python3"
  },
  "language_info": {
   "codemirror_mode": {
    "name": "ipython",
    "version": 3
   },
   "file_extension": ".py",
   "mimetype": "text/x-python",
   "name": "python",
   "nbconvert_exporter": "python",
   "pygments_lexer": "ipython3",
   "version": "3.9.7"
  }
 },
 "nbformat": 4,
 "nbformat_minor": 2
}
