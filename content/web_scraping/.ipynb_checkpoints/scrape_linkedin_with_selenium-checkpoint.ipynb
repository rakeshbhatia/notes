{
 "cells": [
  {
   "cell_type": "markdown",
   "id": "8229c3e2",
   "metadata": {},
   "source": [
    "# Scrape LinkedIn with Selenium\n",
    "## Overview\n",
    "In this project, we will use Selenium to scrape data from LinkedIn."
   ]
  }
 ],
 "metadata": {
  "kernelspec": {
   "display_name": "Python 3 (ipykernel)",
   "language": "python",
   "name": "python3"
  },
  "language_info": {
   "codemirror_mode": {
    "name": "ipython",
    "version": 3
   },
   "file_extension": ".py",
   "mimetype": "text/x-python",
   "name": "python",
   "nbconvert_exporter": "python",
   "pygments_lexer": "ipython3",
   "version": "3.9.7"
  }
 },
 "nbformat": 4,
 "nbformat_minor": 5
}
