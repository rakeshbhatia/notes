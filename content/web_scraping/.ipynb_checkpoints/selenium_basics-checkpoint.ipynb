{
 "cells": [
  {
   "cell_type": "markdown",
   "id": "482351c4",
   "metadata": {},
   "source": [
    "# Selenium Basics\n",
    "* Selenium is a tool for controlling web browsers and performing browser automation\n",
    "* It is often used to automate testing of websites and simulate a real user's activity\n",
    "* The Selenium Python bindings enables us to perform actions on a webpage using the Selenium WebDriver\n",
    "    * We can use this to scrape dynamic (JavaScript) content\n",
    "* To demonstrate the basics of Selenium, we will search for and download some images from Google"
   ]
  },
  {
   "cell_type": "code",
   "execution_count": 3,
   "id": "99c4df81",
   "metadata": {},
   "outputs": [
    {
     "name": "stdout",
     "output_type": "stream",
     "text": [
      "Google Images\n"
     ]
    }
   ],
   "source": [
    "import time\n",
    "import pandas as pd\n",
    "import requests\n",
    "from bs4 import BeautifulSoup\n",
    "from selenium import webdriver\n",
    "from selenium.webdriver.common.keys import Keys\n",
    "\n",
    "query = 'Mexico'\n",
    "\n",
    "driver = webdriver.Chrome('./chromedriver')\n",
    "url = 'https://www.google.com/imghp?hl=en'\n",
    "driver.get(url)\n",
    "print(driver.title)\n",
    "\n",
    "# //input[@id=”search”]\n",
    "\n",
    "search_bar = driver.find_element_by_xpath('//input[@aria-label=\"Search\"]')\n",
    "\n",
    "#search_bar = driver.find_element_by_class_name('gLFyf gsfi')\n",
    "\n",
    "#search_bar = driver.find_element_by_xpath('/html/body/div[1]/div[3]/form/div[1]/div[1]/div[1]/div/div[2]/input')\n",
    "\n",
    "# /html/body/div[1]/div[3]/form/div[1]/div[1]/div[1]/div/div[2]/input\n",
    "\n",
    "search_bar.send_keys(query)\n",
    "\n",
    "search_bar.send_keys(Keys.RETURN)\n",
    "\n",
    "time.sleep(3)\n",
    "\n",
    "#img_link = driver.find_element_by_xpath('//a[@jsname=\"sTFXNd\"]')\n",
    "\n",
    "#img_link = driver.find_element_by_class_name('wXeWr islib nfEiy')\n",
    "\n",
    "#img_link = driver.find_element_by_xpath('/html/body/div[2]/c-wiz/div[3]/div[1]/div/div/div/div[1]/div[1]/span/div[1]/div[1]/div[1]/a[1]')\n",
    "\n",
    "# /html/body/div[2]/c-wiz/div[3]/div[1]/div/div/div/div[1]/div[1]/span/div[1]/div[1]/div[1]/a[1]\n",
    "\n",
    "#img_link.click()\n",
    "\n",
    "img = driver.find_element_by_xpath('//a[@jsname=\"Q4LuWd\"]')\n",
    "\n",
    "img.screenshot(query + '-1.png')\n",
    "\n",
    "time.sleep(3)\n",
    "\n",
    "driver.quit()\n",
    "\n",
    "#element = driver.find_element_by_xpath('//input[@id=\"passwd-id\"]')\n",
    "\n",
    "#cuisine_selection = driver.find_element_by_xpath('/html/body/div[1]/div[1]/div/main/div/div[1]/div[1]/nav/ul/li[13]/a')"
   ]
  },
  {
   "cell_type": "markdown",
   "id": "44e9e7d9",
   "metadata": {},
   "source": [
    "## Instantiate the webdriver"
   ]
  },
  {
   "cell_type": "code",
   "execution_count": null,
   "id": "1fe85980",
   "metadata": {},
   "outputs": [],
   "source": [
    "driver = webdriver.Firefox()\n",
    "url = 'https://www.ubereats.com'\n",
    "driver.get(url)\n",
    "print(driver.title)"
   ]
  },
  {
   "cell_type": "code",
   "execution_count": null,
   "id": "6621f7a0",
   "metadata": {},
   "outputs": [],
   "source": [
    "# /html/body/div[1]/div[1]/div/main/div/div[1]/div[1]/nav/ul/li[13]/a/div[1]/img\n",
    "# /html/body/div[1]/div[1]/div/main/div/div[1]/div[1]/nav/ul/li[13]/a\n",
    "# .gLFyf\n",
    "# /html/body/div[2]/c-wiz/div[3]/div[1]/div/div/div/div[1]/div[1]/span/div[1]/div[1]/div[1]/a[1]"
   ]
  },
  {
   "cell_type": "code",
   "execution_count": 5,
   "id": "49be88a5",
   "metadata": {},
   "outputs": [
    {
     "name": "stdout",
     "output_type": "stream",
     "text": [
      "YouTube\n",
      "0\n"
     ]
    }
   ],
   "source": [
    "from selenium import webdriver\n",
    "from selenium.webdriver.common.keys import Keys\n",
    "import time\n",
    "\n",
    "WEBDRIVER_PATH = './'\n",
    "\n",
    "# Initialize the web driver\n",
    "driver = webdriver.Chrome(WEBDRIVER_PATH)\n",
    "URL = 'https://www.youtube.com'\n",
    "driver.get(URL)\n",
    "print(driver.title)\n",
    "\n",
    "search_box = driver.find_element_by_xpath('//input[@id=\"search\"]')\n",
    "\n",
    "search_box.send_keys('Selenium')\n",
    "\n",
    "search_box.send_keys(Keys.ENTER)\n",
    "\n",
    "time.sleep(5)\n",
    "\n",
    "videos = driver.find_elements_by_xpath('//*[@id=\"dismissable\"]')\n",
    "\n",
    "print(len(videos))\n",
    "\n",
    "for video in videos:\n",
    "    title = video.find_element_by_xpath('.//*[@id=\"video-title\"]')\n",
    "    print(title.text)\n",
    "\n",
    "driver.quit()"
   ]
  },
  {
   "cell_type": "code",
   "execution_count": null,
   "id": "4c7e0ab5",
   "metadata": {},
   "outputs": [],
   "source": [
    "# XPath for YouTube search bar: //*[@id=\"search\"]"
   ]
  }
 ],
 "metadata": {
  "kernelspec": {
   "display_name": "Python 3 (ipykernel)",
   "language": "python",
   "name": "python3"
  },
  "language_info": {
   "codemirror_mode": {
    "name": "ipython",
    "version": 3
   },
   "file_extension": ".py",
   "mimetype": "text/x-python",
   "name": "python",
   "nbconvert_exporter": "python",
   "pygments_lexer": "ipython3",
   "version": "3.9.7"
  }
 },
 "nbformat": 4,
 "nbformat_minor": 5
}
