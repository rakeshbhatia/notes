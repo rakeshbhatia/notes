{
 "cells": [
  {
   "cell_type": "markdown",
   "id": "b7ddd561",
   "metadata": {},
   "source": [
    "# Scrape Stock Market Prices with Node.js\n",
    "May 21, 2022\n",
    "\n",
    "In this guide I will demonstrate how to scrape stock market prices using Node.js. First, in order to use Node.js in this Jupyter notebook, we need to run the following command in its own cell to install <b>pixiedust</b> and <b>pixiedust_node</b> with the package manager pip."
   ]
  },
  {
   "cell_type": "code",
   "execution_count": 1,
   "id": "6da19ef3",
   "metadata": {
    "collapsed": true
   },
   "outputs": [
    {
     "name": "stdout",
     "output_type": "stream",
     "text": [
      "Collecting pixiedust_node\n",
      "  Downloading pixiedust_node-0.2.5.tar.gz (10 kB)\n",
      "  Preparing metadata (setup.py) ... \u001b[?25ldone\n",
      "\u001b[?25hCollecting pixiedust\n",
      "  Downloading pixiedust-1.1.19.tar.gz (197 kB)\n",
      "\u001b[2K     \u001b[90m━━━━━━━━━━━━━━━━━━━━━━━━━━━━━━━━━━━━━━━\u001b[0m \u001b[32m197.6/197.6 kB\u001b[0m \u001b[31m3.1 MB/s\u001b[0m eta \u001b[36m0:00:00\u001b[0m00:01\u001b[0m\n",
      "\u001b[?25h  Preparing metadata (setup.py) ... \u001b[?25ldone\n",
      "\u001b[?25hRequirement already satisfied: pandas in /Users/rakeshbhatia/opt/anaconda3/lib/python3.9/site-packages (from pixiedust_node) (1.3.4)\n",
      "Requirement already satisfied: ipython in /Users/rakeshbhatia/opt/anaconda3/lib/python3.9/site-packages (from pixiedust_node) (7.29.0)\n",
      "Requirement already satisfied: decorator in /Users/rakeshbhatia/opt/anaconda3/lib/python3.9/site-packages (from ipython->pixiedust_node) (5.1.0)\n",
      "Requirement already satisfied: jedi>=0.16 in /Users/rakeshbhatia/opt/anaconda3/lib/python3.9/site-packages (from ipython->pixiedust_node) (0.18.0)\n",
      "Requirement already satisfied: prompt-toolkit!=3.0.0,!=3.0.1,<3.1.0,>=2.0.0 in /Users/rakeshbhatia/opt/anaconda3/lib/python3.9/site-packages (from ipython->pixiedust_node) (3.0.20)\n",
      "Requirement already satisfied: setuptools>=18.5 in /Users/rakeshbhatia/opt/anaconda3/lib/python3.9/site-packages (from ipython->pixiedust_node) (58.0.4)\n",
      "Requirement already satisfied: pickleshare in /Users/rakeshbhatia/opt/anaconda3/lib/python3.9/site-packages (from ipython->pixiedust_node) (0.7.5)\n",
      "Requirement already satisfied: matplotlib-inline in /Users/rakeshbhatia/opt/anaconda3/lib/python3.9/site-packages (from ipython->pixiedust_node) (0.1.2)\n",
      "Requirement already satisfied: appnope in /Users/rakeshbhatia/opt/anaconda3/lib/python3.9/site-packages (from ipython->pixiedust_node) (0.1.2)\n",
      "Requirement already satisfied: pygments in /Users/rakeshbhatia/opt/anaconda3/lib/python3.9/site-packages (from ipython->pixiedust_node) (2.10.0)\n",
      "Requirement already satisfied: backcall in /Users/rakeshbhatia/opt/anaconda3/lib/python3.9/site-packages (from ipython->pixiedust_node) (0.2.0)\n",
      "Requirement already satisfied: pexpect>4.3 in /Users/rakeshbhatia/opt/anaconda3/lib/python3.9/site-packages (from ipython->pixiedust_node) (4.8.0)\n",
      "Requirement already satisfied: traitlets>=4.2 in /Users/rakeshbhatia/opt/anaconda3/lib/python3.9/site-packages (from ipython->pixiedust_node) (5.1.0)\n",
      "Requirement already satisfied: python-dateutil>=2.7.3 in /Users/rakeshbhatia/opt/anaconda3/lib/python3.9/site-packages (from pandas->pixiedust_node) (2.8.2)\n",
      "Requirement already satisfied: pytz>=2017.3 in /Users/rakeshbhatia/opt/anaconda3/lib/python3.9/site-packages (from pandas->pixiedust_node) (2021.3)\n",
      "Requirement already satisfied: numpy>=1.17.3 in /Users/rakeshbhatia/opt/anaconda3/lib/python3.9/site-packages (from pandas->pixiedust_node) (1.21.1)\n",
      "Collecting geojson\n",
      "  Downloading geojson-2.5.0-py2.py3-none-any.whl (14 kB)\n",
      "Collecting astunparse\n",
      "  Downloading astunparse-1.6.3-py2.py3-none-any.whl (12 kB)\n",
      "Collecting markdown\n",
      "  Downloading Markdown-3.3.7-py3-none-any.whl (97 kB)\n",
      "\u001b[2K     \u001b[90m━━━━━━━━━━━━━━━━━━━━━━━━━━━━━━━━━━━━━━━━\u001b[0m \u001b[32m97.8/97.8 kB\u001b[0m \u001b[31m3.1 MB/s\u001b[0m eta \u001b[36m0:00:00\u001b[0m\n",
      "\u001b[?25hCollecting colour\n",
      "  Downloading colour-0.1.5-py2.py3-none-any.whl (23 kB)\n",
      "Requirement already satisfied: requests in /Users/rakeshbhatia/opt/anaconda3/lib/python3.9/site-packages (from pixiedust->pixiedust_node) (2.26.0)\n",
      "Requirement already satisfied: matplotlib in /Users/rakeshbhatia/opt/anaconda3/lib/python3.9/site-packages (from pixiedust->pixiedust_node) (3.4.3)\n",
      "Requirement already satisfied: parso<0.9.0,>=0.8.0 in /Users/rakeshbhatia/opt/anaconda3/lib/python3.9/site-packages (from jedi>=0.16->ipython->pixiedust_node) (0.8.2)\n",
      "Requirement already satisfied: ptyprocess>=0.5 in /Users/rakeshbhatia/opt/anaconda3/lib/python3.9/site-packages (from pexpect>4.3->ipython->pixiedust_node) (0.7.0)\n",
      "Requirement already satisfied: wcwidth in /Users/rakeshbhatia/opt/anaconda3/lib/python3.9/site-packages (from prompt-toolkit!=3.0.0,!=3.0.1,<3.1.0,>=2.0.0->ipython->pixiedust_node) (0.2.5)\n",
      "Requirement already satisfied: six>=1.5 in /Users/rakeshbhatia/opt/anaconda3/lib/python3.9/site-packages (from python-dateutil>=2.7.3->pandas->pixiedust_node) (1.16.0)\n",
      "Requirement already satisfied: wheel<1.0,>=0.23.0 in /Users/rakeshbhatia/opt/anaconda3/lib/python3.9/site-packages (from astunparse->pixiedust->pixiedust_node) (0.37.0)\n",
      "Requirement already satisfied: importlib-metadata>=4.4 in /Users/rakeshbhatia/opt/anaconda3/lib/python3.9/site-packages (from markdown->pixiedust->pixiedust_node) (4.8.1)\n",
      "Requirement already satisfied: cycler>=0.10 in /Users/rakeshbhatia/opt/anaconda3/lib/python3.9/site-packages (from matplotlib->pixiedust->pixiedust_node) (0.10.0)\n",
      "Requirement already satisfied: kiwisolver>=1.0.1 in /Users/rakeshbhatia/opt/anaconda3/lib/python3.9/site-packages (from matplotlib->pixiedust->pixiedust_node) (1.3.1)\n",
      "Requirement already satisfied: pillow>=6.2.0 in /Users/rakeshbhatia/opt/anaconda3/lib/python3.9/site-packages (from matplotlib->pixiedust->pixiedust_node) (9.1.0)\n",
      "Requirement already satisfied: pyparsing>=2.2.1 in /Users/rakeshbhatia/opt/anaconda3/lib/python3.9/site-packages (from matplotlib->pixiedust->pixiedust_node) (3.0.4)\n",
      "Requirement already satisfied: certifi>=2017.4.17 in /Users/rakeshbhatia/opt/anaconda3/lib/python3.9/site-packages (from requests->pixiedust->pixiedust_node) (2020.12.5)\n",
      "Requirement already satisfied: charset-normalizer~=2.0.0 in /Users/rakeshbhatia/opt/anaconda3/lib/python3.9/site-packages (from requests->pixiedust->pixiedust_node) (2.0.4)\n",
      "Requirement already satisfied: urllib3<1.27,>=1.21.1 in /Users/rakeshbhatia/opt/anaconda3/lib/python3.9/site-packages (from requests->pixiedust->pixiedust_node) (1.26.7)\n",
      "Requirement already satisfied: idna<4,>=2.5 in /Users/rakeshbhatia/opt/anaconda3/lib/python3.9/site-packages (from requests->pixiedust->pixiedust_node) (3.2)\n",
      "Requirement already satisfied: zipp>=0.5 in /Users/rakeshbhatia/opt/anaconda3/lib/python3.9/site-packages (from importlib-metadata>=4.4->markdown->pixiedust->pixiedust_node) (3.6.0)\n",
      "Building wheels for collected packages: pixiedust_node, pixiedust\n",
      "  Building wheel for pixiedust_node (setup.py) ... \u001b[?25ldone\n",
      "\u001b[?25h  Created wheel for pixiedust_node: filename=pixiedust_node-0.2.5-py2.py3-none-any.whl size=9405 sha256=814a6cd50d6fc2f2c10f0cea828e81d98e84b32f9dfaf10ebe881b714e3f83d8\n",
      "  Stored in directory: /Users/rakeshbhatia/Library/Caches/pip/wheels/48/df/d8/5bb934563304e8900b8a90a3675377d78ebca52b7ee96e2d5e\n",
      "  Building wheel for pixiedust (setup.py) ... \u001b[?25ldone\n",
      "\u001b[?25h  Created wheel for pixiedust: filename=pixiedust-1.1.19-py3-none-any.whl size=321804 sha256=b446274dce74a96a138d9277530c55dac275ec11cf7e318ad4095742c808b84d\n",
      "  Stored in directory: /Users/rakeshbhatia/Library/Caches/pip/wheels/77/d4/e1/a85b6f570da64ab83b7a9d9ac0353f6d0592c60a31099208c7\n",
      "Successfully built pixiedust_node pixiedust\n",
      "Installing collected packages: geojson, colour, astunparse, markdown, pixiedust, pixiedust_node\n",
      "Successfully installed astunparse-1.6.3 colour-0.1.5 geojson-2.5.0 markdown-3.3.7 pixiedust-1.1.19 pixiedust_node-0.2.5\n"
     ]
    }
   ],
   "source": [
    "!pip install pixiedust\n",
    "!pip install pixiedust_node"
   ]
  },
  {
   "cell_type": "code",
   "execution_count": null,
   "id": "040533ee",
   "metadata": {},
   "outputs": [],
   "source": [
    "npm.install( ('request', 'request-promise') )"
   ]
  },
  {
   "cell_type": "markdown",
   "id": "ec4a26d4",
   "metadata": {},
   "source": [
    "Now we can start up pixiedust_node by importing it in a new cell."
   ]
  },
  {
   "cell_type": "code",
   "execution_count": null,
   "id": "d041cf23",
   "metadata": {},
   "outputs": [],
   "source": [
    "import pixiedust_node"
   ]
  },
  {
   "cell_type": "code",
   "execution_count": null,
   "id": "f7abaa1d",
   "metadata": {},
   "outputs": [],
   "source": []
  }
 ],
 "metadata": {
  "kernelspec": {
   "display_name": "Python 3 (ipykernel)",
   "language": "python",
   "name": "python3"
  },
  "language_info": {
   "codemirror_mode": {
    "name": "ipython",
    "version": 3
   },
   "file_extension": ".py",
   "mimetype": "text/x-python",
   "name": "python",
   "nbconvert_exporter": "python",
   "pygments_lexer": "ipython3",
   "version": "3.9.7"
  }
 },
 "nbformat": 4,
 "nbformat_minor": 5
}
