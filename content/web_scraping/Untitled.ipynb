{
 "cells": [
  {
   "cell_type": "markdown",
   "id": "ed37addd",
   "metadata": {},
   "source": [
    "# Scrape Hisco Product Pages"
   ]
  },
  {
   "cell_type": "code",
   "execution_count": null,
   "id": "c6f82cb9",
   "metadata": {},
   "outputs": [],
   "source": [
    "import csv\n",
    "import time\n",
    "import string\n",
    "import requests\n",
    "import json\n",
    "import numpy\n",
    "import pandas as pd\n",
    "import scrapy\n",
    "from scrapy.crawler import CrawlerProcess\n",
    "\n",
    "# Create a new spider class\n",
    "class RotoSpider(scrapy.Spider):\n",
    "    # Name our spider\n",
    "    name = \"RS\"\n",
    "    \n",
    "    # URL(s) to start with.\n",
    "    start_urls = [\n",
    "        \"https://www.hisco.com/\"\n",
    "    ]\n",
    "    \n",
    "    def parse(self, response):\n",
    "        for link in self.link_extractor.extract_links(response):\n",
    "            yield Request(\"/Catalog/\", callback=self.parse)\n",
    "\n",
    "# Pass in settings\n",
    "process = CrawlerProcess({\n",
    "    \"FEED_FORMAT\": \"json\",                 # Save our data as json\n",
    "    \"FEED_URI\": \"hisco_category_links.json\",  # Specify the json output file\n",
    "    \"DEPTH_LIMIT\": 3,                      # Only traverse three links\n",
    "    \"DOWNLOAD_DELAY\": 0.50,                # Set a delay of 0.5 seconds\n",
    "    \"LOG_ENABLED\": False                   # For debugging, change this to true\n",
    "})"
   ]
  }
 ],
 "metadata": {
  "kernelspec": {
   "display_name": "Python 3 (ipykernel)",
   "language": "python",
   "name": "python3"
  },
  "language_info": {
   "codemirror_mode": {
    "name": "ipython",
    "version": 3
   },
   "file_extension": ".py",
   "mimetype": "text/x-python",
   "name": "python",
   "nbconvert_exporter": "python",
   "pygments_lexer": "ipython3",
   "version": "3.9.7"
  }
 },
 "nbformat": 4,
 "nbformat_minor": 5
}
