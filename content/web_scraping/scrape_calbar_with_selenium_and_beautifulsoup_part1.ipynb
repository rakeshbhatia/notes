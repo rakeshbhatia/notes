{
 "cells": [
  {
   "cell_type": "markdown",
   "id": "dccf0a32",
   "metadata": {},
   "source": [
    "# Scrape CalBar with Selenium and Beautiful Soup – Part 1\n",
    "In this project I will demonstrate how to scrape the email addresses for California attorneys in a particular geographical area using the [California Bar Association (CalBar) website](https://www.calbar.ca.gov/). This is a multi-part project. In this first part, we'll extract the list of all zip codes for San Diego county from the CalBar website. They have a [demographics search feature](https://apps.calbar.ca.gov/members/demographics_search.aspx) that lists the number of attorneys for a particular county by zip code or city. We will use these zip codes in Part 2 to search for attorneys using CalBar's advanced search."
   ]
  },
  {
   "attachments": {},
   "cell_type": "markdown",
   "id": "b22c8e69",
   "metadata": {},
   "source": [
    "![calbar-1.png](../../assets/img/calbar-1.png)"
   ]
  },
  {
   "cell_type": "markdown",
   "id": "41db2a1f",
   "metadata": {},
   "source": [
    "From this page, we'll extract all the zip codes to be used in Part 2 of this tutorial. We will select the **Breakdown by ZIP code** option and also **San Diego** from the **County** dropdown menu, as shown below. We need to get results by zip code rather than city because the CalBar search feature only lists a maximum of 500 results for each search. Searching by zip code will allow us to (mostly) stay under this 500 limit, unless there are more than 500 attorneys associated with a particular zip code. For these instances, we can make our search more specific by searching by last initial in addition to zip code, but we'll save those details for Part 2."
   ]
  },
  {
   "attachments": {},
   "cell_type": "markdown",
   "id": "76cd899e",
   "metadata": {},
   "source": [
    "![calbar-2.png](../../assets/img/calbar-2.png)"
   ]
  },
  {
   "cell_type": "markdown",
   "id": "5f044ee6",
   "metadata": {},
   "source": [
    "We need to inspect the **County** dropdown menu, the **Breakdown by ZIP code** element, and the **Search** button to see how we can manipulate these in Selenium. The **Breakdown by ZIP code** element is an `input` element with an `id` value of `rbZipCode`."
   ]
  },
  {
   "attachments": {},
   "cell_type": "markdown",
   "id": "b8a2529e",
   "metadata": {},
   "source": [
    "![calbar-3.png](../../assets/img/calbar-3.png)"
   ]
  },
  {
   "cell_type": "markdown",
   "id": "a0fcd6c9",
   "metadata": {},
   "source": [
    "The **County** dropdown menu is a `select` element with an `id` value of `ddlCounty`."
   ]
  },
  {
   "attachments": {},
   "cell_type": "markdown",
   "id": "b1cb5e2e",
   "metadata": {},
   "source": [
    "![calbar-4.png](../../assets/img/calbar-4.png)"
   ]
  },
  {
   "cell_type": "markdown",
   "id": "beb5fae1",
   "metadata": {},
   "source": [
    "Lastly, the **Search** button is an `input` element with an `id` value of `btnSubmit`."
   ]
  },
  {
   "attachments": {},
   "cell_type": "markdown",
   "id": "4e91ea41",
   "metadata": {},
   "source": [
    "![calbar-5.png](../../assets/img/calbar-5.png)"
   ]
  },
  {
   "cell_type": "markdown",
   "id": "b18da8b9",
   "metadata": {},
   "source": [
    "We can see what happens after manually selecting these options and running the search. The results page lists a table of all zip codes in San Diego county and the number of attorneys associated with each."
   ]
  },
  {
   "attachments": {},
   "cell_type": "markdown",
   "id": "faf26d02",
   "metadata": {},
   "source": [
    "![calbar-6.png](../../assets/img/calbar-6.png)"
   ]
  },
  {
   "cell_type": "markdown",
   "id": "7a5b6328",
   "metadata": {},
   "source": [
    "We can inspect the list of zip codes to see that they are indeed stored in a `table` element. Once we have loaded the dynamically-rendered HTML, we can simply extract this table using the pandas utility function `read_html` and then save it to a DataFrame."
   ]
  },
  {
   "attachments": {},
   "cell_type": "markdown",
   "id": "d8318178",
   "metadata": {},
   "source": [
    "![calbar-7.png](../../assets/img/calbar-7.png)"
   ]
  },
  {
   "cell_type": "markdown",
   "id": "f33c70df",
   "metadata": {},
   "source": [
    "Let's import the required libraries and create a function to instantiate the driver. We'll use undetected-chromedriver, a special version of chromedriver with enhanced bypassing of anti-scraping measures, which you can install using the following command:\n",
    "\n",
    "`pip install undetected-chromedriver`\n",
    "\n",
    "Our function will instantiate the headless driver with a `user-agent` string."
   ]
  },
  {
   "cell_type": "code",
   "execution_count": 7,
   "id": "19383271",
   "metadata": {},
   "outputs": [],
   "source": [
    "import time\n",
    "import pandas as pd\n",
    "from fake_useragent import UserAgent\n",
    "import undetected_chromedriver.v2 as uc\n",
    "from selenium import webdriver\n",
    "from selenium.webdriver.common.by import By\n",
    "from selenium.webdriver.common.keys import Keys\n",
    "from selenium.webdriver.support.select import Select\n",
    "from selenium.webdriver.chrome.options import Options\n",
    "from selenium.webdriver.support.ui import WebDriverWait\n",
    "from selenium.common.exceptions import NoSuchElementException\n",
    "from selenium.webdriver.support import expected_conditions as EC\n",
    "\n",
    "# Function to instantiate undetected-chromedriver\n",
    "def browser():\n",
    "    # Get random user agent\n",
    "    ua = UserAgent()\n",
    "    user_agent = ua.random\n",
    "    # Instantiate undetected-chromedriver with options\n",
    "    options = uc.ChromeOptions()\n",
    "    options.add_argument(\"--headless\")\n",
    "    options.add_argument(f\"user-agent={user_agent}\")\n",
    "    driver = uc.Chrome(options=options, use_subprocess=True)\n",
    "    return driver"
   ]
  },
  {
   "cell_type": "markdown",
   "id": "6b5ab20e",
   "metadata": {},
   "source": [
    "Now we can write a function to scrape the zip codes from CalBar. We'll declare our `driver` and sleep for five seconds to give the page time to load."
   ]
  },
  {
   "cell_type": "code",
   "execution_count": null,
   "id": "993796ba",
   "metadata": {},
   "outputs": [],
   "source": [
    "def scrape_calbar_zipcodes():\n",
    "    url = \"https://apps.calbar.ca.gov/members/demographics_search.aspx\"\n",
    "\n",
    "    # Instantiate driver\n",
    "    driver = browser()\n",
    "    driver.get(url)\n",
    "    time.sleep(5)\n",
    "    \n",
    "    # ..."
   ]
  },
  {
   "cell_type": "markdown",
   "id": "b5ac072c",
   "metadata": {},
   "source": [
    "Now we will select the option corresponding to San Diego county from the dropdown menu, which is \"SD.\" To do this, we'll use the `driver.find_element()` function to locate the element by `id` and create a `Select` object from it. Selenium conveniently allows us to select options from dropdown menus using this `Select` class."
   ]
  },
  {
   "cell_type": "code",
   "execution_count": null,
   "id": "64cf7f52",
   "metadata": {},
   "outputs": [],
   "source": [
    "def scrape_calbar_zipcodes():\n",
    "    \n",
    "    # ...\n",
    "    \n",
    "    # Select \"San Diego\" option value\n",
    "    dropdown = Select(driver.find_element(By.ID, \"ddlCounty\"))\n",
    "    time.sleep(1)\n",
    "    dropdown.select_by_value(\"SD\")\n",
    "    time.sleep(1)\n",
    "    \n",
    "    # ..."
   ]
  },
  {
   "cell_type": "markdown",
   "id": "a08e9b31",
   "metadata": {},
   "source": [
    "We also need to select the \"Breakdown by ZIP code\" button. We can use the Selenium `click()` function to click on it."
   ]
  },
  {
   "cell_type": "code",
   "execution_count": null,
   "id": "4b53f4c2",
   "metadata": {},
   "outputs": [],
   "source": [
    "def scrape_calbar_zipcodes():\n",
    "    \n",
    "    # ...\n",
    "    \n",
    "    # Select \"Breakdown by ZIP code\"\n",
    "    select_zip_code = driver.find_element(By.ID, \"rbZipCode\")\n",
    "    select_zip_code.click()\n",
    "    time.sleep(3)\n",
    "    \n",
    "    # ..."
   ]
  },
  {
   "cell_type": "markdown",
   "id": "6259ab34",
   "metadata": {},
   "source": [
    "Finally, we'll click the \"Search\" button and sleep for 30 seconds, since the results take a while to load. This will allow Selenium to detect the results without throwing an \"element not found\" error."
   ]
  },
  {
   "cell_type": "code",
   "execution_count": null,
   "id": "3e4fa7e0",
   "metadata": {},
   "outputs": [],
   "source": [
    "def scrape_calbar_zipcodes():\n",
    "    \n",
    "    # ...\n",
    "    \n",
    "    # Click the \"Search\" button and sleep for 30 seconds\n",
    "    submit = driver.find_element(By.ID, \"btnSubmit\")\n",
    "    submit.click()\n",
    "    time.sleep(30)\n",
    "\n",
    "    # ..."
   ]
  },
  {
   "cell_type": "markdown",
   "id": "48ea3b47",
   "metadata": {},
   "source": [
    "Last, but not least, we will use the pandas `read_html` function to load the tables from the results page. We can simply use `driver.page_source` as our argument to the `read_html` function. The table of zip codes is the second table in the list, corresponding to index 1. We'll save this table to a DataFrame and then output it to a CSV file."
   ]
  },
  {
   "cell_type": "code",
   "execution_count": null,
   "id": "1b1d0492",
   "metadata": {},
   "outputs": [],
   "source": [
    "def scrape_calbar_zipcodes():\n",
    "    \n",
    "    # ...\n",
    "    \n",
    "    # Load tables from dynamically-generated HTML\n",
    "    tables = pd.read_html(driver.page_source)\n",
    "    df = tables[1]\n",
    "\n",
    "    # Save to CSV file\n",
    "    df.to_csv(\"zip-code-list-san-diego-county.csv\")\n",
    "\n",
    "    driver.quit()"
   ]
  },
  {
   "cell_type": "markdown",
   "id": "e387d47c",
   "metadata": {},
   "source": [
    "Here is the full scraper function."
   ]
  },
  {
   "cell_type": "code",
   "execution_count": 9,
   "id": "4ddce059",
   "metadata": {},
   "outputs": [],
   "source": [
    "def scrape_calbar_zipcodes():\n",
    "    url = \"https://apps.calbar.ca.gov/members/demographics_search.aspx\"\n",
    "    \n",
    "    # Instantiate driver\n",
    "    driver = browser()\n",
    "    driver.get(url)\n",
    "    time.sleep(5)\n",
    "\n",
    "    # Select \"San Diego\" option value\n",
    "    dropdown = Select(driver.find_element(By.ID, \"ddlCounty\"))\n",
    "    time.sleep(1)\n",
    "    dropdown.select_by_value(\"SD\")\n",
    "    time.sleep(1)\n",
    "    \n",
    "    # Select \"Breakdown by ZIP code\"\n",
    "    select_zip_code = driver.find_element(By.ID, \"rbZipCode\")\n",
    "    select_zip_code.click()\n",
    "    time.sleep(3)\n",
    "\n",
    "    # Click the \"Search\" button and sleep for 30 seconds\n",
    "    submit = driver.find_element(By.ID, \"btnSubmit\")\n",
    "    submit.click()\n",
    "    time.sleep(30)\n",
    "\n",
    "    # Load tables from dynamically-generated HTML\n",
    "    tables = pd.read_html(driver.page_source)\n",
    "    df = tables[1]\n",
    "\n",
    "    # Save to CSV file\n",
    "    df.to_csv(\"zip-code-list-san-diego-county.csv\", index=False)\n",
    "        \n",
    "    driver.quit()\n",
    "\n",
    "    print(\"Scraping completed\")"
   ]
  },
  {
   "cell_type": "markdown",
   "id": "ba3a35fb",
   "metadata": {},
   "source": [
    "Now we can run our scraper function."
   ]
  },
  {
   "cell_type": "code",
   "execution_count": 10,
   "id": "cfa62074",
   "metadata": {},
   "outputs": [
    {
     "name": "stdout",
     "output_type": "stream",
     "text": [
      "Scraping completed\n"
     ]
    }
   ],
   "source": [
    "scrape_calbar_zipcodes()"
   ]
  },
  {
   "cell_type": "markdown",
   "id": "f321ce83",
   "metadata": {},
   "source": [
    "Let's load the CSV file to make sure we got our results."
   ]
  },
  {
   "cell_type": "code",
   "execution_count": 12,
   "id": "bc12c19c",
   "metadata": {},
   "outputs": [
    {
     "data": {
      "text/html": [
       "<div>\n",
       "<style scoped>\n",
       "    .dataframe tbody tr th:only-of-type {\n",
       "        vertical-align: middle;\n",
       "    }\n",
       "\n",
       "    .dataframe tbody tr th {\n",
       "        vertical-align: top;\n",
       "    }\n",
       "\n",
       "    .dataframe thead th {\n",
       "        text-align: right;\n",
       "    }\n",
       "</style>\n",
       "<table border=\"1\" class=\"dataframe\">\n",
       "  <thead>\n",
       "    <tr style=\"text-align: right;\">\n",
       "      <th></th>\n",
       "      <th>County</th>\n",
       "      <th>Zip Code</th>\n",
       "      <th>Active</th>\n",
       "      <th>Inactive</th>\n",
       "      <th>Judge</th>\n",
       "      <th>Not Eligible</th>\n",
       "      <th>Total</th>\n",
       "    </tr>\n",
       "  </thead>\n",
       "  <tbody>\n",
       "    <tr>\n",
       "      <th>0</th>\n",
       "      <td>San Diego</td>\n",
       "      <td>91901</td>\n",
       "      <td>25</td>\n",
       "      <td>8</td>\n",
       "      <td>0</td>\n",
       "      <td>2</td>\n",
       "      <td>35</td>\n",
       "    </tr>\n",
       "    <tr>\n",
       "      <th>1</th>\n",
       "      <td>San Diego</td>\n",
       "      <td>91902</td>\n",
       "      <td>33</td>\n",
       "      <td>29</td>\n",
       "      <td>0</td>\n",
       "      <td>2</td>\n",
       "      <td>64</td>\n",
       "    </tr>\n",
       "    <tr>\n",
       "      <th>2</th>\n",
       "      <td>San Diego</td>\n",
       "      <td>91903</td>\n",
       "      <td>7</td>\n",
       "      <td>5</td>\n",
       "      <td>0</td>\n",
       "      <td>1</td>\n",
       "      <td>13</td>\n",
       "    </tr>\n",
       "    <tr>\n",
       "      <th>3</th>\n",
       "      <td>San Diego</td>\n",
       "      <td>91905</td>\n",
       "      <td>0</td>\n",
       "      <td>1</td>\n",
       "      <td>0</td>\n",
       "      <td>0</td>\n",
       "      <td>1</td>\n",
       "    </tr>\n",
       "    <tr>\n",
       "      <th>4</th>\n",
       "      <td>San Diego</td>\n",
       "      <td>91906</td>\n",
       "      <td>2</td>\n",
       "      <td>0</td>\n",
       "      <td>0</td>\n",
       "      <td>0</td>\n",
       "      <td>2</td>\n",
       "    </tr>\n",
       "  </tbody>\n",
       "</table>\n",
       "</div>"
      ],
      "text/plain": [
       "      County Zip Code  Active  Inactive  Judge  Not Eligible  Total\n",
       "0  San Diego    91901      25         8      0             2     35\n",
       "1  San Diego    91902      33        29      0             2     64\n",
       "2  San Diego    91903       7         5      0             1     13\n",
       "3  San Diego    91905       0         1      0             0      1\n",
       "4  San Diego    91906       2         0      0             0      2"
      ]
     },
     "execution_count": 12,
     "metadata": {},
     "output_type": "execute_result"
    }
   ],
   "source": [
    "df = pd.read_csv(\"zip-code-list-san-diego-county.csv\")\n",
    "df.head()"
   ]
  },
  {
   "cell_type": "code",
   "execution_count": 13,
   "id": "11d69baa",
   "metadata": {},
   "outputs": [
    {
     "data": {
      "text/html": [
       "<div>\n",
       "<style scoped>\n",
       "    .dataframe tbody tr th:only-of-type {\n",
       "        vertical-align: middle;\n",
       "    }\n",
       "\n",
       "    .dataframe tbody tr th {\n",
       "        vertical-align: top;\n",
       "    }\n",
       "\n",
       "    .dataframe thead th {\n",
       "        text-align: right;\n",
       "    }\n",
       "</style>\n",
       "<table border=\"1\" class=\"dataframe\">\n",
       "  <thead>\n",
       "    <tr style=\"text-align: right;\">\n",
       "      <th></th>\n",
       "      <th>County</th>\n",
       "      <th>Zip Code</th>\n",
       "      <th>Active</th>\n",
       "      <th>Inactive</th>\n",
       "      <th>Judge</th>\n",
       "      <th>Not Eligible</th>\n",
       "      <th>Total</th>\n",
       "    </tr>\n",
       "  </thead>\n",
       "  <tbody>\n",
       "    <tr>\n",
       "      <th>173</th>\n",
       "      <td>San Diego</td>\n",
       "      <td>92195</td>\n",
       "      <td>7</td>\n",
       "      <td>1</td>\n",
       "      <td>0</td>\n",
       "      <td>0</td>\n",
       "      <td>8</td>\n",
       "    </tr>\n",
       "    <tr>\n",
       "      <th>174</th>\n",
       "      <td>San Diego</td>\n",
       "      <td>92196</td>\n",
       "      <td>5</td>\n",
       "      <td>6</td>\n",
       "      <td>0</td>\n",
       "      <td>0</td>\n",
       "      <td>11</td>\n",
       "    </tr>\n",
       "    <tr>\n",
       "      <th>175</th>\n",
       "      <td>San Diego</td>\n",
       "      <td>92197</td>\n",
       "      <td>3</td>\n",
       "      <td>0</td>\n",
       "      <td>0</td>\n",
       "      <td>0</td>\n",
       "      <td>3</td>\n",
       "    </tr>\n",
       "    <tr>\n",
       "      <th>176</th>\n",
       "      <td>San Diego</td>\n",
       "      <td>92198</td>\n",
       "      <td>15</td>\n",
       "      <td>9</td>\n",
       "      <td>0</td>\n",
       "      <td>1</td>\n",
       "      <td>25</td>\n",
       "    </tr>\n",
       "    <tr>\n",
       "      <th>177</th>\n",
       "      <td>San Diego</td>\n",
       "      <td>Total</td>\n",
       "      <td>16393</td>\n",
       "      <td>4039</td>\n",
       "      <td>169</td>\n",
       "      <td>971</td>\n",
       "      <td>21572</td>\n",
       "    </tr>\n",
       "  </tbody>\n",
       "</table>\n",
       "</div>"
      ],
      "text/plain": [
       "        County Zip Code  Active  Inactive  Judge  Not Eligible  Total\n",
       "173  San Diego    92195       7         1      0             0      8\n",
       "174  San Diego    92196       5         6      0             0     11\n",
       "175  San Diego    92197       3         0      0             0      3\n",
       "176  San Diego    92198      15         9      0             1     25\n",
       "177  San Diego    Total   16393      4039    169           971  21572"
      ]
     },
     "execution_count": 13,
     "metadata": {},
     "output_type": "execute_result"
    }
   ],
   "source": [
    "df.tail()"
   ]
  },
  {
   "cell_type": "markdown",
   "id": "00b5bfab",
   "metadata": {},
   "source": [
    "Our results were successfully saved to the CSV file. We will use these results to build our next scraper in Part 2."
   ]
  }
 ],
 "metadata": {
  "kernelspec": {
   "display_name": "Python 3 (ipykernel)",
   "language": "python",
   "name": "python3"
  },
  "language_info": {
   "codemirror_mode": {
    "name": "ipython",
    "version": 3
   },
   "file_extension": ".py",
   "mimetype": "text/x-python",
   "name": "python",
   "nbconvert_exporter": "python",
   "pygments_lexer": "ipython3",
   "version": "3.9.7"
  }
 },
 "nbformat": 4,
 "nbformat_minor": 5
}
