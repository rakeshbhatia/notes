{
 "cells": [
  {
   "cell_type": "markdown",
   "metadata": {},
   "source": [
    "# Historical OHLC (Open-High-Low-Close) Stock Price Scraper\n",
    "\n",
    "## Overview\n",
    "* Create a basic web scraper to extract historical OHLC stock price data for a given ticker symbol\n",
    "* Use the Alpha Vantage API to obtain the stock price data\n",
    "* Alpha Vantage API provides last two years' data\n",
    "* Save the data in a pandas dataframe\n",
    "\n",
    "### Obtain a unique API key from https://www.alphavantage.co/support/#api-key\n",
    "### Import libraries"
   ]
  },
  {
   "cell_type": "code",
   "execution_count": 6,
   "metadata": {
    "collapsed": true
   },
   "outputs": [],
   "source": [
    "import io\n",
    "import os\n",
    "import sys\n",
    "import math\n",
    "import csv\n",
    "import time\n",
    "import itertools\n",
    "import bisect\n",
    "import string\n",
    "import requests\n",
    "import random\n",
    "import requests\n",
    "import json\n",
    "import numpy\n",
    "import pandas as pd\n",
    "import alpha_vantage\n",
    "import bs4\n",
    "from bs4 import BeautifulSoup"
   ]
  },
  {
   "cell_type": "markdown",
   "metadata": {},
   "source": [
    "### Define stock scraper method\n",
    "* Use requests.get() with the Alpha Vantage API url in order to obtain response data\n",
    "* Add appropriate time interval to base url\n",
    "    * DAILY\n",
    "    * WEEKLY\n",
    "    * MONTHLY\n",
    "* Add desired stock symbol to base url\n",
    "* Add unique API key to base url"
   ]
  },
  {
   "cell_type": "code",
   "execution_count": 7,
   "metadata": {
    "collapsed": true
   },
   "outputs": [],
   "source": [
    "def ohlc_stock_price_scraper(symbol, interval, api_key):\n",
    "    # Use GET request to access data through API, using custom API key and desired symbol/interval options\n",
    "    data = requests.get('https://www.alphavantage.co/query?function=TIME_SERIES_' + interval + '&symbol=' + symbol + '&apikey=' + api_key + '=csv')\n",
    "    \n",
    "    return data"
   ]
  },
  {
   "cell_type": "markdown",
   "metadata": {},
   "source": [
    "### Test scraper method\n",
    "* Test symbol: AAPL\n",
    "* Test interval: DAILY"
   ]
  },
  {
   "cell_type": "code",
   "execution_count": 8,
   "metadata": {
    "collapsed": true
   },
   "outputs": [],
   "source": [
    "data = ohlc_stock_price_scraper('AAPL', 'DAILY', 'WTX6IKTWWR57LOIQ&datatype')"
   ]
  },
  {
   "cell_type": "markdown",
   "metadata": {},
   "source": [
    "### Store raw data in new variable\n",
    "* Store data in pandas dataframe with read_csv() method\n",
    "* Decode data content using 'utf-8' decoding\n",
    "* Pass decoded content into io.StringIO() method before passing into read_csv"
   ]
  },
  {
   "cell_type": "code",
   "execution_count": 9,
   "metadata": {
    "collapsed": true
   },
   "outputs": [],
   "source": [
    "raw_data = pd.read_csv(io.StringIO(data.content.decode('utf-8')))"
   ]
  },
  {
   "cell_type": "markdown",
   "metadata": {},
   "source": [
    "### View the data"
   ]
  },
  {
   "cell_type": "code",
   "execution_count": 10,
   "metadata": {},
   "outputs": [
    {
     "name": "stdout",
     "output_type": "stream",
     "text": [
      "     timestamp     open      high       low   close    volume\n",
      "0   2019-03-26  191.664  192.8800  184.5800  186.79  49688488\n",
      "1   2019-03-25  191.510  191.9800  186.6000  188.74  43845293\n",
      "2   2019-03-22  195.340  197.6900  190.7800  191.05  42407666\n",
      "3   2019-03-21  190.020  196.3300  189.8100  195.09  51034237\n",
      "4   2019-03-20  186.230  189.4900  184.7300  188.16  31035231\n",
      "5   2019-03-19  188.350  188.9900  185.9200  186.53  31646369\n",
      "6   2019-03-18  185.800  188.3900  185.7900  188.02  26219832\n",
      "7   2019-03-15  184.850  187.3300  183.7400  186.12  39042912\n",
      "8   2019-03-14  183.900  184.1000  182.5600  183.73  23579508\n",
      "9   2019-03-13  182.250  183.3000  180.9200  181.71  31032524\n",
      "10  2019-03-12  180.000  182.6700  179.3700  180.91  32467584\n",
      "11  2019-03-11  175.490  179.1200  175.3500  178.90  32011034\n",
      "12  2019-03-08  170.320  173.0700  169.5000  172.91  23999358\n",
      "13  2019-03-07  173.870  174.4400  172.0200  172.50  24796374\n",
      "14  2019-03-06  174.670  175.4900  173.9400  174.52  20810384\n",
      "15  2019-03-05  175.940  176.0000  174.5400  175.53  19737419\n",
      "16  2019-03-04  175.690  177.7500  173.9700  175.85  27436203\n",
      "17  2019-03-01  174.280  175.1500  172.8900  174.97  25886167\n",
      "18  2019-02-28  174.320  174.9100  172.9200  173.15  28215416\n",
      "19  2019-02-27  173.210  175.0000  172.7300  174.87  27835389\n",
      "20  2019-02-26  173.710  175.3000  173.1732  174.33  17070211\n",
      "21  2019-02-25  174.160  175.8700  173.9500  174.23  21873358\n",
      "22  2019-02-22  171.580  173.0000  171.3800  172.97  18913154\n",
      "23  2019-02-21  171.800  172.3700  170.3000  171.06  17249670\n",
      "24  2019-02-20  171.190  173.3200  170.9900  172.03  26114362\n",
      "25  2019-02-19  169.710  171.4400  169.4900  170.93  18972826\n",
      "26  2019-02-15  171.250  171.7000  169.7500  170.42  24626814\n",
      "27  2019-02-14  169.710  171.2615  169.3800  170.80  21835747\n",
      "28  2019-02-13  171.390  172.4800  169.9200  170.18  22490233\n",
      "29  2019-02-12  170.100  171.0000  169.7000  170.89  22283523\n",
      "..         ...      ...       ...       ...     ...       ...\n",
      "70  2018-12-12  170.400  171.9200  169.0200  169.10  35627674\n",
      "71  2018-12-11  171.660  171.7900  167.0000  168.63  47281665\n",
      "72  2018-12-10  165.000  170.0900  163.3300  169.60  62025994\n",
      "73  2018-12-07  173.490  174.4900  168.3000  168.49  42281631\n",
      "74  2018-12-06  171.760  174.7800  170.4200  174.72  43098410\n",
      "75  2018-12-04  180.950  182.3899  176.2700  176.69  41344282\n",
      "76  2018-12-03  184.460  184.9400  181.2100  184.82  40798002\n",
      "77  2018-11-30  180.290  180.3300  177.0300  178.58  39531549\n",
      "78  2018-11-29  182.660  182.8000  177.7000  179.55  41769992\n",
      "79  2018-11-28  176.730  181.2900  174.9300  180.94  46062539\n",
      "80  2018-11-27  171.510  174.7700  170.8800  174.24  41387377\n",
      "81  2018-11-26  174.240  174.9500  170.2600  174.62  44998520\n",
      "82  2018-11-23  174.940  176.5950  172.1000  172.29  23623972\n",
      "83  2018-11-21  179.730  180.2700  176.5500  176.78  31124210\n",
      "84  2018-11-20  178.370  181.4700  175.5100  176.98  67825247\n",
      "85  2018-11-19  190.000  190.7000  184.9900  185.86  41920872\n",
      "86  2018-11-16  190.500  194.9695  189.4600  193.53  36928253\n",
      "87  2018-11-15  188.390  191.9700  186.9000  191.41  46478801\n",
      "88  2018-11-14  193.900  194.4800  185.9300  186.80  60800957\n",
      "89  2018-11-13  191.630  197.1800  191.4501  192.23  46882936\n",
      "90  2018-11-12  199.000  199.8500  193.7900  194.17  51135518\n",
      "91  2018-11-09  205.550  206.0100  202.2500  204.47  34365750\n",
      "92  2018-11-08  209.980  210.1200  206.7500  208.49  25362636\n",
      "93  2018-11-07  205.970  210.0600  204.1300  209.95  33424434\n",
      "94  2018-11-06  201.920  204.7200  201.6900  203.77  31882881\n",
      "95  2018-11-05  204.300  204.3900  198.1700  201.59  66163669\n",
      "96  2018-11-02  209.550  213.6500  205.4300  207.48  91328654\n",
      "97  2018-11-01  219.050  222.3600  216.8100  222.22  58323180\n",
      "98  2018-10-31  216.880  220.4500  216.6200  218.86  38358933\n",
      "99  2018-10-30  211.150  215.1800  209.2700  213.30  36659990\n",
      "\n",
      "[100 rows x 6 columns]\n"
     ]
    }
   ],
   "source": [
    "print(raw_data)"
   ]
  }
 ],
 "metadata": {
  "kernelspec": {
   "display_name": "Python 3",
   "language": "python",
   "name": "python3"
  },
  "language_info": {
   "codemirror_mode": {
    "name": "ipython",
    "version": 3
   },
   "file_extension": ".py",
   "mimetype": "text/x-python",
   "name": "python",
   "nbconvert_exporter": "python",
   "pygments_lexer": "ipython3",
   "version": "3.6.7"
  }
 },
 "nbformat": 4,
 "nbformat_minor": 2
}
