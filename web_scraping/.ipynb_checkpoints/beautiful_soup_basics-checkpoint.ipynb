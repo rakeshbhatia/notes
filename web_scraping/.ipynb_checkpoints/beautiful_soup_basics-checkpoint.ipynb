{
 "cells": [
  {
   "cell_type": "markdown",
   "metadata": {},
   "source": [
    "# Beautiful Soup Basics\n",
    "04 April 2019"
   ]
  },
  {
   "cell_type": "markdown",
   "metadata": {},
   "source": [
    "### Import modules"
   ]
  },
  {
   "cell_type": "code",
   "execution_count": 156,
   "metadata": {
    "collapsed": true
   },
   "outputs": [],
   "source": [
    "import requests\n",
    "import bs4\n",
    "from bs4 import BeautifulSoup"
   ]
  },
  {
   "cell_type": "markdown",
   "metadata": {
    "collapsed": true
   },
   "source": [
    "### Scrape this site's home page and create a soup object from its html"
   ]
  },
  {
   "cell_type": "code",
   "execution_count": 157,
   "metadata": {},
   "outputs": [
    {
     "name": "stdout",
     "output_type": "stream",
     "text": [
      "<!DOCTYPE html>\n",
      "\n",
      "<html lang=\"en-US\">\n",
      "<head>\n",
      "<meta charset=\"utf-8\"/>\n",
      "<!-- Begin Jekyll SEO tag v2.5.0 -->\n",
      "<title>Python &amp; Data Science | Data Science for Truth</title>\n",
      "<meta content=\"Jekyll v3.7.4\" name=\"generator\">\n",
      "<meta content=\"Python &amp; Data Science\" property=\"og:title\"/>\n",
      "<meta content=\"en_US\" property=\"og:locale\"/>\n",
      "<link href=\"https://rakeshbhatia.github.io/notes/\" rel=\"canonical\"/>\n",
      "<meta content=\"https://rakeshbhatia.github.io/notes/\" property=\"og:url\"/>\n",
      "<meta content=\"Data Science for Truth\" property=\"og:site_name\"/>\n",
      "<script type=\"application/ld+json\">\n",
      "{\"@type\":\"WebSite\",\"url\":\"https://rakeshbhatia.github.io/notes/\",\"name\":\"Data Science for Truth\",\"headline\":\"Python &amp; Data Science\",\"@context\":\"http://schema.org\"}</script>\n",
      "<!-- End Jekyll SEO tag -->\n",
      "<meta content=\"width=device-width, initial-scale=1\" name=\"viewport\"/>\n",
      "<meta content=\"#157878\" name=\"theme-color\"/>\n",
      "<link href=\"/notes/assets/css/style.css?v=6ec90d8ec648d62ec1680b0da961df765d98d8c4\" rel=\"stylesheet\"/>\n",
      "</meta></head>\n",
      "<body>\n",
      "<section class=\"page-header\">\n",
      "<h1 class=\"project-name\">Data Science for Truth</h1>\n",
      "<h2 class=\"project-tagline\"></h2>\n",
      "<a class=\"btn\" href=\"https://github.com/rakeshbhatia/notes\">View on GitHub</a>\n",
      "</section>\n",
      "<section class=\"main-content\">\n",
      "<h2 id=\"python--data-science\"><center>Python &amp; Data Science</center></h2>\n",
      "<h2 id=\"technical-notes\"><center>Technical Notes</center></h2>\n",
      "<p>I am a data scientist who is fascinated with solving challenging data-oriented problems across a wide variety of fields. I enjoy seeking the truth, revealing the truth, and searching for hidden truths in data. Check out my technical notes on python and data science below!</p>\n",
      "<blockquote>\n",
      "<p><strong><em>Python</em></strong></p>\n",
      "<ul>\n",
      "<li><a href=\"https://rakeshbhatia.github.io/notes/python/if_else\">If Else</a></li>\n",
      "<li><a href=\"https://rakeshbhatia.github.io/notes/python/loops\">Loops</a></li>\n",
      "<li><a href=\"https://rakeshbhatia.github.io/notes/python/sets\">Sets</a></li>\n",
      "<li><a href=\"https://rakeshbhatia.github.io/notes/python/dictionaries\">Dictionaries</a></li>\n",
      "<li><a href=\"https://rakeshbhatia.github.io/notes/python/linked_lists\">Linked Lists</a></li>\n",
      "<li><a href=\"https://rakeshbhatia.github.io/notes/python/list_comprehensions\">List Comprehensions</a></li>\n",
      "<li><a href=\"https://rakeshbhatia.github.io/notes/python/exception_handling\">Exception Handling</a></li>\n",
      "</ul>\n",
      "</blockquote>\n",
      "<blockquote>\n",
      "<p><strong><em>Web Scraping</em></strong></p>\n",
      "<ul>\n",
      "<li><a href=\"https://rakeshbhatia.github.io/notes/web_scraping/historical_ohlc_stock_price_scraper\">Historical OHLC Stock Price Scraper</a></li>\n",
      "</ul>\n",
      "</blockquote>\n",
      "<blockquote>\n",
      "<p><strong><em>Thinkful Data Science</em></strong></p>\n",
      "<ul>\n",
      "<li><a href=\"https://rakeshbhatia.github.io/notes/thinkful/preparing_data\">Preparing Data</a></li>\n",
      "<li><a href=\"https://rakeshbhatia.github.io/notes/thinkful/fixing_assumptions\">Fixing Assumptions</a></li>\n",
      "<li><a href=\"https://rakeshbhatia.github.io/notes/thinkful/analysis_of_boston_house_prices\">Analysis of Boston House Prices</a></li>\n",
      "<li><a href=\"https://rakeshbhatia.github.io/notes/thinkful/in_sample_evaluation_and_cross_validation\">In Sample Evaluation and Cross Validation</a></li>\n",
      "</ul>\n",
      "</blockquote>\n",
      "<footer class=\"site-footer\">\n",
      "<span class=\"site-footer-owner\"><a href=\"https://github.com/rakeshbhatia/notes\">notes</a> is maintained by <a href=\"https://github.com/rakeshbhatia\">rakeshbhatia</a>.</span>\n",
      "<span class=\"site-footer-credits\">This page was generated by <a href=\"https://pages.github.com\">GitHub Pages</a>.</span>\n",
      "</footer>\n",
      "</section>\n",
      "</body>\n",
      "</html>\n",
      "\n"
     ]
    }
   ],
   "source": [
    "# Store the url in a variable\n",
    "url = 'https://rakeshbhatia.github.io/notes/'\n",
    "\n",
    "# Get the site content using requests\n",
    "r = requests.get(url)\n",
    "\n",
    "# Extract text from the content\n",
    "content = r.text\n",
    "\n",
    "# Convert html text content into a beautiful soup object\n",
    "soup = BeautifulSoup(content, 'html.parser')\n",
    "\n",
    "print(soup)"
   ]
  },
  {
   "cell_type": "markdown",
   "metadata": {},
   "source": [
    "### Website title"
   ]
  },
  {
   "cell_type": "code",
   "execution_count": 158,
   "metadata": {
    "scrolled": true
   },
   "outputs": [
    {
     "data": {
      "text/plain": [
       "<title>Python &amp; Data Science | Data Science for Truth</title>"
      ]
     },
     "execution_count": 158,
     "metadata": {},
     "output_type": "execute_result"
    }
   ],
   "source": [
    "# View the soup object's title tag\n",
    "soup.title"
   ]
  },
  {
   "cell_type": "markdown",
   "metadata": {},
   "source": [
    "### Contents of title tag\n",
    "* Returns a list"
   ]
  },
  {
   "cell_type": "code",
   "execution_count": 159,
   "metadata": {},
   "outputs": [
    {
     "data": {
      "text/plain": [
       "['Python & Data Science | Data Science for Truth']"
      ]
     },
     "execution_count": 159,
     "metadata": {},
     "output_type": "execute_result"
    }
   ],
   "source": [
    "soup.title.contents"
   ]
  },
  {
   "cell_type": "markdown",
   "metadata": {},
   "source": [
    "### String inside title tag"
   ]
  },
  {
   "cell_type": "code",
   "execution_count": 160,
   "metadata": {},
   "outputs": [
    {
     "data": {
      "text/plain": [
       "'Python & Data Science | Data Science for Truth'"
      ]
     },
     "execution_count": 160,
     "metadata": {},
     "output_type": "execute_result"
    }
   ],
   "source": [
    "# View the string contained in the title tag\n",
    "soup.title.string"
   ]
  },
  {
   "cell_type": "markdown",
   "metadata": {},
   "source": [
    "### Parent of the title tag"
   ]
  },
  {
   "cell_type": "code",
   "execution_count": 161,
   "metadata": {
    "scrolled": true
   },
   "outputs": [
    {
     "data": {
      "text/plain": [
       "'head'"
      ]
     },
     "execution_count": 161,
     "metadata": {},
     "output_type": "execute_result"
    }
   ],
   "source": [
    "soup.title.parent.name"
   ]
  },
  {
   "cell_type": "markdown",
   "metadata": {},
   "source": [
    "### First paragraph tag"
   ]
  },
  {
   "cell_type": "code",
   "execution_count": 162,
   "metadata": {
    "scrolled": true
   },
   "outputs": [
    {
     "data": {
      "text/plain": [
       "<p>I am a data scientist who is fascinated with solving challenging data-oriented problems across a wide variety of fields. I enjoy seeking the truth, revealing the truth, and searching for hidden truths in data. Check out my technical notes on python and data science below!</p>"
      ]
     },
     "execution_count": 162,
     "metadata": {},
     "output_type": "execute_result"
    }
   ],
   "source": [
    "# View the soup object's first paragraph tag\n",
    "soup.p"
   ]
  },
  {
   "cell_type": "markdown",
   "metadata": {},
   "source": [
    "### String inside paragraph tag\n",
    "* Note: if the desired string is contained within a nested tab, it will not show up here\n",
    "    * The string must be extracted directly from the tag that immediately encloses it"
   ]
  },
  {
   "cell_type": "code",
   "execution_count": 163,
   "metadata": {},
   "outputs": [
    {
     "data": {
      "text/plain": [
       "'I am a data scientist who is fascinated with solving challenging data-oriented problems across a wide variety of fields. I enjoy seeking the truth, revealing the truth, and searching for hidden truths in data. Check out my technical notes on python and data science below!'"
      ]
     },
     "execution_count": 163,
     "metadata": {},
     "output_type": "execute_result"
    }
   ],
   "source": [
    "soup.p.string"
   ]
  },
  {
   "cell_type": "markdown",
   "metadata": {},
   "source": [
    "### First link tag"
   ]
  },
  {
   "cell_type": "code",
   "execution_count": 164,
   "metadata": {
    "scrolled": true
   },
   "outputs": [
    {
     "data": {
      "text/plain": [
       "<a class=\"btn\" href=\"https://github.com/rakeshbhatia/notes\">View on GitHub</a>"
      ]
     },
     "execution_count": 164,
     "metadata": {},
     "output_type": "execute_result"
    }
   ],
   "source": [
    "soup.a"
   ]
  },
  {
   "cell_type": "markdown",
   "metadata": {},
   "source": [
    "### Find all link tags and print the first three\n",
    "* The `find_all()` function enables you to search the DOM tree for any desired elements by their tag\n",
    "* Found tags are returned as a list of `Tag` objects\n",
    "    * If only a single tag is found, the `find_all()` method will return just a single `Tag` object"
   ]
  },
  {
   "cell_type": "code",
   "execution_count": 165,
   "metadata": {
    "scrolled": true
   },
   "outputs": [
    {
     "data": {
      "text/plain": [
       "[<a class=\"btn\" href=\"https://github.com/rakeshbhatia/notes\">View on GitHub</a>,\n",
       " <a href=\"https://rakeshbhatia.github.io/notes/python/if_else\">If Else</a>]"
      ]
     },
     "execution_count": 165,
     "metadata": {},
     "output_type": "execute_result"
    }
   ],
   "source": [
    "soup.find_all('a')[0:2]"
   ]
  },
  {
   "cell_type": "markdown",
   "metadata": {},
   "source": [
    "### Make our soup object's content more readable\n",
    "* This will appear just like the site's original html"
   ]
  },
  {
   "cell_type": "code",
   "execution_count": 166,
   "metadata": {},
   "outputs": [
    {
     "name": "stdout",
     "output_type": "stream",
     "text": [
      "<!DOCTYPE html>\n",
      "<html lang=\"en-US\">\n",
      " <head>\n",
      "  <meta charset=\"utf-8\"/>\n",
      "  <!-- Begin Jekyll SEO tag v2.5.0 -->\n",
      "  <title>\n",
      "   Python &amp; Data Science | Data Science for Truth\n",
      "  </title>\n",
      "  <meta content=\"Jekyll v3.7.4\" name=\"generator\">\n",
      "   <meta content=\"Python &amp; Data Science\" property=\"og:title\"/>\n",
      "   <meta content=\"en_US\" property=\"og:locale\"/>\n",
      "   <link href=\"https://rakeshbhatia.github.io/notes/\" rel=\"canonical\"/>\n",
      "   <meta content=\"https://rakeshbhatia.github.io/notes/\" property=\"og:url\"/>\n",
      "   <meta content=\"Data Science for Truth\" property=\"og:site_name\"/>\n",
      "   <script type=\"application/ld+json\">\n",
      "    {\"@type\":\"WebSite\",\"url\":\"https://rakeshbhatia.github.io/notes/\",\"name\":\"Data Science for Truth\",\"headline\":\"Python &amp; Data Science\",\"@context\":\"http://schema.org\"}\n",
      "   </script>\n",
      "   <!-- End Jekyll SEO tag -->\n",
      "   <meta content=\"width=device-width, initial-scale=1\" name=\"viewport\"/>\n",
      "   <meta content=\"#157878\" name=\"theme-color\"/>\n",
      "   <link href=\"/notes/assets/css/style.css?v=6ec90d8ec648d62ec1680b0da961df765d98d8c4\" rel=\"stylesheet\"/>\n",
      "  </meta>\n",
      " </head>\n",
      " <body>\n",
      "  <section class=\"page-header\">\n",
      "   <h1 class=\"project-name\">\n",
      "    Data Science for Truth\n",
      "   </h1>\n",
      "   <h2 class=\"project-tagline\">\n",
      "   </h2>\n",
      "   <a class=\"btn\" href=\"https://github.com/rakeshbhatia/notes\">\n",
      "    View on GitHub\n",
      "   </a>\n",
      "  </section>\n",
      "  <section class=\"main-content\">\n",
      "   <h2 id=\"python--data-science\">\n",
      "    <center>\n",
      "     Python &amp; Data Science\n",
      "    </center>\n",
      "   </h2>\n",
      "   <h2 id=\"technical-notes\">\n",
      "    <center>\n",
      "     Technical Notes\n",
      "    </center>\n",
      "   </h2>\n",
      "   <p>\n",
      "    I am a data scientist who is fascinated with solving challenging data-oriented problems across a wide variety of fields. I enjoy seeking the truth, revealing the truth, and searching for hidden truths in data. Check out my technical notes on python and data science below!\n",
      "   </p>\n",
      "   <blockquote>\n",
      "    <p>\n",
      "     <strong>\n",
      "      <em>\n",
      "       Python\n",
      "      </em>\n",
      "     </strong>\n",
      "    </p>\n",
      "    <ul>\n",
      "     <li>\n",
      "      <a href=\"https://rakeshbhatia.github.io/notes/python/if_else\">\n",
      "       If Else\n",
      "      </a>\n",
      "     </li>\n",
      "     <li>\n",
      "      <a href=\"https://rakeshbhatia.github.io/notes/python/loops\">\n",
      "       Loops\n",
      "      </a>\n",
      "     </li>\n",
      "     <li>\n",
      "      <a href=\"https://rakeshbhatia.github.io/notes/python/sets\">\n",
      "       Sets\n",
      "      </a>\n",
      "     </li>\n",
      "     <li>\n",
      "      <a href=\"https://rakeshbhatia.github.io/notes/python/dictionaries\">\n",
      "       Dictionaries\n",
      "      </a>\n",
      "     </li>\n",
      "     <li>\n",
      "      <a href=\"https://rakeshbhatia.github.io/notes/python/linked_lists\">\n",
      "       Linked Lists\n",
      "      </a>\n",
      "     </li>\n",
      "     <li>\n",
      "      <a href=\"https://rakeshbhatia.github.io/notes/python/list_comprehensions\">\n",
      "       List Comprehensions\n",
      "      </a>\n",
      "     </li>\n",
      "     <li>\n",
      "      <a href=\"https://rakeshbhatia.github.io/notes/python/exception_handling\">\n",
      "       Exception Handling\n",
      "      </a>\n",
      "     </li>\n",
      "    </ul>\n",
      "   </blockquote>\n",
      "   <blockquote>\n",
      "    <p>\n",
      "     <strong>\n",
      "      <em>\n",
      "       Web Scraping\n",
      "      </em>\n",
      "     </strong>\n",
      "    </p>\n",
      "    <ul>\n",
      "     <li>\n",
      "      <a href=\"https://rakeshbhatia.github.io/notes/web_scraping/historical_ohlc_stock_price_scraper\">\n",
      "       Historical OHLC Stock Price Scraper\n",
      "      </a>\n",
      "     </li>\n",
      "    </ul>\n",
      "   </blockquote>\n",
      "   <blockquote>\n",
      "    <p>\n",
      "     <strong>\n",
      "      <em>\n",
      "       Thinkful Data Science\n",
      "      </em>\n",
      "     </strong>\n",
      "    </p>\n",
      "    <ul>\n",
      "     <li>\n",
      "      <a href=\"https://rakeshbhatia.github.io/notes/thinkful/preparing_data\">\n",
      "       Preparing Data\n",
      "      </a>\n",
      "     </li>\n",
      "     <li>\n",
      "      <a href=\"https://rakeshbhatia.github.io/notes/thinkful/fixing_assumptions\">\n",
      "       Fixing Assumptions\n",
      "      </a>\n",
      "     </li>\n",
      "     <li>\n",
      "      <a href=\"https://rakeshbhatia.github.io/notes/thinkful/analysis_of_boston_house_prices\">\n",
      "       Analysis of Boston House Prices\n",
      "      </a>\n",
      "     </li>\n",
      "     <li>\n",
      "      <a href=\"https://rakeshbhatia.github.io/notes/thinkful/in_sample_evaluation_and_cross_validation\">\n",
      "       In Sample Evaluation and Cross Validation\n",
      "      </a>\n",
      "     </li>\n",
      "    </ul>\n",
      "   </blockquote>\n",
      "   <footer class=\"site-footer\">\n",
      "    <span class=\"site-footer-owner\">\n",
      "     <a href=\"https://github.com/rakeshbhatia/notes\">\n",
      "      notes\n",
      "     </a>\n",
      "     is maintained by\n",
      "     <a href=\"https://github.com/rakeshbhatia\">\n",
      "      rakeshbhatia\n",
      "     </a>\n",
      "     .\n",
      "    </span>\n",
      "    <span class=\"site-footer-credits\">\n",
      "     This page was generated by\n",
      "     <a href=\"https://pages.github.com\">\n",
      "      GitHub Pages\n",
      "     </a>\n",
      "     .\n",
      "    </span>\n",
      "   </footer>\n",
      "  </section>\n",
      " </body>\n",
      "</html>\n",
      "\n"
     ]
    }
   ],
   "source": [
    "pretty_soup = soup.prettify()\n",
    "print(pretty_soup)"
   ]
  },
  {
   "cell_type": "code",
   "execution_count": null,
   "metadata": {
    "collapsed": true
   },
   "outputs": [],
   "source": []
  }
 ],
 "metadata": {
  "kernelspec": {
   "display_name": "Python 3",
   "language": "python",
   "name": "python3"
  },
  "language_info": {
   "codemirror_mode": {
    "name": "ipython",
    "version": 3
   },
   "file_extension": ".py",
   "mimetype": "text/x-python",
   "name": "python",
   "nbconvert_exporter": "python",
   "pygments_lexer": "ipython3",
   "version": "3.6.7"
  }
 },
 "nbformat": 4,
 "nbformat_minor": 2
}
