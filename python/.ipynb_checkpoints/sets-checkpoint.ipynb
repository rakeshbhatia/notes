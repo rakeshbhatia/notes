{
 "cells": [
  {
   "cell_type": "markdown",
   "metadata": {},
   "source": [
    "# Sets\n",
    "\n",
    "## Basics\n",
    "* A set is an unordered collection with no duplicate elements\n",
    "* Uses: membership testing, eliminating duplicate entries\n",
    "* A set can be initialized using curly braces or the `set()` function\n",
    "    * Duplicate values will automatically be filtered out\n",
    "* Note: to create an empty set, use set() as opposed to {}\n",
    "    * {} will create an empty dictionary instead\n",
    "\n",
    "### Create a set using curly braces"
   ]
  },
  {
   "cell_type": "code",
   "execution_count": 3,
   "metadata": {},
   "outputs": [
    {
     "name": "stdout",
     "output_type": "stream",
     "text": [
      "{'parrot', 'hamster', 'dog', 'cat', 'rabbit'}\n"
     ]
    }
   ],
   "source": [
    "pets = {'dog', 'cat', 'parrot', 'cat', 'dog', 'rabbit', 'hamster', 'dog'}\n",
    "\n",
    "# Confirm that duplicates are removed\n",
    "print(pets)"
   ]
  },
  {
   "cell_type": "code",
   "execution_count": null,
   "metadata": {
    "collapsed": true
   },
   "outputs": [],
   "source": []
  }
 ],
 "metadata": {
  "kernelspec": {
   "display_name": "Python 3",
   "language": "python",
   "name": "python3"
  },
  "language_info": {
   "codemirror_mode": {
    "name": "ipython",
    "version": 3
   },
   "file_extension": ".py",
   "mimetype": "text/x-python",
   "name": "python",
   "nbconvert_exporter": "python",
   "pygments_lexer": "ipython3",
   "version": "3.6.7"
  }
 },
 "nbformat": 4,
 "nbformat_minor": 2
}
