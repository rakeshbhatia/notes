{
 "cells": [
  {
   "cell_type": "markdown",
   "metadata": {},
   "source": [
    "# Implement a basic Python linked list"
   ]
  },
  {
   "cell_type": "markdown",
   "metadata": {},
   "source": [
    "## Create `Node` class\n",
    "\n",
    "### Define `init` method"
   ]
  },
  {
   "cell_type": "code",
   "execution_count": 60,
   "metadata": {
    "collapsed": true
   },
   "outputs": [],
   "source": [
    "class Node(object):\n",
    "    def __init__(self, data, next=None):\n",
    "        self.data = data\n",
    "        self.next = next"
   ]
  },
  {
   "cell_type": "markdown",
   "metadata": {},
   "source": [
    "## Create `LinkedList` class\n",
    "\n",
    "### Define `__init__` method"
   ]
  },
  {
   "cell_type": "code",
   "execution_count": 61,
   "metadata": {
    "collapsed": true
   },
   "outputs": [],
   "source": [
    "class LinkedList(object):\n",
    "    def __init__(self, head=None, tail=None):\n",
    "        self.head = None\n",
    "        self.tail = None"
   ]
  },
  {
   "cell_type": "markdown",
   "metadata": {},
   "source": [
    "### Define `print_list` method"
   ]
  },
  {
   "cell_type": "code",
   "execution_count": 62,
   "metadata": {
    "collapsed": true
   },
   "outputs": [],
   "source": [
    "class LinkedList(object):\n",
    "    \n",
    "    # ...\n",
    "    \n",
    "    def print_list(self):\n",
    "        print('List Values: ')\n",
    "        # Start at the head\n",
    "        current_node = self.head\n",
    "        # Iterate until current node is None\n",
    "        while current_node != None:\n",
    "            # Print node data\n",
    "            print(current_node.data)\n",
    "            # Move to the next node\n",
    "            current_node = current_node.next\n",
    "        print(None)    \n",
    "    "
   ]
  },
  {
   "cell_type": "markdown",
   "metadata": {},
   "source": [
    "### Define `append` method"
   ]
  },
  {
   "cell_type": "code",
   "execution_count": 63,
   "metadata": {
    "collapsed": true
   },
   "outputs": [],
   "source": [
    "class LinkedList(object):\n",
    "    \n",
    "    # ...\n",
    "    \n",
    "    def append(self, data):\n",
    "        node = Node(data, None)\n",
    "        # Handle empty case\n",
    "        if self.head is None:\n",
    "            self.head = node\n",
    "            self.tail = node\n",
    "        else:\n",
    "            # Otherwise set a new next node for the tail\n",
    "            self.tail.next = node\n",
    "        # Set a new tail\n",
    "        self.tail = node"
   ]
  },
  {
   "cell_type": "markdown",
   "metadata": {},
   "source": [
    "### Define `remove` method"
   ]
  },
  {
   "cell_type": "code",
   "execution_count": 64,
   "metadata": {
    "collapsed": true
   },
   "outputs": [],
   "source": [
    "class LinkedList(object):\n",
    "    \n",
    "    # ...\n",
    "    \n",
    "    def remove(self, node_value):\n",
    "        # Keep track of current and previous node\n",
    "        current_node = self.head\n",
    "        previous_node = None\n",
    "        # Iterate through list to find value to be removed\n",
    "        while current_node != None:\n",
    "            if current_node.data == node_value:\n",
    "                if previous_node is not None:\n",
    "                    previous_node.next = current_node.next\n",
    "                else:\n",
    "                    # Handle edge case\n",
    "                    self.head = current_node.next\n",
    "            \n",
    "            previous_node = current_node\n",
    "            current_node = current_node.next\n"
   ]
  },
  {
   "cell_type": "markdown",
   "metadata": {},
   "source": [
    "### Define `insert` method"
   ]
  },
  {
   "cell_type": "code",
   "execution_count": 65,
   "metadata": {},
   "outputs": [],
   "source": [
    "class LinkedList(object):\n",
    "    \n",
    "    # ...\n",
    "    \n",
    "    def insert(self, value, at):\n",
    "        current_node = self.head\n",
    "        new_node = Node(value)\n",
    "        # Iterate to find value after which to insert new node\n",
    "        while current_node != None:\n",
    "            if current_node.data == at:\n",
    "                if current_node is not None:\n",
    "                    new_node.next = current_node.next\n",
    "                    current_node.next = new_node\n",
    "                else:\n",
    "                    # Handle edge case\n",
    "                    self.tail = current_node.next\n",
    "            \n",
    "            # Move to the next node\n",
    "            current_node = current_node.next\n"
   ]
  },
  {
   "cell_type": "markdown",
   "metadata": {},
   "source": [
    "## The full linked list implementation"
   ]
  },
  {
   "cell_type": "code",
   "execution_count": 66,
   "metadata": {
    "collapsed": true
   },
   "outputs": [],
   "source": [
    "class Node(object):\n",
    "    def __init__(self, data, next=None):\n",
    "        self.data = data\n",
    "        self.next = next\n",
    "\n",
    "class LinkedList(object):\n",
    "    def __init__(self, head=None, tail=None):\n",
    "        self.head = None\n",
    "        self.tail = None\n",
    "    \n",
    "    def print_list(self):\n",
    "        print('List Values: ')\n",
    "        # Start at the head\n",
    "        current_node = self.head\n",
    "        # Iterate until current node is None\n",
    "        while current_node != None:\n",
    "            # Print node data\n",
    "            print(current_node.data)\n",
    "            # Move to the next node\n",
    "            current_node = current_node.next\n",
    "    \n",
    "    def append(self, data):\n",
    "        node = Node(data, None)\n",
    "        # Handle empty case\n",
    "        if self.head is None:\n",
    "            self.head = node\n",
    "            self.tail = node\n",
    "        else:\n",
    "            # Otherwise set a new next node for the tail\n",
    "            self.tail.next = node\n",
    "        # Set a new tail\n",
    "        self.tail = node\n",
    "    \n",
    "    def remove(self, node_value):\n",
    "        # Keep track of current and previous node\n",
    "        current_node = self.head\n",
    "        previous_node = None\n",
    "        # Iterate through list to find value to be removed\n",
    "        while current_node != None:\n",
    "            if current_node.data == node_value:\n",
    "                if previous_node is not None:\n",
    "                    previous_node.next = current_node.next\n",
    "                else:\n",
    "                    # Handle edge case\n",
    "                    self.head = current_node.next\n",
    "            \n",
    "            previous_node = current_node\n",
    "            current_node = current_node.next\n",
    "    \n",
    "    def insert(self, value, at):\n",
    "        current_node = self.head\n",
    "        new_node = Node(value)\n",
    "        # Iterate to find value after which to insert new node\n",
    "        while current_node != None:\n",
    "            if current_node.data == at:\n",
    "                if current_node is not None:\n",
    "                    new_node.next = current_node.next\n",
    "                    current_node.next = new_node\n",
    "                else:\n",
    "                    # Handle edge case\n",
    "                    self.tail = current_node.next\n",
    "            \n",
    "            # Move to the next node\n",
    "            current_node = current_node.next\n",
    "            "
   ]
  },
  {
   "cell_type": "markdown",
   "metadata": {},
   "source": [
    "## Testing the linked list\n",
    "\n",
    "### Initialize a new linked list and append some values"
   ]
  },
  {
   "cell_type": "code",
   "execution_count": 67,
   "metadata": {
    "scrolled": true
   },
   "outputs": [
    {
     "name": "stdout",
     "output_type": "stream",
     "text": [
      "List Values: \n",
      "1\n",
      "2\n",
      "3\n",
      "4\n",
      "5\n"
     ]
    }
   ],
   "source": [
    "my_list = LinkedList()\n",
    "my_list.append(1)\n",
    "my_list.append(2)\n",
    "my_list.append(3)\n",
    "my_list.append(4)\n",
    "my_list.append(5)\n",
    "\n",
    "my_list.print_list()"
   ]
  },
  {
   "cell_type": "markdown",
   "metadata": {},
   "source": [
    "### Remove some values and insert a new value"
   ]
  },
  {
   "cell_type": "code",
   "execution_count": 68,
   "metadata": {},
   "outputs": [
    {
     "name": "stdout",
     "output_type": "stream",
     "text": [
      "List Values: \n",
      "1\n",
      "3\n",
      "5\n",
      "7\n"
     ]
    }
   ],
   "source": [
    "my_list.remove(2)\n",
    "my_list.remove(4)\n",
    "my_list.insert(7, at=5)\n",
    "\n",
    "my_list.print_list()"
   ]
  }
 ],
 "metadata": {
  "kernelspec": {
   "display_name": "Python 3",
   "language": "python",
   "name": "python3"
  },
  "language_info": {
   "codemirror_mode": {
    "name": "ipython",
    "version": 3
   },
   "file_extension": ".py",
   "mimetype": "text/x-python",
   "name": "python",
   "nbconvert_exporter": "python",
   "pygments_lexer": "ipython3",
   "version": "3.6.7"
  }
 },
 "nbformat": 4,
 "nbformat_minor": 2
}
