{
 "cells": [
  {
   "cell_type": "markdown",
   "metadata": {},
   "source": [
    "# Script to Make Site\n",
    "This script creates a website ready to push to github. It scans the content directory for all jupyter notebooks, converts the jupyter notebook files to html, and updates the home page with links to these html files."
   ]
  },
  {
   "cell_type": "code",
   "execution_count": 11,
   "metadata": {
    "collapsed": true
   },
   "outputs": [],
   "source": [
    "# Load libraries\n",
    "import os\n",
    "import re\n",
    "import fileinput\n",
    "import sys\n",
    "from glob import glob\n",
    "import shutil\n",
    "from titlecase import titlecase\n",
    "\n",
    "# Create path to content\n",
    "path = 'content/'"
   ]
  },
  {
   "cell_type": "code",
   "execution_count": 12,
   "metadata": {},
   "outputs": [
    {
     "name": "stdout",
     "output_type": "stream",
     "text": [
      "['content/python/numbers.ipynb', 'content/python/sets.ipynb', 'content/python/if_else.ipynb', 'content/python/linked_lists.ipynb', 'content/python/pandas_basics.ipynb', 'content/python/loops.ipynb', 'content/python/list_comprehension.ipynb', 'content/python/dictionaries.ipynb', 'content/web_scraping/scrape_fanduel_nba_player_stats_with_scrapy.ipynb', 'content/web_scraping/beautiful_soup_basics.ipynb', 'content/web_scraping/scrape_nba_player_rpm_stats_from_espn_with_lxml.ipynb', 'content/web_scraping/scrapy_basics.ipynb', 'content/web_scraping/scrape_historical_ohlc_stock_prices.ipynb', 'content/data_engineering/plotting_current_and_gain_distributions_with_matplotlib.ipynb', 'content/data_engineering/plotting_current_and_gain_distributions_with_matplotlib_2.ipynb', 'content/thinkful/Fixing Assumptions.ipynb', 'content/thinkful/analysis_of_boston_house_prices.ipynb', 'content/thinkful/In Sample Evaluation and Cross Validation.ipynb', 'content/thinkful/fixing_assumptions.ipynb', 'content/thinkful/Iterate and Evaluate a Naive Bayes Classifier.ipynb', 'content/thinkful/Preparing Data.ipynb', 'content/thinkful/preparing_data.ipynb', 'content/thinkful/in_sample_evaluation_and_cross_validation.ipynb', 'content/thinkful/Analysis of Boston House Prices.ipynb']\n"
     ]
    }
   ],
   "source": [
    "# Find all jupyter notebooks in all content folders\n",
    "all_ipynb_files = [os.path.join(root, name)\n",
    "                   for root, dirs, files in os.walk(path)\n",
    "                       for name in files\n",
    "                           if name.endswith((\".ipynb\"))]\n",
    "\n",
    "# Remove make file from list\n",
    "del all_ipynb_files[0]\n",
    "\n",
    "# Filter out checkpoint files\n",
    "ipynb_files = [ x for x in all_ipynb_files if \".ipynb_checkpoints\" not in x ]\n",
    "\n",
    "# View file list\n",
    "print(ipynb_files)"
   ]
  },
  {
   "cell_type": "code",
   "execution_count": 13,
   "metadata": {},
   "outputs": [
    {
     "name": "stdout",
     "output_type": "stream",
     "text": [
      "{'Python': ['Numbers', 'Sets', 'If Else', 'Linked Lists', 'Pandas Basics', 'Loops', 'List Comprehension', 'Dictionaries'], 'Web Scraping': ['Scrape Fanduel Nba Player Stats With Scrapy', 'Beautiful Soup Basics', 'Scrape Nba Player Rpm Stats From Espn With Lxml', 'Scrapy Basics', 'Scrape Historical Ohlc Stock Prices'], 'Data Engineering': ['Plotting Current and Gain Distributions With Matplotlib', 'Plotting Current and Gain Distributions With Matplotlib 2'], 'Thinkful': ['Fixing Assumptions', 'Analysis of Boston House Prices', 'In Sample Evaluation and Cross Validation', 'Fixing Assumptions', 'Iterate and Evaluate a Naive Bayes Classifier', 'Preparing Data', 'Preparing Data', 'In Sample Evaluation and Cross Validation', 'Analysis of Boston House Prices']}\n"
     ]
    }
   ],
   "source": [
    "# Extract category titles and post titles\n",
    "posts = {}\n",
    "\n",
    "for post in ipynb_files:\n",
    "    # Extract category\n",
    "    category = titlecase(post.split('/')[1].replace('_', ' '))\n",
    "    \n",
    "    # Extract post\n",
    "    post_title = titlecase(post.split('/')[2].replace('.ipynb', '').replace('_', ' '))\n",
    "    \n",
    "    # Add category if not in dictionary\n",
    "    if category not in posts.keys():\n",
    "        posts[category] = []\n",
    "        # Append post to dictionary\n",
    "        posts[category].append(post_title)\n",
    "    # Otherwise, just append post\n",
    "    else:\n",
    "        posts[category].append(post_title)\n",
    "\n",
    "# View dictionary\n",
    "print(posts)"
   ]
  },
  {
   "cell_type": "code",
   "execution_count": 14,
   "metadata": {
    "collapsed": true
   },
   "outputs": [],
   "source": [
    "# For each file\n",
    "for file in ipynb_files:\n",
    "    # Convert into markdown\n",
    "    os.system('jupyter nbconvert --to html_embed {file}'.format(file=file))"
   ]
  },
  {
   "cell_type": "code",
   "execution_count": 15,
   "metadata": {
    "collapsed": true
   },
   "outputs": [],
   "source": [
    "# Open homepage markdown file\n",
    "f = open('README.md', 'w')\n",
    "\n",
    "header1 = \"## <center>Python & Data Science</center>\\n\"\n",
    "header2 = \"## <center>Technical Notes</center>\\n\\n\"\n",
    "\n",
    "intro =  \"I am a data scientist who is fascinated with solving challenging data-oriented problems across a wide variety of fields. I enjoy seeking the truth, revealing the truth, and searching for hidden truths in data. Check out my technical notes on python and data science below!\\n\"\n",
    "\n",
    "# Write title and intro\n",
    "f.write(header1)\n",
    "f.write(header2)\n",
    "f.write(intro)\n",
    "\n",
    "# Write categories and post titles/links\n",
    "for category, titles in posts.items():\n",
    "    f.write(\"\\n> **_\" + category + \"_**\\n\")\n",
    "    for title in titles:\n",
    "        f.write(\"> - [\" + title + \"](https://rakeshbhatia.github.io/notes/content/\" + \"_\".join([x.lower() for x in category.split(\" \")]) + \"/\" + \"_\".join([x.lower() for x in title.split(\" \")]) + \")\" + \"\\n\")\n",
    "\n",
    "f.close()"
   ]
  }
 ],
 "metadata": {
  "kernelspec": {
   "display_name": "Python 3",
   "language": "python",
   "name": "python3"
  },
  "language_info": {
   "codemirror_mode": {
    "name": "ipython",
    "version": 3
   },
   "file_extension": ".py",
   "mimetype": "text/x-python",
   "name": "python",
   "nbconvert_exporter": "python",
   "pygments_lexer": "ipython3",
   "version": "3.6.7"
  }
 },
 "nbformat": 4,
 "nbformat_minor": 2
}
