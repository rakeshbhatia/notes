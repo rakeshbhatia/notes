{
 "cells": [
  {
   "cell_type": "markdown",
   "metadata": {},
   "source": [
    "<div class=\"card\"> \n",
    "* { box-shadow: 0 4px 8px 0 rgba(0,0,0,0.2); transition: 0.3s; }\n",
    "  <!--<img src=\"example.png\" alt=\"Avatar\" style=\"width:100%\">-->\n",
    "  <div class=\"container\">\n",
    "  * { padding: 2px 16px; }\n",
    "    <h4><b>Rakesh Bhatia</b></h4> \n",
    "    <p>Architect & Engineer</p> \n",
    "  </div>\n",
    "</div>"
   ]
  },
  {
   "cell_type": "code",
   "execution_count": null,
   "metadata": {
    "collapsed": true
   },
   "outputs": [],
   "source": []
  }
 ],
 "metadata": {
  "kernelspec": {
   "display_name": "Python 3",
   "language": "python",
   "name": "python3"
  },
  "language_info": {
   "codemirror_mode": {
    "name": "ipython",
    "version": 3
   },
   "file_extension": ".py",
   "mimetype": "text/x-python",
   "name": "python",
   "nbconvert_exporter": "python",
   "pygments_lexer": "ipython3",
   "version": "3.6.7"
  }
 },
 "nbformat": 4,
 "nbformat_minor": 2
}
