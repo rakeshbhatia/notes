{
 "cells": [
  {
   "cell_type": "markdown",
   "metadata": {},
   "source": [
    "# Script to Make Site\n",
    "This script creates a website ready to push to github. It scans the content directory for all jupyter notebooks, converts the jupyter notebook files to html, and updates the home page with links to these html files."
   ]
  },
  {
   "cell_type": "code",
   "execution_count": 43,
   "metadata": {
    "collapsed": true
   },
   "outputs": [],
   "source": [
    "# Load libraries\n",
    "import os\n",
    "import re\n",
    "import fileinput\n",
    "import sys\n",
    "from glob import glob\n",
    "import shutil\n",
    "from titlecase import titlecase\n",
    "\n",
    "# Create path to content\n",
    "path = 'content/'"
   ]
  },
  {
   "cell_type": "code",
   "execution_count": 44,
   "metadata": {},
   "outputs": [
    {
     "name": "stdout",
     "output_type": "stream",
     "text": [
      "['content/python/numbers.ipynb', 'content/python/sets.ipynb', 'content/python/if_else.ipynb', 'content/python/Untitled.ipynb', 'content/python/linked_lists.ipynb', 'content/python/loops.ipynb', 'content/python/list_comprehension.ipynb', 'content/python/dictionaries.ipynb', 'content/web_scraping/historical_ohlc_stock_price_scraper.ipynb', 'content/web_scraping/scrape_fanduel_nba_stats.ipynb', 'content/web_scraping/beautiful_soup_basics.ipynb', 'content/thinkful/Fixing Assumptions.ipynb', 'content/thinkful/analysis_of_boston_house_prices.ipynb', 'content/thinkful/In Sample Evaluation and Cross Validation.ipynb', 'content/thinkful/fixing_assumptions.ipynb', 'content/thinkful/Iterate and Evaluate a Naive Bayes Classifier.ipynb', 'content/thinkful/Preparing Data.ipynb', 'content/thinkful/preparing_data.ipynb', 'content/thinkful/in_sample_evaluation_and_cross_validation.ipynb', 'content/thinkful/Analysis of Boston House Prices.ipynb']\n"
     ]
    }
   ],
   "source": [
    "# Find all jupyter notebooks in all content folders\n",
    "all_ipynb_files = [os.path.join(root, name)\n",
    "                   for root, dirs, files in os.walk(path)\n",
    "                       for name in files\n",
    "                           if name.endswith((\".ipynb\"))]\n",
    "\n",
    "# Remove make file from list\n",
    "del all_ipynb_files[0]\n",
    "\n",
    "# Remove all notebooks from checkpoint folders\n",
    "ipynb_files = [ x for x in all_ipynb_files if \".ipynb_checkpoints\" not in x ]\n",
    "\n",
    "# View list\n",
    "print(ipynb_files)"
   ]
  },
  {
   "cell_type": "code",
   "execution_count": 45,
   "metadata": {},
   "outputs": [
    {
     "name": "stdout",
     "output_type": "stream",
     "text": [
      "{'Python': ['Numbers', 'Sets', 'If Else', 'Untitled', 'Linked Lists', 'Loops', 'List Comprehension', 'Dictionaries'], 'Web Scraping': ['Historical Ohlc Stock Price Scraper', 'Scrape Fanduel Nba Stats', 'Beautiful Soup Basics'], 'Thinkful': ['Fixing Assumptions', 'Analysis of Boston House Prices', 'In Sample Evaluation and Cross Validation', 'Fixing Assumptions', 'Iterate and Evaluate a Naive Bayes Classifier', 'Preparing Data', 'Preparing Data', 'In Sample Evaluation and Cross Validation', 'Analysis of Boston House Prices']}\n"
     ]
    }
   ],
   "source": [
    "# Extract category titles and post titles\n",
    "posts = {}\n",
    "\n",
    "for post in ipynb_files:\n",
    "    # Extract category\n",
    "    category = titlecase(post.split('/')[1].replace('_', ' '))\n",
    "    \n",
    "    # Extract post title\n",
    "    post_title = titlecase(post.split('/')[2].replace('.ipynb', '').replace('_', ' '))\n",
    "    \n",
    "    # Add category if not in dictionary\n",
    "    if category not in posts.keys():\n",
    "        posts[category] = []\n",
    "        # Append post to dictionary\n",
    "        posts[category].append(post_title)\n",
    "    # Else, just append post\n",
    "    else:\n",
    "        posts[category].append(post_title)\n",
    "\n",
    "print(posts)"
   ]
  },
  {
   "cell_type": "code",
   "execution_count": 46,
   "metadata": {
    "collapsed": true
   },
   "outputs": [],
   "source": [
    "# For each file\n",
    "#for file in ipynb_files:\n",
    "    # Convert into markdown\n",
    "#    os.system('jupyter nbconvert --to html_embed {file}'.format(file=file))"
   ]
  },
  {
   "cell_type": "code",
   "execution_count": 47,
   "metadata": {
    "collapsed": true
   },
   "outputs": [],
   "source": [
    "# Update home page\n"
   ]
  }
 ],
 "metadata": {
  "kernelspec": {
   "display_name": "Python 3",
   "language": "python",
   "name": "python3"
  },
  "language_info": {
   "codemirror_mode": {
    "name": "ipython",
    "version": 3
   },
   "file_extension": ".py",
   "mimetype": "text/x-python",
   "name": "python",
   "nbconvert_exporter": "python",
   "pygments_lexer": "ipython3",
   "version": "3.6.7"
  }
 },
 "nbformat": 4,
 "nbformat_minor": 2
}
