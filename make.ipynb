{
 "cells": [
  {
   "cell_type": "code",
   "execution_count": null,
   "metadata": {
    "collapsed": true
   },
   "outputs": [],
   "source": [
    "# Load libraries\n",
    "import os\n",
    "import re\n",
    "import fileinput\n",
    "import sys\n",
    "from glob import glob\n",
    "import shutil\n",
    "\n",
    "\n",
    "# Create path to content\n",
    "path = 'content/'"
   ]
  },
  {
   "cell_type": "code",
   "execution_count": null,
   "metadata": {
    "collapsed": true
   },
   "outputs": [],
   "source": [
    "# Find all jupyter notebooks in all content folders\n",
    "all_ipynb_files = [os.path.join(root, name)\n",
    "                   for root, dirs, files in os.walk(path)\n",
    "                       for name in files\n",
    "                           if name.endswith((\".ipynb\"))]\n",
    "\n",
    "# Remove all notebooks from checkpoint folders\n",
    "ipynb_files = [ x for x in all_ipynb_files if \".ipynb_checkpoints\" not in x ]"
   ]
  },
  {
   "cell_type": "code",
   "execution_count": null,
   "metadata": {
    "collapsed": true
   },
   "outputs": [],
   "source": [
    "# For each file\n",
    "for file in ipynb_files:\n",
    "    # Convert into markdown\n",
    "    os.system('jupyter nbconvert --to markdown {file}'.format(file=file))"
   ]
  },
  {
   "cell_type": "code",
   "execution_count": null,
   "metadata": {
    "collapsed": true
   },
   "outputs": [],
   "source": [
    "# Get all folders in directory\n",
    "folders = [x[0] for x in os.walk(path)]\n",
    "\n",
    "# Delete .ipynb checkpoint folders\n",
    "folders = [ x for x in folders if \".ipynb_checkpoints\" not in x ]\n",
    "\n",
    "# For each folder\n",
    "for folder_name in folders:\n",
    "    # if _files in folder name\n",
    "    if '_files' in folder_name:\n",
    "        \n",
    "        # Create a new folder name\n",
    "        def rchop(thestring, ending):\n",
    "            if thestring.endswith(ending):\n",
    "                return thestring[:-len(ending)]\n",
    "            return thestring\n",
    "\n",
    "        new_folder_name = rchop(folder_name, '_files')\n",
    "        \n",
    "        # try to rename original folder\n",
    "        try:\n",
    "            os.rename(folder_name, new_folder_name)\n",
    "            # if error, \n",
    "        except OSError:\n",
    "            existing_base_folder = os.getcwd()+\"/\"+new_folder_name\n",
    "            justcreated_base_folder = os.getcwd()+\"/\"+folder_name\n",
    "                 \n",
    "            # get a list of all files in the folder\n",
    "            generated_files = os.listdir(justcreated_base_folder)\n",
    "            \n",
    "            # copy each file to the existing folder\n",
    "            for generated_file in generated_files:\n",
    "                to_copy = justcreated_base_folder+\"/\"+generated_file\n",
    "                shutil.copy(to_copy, existing_base_folder)\n",
    "  \n",
    "            # delete the newly created _files folder\n",
    "            shutil.rmtree(justcreated_base_folder)"
   ]
  }
 ],
 "metadata": {
  "kernelspec": {
   "display_name": "Python 3",
   "language": "python",
   "name": "python3"
  },
  "language_info": {
   "codemirror_mode": {
    "name": "ipython",
    "version": 3
   },
   "file_extension": ".py",
   "mimetype": "text/x-python",
   "name": "python",
   "nbconvert_exporter": "python",
   "pygments_lexer": "ipython3",
   "version": "3.6.7"
  }
 },
 "nbformat": 4,
 "nbformat_minor": 2
}
